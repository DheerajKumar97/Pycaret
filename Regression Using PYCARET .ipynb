{
 "cells": [
  {
   "cell_type": "markdown",
   "metadata": {},
   "source": [
    "### **Connect With Me in Linkedin** :- https://www.linkedin.com/in/dheerajkumar1997/"
   ]
  },
  {
   "cell_type": "markdown",
   "metadata": {},
   "source": [
    "# 1.1 Installing PyCaret\n",
    "\n",
    "<br>\n",
    "\n",
    "If you haven't installed **PyCaret yet**. Please **follow the steps** to Beginner's  for instructions on how to install pycaret.\n",
    "\n",
    "# 1.2 Pre-Requisites\n",
    "\n",
    "<br>\n",
    "\n",
    "**Python 3.x**\n",
    "\n",
    "Latest version of **pycaret**\n",
    "\n",
    "Internet connection to load data from **pycaret's repository**\n",
    "\n",
    "Completion of **Regression (REG101)** - Level Beginner"
   ]
  },
  {
   "cell_type": "markdown",
   "metadata": {},
   "source": [
    "# 1.3 Techniques coverd in this PYCARET Based Regression\n",
    "\n",
    "<br>\n",
    "\n",
    "**1)  Normalization**\n",
    "<br>\n",
    "\n",
    "**2)  Transformation**\n",
    "<br>\n",
    "\n",
    "**3)  Target Transformation**\n",
    "<br>\n",
    "\n",
    "**4)  Combine Rare Levels**\n",
    "<br>\n",
    "\n",
    "**5)  Bin Numeric Variables**\n",
    "<br>\n",
    "\n",
    "**6)  Model Ensembling and Stacking**\n",
    "<br>\n",
    "\n",
    "**7)  Tuning Hyperparameters of Ensemblers**"
   ]
  },
  {
   "cell_type": "markdown",
   "metadata": {},
   "source": [
    "## Get The Data"
   ]
  },
  {
   "cell_type": "code",
   "execution_count": 1,
   "metadata": {},
   "outputs": [
    {
     "data": {
      "text/html": [
       "<div>\n",
       "<style scoped>\n",
       "    .dataframe tbody tr th:only-of-type {\n",
       "        vertical-align: middle;\n",
       "    }\n",
       "\n",
       "    .dataframe tbody tr th {\n",
       "        vertical-align: top;\n",
       "    }\n",
       "\n",
       "    .dataframe thead th {\n",
       "        text-align: right;\n",
       "    }\n",
       "</style>\n",
       "<table border=\"1\" class=\"dataframe\">\n",
       "  <thead>\n",
       "    <tr style=\"text-align: right;\">\n",
       "      <th></th>\n",
       "      <th>3M Libor_T-1</th>\n",
       "      <th>EM Bond_T-1</th>\n",
       "      <th>US Bond ETF_T-1</th>\n",
       "      <th>Wheat 1_T-1</th>\n",
       "      <th>Wheat 2_T-1</th>\n",
       "      <th>Crude Palm Oil_T-1</th>\n",
       "      <th>Brent 1_T-1</th>\n",
       "      <th>Brent 2_T-1</th>\n",
       "      <th>Light Crude_T-1</th>\n",
       "      <th>White Sugar_T-1</th>\n",
       "      <th>...</th>\n",
       "      <th>MSCI EM_T-22</th>\n",
       "      <th>Shanghai Index_T-22</th>\n",
       "      <th>Nikkei Ind_T-22</th>\n",
       "      <th>MSCI APAC ex J_T-22</th>\n",
       "      <th>EMEquity ETF_T-22</th>\n",
       "      <th>Silver_T-22</th>\n",
       "      <th>Platinum_T-22</th>\n",
       "      <th>Palladium_T-22</th>\n",
       "      <th>Gold_T-22</th>\n",
       "      <th>Gold_T+22</th>\n",
       "    </tr>\n",
       "  </thead>\n",
       "  <tbody>\n",
       "    <tr>\n",
       "      <th>0</th>\n",
       "      <td>0.000000</td>\n",
       "      <td>0.000879</td>\n",
       "      <td>0.001050</td>\n",
       "      <td>0.013158</td>\n",
       "      <td>0.013562</td>\n",
       "      <td>0.003163</td>\n",
       "      <td>-0.007879</td>\n",
       "      <td>-0.004945</td>\n",
       "      <td>-0.003486</td>\n",
       "      <td>-0.024706</td>\n",
       "      <td>...</td>\n",
       "      <td>-0.009862</td>\n",
       "      <td>0.073090</td>\n",
       "      <td>-0.028816</td>\n",
       "      <td>-0.001613</td>\n",
       "      <td>-0.012274</td>\n",
       "      <td>-0.025210</td>\n",
       "      <td>0.024300</td>\n",
       "      <td>0.082695</td>\n",
       "      <td>0.053534</td>\n",
       "      <td>0.004648</td>\n",
       "    </tr>\n",
       "    <tr>\n",
       "      <th>1</th>\n",
       "      <td>-0.004587</td>\n",
       "      <td>0.004096</td>\n",
       "      <td>0.002383</td>\n",
       "      <td>0.043599</td>\n",
       "      <td>0.041035</td>\n",
       "      <td>0.040991</td>\n",
       "      <td>0.042356</td>\n",
       "      <td>0.039759</td>\n",
       "      <td>0.029667</td>\n",
       "      <td>0.047906</td>\n",
       "      <td>...</td>\n",
       "      <td>0.006801</td>\n",
       "      <td>0.099088</td>\n",
       "      <td>-0.043704</td>\n",
       "      <td>0.007670</td>\n",
       "      <td>0.018151</td>\n",
       "      <td>0.060624</td>\n",
       "      <td>0.068595</td>\n",
       "      <td>0.151468</td>\n",
       "      <td>0.085822</td>\n",
       "      <td>-0.002105</td>\n",
       "    </tr>\n",
       "    <tr>\n",
       "      <th>2</th>\n",
       "      <td>-0.003465</td>\n",
       "      <td>-0.002040</td>\n",
       "      <td>0.000856</td>\n",
       "      <td>0.020444</td>\n",
       "      <td>0.017995</td>\n",
       "      <td>0.003462</td>\n",
       "      <td>0.006222</td>\n",
       "      <td>0.006541</td>\n",
       "      <td>0.007172</td>\n",
       "      <td>0.005262</td>\n",
       "      <td>...</td>\n",
       "      <td>0.014873</td>\n",
       "      <td>0.102887</td>\n",
       "      <td>-0.051438</td>\n",
       "      <td>0.007525</td>\n",
       "      <td>0.028712</td>\n",
       "      <td>0.056289</td>\n",
       "      <td>0.083520</td>\n",
       "      <td>0.134763</td>\n",
       "      <td>0.083915</td>\n",
       "      <td>-0.037438</td>\n",
       "    </tr>\n",
       "    <tr>\n",
       "      <th>3</th>\n",
       "      <td>-0.004624</td>\n",
       "      <td>0.000584</td>\n",
       "      <td>-0.002090</td>\n",
       "      <td>-0.015679</td>\n",
       "      <td>-0.012626</td>\n",
       "      <td>0.021992</td>\n",
       "      <td>0.003029</td>\n",
       "      <td>0.004249</td>\n",
       "      <td>0.002498</td>\n",
       "      <td>0.020775</td>\n",
       "      <td>...</td>\n",
       "      <td>0.004931</td>\n",
       "      <td>0.087208</td>\n",
       "      <td>-0.054678</td>\n",
       "      <td>0.005445</td>\n",
       "      <td>0.001445</td>\n",
       "      <td>0.041620</td>\n",
       "      <td>0.061601</td>\n",
       "      <td>0.109940</td>\n",
       "      <td>0.076738</td>\n",
       "      <td>-0.028097</td>\n",
       "    </tr>\n",
       "    <tr>\n",
       "      <th>4</th>\n",
       "      <td>-0.009292</td>\n",
       "      <td>-0.000486</td>\n",
       "      <td>0.001047</td>\n",
       "      <td>-0.003540</td>\n",
       "      <td>-0.002558</td>\n",
       "      <td>-0.012658</td>\n",
       "      <td>-0.024912</td>\n",
       "      <td>-0.022026</td>\n",
       "      <td>-0.023551</td>\n",
       "      <td>-0.025000</td>\n",
       "      <td>...</td>\n",
       "      <td>-0.003838</td>\n",
       "      <td>0.076564</td>\n",
       "      <td>-0.076171</td>\n",
       "      <td>-0.009558</td>\n",
       "      <td>-0.003904</td>\n",
       "      <td>0.058352</td>\n",
       "      <td>0.069414</td>\n",
       "      <td>0.094311</td>\n",
       "      <td>0.084487</td>\n",
       "      <td>-0.045466</td>\n",
       "    </tr>\n",
       "  </tbody>\n",
       "</table>\n",
       "<p>5 rows × 121 columns</p>\n",
       "</div>"
      ],
      "text/plain": [
       "   3M Libor_T-1  EM Bond_T-1  US Bond ETF_T-1  Wheat 1_T-1  Wheat 2_T-1  \\\n",
       "0      0.000000     0.000879         0.001050     0.013158     0.013562   \n",
       "1     -0.004587     0.004096         0.002383     0.043599     0.041035   \n",
       "2     -0.003465    -0.002040         0.000856     0.020444     0.017995   \n",
       "3     -0.004624     0.000584        -0.002090    -0.015679    -0.012626   \n",
       "4     -0.009292    -0.000486         0.001047    -0.003540    -0.002558   \n",
       "\n",
       "   Crude Palm Oil_T-1  Brent 1_T-1  Brent 2_T-1  Light Crude_T-1  \\\n",
       "0            0.003163    -0.007879    -0.004945        -0.003486   \n",
       "1            0.040991     0.042356     0.039759         0.029667   \n",
       "2            0.003462     0.006222     0.006541         0.007172   \n",
       "3            0.021992     0.003029     0.004249         0.002498   \n",
       "4           -0.012658    -0.024912    -0.022026        -0.023551   \n",
       "\n",
       "   White Sugar_T-1  ...  MSCI EM_T-22  Shanghai Index_T-22  Nikkei Ind_T-22  \\\n",
       "0        -0.024706  ...     -0.009862             0.073090        -0.028816   \n",
       "1         0.047906  ...      0.006801             0.099088        -0.043704   \n",
       "2         0.005262  ...      0.014873             0.102887        -0.051438   \n",
       "3         0.020775  ...      0.004931             0.087208        -0.054678   \n",
       "4        -0.025000  ...     -0.003838             0.076564        -0.076171   \n",
       "\n",
       "   MSCI APAC ex J_T-22  EMEquity ETF_T-22  Silver_T-22  Platinum_T-22  \\\n",
       "0            -0.001613          -0.012274    -0.025210       0.024300   \n",
       "1             0.007670           0.018151     0.060624       0.068595   \n",
       "2             0.007525           0.028712     0.056289       0.083520   \n",
       "3             0.005445           0.001445     0.041620       0.061601   \n",
       "4            -0.009558          -0.003904     0.058352       0.069414   \n",
       "\n",
       "   Palladium_T-22  Gold_T-22  Gold_T+22  \n",
       "0        0.082695   0.053534   0.004648  \n",
       "1        0.151468   0.085822  -0.002105  \n",
       "2        0.134763   0.083915  -0.037438  \n",
       "3        0.109940   0.076738  -0.028097  \n",
       "4        0.094311   0.084487  -0.045466  \n",
       "\n",
       "[5 rows x 121 columns]"
      ]
     },
     "metadata": {},
     "output_type": "display_data"
    }
   ],
   "source": [
    "from pycaret.datasets import get_data\n",
    "dataset = get_data('gold')"
   ]
  },
  {
   "cell_type": "code",
   "execution_count": 2,
   "metadata": {},
   "outputs": [
    {
     "data": {
      "text/plain": [
       "(2558, 121)"
      ]
     },
     "execution_count": 2,
     "metadata": {},
     "output_type": "execute_result"
    }
   ],
   "source": [
    "dataset.shape"
   ]
  },
  {
   "cell_type": "code",
   "execution_count": 3,
   "metadata": {},
   "outputs": [
    {
     "name": "stdout",
     "output_type": "stream",
     "text": [
      "Data for Modeling: (2302, 121)\n",
      "Unseen Data For Predictions: (256, 121)\n"
     ]
    }
   ],
   "source": [
    "data = dataset.sample(frac=0.9, random_state=786).reset_index(drop=True)\n",
    "data_unseen = dataset.drop(data.index).reset_index(drop=True)\n",
    "\n",
    "print('Data for Modeling: ' + str(data.shape))\n",
    "print('Unseen Data For Predictions: ' + str(data_unseen.shape))"
   ]
  },
  {
   "cell_type": "markdown",
   "metadata": {},
   "source": [
    "## Setting up Environment in PyCaret"
   ]
  },
  {
   "cell_type": "code",
   "execution_count": 5,
   "metadata": {},
   "outputs": [],
   "source": [
    "from pycaret.regression import *"
   ]
  },
  {
   "cell_type": "code",
   "execution_count": 6,
   "metadata": {},
   "outputs": [
    {
     "name": "stdout",
     "output_type": "stream",
     "text": [
      " \n",
      "Setup Succesfully Completed!\n"
     ]
    },
    {
     "data": {
      "text/html": [
       "<style  type=\"text/css\" >\n",
       "</style><table id=\"T_48e4584a_8d0c_11ea_8ad0_54bf6444d85a\" ><thead>    <tr>        <th class=\"blank level0\" ></th>        <th class=\"col_heading level0 col0\" >Description</th>        <th class=\"col_heading level0 col1\" >Value</th>    </tr></thead><tbody>\n",
       "                <tr>\n",
       "                        <th id=\"T_48e4584a_8d0c_11ea_8ad0_54bf6444d85alevel0_row0\" class=\"row_heading level0 row0\" >0</th>\n",
       "                        <td id=\"T_48e4584a_8d0c_11ea_8ad0_54bf6444d85arow0_col0\" class=\"data row0 col0\" >session_id</td>\n",
       "                        <td id=\"T_48e4584a_8d0c_11ea_8ad0_54bf6444d85arow0_col1\" class=\"data row0 col1\" >123</td>\n",
       "            </tr>\n",
       "            <tr>\n",
       "                        <th id=\"T_48e4584a_8d0c_11ea_8ad0_54bf6444d85alevel0_row1\" class=\"row_heading level0 row1\" >1</th>\n",
       "                        <td id=\"T_48e4584a_8d0c_11ea_8ad0_54bf6444d85arow1_col0\" class=\"data row1 col0\" >Transform Target </td>\n",
       "                        <td id=\"T_48e4584a_8d0c_11ea_8ad0_54bf6444d85arow1_col1\" class=\"data row1 col1\" >False</td>\n",
       "            </tr>\n",
       "            <tr>\n",
       "                        <th id=\"T_48e4584a_8d0c_11ea_8ad0_54bf6444d85alevel0_row2\" class=\"row_heading level0 row2\" >2</th>\n",
       "                        <td id=\"T_48e4584a_8d0c_11ea_8ad0_54bf6444d85arow2_col0\" class=\"data row2 col0\" >Transform Target Method</td>\n",
       "                        <td id=\"T_48e4584a_8d0c_11ea_8ad0_54bf6444d85arow2_col1\" class=\"data row2 col1\" >None</td>\n",
       "            </tr>\n",
       "            <tr>\n",
       "                        <th id=\"T_48e4584a_8d0c_11ea_8ad0_54bf6444d85alevel0_row3\" class=\"row_heading level0 row3\" >3</th>\n",
       "                        <td id=\"T_48e4584a_8d0c_11ea_8ad0_54bf6444d85arow3_col0\" class=\"data row3 col0\" >Original Data</td>\n",
       "                        <td id=\"T_48e4584a_8d0c_11ea_8ad0_54bf6444d85arow3_col1\" class=\"data row3 col1\" >(2302, 121)</td>\n",
       "            </tr>\n",
       "            <tr>\n",
       "                        <th id=\"T_48e4584a_8d0c_11ea_8ad0_54bf6444d85alevel0_row4\" class=\"row_heading level0 row4\" >4</th>\n",
       "                        <td id=\"T_48e4584a_8d0c_11ea_8ad0_54bf6444d85arow4_col0\" class=\"data row4 col0\" >Missing Values </td>\n",
       "                        <td id=\"T_48e4584a_8d0c_11ea_8ad0_54bf6444d85arow4_col1\" class=\"data row4 col1\" >False</td>\n",
       "            </tr>\n",
       "            <tr>\n",
       "                        <th id=\"T_48e4584a_8d0c_11ea_8ad0_54bf6444d85alevel0_row5\" class=\"row_heading level0 row5\" >5</th>\n",
       "                        <td id=\"T_48e4584a_8d0c_11ea_8ad0_54bf6444d85arow5_col0\" class=\"data row5 col0\" >Numeric Features </td>\n",
       "                        <td id=\"T_48e4584a_8d0c_11ea_8ad0_54bf6444d85arow5_col1\" class=\"data row5 col1\" >120</td>\n",
       "            </tr>\n",
       "            <tr>\n",
       "                        <th id=\"T_48e4584a_8d0c_11ea_8ad0_54bf6444d85alevel0_row6\" class=\"row_heading level0 row6\" >6</th>\n",
       "                        <td id=\"T_48e4584a_8d0c_11ea_8ad0_54bf6444d85arow6_col0\" class=\"data row6 col0\" >Categorical Features </td>\n",
       "                        <td id=\"T_48e4584a_8d0c_11ea_8ad0_54bf6444d85arow6_col1\" class=\"data row6 col1\" >0</td>\n",
       "            </tr>\n",
       "            <tr>\n",
       "                        <th id=\"T_48e4584a_8d0c_11ea_8ad0_54bf6444d85alevel0_row7\" class=\"row_heading level0 row7\" >7</th>\n",
       "                        <td id=\"T_48e4584a_8d0c_11ea_8ad0_54bf6444d85arow7_col0\" class=\"data row7 col0\" >Ordinal Features </td>\n",
       "                        <td id=\"T_48e4584a_8d0c_11ea_8ad0_54bf6444d85arow7_col1\" class=\"data row7 col1\" >False</td>\n",
       "            </tr>\n",
       "            <tr>\n",
       "                        <th id=\"T_48e4584a_8d0c_11ea_8ad0_54bf6444d85alevel0_row8\" class=\"row_heading level0 row8\" >8</th>\n",
       "                        <td id=\"T_48e4584a_8d0c_11ea_8ad0_54bf6444d85arow8_col0\" class=\"data row8 col0\" >High Cardinality Features </td>\n",
       "                        <td id=\"T_48e4584a_8d0c_11ea_8ad0_54bf6444d85arow8_col1\" class=\"data row8 col1\" >False</td>\n",
       "            </tr>\n",
       "            <tr>\n",
       "                        <th id=\"T_48e4584a_8d0c_11ea_8ad0_54bf6444d85alevel0_row9\" class=\"row_heading level0 row9\" >9</th>\n",
       "                        <td id=\"T_48e4584a_8d0c_11ea_8ad0_54bf6444d85arow9_col0\" class=\"data row9 col0\" >High Cardinality Method </td>\n",
       "                        <td id=\"T_48e4584a_8d0c_11ea_8ad0_54bf6444d85arow9_col1\" class=\"data row9 col1\" >None</td>\n",
       "            </tr>\n",
       "            <tr>\n",
       "                        <th id=\"T_48e4584a_8d0c_11ea_8ad0_54bf6444d85alevel0_row10\" class=\"row_heading level0 row10\" >10</th>\n",
       "                        <td id=\"T_48e4584a_8d0c_11ea_8ad0_54bf6444d85arow10_col0\" class=\"data row10 col0\" >Sampled Data</td>\n",
       "                        <td id=\"T_48e4584a_8d0c_11ea_8ad0_54bf6444d85arow10_col1\" class=\"data row10 col1\" >(2302, 121)</td>\n",
       "            </tr>\n",
       "            <tr>\n",
       "                        <th id=\"T_48e4584a_8d0c_11ea_8ad0_54bf6444d85alevel0_row11\" class=\"row_heading level0 row11\" >11</th>\n",
       "                        <td id=\"T_48e4584a_8d0c_11ea_8ad0_54bf6444d85arow11_col0\" class=\"data row11 col0\" >Transformed Train Set</td>\n",
       "                        <td id=\"T_48e4584a_8d0c_11ea_8ad0_54bf6444d85arow11_col1\" class=\"data row11 col1\" >(1611, 114)</td>\n",
       "            </tr>\n",
       "            <tr>\n",
       "                        <th id=\"T_48e4584a_8d0c_11ea_8ad0_54bf6444d85alevel0_row12\" class=\"row_heading level0 row12\" >12</th>\n",
       "                        <td id=\"T_48e4584a_8d0c_11ea_8ad0_54bf6444d85arow12_col0\" class=\"data row12 col0\" >Transformed Test Set</td>\n",
       "                        <td id=\"T_48e4584a_8d0c_11ea_8ad0_54bf6444d85arow12_col1\" class=\"data row12 col1\" >(691, 114)</td>\n",
       "            </tr>\n",
       "            <tr>\n",
       "                        <th id=\"T_48e4584a_8d0c_11ea_8ad0_54bf6444d85alevel0_row13\" class=\"row_heading level0 row13\" >13</th>\n",
       "                        <td id=\"T_48e4584a_8d0c_11ea_8ad0_54bf6444d85arow13_col0\" class=\"data row13 col0\" >Numeric Imputer </td>\n",
       "                        <td id=\"T_48e4584a_8d0c_11ea_8ad0_54bf6444d85arow13_col1\" class=\"data row13 col1\" >mean</td>\n",
       "            </tr>\n",
       "            <tr>\n",
       "                        <th id=\"T_48e4584a_8d0c_11ea_8ad0_54bf6444d85alevel0_row14\" class=\"row_heading level0 row14\" >14</th>\n",
       "                        <td id=\"T_48e4584a_8d0c_11ea_8ad0_54bf6444d85arow14_col0\" class=\"data row14 col0\" >Categorical Imputer </td>\n",
       "                        <td id=\"T_48e4584a_8d0c_11ea_8ad0_54bf6444d85arow14_col1\" class=\"data row14 col1\" >constant</td>\n",
       "            </tr>\n",
       "            <tr>\n",
       "                        <th id=\"T_48e4584a_8d0c_11ea_8ad0_54bf6444d85alevel0_row15\" class=\"row_heading level0 row15\" >15</th>\n",
       "                        <td id=\"T_48e4584a_8d0c_11ea_8ad0_54bf6444d85arow15_col0\" class=\"data row15 col0\" >Normalize </td>\n",
       "                        <td id=\"T_48e4584a_8d0c_11ea_8ad0_54bf6444d85arow15_col1\" class=\"data row15 col1\" >False</td>\n",
       "            </tr>\n",
       "            <tr>\n",
       "                        <th id=\"T_48e4584a_8d0c_11ea_8ad0_54bf6444d85alevel0_row16\" class=\"row_heading level0 row16\" >16</th>\n",
       "                        <td id=\"T_48e4584a_8d0c_11ea_8ad0_54bf6444d85arow16_col0\" class=\"data row16 col0\" >Normalize Method </td>\n",
       "                        <td id=\"T_48e4584a_8d0c_11ea_8ad0_54bf6444d85arow16_col1\" class=\"data row16 col1\" >None</td>\n",
       "            </tr>\n",
       "            <tr>\n",
       "                        <th id=\"T_48e4584a_8d0c_11ea_8ad0_54bf6444d85alevel0_row17\" class=\"row_heading level0 row17\" >17</th>\n",
       "                        <td id=\"T_48e4584a_8d0c_11ea_8ad0_54bf6444d85arow17_col0\" class=\"data row17 col0\" >Transformation </td>\n",
       "                        <td id=\"T_48e4584a_8d0c_11ea_8ad0_54bf6444d85arow17_col1\" class=\"data row17 col1\" >False</td>\n",
       "            </tr>\n",
       "            <tr>\n",
       "                        <th id=\"T_48e4584a_8d0c_11ea_8ad0_54bf6444d85alevel0_row18\" class=\"row_heading level0 row18\" >18</th>\n",
       "                        <td id=\"T_48e4584a_8d0c_11ea_8ad0_54bf6444d85arow18_col0\" class=\"data row18 col0\" >Transformation Method </td>\n",
       "                        <td id=\"T_48e4584a_8d0c_11ea_8ad0_54bf6444d85arow18_col1\" class=\"data row18 col1\" >None</td>\n",
       "            </tr>\n",
       "            <tr>\n",
       "                        <th id=\"T_48e4584a_8d0c_11ea_8ad0_54bf6444d85alevel0_row19\" class=\"row_heading level0 row19\" >19</th>\n",
       "                        <td id=\"T_48e4584a_8d0c_11ea_8ad0_54bf6444d85arow19_col0\" class=\"data row19 col0\" >PCA </td>\n",
       "                        <td id=\"T_48e4584a_8d0c_11ea_8ad0_54bf6444d85arow19_col1\" class=\"data row19 col1\" >False</td>\n",
       "            </tr>\n",
       "            <tr>\n",
       "                        <th id=\"T_48e4584a_8d0c_11ea_8ad0_54bf6444d85alevel0_row20\" class=\"row_heading level0 row20\" >20</th>\n",
       "                        <td id=\"T_48e4584a_8d0c_11ea_8ad0_54bf6444d85arow20_col0\" class=\"data row20 col0\" >PCA Method </td>\n",
       "                        <td id=\"T_48e4584a_8d0c_11ea_8ad0_54bf6444d85arow20_col1\" class=\"data row20 col1\" >None</td>\n",
       "            </tr>\n",
       "            <tr>\n",
       "                        <th id=\"T_48e4584a_8d0c_11ea_8ad0_54bf6444d85alevel0_row21\" class=\"row_heading level0 row21\" >21</th>\n",
       "                        <td id=\"T_48e4584a_8d0c_11ea_8ad0_54bf6444d85arow21_col0\" class=\"data row21 col0\" >PCA Components </td>\n",
       "                        <td id=\"T_48e4584a_8d0c_11ea_8ad0_54bf6444d85arow21_col1\" class=\"data row21 col1\" >None</td>\n",
       "            </tr>\n",
       "            <tr>\n",
       "                        <th id=\"T_48e4584a_8d0c_11ea_8ad0_54bf6444d85alevel0_row22\" class=\"row_heading level0 row22\" >22</th>\n",
       "                        <td id=\"T_48e4584a_8d0c_11ea_8ad0_54bf6444d85arow22_col0\" class=\"data row22 col0\" >Ignore Low Variance </td>\n",
       "                        <td id=\"T_48e4584a_8d0c_11ea_8ad0_54bf6444d85arow22_col1\" class=\"data row22 col1\" >False</td>\n",
       "            </tr>\n",
       "            <tr>\n",
       "                        <th id=\"T_48e4584a_8d0c_11ea_8ad0_54bf6444d85alevel0_row23\" class=\"row_heading level0 row23\" >23</th>\n",
       "                        <td id=\"T_48e4584a_8d0c_11ea_8ad0_54bf6444d85arow23_col0\" class=\"data row23 col0\" >Combine Rare Levels </td>\n",
       "                        <td id=\"T_48e4584a_8d0c_11ea_8ad0_54bf6444d85arow23_col1\" class=\"data row23 col1\" >False</td>\n",
       "            </tr>\n",
       "            <tr>\n",
       "                        <th id=\"T_48e4584a_8d0c_11ea_8ad0_54bf6444d85alevel0_row24\" class=\"row_heading level0 row24\" >24</th>\n",
       "                        <td id=\"T_48e4584a_8d0c_11ea_8ad0_54bf6444d85arow24_col0\" class=\"data row24 col0\" >Rare Level Threshold </td>\n",
       "                        <td id=\"T_48e4584a_8d0c_11ea_8ad0_54bf6444d85arow24_col1\" class=\"data row24 col1\" >None</td>\n",
       "            </tr>\n",
       "            <tr>\n",
       "                        <th id=\"T_48e4584a_8d0c_11ea_8ad0_54bf6444d85alevel0_row25\" class=\"row_heading level0 row25\" >25</th>\n",
       "                        <td id=\"T_48e4584a_8d0c_11ea_8ad0_54bf6444d85arow25_col0\" class=\"data row25 col0\" >Numeric Binning </td>\n",
       "                        <td id=\"T_48e4584a_8d0c_11ea_8ad0_54bf6444d85arow25_col1\" class=\"data row25 col1\" >False</td>\n",
       "            </tr>\n",
       "            <tr>\n",
       "                        <th id=\"T_48e4584a_8d0c_11ea_8ad0_54bf6444d85alevel0_row26\" class=\"row_heading level0 row26\" >26</th>\n",
       "                        <td id=\"T_48e4584a_8d0c_11ea_8ad0_54bf6444d85arow26_col0\" class=\"data row26 col0\" >Remove Outliers </td>\n",
       "                        <td id=\"T_48e4584a_8d0c_11ea_8ad0_54bf6444d85arow26_col1\" class=\"data row26 col1\" >False</td>\n",
       "            </tr>\n",
       "            <tr>\n",
       "                        <th id=\"T_48e4584a_8d0c_11ea_8ad0_54bf6444d85alevel0_row27\" class=\"row_heading level0 row27\" >27</th>\n",
       "                        <td id=\"T_48e4584a_8d0c_11ea_8ad0_54bf6444d85arow27_col0\" class=\"data row27 col0\" >Outliers Threshold </td>\n",
       "                        <td id=\"T_48e4584a_8d0c_11ea_8ad0_54bf6444d85arow27_col1\" class=\"data row27 col1\" >None</td>\n",
       "            </tr>\n",
       "            <tr>\n",
       "                        <th id=\"T_48e4584a_8d0c_11ea_8ad0_54bf6444d85alevel0_row28\" class=\"row_heading level0 row28\" >28</th>\n",
       "                        <td id=\"T_48e4584a_8d0c_11ea_8ad0_54bf6444d85arow28_col0\" class=\"data row28 col0\" >Remove Multicollinearity </td>\n",
       "                        <td id=\"T_48e4584a_8d0c_11ea_8ad0_54bf6444d85arow28_col1\" class=\"data row28 col1\" >False</td>\n",
       "            </tr>\n",
       "            <tr>\n",
       "                        <th id=\"T_48e4584a_8d0c_11ea_8ad0_54bf6444d85alevel0_row29\" class=\"row_heading level0 row29\" >29</th>\n",
       "                        <td id=\"T_48e4584a_8d0c_11ea_8ad0_54bf6444d85arow29_col0\" class=\"data row29 col0\" >Multicollinearity Threshold </td>\n",
       "                        <td id=\"T_48e4584a_8d0c_11ea_8ad0_54bf6444d85arow29_col1\" class=\"data row29 col1\" >None</td>\n",
       "            </tr>\n",
       "            <tr>\n",
       "                        <th id=\"T_48e4584a_8d0c_11ea_8ad0_54bf6444d85alevel0_row30\" class=\"row_heading level0 row30\" >30</th>\n",
       "                        <td id=\"T_48e4584a_8d0c_11ea_8ad0_54bf6444d85arow30_col0\" class=\"data row30 col0\" >Clustering </td>\n",
       "                        <td id=\"T_48e4584a_8d0c_11ea_8ad0_54bf6444d85arow30_col1\" class=\"data row30 col1\" >False</td>\n",
       "            </tr>\n",
       "            <tr>\n",
       "                        <th id=\"T_48e4584a_8d0c_11ea_8ad0_54bf6444d85alevel0_row31\" class=\"row_heading level0 row31\" >31</th>\n",
       "                        <td id=\"T_48e4584a_8d0c_11ea_8ad0_54bf6444d85arow31_col0\" class=\"data row31 col0\" >Clustering Iteration </td>\n",
       "                        <td id=\"T_48e4584a_8d0c_11ea_8ad0_54bf6444d85arow31_col1\" class=\"data row31 col1\" >None</td>\n",
       "            </tr>\n",
       "            <tr>\n",
       "                        <th id=\"T_48e4584a_8d0c_11ea_8ad0_54bf6444d85alevel0_row32\" class=\"row_heading level0 row32\" >32</th>\n",
       "                        <td id=\"T_48e4584a_8d0c_11ea_8ad0_54bf6444d85arow32_col0\" class=\"data row32 col0\" >Polynomial Features </td>\n",
       "                        <td id=\"T_48e4584a_8d0c_11ea_8ad0_54bf6444d85arow32_col1\" class=\"data row32 col1\" >False</td>\n",
       "            </tr>\n",
       "            <tr>\n",
       "                        <th id=\"T_48e4584a_8d0c_11ea_8ad0_54bf6444d85alevel0_row33\" class=\"row_heading level0 row33\" >33</th>\n",
       "                        <td id=\"T_48e4584a_8d0c_11ea_8ad0_54bf6444d85arow33_col0\" class=\"data row33 col0\" >Polynomial Degree </td>\n",
       "                        <td id=\"T_48e4584a_8d0c_11ea_8ad0_54bf6444d85arow33_col1\" class=\"data row33 col1\" >None</td>\n",
       "            </tr>\n",
       "            <tr>\n",
       "                        <th id=\"T_48e4584a_8d0c_11ea_8ad0_54bf6444d85alevel0_row34\" class=\"row_heading level0 row34\" >34</th>\n",
       "                        <td id=\"T_48e4584a_8d0c_11ea_8ad0_54bf6444d85arow34_col0\" class=\"data row34 col0\" >Trignometry Features </td>\n",
       "                        <td id=\"T_48e4584a_8d0c_11ea_8ad0_54bf6444d85arow34_col1\" class=\"data row34 col1\" >False</td>\n",
       "            </tr>\n",
       "            <tr>\n",
       "                        <th id=\"T_48e4584a_8d0c_11ea_8ad0_54bf6444d85alevel0_row35\" class=\"row_heading level0 row35\" >35</th>\n",
       "                        <td id=\"T_48e4584a_8d0c_11ea_8ad0_54bf6444d85arow35_col0\" class=\"data row35 col0\" >Polynomial Threshold </td>\n",
       "                        <td id=\"T_48e4584a_8d0c_11ea_8ad0_54bf6444d85arow35_col1\" class=\"data row35 col1\" >None</td>\n",
       "            </tr>\n",
       "            <tr>\n",
       "                        <th id=\"T_48e4584a_8d0c_11ea_8ad0_54bf6444d85alevel0_row36\" class=\"row_heading level0 row36\" >36</th>\n",
       "                        <td id=\"T_48e4584a_8d0c_11ea_8ad0_54bf6444d85arow36_col0\" class=\"data row36 col0\" >Group Features </td>\n",
       "                        <td id=\"T_48e4584a_8d0c_11ea_8ad0_54bf6444d85arow36_col1\" class=\"data row36 col1\" >False</td>\n",
       "            </tr>\n",
       "            <tr>\n",
       "                        <th id=\"T_48e4584a_8d0c_11ea_8ad0_54bf6444d85alevel0_row37\" class=\"row_heading level0 row37\" >37</th>\n",
       "                        <td id=\"T_48e4584a_8d0c_11ea_8ad0_54bf6444d85arow37_col0\" class=\"data row37 col0\" >Feature Selection </td>\n",
       "                        <td id=\"T_48e4584a_8d0c_11ea_8ad0_54bf6444d85arow37_col1\" class=\"data row37 col1\" >False</td>\n",
       "            </tr>\n",
       "            <tr>\n",
       "                        <th id=\"T_48e4584a_8d0c_11ea_8ad0_54bf6444d85alevel0_row38\" class=\"row_heading level0 row38\" >38</th>\n",
       "                        <td id=\"T_48e4584a_8d0c_11ea_8ad0_54bf6444d85arow38_col0\" class=\"data row38 col0\" >Features Selection Threshold </td>\n",
       "                        <td id=\"T_48e4584a_8d0c_11ea_8ad0_54bf6444d85arow38_col1\" class=\"data row38 col1\" >None</td>\n",
       "            </tr>\n",
       "            <tr>\n",
       "                        <th id=\"T_48e4584a_8d0c_11ea_8ad0_54bf6444d85alevel0_row39\" class=\"row_heading level0 row39\" >39</th>\n",
       "                        <td id=\"T_48e4584a_8d0c_11ea_8ad0_54bf6444d85arow39_col0\" class=\"data row39 col0\" >Feature Interaction </td>\n",
       "                        <td id=\"T_48e4584a_8d0c_11ea_8ad0_54bf6444d85arow39_col1\" class=\"data row39 col1\" >False</td>\n",
       "            </tr>\n",
       "            <tr>\n",
       "                        <th id=\"T_48e4584a_8d0c_11ea_8ad0_54bf6444d85alevel0_row40\" class=\"row_heading level0 row40\" >40</th>\n",
       "                        <td id=\"T_48e4584a_8d0c_11ea_8ad0_54bf6444d85arow40_col0\" class=\"data row40 col0\" >Feature Ratio </td>\n",
       "                        <td id=\"T_48e4584a_8d0c_11ea_8ad0_54bf6444d85arow40_col1\" class=\"data row40 col1\" >False</td>\n",
       "            </tr>\n",
       "            <tr>\n",
       "                        <th id=\"T_48e4584a_8d0c_11ea_8ad0_54bf6444d85alevel0_row41\" class=\"row_heading level0 row41\" >41</th>\n",
       "                        <td id=\"T_48e4584a_8d0c_11ea_8ad0_54bf6444d85arow41_col0\" class=\"data row41 col0\" >Interaction Threshold </td>\n",
       "                        <td id=\"T_48e4584a_8d0c_11ea_8ad0_54bf6444d85arow41_col1\" class=\"data row41 col1\" >None</td>\n",
       "            </tr>\n",
       "    </tbody></table>"
      ],
      "text/plain": [
       "<pandas.io.formats.style.Styler at 0x1feeecb9608>"
      ]
     },
     "metadata": {},
     "output_type": "display_data"
    }
   ],
   "source": [
    "exp_reg101 = setup(data = data, target = 'Gold_T+22', session_id=123)"
   ]
  },
  {
   "cell_type": "markdown",
   "metadata": {},
   "source": [
    "## Comparing All Models"
   ]
  },
  {
   "cell_type": "code",
   "execution_count": 6,
   "metadata": {},
   "outputs": [
    {
     "data": {
      "text/html": [
       "<style  type=\"text/css\" >\n",
       "    #T_f2cf7bc8_8d06_11ea_8b49_54bf6444d85a th {\n",
       "          text-align: left;\n",
       "    }    #T_f2cf7bc8_8d06_11ea_8b49_54bf6444d85arow0_col0 {\n",
       "            text-align:  left;\n",
       "        }    #T_f2cf7bc8_8d06_11ea_8b49_54bf6444d85arow0_col1 {\n",
       "            background-color:  yellow;\n",
       "            text-align:  left;\n",
       "        }    #T_f2cf7bc8_8d06_11ea_8b49_54bf6444d85arow0_col2 {\n",
       "            background-color:  yellow;\n",
       "            text-align:  left;\n",
       "        }    #T_f2cf7bc8_8d06_11ea_8b49_54bf6444d85arow0_col3 {\n",
       "            background-color:  yellow;\n",
       "            text-align:  left;\n",
       "        }    #T_f2cf7bc8_8d06_11ea_8b49_54bf6444d85arow0_col4 {\n",
       "            text-align:  left;\n",
       "        }    #T_f2cf7bc8_8d06_11ea_8b49_54bf6444d85arow0_col5 {\n",
       "            background-color:  yellow;\n",
       "            text-align:  left;\n",
       "        }    #T_f2cf7bc8_8d06_11ea_8b49_54bf6444d85arow0_col6 {\n",
       "            : ;\n",
       "            text-align:  left;\n",
       "        }    #T_f2cf7bc8_8d06_11ea_8b49_54bf6444d85arow1_col0 {\n",
       "            text-align:  left;\n",
       "        }    #T_f2cf7bc8_8d06_11ea_8b49_54bf6444d85arow1_col1 {\n",
       "            : ;\n",
       "            text-align:  left;\n",
       "        }    #T_f2cf7bc8_8d06_11ea_8b49_54bf6444d85arow1_col2 {\n",
       "            : ;\n",
       "            text-align:  left;\n",
       "        }    #T_f2cf7bc8_8d06_11ea_8b49_54bf6444d85arow1_col3 {\n",
       "            : ;\n",
       "            text-align:  left;\n",
       "        }    #T_f2cf7bc8_8d06_11ea_8b49_54bf6444d85arow1_col4 {\n",
       "            text-align:  left;\n",
       "        }    #T_f2cf7bc8_8d06_11ea_8b49_54bf6444d85arow1_col5 {\n",
       "            : ;\n",
       "            text-align:  left;\n",
       "        }    #T_f2cf7bc8_8d06_11ea_8b49_54bf6444d85arow1_col6 {\n",
       "            : ;\n",
       "            text-align:  left;\n",
       "        }    #T_f2cf7bc8_8d06_11ea_8b49_54bf6444d85arow2_col0 {\n",
       "            text-align:  left;\n",
       "        }    #T_f2cf7bc8_8d06_11ea_8b49_54bf6444d85arow2_col1 {\n",
       "            : ;\n",
       "            text-align:  left;\n",
       "        }    #T_f2cf7bc8_8d06_11ea_8b49_54bf6444d85arow2_col2 {\n",
       "            : ;\n",
       "            text-align:  left;\n",
       "        }    #T_f2cf7bc8_8d06_11ea_8b49_54bf6444d85arow2_col3 {\n",
       "            : ;\n",
       "            text-align:  left;\n",
       "        }    #T_f2cf7bc8_8d06_11ea_8b49_54bf6444d85arow2_col4 {\n",
       "            text-align:  left;\n",
       "        }    #T_f2cf7bc8_8d06_11ea_8b49_54bf6444d85arow2_col5 {\n",
       "            : ;\n",
       "            text-align:  left;\n",
       "        }    #T_f2cf7bc8_8d06_11ea_8b49_54bf6444d85arow2_col6 {\n",
       "            : ;\n",
       "            text-align:  left;\n",
       "        }    #T_f2cf7bc8_8d06_11ea_8b49_54bf6444d85arow3_col0 {\n",
       "            text-align:  left;\n",
       "        }    #T_f2cf7bc8_8d06_11ea_8b49_54bf6444d85arow3_col1 {\n",
       "            : ;\n",
       "            text-align:  left;\n",
       "        }    #T_f2cf7bc8_8d06_11ea_8b49_54bf6444d85arow3_col2 {\n",
       "            : ;\n",
       "            text-align:  left;\n",
       "        }    #T_f2cf7bc8_8d06_11ea_8b49_54bf6444d85arow3_col3 {\n",
       "            : ;\n",
       "            text-align:  left;\n",
       "        }    #T_f2cf7bc8_8d06_11ea_8b49_54bf6444d85arow3_col4 {\n",
       "            text-align:  left;\n",
       "        }    #T_f2cf7bc8_8d06_11ea_8b49_54bf6444d85arow3_col5 {\n",
       "            : ;\n",
       "            text-align:  left;\n",
       "        }    #T_f2cf7bc8_8d06_11ea_8b49_54bf6444d85arow3_col6 {\n",
       "            : ;\n",
       "            text-align:  left;\n",
       "        }    #T_f2cf7bc8_8d06_11ea_8b49_54bf6444d85arow4_col0 {\n",
       "            text-align:  left;\n",
       "        }    #T_f2cf7bc8_8d06_11ea_8b49_54bf6444d85arow4_col1 {\n",
       "            : ;\n",
       "            text-align:  left;\n",
       "        }    #T_f2cf7bc8_8d06_11ea_8b49_54bf6444d85arow4_col2 {\n",
       "            : ;\n",
       "            text-align:  left;\n",
       "        }    #T_f2cf7bc8_8d06_11ea_8b49_54bf6444d85arow4_col3 {\n",
       "            : ;\n",
       "            text-align:  left;\n",
       "        }    #T_f2cf7bc8_8d06_11ea_8b49_54bf6444d85arow4_col4 {\n",
       "            text-align:  left;\n",
       "        }    #T_f2cf7bc8_8d06_11ea_8b49_54bf6444d85arow4_col5 {\n",
       "            : ;\n",
       "            text-align:  left;\n",
       "        }    #T_f2cf7bc8_8d06_11ea_8b49_54bf6444d85arow4_col6 {\n",
       "            : ;\n",
       "            text-align:  left;\n",
       "        }    #T_f2cf7bc8_8d06_11ea_8b49_54bf6444d85arow5_col0 {\n",
       "            text-align:  left;\n",
       "        }    #T_f2cf7bc8_8d06_11ea_8b49_54bf6444d85arow5_col1 {\n",
       "            : ;\n",
       "            text-align:  left;\n",
       "        }    #T_f2cf7bc8_8d06_11ea_8b49_54bf6444d85arow5_col2 {\n",
       "            : ;\n",
       "            text-align:  left;\n",
       "        }    #T_f2cf7bc8_8d06_11ea_8b49_54bf6444d85arow5_col3 {\n",
       "            : ;\n",
       "            text-align:  left;\n",
       "        }    #T_f2cf7bc8_8d06_11ea_8b49_54bf6444d85arow5_col4 {\n",
       "            text-align:  left;\n",
       "        }    #T_f2cf7bc8_8d06_11ea_8b49_54bf6444d85arow5_col5 {\n",
       "            : ;\n",
       "            text-align:  left;\n",
       "        }    #T_f2cf7bc8_8d06_11ea_8b49_54bf6444d85arow5_col6 {\n",
       "            : ;\n",
       "            text-align:  left;\n",
       "        }    #T_f2cf7bc8_8d06_11ea_8b49_54bf6444d85arow6_col0 {\n",
       "            text-align:  left;\n",
       "        }    #T_f2cf7bc8_8d06_11ea_8b49_54bf6444d85arow6_col1 {\n",
       "            : ;\n",
       "            text-align:  left;\n",
       "        }    #T_f2cf7bc8_8d06_11ea_8b49_54bf6444d85arow6_col2 {\n",
       "            : ;\n",
       "            text-align:  left;\n",
       "        }    #T_f2cf7bc8_8d06_11ea_8b49_54bf6444d85arow6_col3 {\n",
       "            : ;\n",
       "            text-align:  left;\n",
       "        }    #T_f2cf7bc8_8d06_11ea_8b49_54bf6444d85arow6_col4 {\n",
       "            text-align:  left;\n",
       "        }    #T_f2cf7bc8_8d06_11ea_8b49_54bf6444d85arow6_col5 {\n",
       "            : ;\n",
       "            text-align:  left;\n",
       "        }    #T_f2cf7bc8_8d06_11ea_8b49_54bf6444d85arow6_col6 {\n",
       "            : ;\n",
       "            text-align:  left;\n",
       "        }    #T_f2cf7bc8_8d06_11ea_8b49_54bf6444d85arow7_col0 {\n",
       "            text-align:  left;\n",
       "        }    #T_f2cf7bc8_8d06_11ea_8b49_54bf6444d85arow7_col1 {\n",
       "            : ;\n",
       "            text-align:  left;\n",
       "        }    #T_f2cf7bc8_8d06_11ea_8b49_54bf6444d85arow7_col2 {\n",
       "            : ;\n",
       "            text-align:  left;\n",
       "        }    #T_f2cf7bc8_8d06_11ea_8b49_54bf6444d85arow7_col3 {\n",
       "            : ;\n",
       "            text-align:  left;\n",
       "        }    #T_f2cf7bc8_8d06_11ea_8b49_54bf6444d85arow7_col4 {\n",
       "            text-align:  left;\n",
       "        }    #T_f2cf7bc8_8d06_11ea_8b49_54bf6444d85arow7_col5 {\n",
       "            : ;\n",
       "            text-align:  left;\n",
       "        }    #T_f2cf7bc8_8d06_11ea_8b49_54bf6444d85arow7_col6 {\n",
       "            : ;\n",
       "            text-align:  left;\n",
       "        }    #T_f2cf7bc8_8d06_11ea_8b49_54bf6444d85arow8_col0 {\n",
       "            text-align:  left;\n",
       "        }    #T_f2cf7bc8_8d06_11ea_8b49_54bf6444d85arow8_col1 {\n",
       "            : ;\n",
       "            text-align:  left;\n",
       "        }    #T_f2cf7bc8_8d06_11ea_8b49_54bf6444d85arow8_col2 {\n",
       "            : ;\n",
       "            text-align:  left;\n",
       "        }    #T_f2cf7bc8_8d06_11ea_8b49_54bf6444d85arow8_col3 {\n",
       "            : ;\n",
       "            text-align:  left;\n",
       "        }    #T_f2cf7bc8_8d06_11ea_8b49_54bf6444d85arow8_col4 {\n",
       "            text-align:  left;\n",
       "        }    #T_f2cf7bc8_8d06_11ea_8b49_54bf6444d85arow8_col5 {\n",
       "            : ;\n",
       "            text-align:  left;\n",
       "        }    #T_f2cf7bc8_8d06_11ea_8b49_54bf6444d85arow8_col6 {\n",
       "            : ;\n",
       "            text-align:  left;\n",
       "        }    #T_f2cf7bc8_8d06_11ea_8b49_54bf6444d85arow9_col0 {\n",
       "            text-align:  left;\n",
       "        }    #T_f2cf7bc8_8d06_11ea_8b49_54bf6444d85arow9_col1 {\n",
       "            : ;\n",
       "            text-align:  left;\n",
       "        }    #T_f2cf7bc8_8d06_11ea_8b49_54bf6444d85arow9_col2 {\n",
       "            : ;\n",
       "            text-align:  left;\n",
       "        }    #T_f2cf7bc8_8d06_11ea_8b49_54bf6444d85arow9_col3 {\n",
       "            : ;\n",
       "            text-align:  left;\n",
       "        }    #T_f2cf7bc8_8d06_11ea_8b49_54bf6444d85arow9_col4 {\n",
       "            text-align:  left;\n",
       "        }    #T_f2cf7bc8_8d06_11ea_8b49_54bf6444d85arow9_col5 {\n",
       "            : ;\n",
       "            text-align:  left;\n",
       "        }    #T_f2cf7bc8_8d06_11ea_8b49_54bf6444d85arow9_col6 {\n",
       "            : ;\n",
       "            text-align:  left;\n",
       "        }    #T_f2cf7bc8_8d06_11ea_8b49_54bf6444d85arow10_col0 {\n",
       "            text-align:  left;\n",
       "        }    #T_f2cf7bc8_8d06_11ea_8b49_54bf6444d85arow10_col1 {\n",
       "            : ;\n",
       "            text-align:  left;\n",
       "        }    #T_f2cf7bc8_8d06_11ea_8b49_54bf6444d85arow10_col2 {\n",
       "            : ;\n",
       "            text-align:  left;\n",
       "        }    #T_f2cf7bc8_8d06_11ea_8b49_54bf6444d85arow10_col3 {\n",
       "            : ;\n",
       "            text-align:  left;\n",
       "        }    #T_f2cf7bc8_8d06_11ea_8b49_54bf6444d85arow10_col4 {\n",
       "            text-align:  left;\n",
       "        }    #T_f2cf7bc8_8d06_11ea_8b49_54bf6444d85arow10_col5 {\n",
       "            : ;\n",
       "            text-align:  left;\n",
       "        }    #T_f2cf7bc8_8d06_11ea_8b49_54bf6444d85arow10_col6 {\n",
       "            : ;\n",
       "            text-align:  left;\n",
       "        }    #T_f2cf7bc8_8d06_11ea_8b49_54bf6444d85arow11_col0 {\n",
       "            text-align:  left;\n",
       "        }    #T_f2cf7bc8_8d06_11ea_8b49_54bf6444d85arow11_col1 {\n",
       "            : ;\n",
       "            text-align:  left;\n",
       "        }    #T_f2cf7bc8_8d06_11ea_8b49_54bf6444d85arow11_col2 {\n",
       "            : ;\n",
       "            text-align:  left;\n",
       "        }    #T_f2cf7bc8_8d06_11ea_8b49_54bf6444d85arow11_col3 {\n",
       "            : ;\n",
       "            text-align:  left;\n",
       "        }    #T_f2cf7bc8_8d06_11ea_8b49_54bf6444d85arow11_col4 {\n",
       "            text-align:  left;\n",
       "        }    #T_f2cf7bc8_8d06_11ea_8b49_54bf6444d85arow11_col5 {\n",
       "            : ;\n",
       "            text-align:  left;\n",
       "        }    #T_f2cf7bc8_8d06_11ea_8b49_54bf6444d85arow11_col6 {\n",
       "            : ;\n",
       "            text-align:  left;\n",
       "        }    #T_f2cf7bc8_8d06_11ea_8b49_54bf6444d85arow12_col0 {\n",
       "            text-align:  left;\n",
       "        }    #T_f2cf7bc8_8d06_11ea_8b49_54bf6444d85arow12_col1 {\n",
       "            : ;\n",
       "            text-align:  left;\n",
       "        }    #T_f2cf7bc8_8d06_11ea_8b49_54bf6444d85arow12_col2 {\n",
       "            : ;\n",
       "            text-align:  left;\n",
       "        }    #T_f2cf7bc8_8d06_11ea_8b49_54bf6444d85arow12_col3 {\n",
       "            : ;\n",
       "            text-align:  left;\n",
       "        }    #T_f2cf7bc8_8d06_11ea_8b49_54bf6444d85arow12_col4 {\n",
       "            text-align:  left;\n",
       "        }    #T_f2cf7bc8_8d06_11ea_8b49_54bf6444d85arow12_col5 {\n",
       "            : ;\n",
       "            text-align:  left;\n",
       "        }    #T_f2cf7bc8_8d06_11ea_8b49_54bf6444d85arow12_col6 {\n",
       "            : ;\n",
       "            text-align:  left;\n",
       "        }    #T_f2cf7bc8_8d06_11ea_8b49_54bf6444d85arow13_col0 {\n",
       "            text-align:  left;\n",
       "        }    #T_f2cf7bc8_8d06_11ea_8b49_54bf6444d85arow13_col1 {\n",
       "            : ;\n",
       "            text-align:  left;\n",
       "        }    #T_f2cf7bc8_8d06_11ea_8b49_54bf6444d85arow13_col2 {\n",
       "            : ;\n",
       "            text-align:  left;\n",
       "        }    #T_f2cf7bc8_8d06_11ea_8b49_54bf6444d85arow13_col3 {\n",
       "            : ;\n",
       "            text-align:  left;\n",
       "        }    #T_f2cf7bc8_8d06_11ea_8b49_54bf6444d85arow13_col4 {\n",
       "            text-align:  left;\n",
       "        }    #T_f2cf7bc8_8d06_11ea_8b49_54bf6444d85arow13_col5 {\n",
       "            : ;\n",
       "            text-align:  left;\n",
       "        }    #T_f2cf7bc8_8d06_11ea_8b49_54bf6444d85arow13_col6 {\n",
       "            : ;\n",
       "            text-align:  left;\n",
       "        }    #T_f2cf7bc8_8d06_11ea_8b49_54bf6444d85arow14_col0 {\n",
       "            text-align:  left;\n",
       "        }    #T_f2cf7bc8_8d06_11ea_8b49_54bf6444d85arow14_col1 {\n",
       "            : ;\n",
       "            text-align:  left;\n",
       "        }    #T_f2cf7bc8_8d06_11ea_8b49_54bf6444d85arow14_col2 {\n",
       "            : ;\n",
       "            text-align:  left;\n",
       "        }    #T_f2cf7bc8_8d06_11ea_8b49_54bf6444d85arow14_col3 {\n",
       "            : ;\n",
       "            text-align:  left;\n",
       "        }    #T_f2cf7bc8_8d06_11ea_8b49_54bf6444d85arow14_col4 {\n",
       "            text-align:  left;\n",
       "        }    #T_f2cf7bc8_8d06_11ea_8b49_54bf6444d85arow14_col5 {\n",
       "            : ;\n",
       "            text-align:  left;\n",
       "        }    #T_f2cf7bc8_8d06_11ea_8b49_54bf6444d85arow14_col6 {\n",
       "            : ;\n",
       "            text-align:  left;\n",
       "        }    #T_f2cf7bc8_8d06_11ea_8b49_54bf6444d85arow15_col0 {\n",
       "            text-align:  left;\n",
       "        }    #T_f2cf7bc8_8d06_11ea_8b49_54bf6444d85arow15_col1 {\n",
       "            : ;\n",
       "            text-align:  left;\n",
       "        }    #T_f2cf7bc8_8d06_11ea_8b49_54bf6444d85arow15_col2 {\n",
       "            : ;\n",
       "            text-align:  left;\n",
       "        }    #T_f2cf7bc8_8d06_11ea_8b49_54bf6444d85arow15_col3 {\n",
       "            : ;\n",
       "            text-align:  left;\n",
       "        }    #T_f2cf7bc8_8d06_11ea_8b49_54bf6444d85arow15_col4 {\n",
       "            text-align:  left;\n",
       "        }    #T_f2cf7bc8_8d06_11ea_8b49_54bf6444d85arow15_col5 {\n",
       "            : ;\n",
       "            text-align:  left;\n",
       "        }    #T_f2cf7bc8_8d06_11ea_8b49_54bf6444d85arow15_col6 {\n",
       "            : ;\n",
       "            text-align:  left;\n",
       "        }    #T_f2cf7bc8_8d06_11ea_8b49_54bf6444d85arow16_col0 {\n",
       "            text-align:  left;\n",
       "        }    #T_f2cf7bc8_8d06_11ea_8b49_54bf6444d85arow16_col1 {\n",
       "            : ;\n",
       "            text-align:  left;\n",
       "        }    #T_f2cf7bc8_8d06_11ea_8b49_54bf6444d85arow16_col2 {\n",
       "            : ;\n",
       "            text-align:  left;\n",
       "        }    #T_f2cf7bc8_8d06_11ea_8b49_54bf6444d85arow16_col3 {\n",
       "            : ;\n",
       "            text-align:  left;\n",
       "        }    #T_f2cf7bc8_8d06_11ea_8b49_54bf6444d85arow16_col4 {\n",
       "            text-align:  left;\n",
       "        }    #T_f2cf7bc8_8d06_11ea_8b49_54bf6444d85arow16_col5 {\n",
       "            : ;\n",
       "            text-align:  left;\n",
       "        }    #T_f2cf7bc8_8d06_11ea_8b49_54bf6444d85arow16_col6 {\n",
       "            background-color:  yellow;\n",
       "            text-align:  left;\n",
       "        }    #T_f2cf7bc8_8d06_11ea_8b49_54bf6444d85arow17_col0 {\n",
       "            text-align:  left;\n",
       "        }    #T_f2cf7bc8_8d06_11ea_8b49_54bf6444d85arow17_col1 {\n",
       "            : ;\n",
       "            text-align:  left;\n",
       "        }    #T_f2cf7bc8_8d06_11ea_8b49_54bf6444d85arow17_col2 {\n",
       "            : ;\n",
       "            text-align:  left;\n",
       "        }    #T_f2cf7bc8_8d06_11ea_8b49_54bf6444d85arow17_col3 {\n",
       "            : ;\n",
       "            text-align:  left;\n",
       "        }    #T_f2cf7bc8_8d06_11ea_8b49_54bf6444d85arow17_col4 {\n",
       "            text-align:  left;\n",
       "        }    #T_f2cf7bc8_8d06_11ea_8b49_54bf6444d85arow17_col5 {\n",
       "            : ;\n",
       "            text-align:  left;\n",
       "        }    #T_f2cf7bc8_8d06_11ea_8b49_54bf6444d85arow17_col6 {\n",
       "            background-color:  yellow;\n",
       "            text-align:  left;\n",
       "        }    #T_f2cf7bc8_8d06_11ea_8b49_54bf6444d85arow18_col0 {\n",
       "            text-align:  left;\n",
       "        }    #T_f2cf7bc8_8d06_11ea_8b49_54bf6444d85arow18_col1 {\n",
       "            : ;\n",
       "            text-align:  left;\n",
       "        }    #T_f2cf7bc8_8d06_11ea_8b49_54bf6444d85arow18_col2 {\n",
       "            : ;\n",
       "            text-align:  left;\n",
       "        }    #T_f2cf7bc8_8d06_11ea_8b49_54bf6444d85arow18_col3 {\n",
       "            : ;\n",
       "            text-align:  left;\n",
       "        }    #T_f2cf7bc8_8d06_11ea_8b49_54bf6444d85arow18_col4 {\n",
       "            text-align:  left;\n",
       "        }    #T_f2cf7bc8_8d06_11ea_8b49_54bf6444d85arow18_col5 {\n",
       "            : ;\n",
       "            text-align:  left;\n",
       "        }    #T_f2cf7bc8_8d06_11ea_8b49_54bf6444d85arow18_col6 {\n",
       "            background-color:  yellow;\n",
       "            text-align:  left;\n",
       "        }    #T_f2cf7bc8_8d06_11ea_8b49_54bf6444d85arow19_col0 {\n",
       "            text-align:  left;\n",
       "        }    #T_f2cf7bc8_8d06_11ea_8b49_54bf6444d85arow19_col1 {\n",
       "            : ;\n",
       "            text-align:  left;\n",
       "        }    #T_f2cf7bc8_8d06_11ea_8b49_54bf6444d85arow19_col2 {\n",
       "            : ;\n",
       "            text-align:  left;\n",
       "        }    #T_f2cf7bc8_8d06_11ea_8b49_54bf6444d85arow19_col3 {\n",
       "            : ;\n",
       "            text-align:  left;\n",
       "        }    #T_f2cf7bc8_8d06_11ea_8b49_54bf6444d85arow19_col4 {\n",
       "            text-align:  left;\n",
       "        }    #T_f2cf7bc8_8d06_11ea_8b49_54bf6444d85arow19_col5 {\n",
       "            : ;\n",
       "            text-align:  left;\n",
       "        }    #T_f2cf7bc8_8d06_11ea_8b49_54bf6444d85arow19_col6 {\n",
       "            : ;\n",
       "            text-align:  left;\n",
       "        }    #T_f2cf7bc8_8d06_11ea_8b49_54bf6444d85arow20_col0 {\n",
       "            text-align:  left;\n",
       "        }    #T_f2cf7bc8_8d06_11ea_8b49_54bf6444d85arow20_col1 {\n",
       "            : ;\n",
       "            text-align:  left;\n",
       "        }    #T_f2cf7bc8_8d06_11ea_8b49_54bf6444d85arow20_col2 {\n",
       "            : ;\n",
       "            text-align:  left;\n",
       "        }    #T_f2cf7bc8_8d06_11ea_8b49_54bf6444d85arow20_col3 {\n",
       "            : ;\n",
       "            text-align:  left;\n",
       "        }    #T_f2cf7bc8_8d06_11ea_8b49_54bf6444d85arow20_col4 {\n",
       "            text-align:  left;\n",
       "        }    #T_f2cf7bc8_8d06_11ea_8b49_54bf6444d85arow20_col5 {\n",
       "            : ;\n",
       "            text-align:  left;\n",
       "        }    #T_f2cf7bc8_8d06_11ea_8b49_54bf6444d85arow20_col6 {\n",
       "            : ;\n",
       "            text-align:  left;\n",
       "        }    #T_f2cf7bc8_8d06_11ea_8b49_54bf6444d85arow21_col0 {\n",
       "            text-align:  left;\n",
       "        }    #T_f2cf7bc8_8d06_11ea_8b49_54bf6444d85arow21_col1 {\n",
       "            : ;\n",
       "            text-align:  left;\n",
       "        }    #T_f2cf7bc8_8d06_11ea_8b49_54bf6444d85arow21_col2 {\n",
       "            : ;\n",
       "            text-align:  left;\n",
       "        }    #T_f2cf7bc8_8d06_11ea_8b49_54bf6444d85arow21_col3 {\n",
       "            : ;\n",
       "            text-align:  left;\n",
       "        }    #T_f2cf7bc8_8d06_11ea_8b49_54bf6444d85arow21_col4 {\n",
       "            text-align:  left;\n",
       "        }    #T_f2cf7bc8_8d06_11ea_8b49_54bf6444d85arow21_col5 {\n",
       "            : ;\n",
       "            text-align:  left;\n",
       "        }    #T_f2cf7bc8_8d06_11ea_8b49_54bf6444d85arow21_col6 {\n",
       "            : ;\n",
       "            text-align:  left;\n",
       "        }</style><table id=\"T_f2cf7bc8_8d06_11ea_8b49_54bf6444d85a\" ><thead>    <tr>        <th class=\"blank level0\" ></th>        <th class=\"col_heading level0 col0\" >Model</th>        <th class=\"col_heading level0 col1\" >MAE</th>        <th class=\"col_heading level0 col2\" >MSE</th>        <th class=\"col_heading level0 col3\" >RMSE</th>        <th class=\"col_heading level0 col4\" >R2</th>        <th class=\"col_heading level0 col5\" >RMSLE</th>        <th class=\"col_heading level0 col6\" >MAPE</th>    </tr></thead><tbody>\n",
       "                <tr>\n",
       "                        <th id=\"T_f2cf7bc8_8d06_11ea_8b49_54bf6444d85alevel0_row0\" class=\"row_heading level0 row0\" >0</th>\n",
       "                        <td id=\"T_f2cf7bc8_8d06_11ea_8b49_54bf6444d85arow0_col0\" class=\"data row0 col0\" >K Neighbors Regressor</td>\n",
       "                        <td id=\"T_f2cf7bc8_8d06_11ea_8b49_54bf6444d85arow0_col1\" class=\"data row0 col1\" >0.014500</td>\n",
       "                        <td id=\"T_f2cf7bc8_8d06_11ea_8b49_54bf6444d85arow0_col2\" class=\"data row0 col2\" >0.000400</td>\n",
       "                        <td id=\"T_f2cf7bc8_8d06_11ea_8b49_54bf6444d85arow0_col3\" class=\"data row0 col3\" >0.020800</td>\n",
       "                        <td id=\"T_f2cf7bc8_8d06_11ea_8b49_54bf6444d85arow0_col4\" class=\"data row0 col4\" >0.777800</td>\n",
       "                        <td id=\"T_f2cf7bc8_8d06_11ea_8b49_54bf6444d85arow0_col5\" class=\"data row0 col5\" >0.018000</td>\n",
       "                        <td id=\"T_f2cf7bc8_8d06_11ea_8b49_54bf6444d85arow0_col6\" class=\"data row0 col6\" >0.919600</td>\n",
       "            </tr>\n",
       "            <tr>\n",
       "                        <th id=\"T_f2cf7bc8_8d06_11ea_8b49_54bf6444d85alevel0_row1\" class=\"row_heading level0 row1\" >1</th>\n",
       "                        <td id=\"T_f2cf7bc8_8d06_11ea_8b49_54bf6444d85arow1_col0\" class=\"data row1 col0\" >Extra Trees Regressor</td>\n",
       "                        <td id=\"T_f2cf7bc8_8d06_11ea_8b49_54bf6444d85arow1_col1\" class=\"data row1 col1\" >0.018600</td>\n",
       "                        <td id=\"T_f2cf7bc8_8d06_11ea_8b49_54bf6444d85arow1_col2\" class=\"data row1 col2\" >0.000600</td>\n",
       "                        <td id=\"T_f2cf7bc8_8d06_11ea_8b49_54bf6444d85arow1_col3\" class=\"data row1 col3\" >0.025100</td>\n",
       "                        <td id=\"T_f2cf7bc8_8d06_11ea_8b49_54bf6444d85arow1_col4\" class=\"data row1 col4\" >0.679600</td>\n",
       "                        <td id=\"T_f2cf7bc8_8d06_11ea_8b49_54bf6444d85arow1_col5\" class=\"data row1 col5\" >0.023100</td>\n",
       "                        <td id=\"T_f2cf7bc8_8d06_11ea_8b49_54bf6444d85arow1_col6\" class=\"data row1 col6\" >0.446100</td>\n",
       "            </tr>\n",
       "            <tr>\n",
       "                        <th id=\"T_f2cf7bc8_8d06_11ea_8b49_54bf6444d85alevel0_row2\" class=\"row_heading level0 row2\" >2</th>\n",
       "                        <td id=\"T_f2cf7bc8_8d06_11ea_8b49_54bf6444d85arow2_col0\" class=\"data row2 col0\" >CatBoost Regressor</td>\n",
       "                        <td id=\"T_f2cf7bc8_8d06_11ea_8b49_54bf6444d85arow2_col1\" class=\"data row2 col1\" >0.018900</td>\n",
       "                        <td id=\"T_f2cf7bc8_8d06_11ea_8b49_54bf6444d85arow2_col2\" class=\"data row2 col2\" >0.000600</td>\n",
       "                        <td id=\"T_f2cf7bc8_8d06_11ea_8b49_54bf6444d85arow2_col3\" class=\"data row2 col3\" >0.025200</td>\n",
       "                        <td id=\"T_f2cf7bc8_8d06_11ea_8b49_54bf6444d85arow2_col4\" class=\"data row2 col4\" >0.677800</td>\n",
       "                        <td id=\"T_f2cf7bc8_8d06_11ea_8b49_54bf6444d85arow2_col5\" class=\"data row2 col5\" >0.022900</td>\n",
       "                        <td id=\"T_f2cf7bc8_8d06_11ea_8b49_54bf6444d85arow2_col6\" class=\"data row2 col6\" >0.621600</td>\n",
       "            </tr>\n",
       "            <tr>\n",
       "                        <th id=\"T_f2cf7bc8_8d06_11ea_8b49_54bf6444d85alevel0_row3\" class=\"row_heading level0 row3\" >3</th>\n",
       "                        <td id=\"T_f2cf7bc8_8d06_11ea_8b49_54bf6444d85arow3_col0\" class=\"data row3 col0\" >Light Gradient Boosting Machine</td>\n",
       "                        <td id=\"T_f2cf7bc8_8d06_11ea_8b49_54bf6444d85arow3_col1\" class=\"data row3 col1\" >0.019600</td>\n",
       "                        <td id=\"T_f2cf7bc8_8d06_11ea_8b49_54bf6444d85arow3_col2\" class=\"data row3 col2\" >0.000700</td>\n",
       "                        <td id=\"T_f2cf7bc8_8d06_11ea_8b49_54bf6444d85arow3_col3\" class=\"data row3 col3\" >0.026600</td>\n",
       "                        <td id=\"T_f2cf7bc8_8d06_11ea_8b49_54bf6444d85arow3_col4\" class=\"data row3 col4\" >0.641000</td>\n",
       "                        <td id=\"T_f2cf7bc8_8d06_11ea_8b49_54bf6444d85arow3_col5\" class=\"data row3 col5\" >0.023400</td>\n",
       "                        <td id=\"T_f2cf7bc8_8d06_11ea_8b49_54bf6444d85arow3_col6\" class=\"data row3 col6\" >0.842700</td>\n",
       "            </tr>\n",
       "            <tr>\n",
       "                        <th id=\"T_f2cf7bc8_8d06_11ea_8b49_54bf6444d85alevel0_row4\" class=\"row_heading level0 row4\" >4</th>\n",
       "                        <td id=\"T_f2cf7bc8_8d06_11ea_8b49_54bf6444d85arow4_col0\" class=\"data row4 col0\" >Random Forest</td>\n",
       "                        <td id=\"T_f2cf7bc8_8d06_11ea_8b49_54bf6444d85arow4_col1\" class=\"data row4 col1\" >0.021700</td>\n",
       "                        <td id=\"T_f2cf7bc8_8d06_11ea_8b49_54bf6444d85arow4_col2\" class=\"data row4 col2\" >0.000800</td>\n",
       "                        <td id=\"T_f2cf7bc8_8d06_11ea_8b49_54bf6444d85arow4_col3\" class=\"data row4 col3\" >0.028900</td>\n",
       "                        <td id=\"T_f2cf7bc8_8d06_11ea_8b49_54bf6444d85arow4_col4\" class=\"data row4 col4\" >0.578800</td>\n",
       "                        <td id=\"T_f2cf7bc8_8d06_11ea_8b49_54bf6444d85arow4_col5\" class=\"data row4 col5\" >0.026300</td>\n",
       "                        <td id=\"T_f2cf7bc8_8d06_11ea_8b49_54bf6444d85arow4_col6\" class=\"data row4 col6\" >0.658000</td>\n",
       "            </tr>\n",
       "            <tr>\n",
       "                        <th id=\"T_f2cf7bc8_8d06_11ea_8b49_54bf6444d85alevel0_row5\" class=\"row_heading level0 row5\" >5</th>\n",
       "                        <td id=\"T_f2cf7bc8_8d06_11ea_8b49_54bf6444d85arow5_col0\" class=\"data row5 col0\" >Gradient Boosting Regressor</td>\n",
       "                        <td id=\"T_f2cf7bc8_8d06_11ea_8b49_54bf6444d85arow5_col1\" class=\"data row5 col1\" >0.025300</td>\n",
       "                        <td id=\"T_f2cf7bc8_8d06_11ea_8b49_54bf6444d85arow5_col2\" class=\"data row5 col2\" >0.001100</td>\n",
       "                        <td id=\"T_f2cf7bc8_8d06_11ea_8b49_54bf6444d85arow5_col3\" class=\"data row5 col3\" >0.032500</td>\n",
       "                        <td id=\"T_f2cf7bc8_8d06_11ea_8b49_54bf6444d85arow5_col4\" class=\"data row5 col4\" >0.466800</td>\n",
       "                        <td id=\"T_f2cf7bc8_8d06_11ea_8b49_54bf6444d85arow5_col5\" class=\"data row5 col5\" >0.028800</td>\n",
       "                        <td id=\"T_f2cf7bc8_8d06_11ea_8b49_54bf6444d85arow5_col6\" class=\"data row5 col6\" >1.226100</td>\n",
       "            </tr>\n",
       "            <tr>\n",
       "                        <th id=\"T_f2cf7bc8_8d06_11ea_8b49_54bf6444d85alevel0_row6\" class=\"row_heading level0 row6\" >6</th>\n",
       "                        <td id=\"T_f2cf7bc8_8d06_11ea_8b49_54bf6444d85arow6_col0\" class=\"data row6 col0\" >Extreme Gradient Boosting</td>\n",
       "                        <td id=\"T_f2cf7bc8_8d06_11ea_8b49_54bf6444d85arow6_col1\" class=\"data row6 col1\" >0.025400</td>\n",
       "                        <td id=\"T_f2cf7bc8_8d06_11ea_8b49_54bf6444d85arow6_col2\" class=\"data row6 col2\" >0.001100</td>\n",
       "                        <td id=\"T_f2cf7bc8_8d06_11ea_8b49_54bf6444d85arow6_col3\" class=\"data row6 col3\" >0.032700</td>\n",
       "                        <td id=\"T_f2cf7bc8_8d06_11ea_8b49_54bf6444d85arow6_col4\" class=\"data row6 col4\" >0.459300</td>\n",
       "                        <td id=\"T_f2cf7bc8_8d06_11ea_8b49_54bf6444d85arow6_col5\" class=\"data row6 col5\" >0.029100</td>\n",
       "                        <td id=\"T_f2cf7bc8_8d06_11ea_8b49_54bf6444d85arow6_col6\" class=\"data row6 col6\" >0.471600</td>\n",
       "            </tr>\n",
       "            <tr>\n",
       "                        <th id=\"T_f2cf7bc8_8d06_11ea_8b49_54bf6444d85alevel0_row7\" class=\"row_heading level0 row7\" >7</th>\n",
       "                        <td id=\"T_f2cf7bc8_8d06_11ea_8b49_54bf6444d85arow7_col0\" class=\"data row7 col0\" >AdaBoost Regressor</td>\n",
       "                        <td id=\"T_f2cf7bc8_8d06_11ea_8b49_54bf6444d85arow7_col1\" class=\"data row7 col1\" >0.031800</td>\n",
       "                        <td id=\"T_f2cf7bc8_8d06_11ea_8b49_54bf6444d85arow7_col2\" class=\"data row7 col2\" >0.001600</td>\n",
       "                        <td id=\"T_f2cf7bc8_8d06_11ea_8b49_54bf6444d85arow7_col3\" class=\"data row7 col3\" >0.039500</td>\n",
       "                        <td id=\"T_f2cf7bc8_8d06_11ea_8b49_54bf6444d85arow7_col4\" class=\"data row7 col4\" >0.211400</td>\n",
       "                        <td id=\"T_f2cf7bc8_8d06_11ea_8b49_54bf6444d85arow7_col5\" class=\"data row7 col5\" >0.035100</td>\n",
       "                        <td id=\"T_f2cf7bc8_8d06_11ea_8b49_54bf6444d85arow7_col6\" class=\"data row7 col6\" >0.630400</td>\n",
       "            </tr>\n",
       "            <tr>\n",
       "                        <th id=\"T_f2cf7bc8_8d06_11ea_8b49_54bf6444d85alevel0_row8\" class=\"row_heading level0 row8\" >8</th>\n",
       "                        <td id=\"T_f2cf7bc8_8d06_11ea_8b49_54bf6444d85arow8_col0\" class=\"data row8 col0\" >Bayesian Ridge</td>\n",
       "                        <td id=\"T_f2cf7bc8_8d06_11ea_8b49_54bf6444d85arow8_col1\" class=\"data row8 col1\" >0.033100</td>\n",
       "                        <td id=\"T_f2cf7bc8_8d06_11ea_8b49_54bf6444d85arow8_col2\" class=\"data row8 col2\" >0.001800</td>\n",
       "                        <td id=\"T_f2cf7bc8_8d06_11ea_8b49_54bf6444d85arow8_col3\" class=\"data row8 col3\" >0.042400</td>\n",
       "                        <td id=\"T_f2cf7bc8_8d06_11ea_8b49_54bf6444d85arow8_col4\" class=\"data row8 col4\" >0.094300</td>\n",
       "                        <td id=\"T_f2cf7bc8_8d06_11ea_8b49_54bf6444d85arow8_col5\" class=\"data row8 col5\" >0.035300</td>\n",
       "                        <td id=\"T_f2cf7bc8_8d06_11ea_8b49_54bf6444d85arow8_col6\" class=\"data row8 col6\" >1.343500</td>\n",
       "            </tr>\n",
       "            <tr>\n",
       "                        <th id=\"T_f2cf7bc8_8d06_11ea_8b49_54bf6444d85alevel0_row9\" class=\"row_heading level0 row9\" >9</th>\n",
       "                        <td id=\"T_f2cf7bc8_8d06_11ea_8b49_54bf6444d85arow9_col0\" class=\"data row9 col0\" >Ridge Regression</td>\n",
       "                        <td id=\"T_f2cf7bc8_8d06_11ea_8b49_54bf6444d85arow9_col1\" class=\"data row9 col1\" >0.033200</td>\n",
       "                        <td id=\"T_f2cf7bc8_8d06_11ea_8b49_54bf6444d85arow9_col2\" class=\"data row9 col2\" >0.001800</td>\n",
       "                        <td id=\"T_f2cf7bc8_8d06_11ea_8b49_54bf6444d85arow9_col3\" class=\"data row9 col3\" >0.042500</td>\n",
       "                        <td id=\"T_f2cf7bc8_8d06_11ea_8b49_54bf6444d85arow9_col4\" class=\"data row9 col4\" >0.086800</td>\n",
       "                        <td id=\"T_f2cf7bc8_8d06_11ea_8b49_54bf6444d85arow9_col5\" class=\"data row9 col5\" >0.036600</td>\n",
       "                        <td id=\"T_f2cf7bc8_8d06_11ea_8b49_54bf6444d85arow9_col6\" class=\"data row9 col6\" >1.005300</td>\n",
       "            </tr>\n",
       "            <tr>\n",
       "                        <th id=\"T_f2cf7bc8_8d06_11ea_8b49_54bf6444d85alevel0_row10\" class=\"row_heading level0 row10\" >10</th>\n",
       "                        <td id=\"T_f2cf7bc8_8d06_11ea_8b49_54bf6444d85arow10_col0\" class=\"data row10 col0\" >Orthogonal Matching Pursuit</td>\n",
       "                        <td id=\"T_f2cf7bc8_8d06_11ea_8b49_54bf6444d85arow10_col1\" class=\"data row10 col1\" >0.033600</td>\n",
       "                        <td id=\"T_f2cf7bc8_8d06_11ea_8b49_54bf6444d85arow10_col2\" class=\"data row10 col2\" >0.001800</td>\n",
       "                        <td id=\"T_f2cf7bc8_8d06_11ea_8b49_54bf6444d85arow10_col3\" class=\"data row10 col3\" >0.042900</td>\n",
       "                        <td id=\"T_f2cf7bc8_8d06_11ea_8b49_54bf6444d85arow10_col4\" class=\"data row10 col4\" >0.070100</td>\n",
       "                        <td id=\"T_f2cf7bc8_8d06_11ea_8b49_54bf6444d85arow10_col5\" class=\"data row10 col5\" >0.035100</td>\n",
       "                        <td id=\"T_f2cf7bc8_8d06_11ea_8b49_54bf6444d85arow10_col6\" class=\"data row10 col6\" >1.578900</td>\n",
       "            </tr>\n",
       "            <tr>\n",
       "                        <th id=\"T_f2cf7bc8_8d06_11ea_8b49_54bf6444d85alevel0_row11\" class=\"row_heading level0 row11\" >11</th>\n",
       "                        <td id=\"T_f2cf7bc8_8d06_11ea_8b49_54bf6444d85arow11_col0\" class=\"data row11 col0\" >Linear Regression</td>\n",
       "                        <td id=\"T_f2cf7bc8_8d06_11ea_8b49_54bf6444d85arow11_col1\" class=\"data row11 col1\" >0.034000</td>\n",
       "                        <td id=\"T_f2cf7bc8_8d06_11ea_8b49_54bf6444d85arow11_col2\" class=\"data row11 col2\" >0.001900</td>\n",
       "                        <td id=\"T_f2cf7bc8_8d06_11ea_8b49_54bf6444d85arow11_col3\" class=\"data row11 col3\" >0.043300</td>\n",
       "                        <td id=\"T_f2cf7bc8_8d06_11ea_8b49_54bf6444d85arow11_col4\" class=\"data row11 col4\" >0.050800</td>\n",
       "                        <td id=\"T_f2cf7bc8_8d06_11ea_8b49_54bf6444d85arow11_col5\" class=\"data row11 col5\" >0.033300</td>\n",
       "                        <td id=\"T_f2cf7bc8_8d06_11ea_8b49_54bf6444d85arow11_col6\" class=\"data row11 col6\" >0.810700</td>\n",
       "            </tr>\n",
       "            <tr>\n",
       "                        <th id=\"T_f2cf7bc8_8d06_11ea_8b49_54bf6444d85alevel0_row12\" class=\"row_heading level0 row12\" >12</th>\n",
       "                        <td id=\"T_f2cf7bc8_8d06_11ea_8b49_54bf6444d85arow12_col0\" class=\"data row12 col0\" >Huber Regressor</td>\n",
       "                        <td id=\"T_f2cf7bc8_8d06_11ea_8b49_54bf6444d85arow12_col1\" class=\"data row12 col1\" >0.033100</td>\n",
       "                        <td id=\"T_f2cf7bc8_8d06_11ea_8b49_54bf6444d85arow12_col2\" class=\"data row12 col2\" >0.001900</td>\n",
       "                        <td id=\"T_f2cf7bc8_8d06_11ea_8b49_54bf6444d85arow12_col3\" class=\"data row12 col3\" >0.043500</td>\n",
       "                        <td id=\"T_f2cf7bc8_8d06_11ea_8b49_54bf6444d85arow12_col4\" class=\"data row12 col4\" >0.044100</td>\n",
       "                        <td id=\"T_f2cf7bc8_8d06_11ea_8b49_54bf6444d85arow12_col5\" class=\"data row12 col5\" >0.033500</td>\n",
       "                        <td id=\"T_f2cf7bc8_8d06_11ea_8b49_54bf6444d85arow12_col6\" class=\"data row12 col6\" >1.041100</td>\n",
       "            </tr>\n",
       "            <tr>\n",
       "                        <th id=\"T_f2cf7bc8_8d06_11ea_8b49_54bf6444d85alevel0_row13\" class=\"row_heading level0 row13\" >13</th>\n",
       "                        <td id=\"T_f2cf7bc8_8d06_11ea_8b49_54bf6444d85arow13_col0\" class=\"data row13 col0\" >Support Vector Machine</td>\n",
       "                        <td id=\"T_f2cf7bc8_8d06_11ea_8b49_54bf6444d85arow13_col1\" class=\"data row13 col1\" >0.035200</td>\n",
       "                        <td id=\"T_f2cf7bc8_8d06_11ea_8b49_54bf6444d85arow13_col2\" class=\"data row13 col2\" >0.001900</td>\n",
       "                        <td id=\"T_f2cf7bc8_8d06_11ea_8b49_54bf6444d85arow13_col3\" class=\"data row13 col3\" >0.043600</td>\n",
       "                        <td id=\"T_f2cf7bc8_8d06_11ea_8b49_54bf6444d85arow13_col4\" class=\"data row13 col4\" >0.038500</td>\n",
       "                        <td id=\"T_f2cf7bc8_8d06_11ea_8b49_54bf6444d85arow13_col5\" class=\"data row13 col5\" >0.034200</td>\n",
       "                        <td id=\"T_f2cf7bc8_8d06_11ea_8b49_54bf6444d85arow13_col6\" class=\"data row13 col6\" >2.608400</td>\n",
       "            </tr>\n",
       "            <tr>\n",
       "                        <th id=\"T_f2cf7bc8_8d06_11ea_8b49_54bf6444d85alevel0_row14\" class=\"row_heading level0 row14\" >14</th>\n",
       "                        <td id=\"T_f2cf7bc8_8d06_11ea_8b49_54bf6444d85arow14_col0\" class=\"data row14 col0\" >Decision Tree</td>\n",
       "                        <td id=\"T_f2cf7bc8_8d06_11ea_8b49_54bf6444d85arow14_col1\" class=\"data row14 col1\" >0.029800</td>\n",
       "                        <td id=\"T_f2cf7bc8_8d06_11ea_8b49_54bf6444d85arow14_col2\" class=\"data row14 col2\" >0.001900</td>\n",
       "                        <td id=\"T_f2cf7bc8_8d06_11ea_8b49_54bf6444d85arow14_col3\" class=\"data row14 col3\" >0.043500</td>\n",
       "                        <td id=\"T_f2cf7bc8_8d06_11ea_8b49_54bf6444d85arow14_col4\" class=\"data row14 col4\" >0.024800</td>\n",
       "                        <td id=\"T_f2cf7bc8_8d06_11ea_8b49_54bf6444d85arow14_col5\" class=\"data row14 col5\" >0.028200</td>\n",
       "                        <td id=\"T_f2cf7bc8_8d06_11ea_8b49_54bf6444d85arow14_col6\" class=\"data row14 col6\" >3.723200</td>\n",
       "            </tr>\n",
       "            <tr>\n",
       "                        <th id=\"T_f2cf7bc8_8d06_11ea_8b49_54bf6444d85alevel0_row15\" class=\"row_heading level0 row15\" >15</th>\n",
       "                        <td id=\"T_f2cf7bc8_8d06_11ea_8b49_54bf6444d85arow15_col0\" class=\"data row15 col0\" >TheilSen Regressor</td>\n",
       "                        <td id=\"T_f2cf7bc8_8d06_11ea_8b49_54bf6444d85arow15_col1\" class=\"data row15 col1\" >0.034300</td>\n",
       "                        <td id=\"T_f2cf7bc8_8d06_11ea_8b49_54bf6444d85arow15_col2\" class=\"data row15 col2\" >0.001900</td>\n",
       "                        <td id=\"T_f2cf7bc8_8d06_11ea_8b49_54bf6444d85arow15_col3\" class=\"data row15 col3\" >0.043900</td>\n",
       "                        <td id=\"T_f2cf7bc8_8d06_11ea_8b49_54bf6444d85arow15_col4\" class=\"data row15 col4\" >0.023500</td>\n",
       "                        <td id=\"T_f2cf7bc8_8d06_11ea_8b49_54bf6444d85arow15_col5\" class=\"data row15 col5\" >0.033400</td>\n",
       "                        <td id=\"T_f2cf7bc8_8d06_11ea_8b49_54bf6444d85arow15_col6\" class=\"data row15 col6\" >1.701800</td>\n",
       "            </tr>\n",
       "            <tr>\n",
       "                        <th id=\"T_f2cf7bc8_8d06_11ea_8b49_54bf6444d85alevel0_row16\" class=\"row_heading level0 row16\" >16</th>\n",
       "                        <td id=\"T_f2cf7bc8_8d06_11ea_8b49_54bf6444d85arow16_col0\" class=\"data row16 col0\" >Lasso Regression</td>\n",
       "                        <td id=\"T_f2cf7bc8_8d06_11ea_8b49_54bf6444d85arow16_col1\" class=\"data row16 col1\" >0.035000</td>\n",
       "                        <td id=\"T_f2cf7bc8_8d06_11ea_8b49_54bf6444d85arow16_col2\" class=\"data row16 col2\" >0.002000</td>\n",
       "                        <td id=\"T_f2cf7bc8_8d06_11ea_8b49_54bf6444d85arow16_col3\" class=\"data row16 col3\" >0.044600</td>\n",
       "                        <td id=\"T_f2cf7bc8_8d06_11ea_8b49_54bf6444d85arow16_col4\" class=\"data row16 col4\" >-0.003700</td>\n",
       "                        <td id=\"T_f2cf7bc8_8d06_11ea_8b49_54bf6444d85arow16_col5\" class=\"data row16 col5\" >0.040000</td>\n",
       "                        <td id=\"T_f2cf7bc8_8d06_11ea_8b49_54bf6444d85arow16_col6\" class=\"data row16 col6\" >0.437500</td>\n",
       "            </tr>\n",
       "            <tr>\n",
       "                        <th id=\"T_f2cf7bc8_8d06_11ea_8b49_54bf6444d85alevel0_row17\" class=\"row_heading level0 row17\" >17</th>\n",
       "                        <td id=\"T_f2cf7bc8_8d06_11ea_8b49_54bf6444d85arow17_col0\" class=\"data row17 col0\" >Elastic Net</td>\n",
       "                        <td id=\"T_f2cf7bc8_8d06_11ea_8b49_54bf6444d85arow17_col1\" class=\"data row17 col1\" >0.035000</td>\n",
       "                        <td id=\"T_f2cf7bc8_8d06_11ea_8b49_54bf6444d85arow17_col2\" class=\"data row17 col2\" >0.002000</td>\n",
       "                        <td id=\"T_f2cf7bc8_8d06_11ea_8b49_54bf6444d85arow17_col3\" class=\"data row17 col3\" >0.044600</td>\n",
       "                        <td id=\"T_f2cf7bc8_8d06_11ea_8b49_54bf6444d85arow17_col4\" class=\"data row17 col4\" >-0.003700</td>\n",
       "                        <td id=\"T_f2cf7bc8_8d06_11ea_8b49_54bf6444d85arow17_col5\" class=\"data row17 col5\" >0.040000</td>\n",
       "                        <td id=\"T_f2cf7bc8_8d06_11ea_8b49_54bf6444d85arow17_col6\" class=\"data row17 col6\" >0.437500</td>\n",
       "            </tr>\n",
       "            <tr>\n",
       "                        <th id=\"T_f2cf7bc8_8d06_11ea_8b49_54bf6444d85alevel0_row18\" class=\"row_heading level0 row18\" >18</th>\n",
       "                        <td id=\"T_f2cf7bc8_8d06_11ea_8b49_54bf6444d85arow18_col0\" class=\"data row18 col0\" >Lasso Least Angle Regression</td>\n",
       "                        <td id=\"T_f2cf7bc8_8d06_11ea_8b49_54bf6444d85arow18_col1\" class=\"data row18 col1\" >0.035000</td>\n",
       "                        <td id=\"T_f2cf7bc8_8d06_11ea_8b49_54bf6444d85arow18_col2\" class=\"data row18 col2\" >0.002000</td>\n",
       "                        <td id=\"T_f2cf7bc8_8d06_11ea_8b49_54bf6444d85arow18_col3\" class=\"data row18 col3\" >0.044600</td>\n",
       "                        <td id=\"T_f2cf7bc8_8d06_11ea_8b49_54bf6444d85arow18_col4\" class=\"data row18 col4\" >-0.003700</td>\n",
       "                        <td id=\"T_f2cf7bc8_8d06_11ea_8b49_54bf6444d85arow18_col5\" class=\"data row18 col5\" >0.040000</td>\n",
       "                        <td id=\"T_f2cf7bc8_8d06_11ea_8b49_54bf6444d85arow18_col6\" class=\"data row18 col6\" >0.437500</td>\n",
       "            </tr>\n",
       "            <tr>\n",
       "                        <th id=\"T_f2cf7bc8_8d06_11ea_8b49_54bf6444d85alevel0_row19\" class=\"row_heading level0 row19\" >19</th>\n",
       "                        <td id=\"T_f2cf7bc8_8d06_11ea_8b49_54bf6444d85arow19_col0\" class=\"data row19 col0\" >Random Sample Consensus</td>\n",
       "                        <td id=\"T_f2cf7bc8_8d06_11ea_8b49_54bf6444d85arow19_col1\" class=\"data row19 col1\" >0.034400</td>\n",
       "                        <td id=\"T_f2cf7bc8_8d06_11ea_8b49_54bf6444d85arow19_col2\" class=\"data row19 col2\" >0.002000</td>\n",
       "                        <td id=\"T_f2cf7bc8_8d06_11ea_8b49_54bf6444d85arow19_col3\" class=\"data row19 col3\" >0.045100</td>\n",
       "                        <td id=\"T_f2cf7bc8_8d06_11ea_8b49_54bf6444d85arow19_col4\" class=\"data row19 col4\" >-0.033200</td>\n",
       "                        <td id=\"T_f2cf7bc8_8d06_11ea_8b49_54bf6444d85arow19_col5\" class=\"data row19 col5\" >0.032400</td>\n",
       "                        <td id=\"T_f2cf7bc8_8d06_11ea_8b49_54bf6444d85arow19_col6\" class=\"data row19 col6\" >0.956800</td>\n",
       "            </tr>\n",
       "            <tr>\n",
       "                        <th id=\"T_f2cf7bc8_8d06_11ea_8b49_54bf6444d85alevel0_row20\" class=\"row_heading level0 row20\" >20</th>\n",
       "                        <td id=\"T_f2cf7bc8_8d06_11ea_8b49_54bf6444d85arow20_col0\" class=\"data row20 col0\" >Least Angle Regression</td>\n",
       "                        <td id=\"T_f2cf7bc8_8d06_11ea_8b49_54bf6444d85arow20_col1\" class=\"data row20 col1\" >0.093400</td>\n",
       "                        <td id=\"T_f2cf7bc8_8d06_11ea_8b49_54bf6444d85arow20_col2\" class=\"data row20 col2\" >0.049300</td>\n",
       "                        <td id=\"T_f2cf7bc8_8d06_11ea_8b49_54bf6444d85arow20_col3\" class=\"data row20 col3\" >0.117000</td>\n",
       "                        <td id=\"T_f2cf7bc8_8d06_11ea_8b49_54bf6444d85arow20_col4\" class=\"data row20 col4\" >-22.581700</td>\n",
       "                        <td id=\"T_f2cf7bc8_8d06_11ea_8b49_54bf6444d85arow20_col5\" class=\"data row20 col5\" >0.076300</td>\n",
       "                        <td id=\"T_f2cf7bc8_8d06_11ea_8b49_54bf6444d85arow20_col6\" class=\"data row20 col6\" >0.448300</td>\n",
       "            </tr>\n",
       "            <tr>\n",
       "                        <th id=\"T_f2cf7bc8_8d06_11ea_8b49_54bf6444d85alevel0_row21\" class=\"row_heading level0 row21\" >21</th>\n",
       "                        <td id=\"T_f2cf7bc8_8d06_11ea_8b49_54bf6444d85arow21_col0\" class=\"data row21 col0\" >Passive Aggressive Regressor</td>\n",
       "                        <td id=\"T_f2cf7bc8_8d06_11ea_8b49_54bf6444d85arow21_col1\" class=\"data row21 col1\" >0.453800</td>\n",
       "                        <td id=\"T_f2cf7bc8_8d06_11ea_8b49_54bf6444d85arow21_col2\" class=\"data row21 col2\" >0.299300</td>\n",
       "                        <td id=\"T_f2cf7bc8_8d06_11ea_8b49_54bf6444d85arow21_col3\" class=\"data row21 col3\" >0.505500</td>\n",
       "                        <td id=\"T_f2cf7bc8_8d06_11ea_8b49_54bf6444d85arow21_col4\" class=\"data row21 col4\" >-151.279800</td>\n",
       "                        <td id=\"T_f2cf7bc8_8d06_11ea_8b49_54bf6444d85arow21_col5\" class=\"data row21 col5\" >0.354500</td>\n",
       "                        <td id=\"T_f2cf7bc8_8d06_11ea_8b49_54bf6444d85arow21_col6\" class=\"data row21 col6\" >32.551900</td>\n",
       "            </tr>\n",
       "    </tbody></table>"
      ],
      "text/plain": [
       "<pandas.io.formats.style.Styler at 0x1f0c90f6388>"
      ]
     },
     "execution_count": 6,
     "metadata": {},
     "output_type": "execute_result"
    }
   ],
   "source": [
    "compare_models()"
   ]
  },
  {
   "cell_type": "markdown",
   "metadata": {},
   "source": [
    "## Create a Model"
   ]
  },
  {
   "cell_type": "markdown",
   "metadata": {},
   "source": [
    "## AdaBoost Regressor"
   ]
  },
  {
   "cell_type": "code",
   "execution_count": 7,
   "metadata": {},
   "outputs": [
    {
     "data": {
      "text/html": [
       "<div>\n",
       "<style scoped>\n",
       "    .dataframe tbody tr th:only-of-type {\n",
       "        vertical-align: middle;\n",
       "    }\n",
       "\n",
       "    .dataframe tbody tr th {\n",
       "        vertical-align: top;\n",
       "    }\n",
       "\n",
       "    .dataframe thead th {\n",
       "        text-align: right;\n",
       "    }\n",
       "</style>\n",
       "<table border=\"1\" class=\"dataframe\">\n",
       "  <thead>\n",
       "    <tr style=\"text-align: right;\">\n",
       "      <th></th>\n",
       "      <th>MAE</th>\n",
       "      <th>MSE</th>\n",
       "      <th>RMSE</th>\n",
       "      <th>R2</th>\n",
       "      <th>RMSLE</th>\n",
       "      <th>MAPE</th>\n",
       "    </tr>\n",
       "  </thead>\n",
       "  <tbody>\n",
       "    <tr>\n",
       "      <th>0</th>\n",
       "      <td>0.0319</td>\n",
       "      <td>0.0016</td>\n",
       "      <td>0.0400</td>\n",
       "      <td>0.2756</td>\n",
       "      <td>0.0340</td>\n",
       "      <td>0.0213</td>\n",
       "    </tr>\n",
       "    <tr>\n",
       "      <th>1</th>\n",
       "      <td>0.0302</td>\n",
       "      <td>0.0015</td>\n",
       "      <td>0.0384</td>\n",
       "      <td>0.2291</td>\n",
       "      <td>0.0341</td>\n",
       "      <td>0.0529</td>\n",
       "    </tr>\n",
       "    <tr>\n",
       "      <th>2</th>\n",
       "      <td>0.0325</td>\n",
       "      <td>0.0016</td>\n",
       "      <td>0.0399</td>\n",
       "      <td>0.2565</td>\n",
       "      <td>0.0368</td>\n",
       "      <td>0.3228</td>\n",
       "    </tr>\n",
       "    <tr>\n",
       "      <th>3</th>\n",
       "      <td>0.0322</td>\n",
       "      <td>0.0017</td>\n",
       "      <td>0.0409</td>\n",
       "      <td>0.2146</td>\n",
       "      <td>0.0365</td>\n",
       "      <td>-0.1265</td>\n",
       "    </tr>\n",
       "    <tr>\n",
       "      <th>4</th>\n",
       "      <td>0.0310</td>\n",
       "      <td>0.0015</td>\n",
       "      <td>0.0390</td>\n",
       "      <td>0.2185</td>\n",
       "      <td>0.0353</td>\n",
       "      <td>2.3920</td>\n",
       "    </tr>\n",
       "    <tr>\n",
       "      <th>5</th>\n",
       "      <td>0.0317</td>\n",
       "      <td>0.0016</td>\n",
       "      <td>0.0394</td>\n",
       "      <td>0.1784</td>\n",
       "      <td>0.0339</td>\n",
       "      <td>6.7535</td>\n",
       "    </tr>\n",
       "    <tr>\n",
       "      <th>6</th>\n",
       "      <td>0.0304</td>\n",
       "      <td>0.0014</td>\n",
       "      <td>0.0373</td>\n",
       "      <td>0.2732</td>\n",
       "      <td>0.0334</td>\n",
       "      <td>0.3607</td>\n",
       "    </tr>\n",
       "    <tr>\n",
       "      <th>7</th>\n",
       "      <td>0.0347</td>\n",
       "      <td>0.0018</td>\n",
       "      <td>0.0420</td>\n",
       "      <td>0.1611</td>\n",
       "      <td>0.0368</td>\n",
       "      <td>-0.3333</td>\n",
       "    </tr>\n",
       "    <tr>\n",
       "      <th>8</th>\n",
       "      <td>0.0329</td>\n",
       "      <td>0.0017</td>\n",
       "      <td>0.0409</td>\n",
       "      <td>0.1681</td>\n",
       "      <td>0.0376</td>\n",
       "      <td>-0.2830</td>\n",
       "    </tr>\n",
       "    <tr>\n",
       "      <th>9</th>\n",
       "      <td>0.0303</td>\n",
       "      <td>0.0014</td>\n",
       "      <td>0.0374</td>\n",
       "      <td>0.1392</td>\n",
       "      <td>0.0323</td>\n",
       "      <td>-2.8565</td>\n",
       "    </tr>\n",
       "    <tr>\n",
       "      <th>Mean</th>\n",
       "      <td>0.0318</td>\n",
       "      <td>0.0016</td>\n",
       "      <td>0.0395</td>\n",
       "      <td>0.2114</td>\n",
       "      <td>0.0351</td>\n",
       "      <td>0.6304</td>\n",
       "    </tr>\n",
       "    <tr>\n",
       "      <th>SD</th>\n",
       "      <td>0.0013</td>\n",
       "      <td>0.0001</td>\n",
       "      <td>0.0015</td>\n",
       "      <td>0.0459</td>\n",
       "      <td>0.0017</td>\n",
       "      <td>2.3656</td>\n",
       "    </tr>\n",
       "  </tbody>\n",
       "</table>\n",
       "</div>"
      ],
      "text/plain": [
       "         MAE     MSE    RMSE      R2   RMSLE    MAPE\n",
       "0     0.0319  0.0016  0.0400  0.2756  0.0340  0.0213\n",
       "1     0.0302  0.0015  0.0384  0.2291  0.0341  0.0529\n",
       "2     0.0325  0.0016  0.0399  0.2565  0.0368  0.3228\n",
       "3     0.0322  0.0017  0.0409  0.2146  0.0365 -0.1265\n",
       "4     0.0310  0.0015  0.0390  0.2185  0.0353  2.3920\n",
       "5     0.0317  0.0016  0.0394  0.1784  0.0339  6.7535\n",
       "6     0.0304  0.0014  0.0373  0.2732  0.0334  0.3607\n",
       "7     0.0347  0.0018  0.0420  0.1611  0.0368 -0.3333\n",
       "8     0.0329  0.0017  0.0409  0.1681  0.0376 -0.2830\n",
       "9     0.0303  0.0014  0.0374  0.1392  0.0323 -2.8565\n",
       "Mean  0.0318  0.0016  0.0395  0.2114  0.0351  0.6304\n",
       "SD    0.0013  0.0001  0.0015  0.0459  0.0017  2.3656"
      ]
     },
     "metadata": {},
     "output_type": "display_data"
    },
    {
     "name": "stdout",
     "output_type": "stream",
     "text": [
      "AdaBoostRegressor(base_estimator=None, learning_rate=1.0, loss='linear',\n",
      "                  n_estimators=50, random_state=123)\n"
     ]
    }
   ],
   "source": [
    "ada = create_model('ada')\n",
    "print(ada)"
   ]
  },
  {
   "cell_type": "markdown",
   "metadata": {},
   "source": [
    "## Light Gradient Boosting Machine"
   ]
  },
  {
   "cell_type": "code",
   "execution_count": 8,
   "metadata": {},
   "outputs": [
    {
     "data": {
      "text/html": [
       "<div>\n",
       "<style scoped>\n",
       "    .dataframe tbody tr th:only-of-type {\n",
       "        vertical-align: middle;\n",
       "    }\n",
       "\n",
       "    .dataframe tbody tr th {\n",
       "        vertical-align: top;\n",
       "    }\n",
       "\n",
       "    .dataframe thead th {\n",
       "        text-align: right;\n",
       "    }\n",
       "</style>\n",
       "<table border=\"1\" class=\"dataframe\">\n",
       "  <thead>\n",
       "    <tr style=\"text-align: right;\">\n",
       "      <th></th>\n",
       "      <th>MAE</th>\n",
       "      <th>MSE</th>\n",
       "      <th>RMSE</th>\n",
       "      <th>R2</th>\n",
       "      <th>RMSLE</th>\n",
       "      <th>MAPE</th>\n",
       "    </tr>\n",
       "  </thead>\n",
       "  <tbody>\n",
       "    <tr>\n",
       "      <th>0</th>\n",
       "      <td>0.0196</td>\n",
       "      <td>0.0006</td>\n",
       "      <td>0.0254</td>\n",
       "      <td>0.7083</td>\n",
       "      <td>0.0221</td>\n",
       "      <td>0.1801</td>\n",
       "    </tr>\n",
       "    <tr>\n",
       "      <th>1</th>\n",
       "      <td>0.0179</td>\n",
       "      <td>0.0006</td>\n",
       "      <td>0.0244</td>\n",
       "      <td>0.6884</td>\n",
       "      <td>0.0222</td>\n",
       "      <td>-0.1894</td>\n",
       "    </tr>\n",
       "    <tr>\n",
       "      <th>2</th>\n",
       "      <td>0.0194</td>\n",
       "      <td>0.0006</td>\n",
       "      <td>0.0250</td>\n",
       "      <td>0.7081</td>\n",
       "      <td>0.0214</td>\n",
       "      <td>0.8060</td>\n",
       "    </tr>\n",
       "    <tr>\n",
       "      <th>3</th>\n",
       "      <td>0.0198</td>\n",
       "      <td>0.0009</td>\n",
       "      <td>0.0298</td>\n",
       "      <td>0.5822</td>\n",
       "      <td>0.0261</td>\n",
       "      <td>0.4106</td>\n",
       "    </tr>\n",
       "    <tr>\n",
       "      <th>4</th>\n",
       "      <td>0.0211</td>\n",
       "      <td>0.0008</td>\n",
       "      <td>0.0290</td>\n",
       "      <td>0.5689</td>\n",
       "      <td>0.0253</td>\n",
       "      <td>-0.0122</td>\n",
       "    </tr>\n",
       "    <tr>\n",
       "      <th>5</th>\n",
       "      <td>0.0203</td>\n",
       "      <td>0.0007</td>\n",
       "      <td>0.0268</td>\n",
       "      <td>0.6207</td>\n",
       "      <td>0.0238</td>\n",
       "      <td>6.2250</td>\n",
       "    </tr>\n",
       "    <tr>\n",
       "      <th>6</th>\n",
       "      <td>0.0191</td>\n",
       "      <td>0.0007</td>\n",
       "      <td>0.0257</td>\n",
       "      <td>0.6552</td>\n",
       "      <td>0.0232</td>\n",
       "      <td>1.4012</td>\n",
       "    </tr>\n",
       "    <tr>\n",
       "      <th>7</th>\n",
       "      <td>0.0194</td>\n",
       "      <td>0.0007</td>\n",
       "      <td>0.0259</td>\n",
       "      <td>0.6804</td>\n",
       "      <td>0.0231</td>\n",
       "      <td>-1.0525</td>\n",
       "    </tr>\n",
       "    <tr>\n",
       "      <th>8</th>\n",
       "      <td>0.0195</td>\n",
       "      <td>0.0007</td>\n",
       "      <td>0.0271</td>\n",
       "      <td>0.6340</td>\n",
       "      <td>0.0235</td>\n",
       "      <td>-0.5520</td>\n",
       "    </tr>\n",
       "    <tr>\n",
       "      <th>9</th>\n",
       "      <td>0.0200</td>\n",
       "      <td>0.0007</td>\n",
       "      <td>0.0266</td>\n",
       "      <td>0.5643</td>\n",
       "      <td>0.0232</td>\n",
       "      <td>1.2098</td>\n",
       "    </tr>\n",
       "    <tr>\n",
       "      <th>Mean</th>\n",
       "      <td>0.0196</td>\n",
       "      <td>0.0007</td>\n",
       "      <td>0.0266</td>\n",
       "      <td>0.6410</td>\n",
       "      <td>0.0234</td>\n",
       "      <td>0.8427</td>\n",
       "    </tr>\n",
       "    <tr>\n",
       "      <th>SD</th>\n",
       "      <td>0.0008</td>\n",
       "      <td>0.0001</td>\n",
       "      <td>0.0016</td>\n",
       "      <td>0.0529</td>\n",
       "      <td>0.0014</td>\n",
       "      <td>1.9333</td>\n",
       "    </tr>\n",
       "  </tbody>\n",
       "</table>\n",
       "</div>"
      ],
      "text/plain": [
       "         MAE     MSE    RMSE      R2   RMSLE    MAPE\n",
       "0     0.0196  0.0006  0.0254  0.7083  0.0221  0.1801\n",
       "1     0.0179  0.0006  0.0244  0.6884  0.0222 -0.1894\n",
       "2     0.0194  0.0006  0.0250  0.7081  0.0214  0.8060\n",
       "3     0.0198  0.0009  0.0298  0.5822  0.0261  0.4106\n",
       "4     0.0211  0.0008  0.0290  0.5689  0.0253 -0.0122\n",
       "5     0.0203  0.0007  0.0268  0.6207  0.0238  6.2250\n",
       "6     0.0191  0.0007  0.0257  0.6552  0.0232  1.4012\n",
       "7     0.0194  0.0007  0.0259  0.6804  0.0231 -1.0525\n",
       "8     0.0195  0.0007  0.0271  0.6340  0.0235 -0.5520\n",
       "9     0.0200  0.0007  0.0266  0.5643  0.0232  1.2098\n",
       "Mean  0.0196  0.0007  0.0266  0.6410  0.0234  0.8427\n",
       "SD    0.0008  0.0001  0.0016  0.0529  0.0014  1.9333"
      ]
     },
     "metadata": {},
     "output_type": "display_data"
    }
   ],
   "source": [
    "lightgbm = create_model('lightgbm')"
   ]
  },
  {
   "cell_type": "markdown",
   "metadata": {},
   "source": [
    "## Decision Tree"
   ]
  },
  {
   "cell_type": "code",
   "execution_count": 9,
   "metadata": {},
   "outputs": [
    {
     "data": {
      "text/html": [
       "<div>\n",
       "<style scoped>\n",
       "    .dataframe tbody tr th:only-of-type {\n",
       "        vertical-align: middle;\n",
       "    }\n",
       "\n",
       "    .dataframe tbody tr th {\n",
       "        vertical-align: top;\n",
       "    }\n",
       "\n",
       "    .dataframe thead th {\n",
       "        text-align: right;\n",
       "    }\n",
       "</style>\n",
       "<table border=\"1\" class=\"dataframe\">\n",
       "  <thead>\n",
       "    <tr style=\"text-align: right;\">\n",
       "      <th></th>\n",
       "      <th>MAE</th>\n",
       "      <th>MSE</th>\n",
       "      <th>RMSE</th>\n",
       "      <th>R2</th>\n",
       "      <th>RMSLE</th>\n",
       "      <th>MAPE</th>\n",
       "    </tr>\n",
       "  </thead>\n",
       "  <tbody>\n",
       "    <tr>\n",
       "      <th>0</th>\n",
       "      <td>0.0287</td>\n",
       "      <td>0.0015</td>\n",
       "      <td>0.0391</td>\n",
       "      <td>0.3078</td>\n",
       "      <td>0.0286</td>\n",
       "      <td>-0.6157</td>\n",
       "    </tr>\n",
       "    <tr>\n",
       "      <th>1</th>\n",
       "      <td>0.0316</td>\n",
       "      <td>0.0024</td>\n",
       "      <td>0.0490</td>\n",
       "      <td>-0.2531</td>\n",
       "      <td>0.0296</td>\n",
       "      <td>-0.4763</td>\n",
       "    </tr>\n",
       "    <tr>\n",
       "      <th>2</th>\n",
       "      <td>0.0256</td>\n",
       "      <td>0.0013</td>\n",
       "      <td>0.0363</td>\n",
       "      <td>0.3859</td>\n",
       "      <td>0.0238</td>\n",
       "      <td>0.7485</td>\n",
       "    </tr>\n",
       "    <tr>\n",
       "      <th>3</th>\n",
       "      <td>0.0314</td>\n",
       "      <td>0.0026</td>\n",
       "      <td>0.0506</td>\n",
       "      <td>-0.2031</td>\n",
       "      <td>0.0292</td>\n",
       "      <td>7.5023</td>\n",
       "    </tr>\n",
       "    <tr>\n",
       "      <th>4</th>\n",
       "      <td>0.0358</td>\n",
       "      <td>0.0027</td>\n",
       "      <td>0.0517</td>\n",
       "      <td>-0.3728</td>\n",
       "      <td>0.0322</td>\n",
       "      <td>12.0430</td>\n",
       "    </tr>\n",
       "    <tr>\n",
       "      <th>5</th>\n",
       "      <td>0.0287</td>\n",
       "      <td>0.0018</td>\n",
       "      <td>0.0424</td>\n",
       "      <td>0.0516</td>\n",
       "      <td>0.0294</td>\n",
       "      <td>16.8127</td>\n",
       "    </tr>\n",
       "    <tr>\n",
       "      <th>6</th>\n",
       "      <td>0.0292</td>\n",
       "      <td>0.0019</td>\n",
       "      <td>0.0433</td>\n",
       "      <td>0.0174</td>\n",
       "      <td>0.0288</td>\n",
       "      <td>3.3274</td>\n",
       "    </tr>\n",
       "    <tr>\n",
       "      <th>7</th>\n",
       "      <td>0.0302</td>\n",
       "      <td>0.0019</td>\n",
       "      <td>0.0432</td>\n",
       "      <td>0.1129</td>\n",
       "      <td>0.0262</td>\n",
       "      <td>-2.6184</td>\n",
       "    </tr>\n",
       "    <tr>\n",
       "      <th>8</th>\n",
       "      <td>0.0259</td>\n",
       "      <td>0.0014</td>\n",
       "      <td>0.0369</td>\n",
       "      <td>0.3226</td>\n",
       "      <td>0.0265</td>\n",
       "      <td>-1.0050</td>\n",
       "    </tr>\n",
       "    <tr>\n",
       "      <th>9</th>\n",
       "      <td>0.0306</td>\n",
       "      <td>0.0018</td>\n",
       "      <td>0.0426</td>\n",
       "      <td>-0.1212</td>\n",
       "      <td>0.0275</td>\n",
       "      <td>1.5135</td>\n",
       "    </tr>\n",
       "    <tr>\n",
       "      <th>Mean</th>\n",
       "      <td>0.0298</td>\n",
       "      <td>0.0019</td>\n",
       "      <td>0.0435</td>\n",
       "      <td>0.0248</td>\n",
       "      <td>0.0282</td>\n",
       "      <td>3.7232</td>\n",
       "    </tr>\n",
       "    <tr>\n",
       "      <th>SD</th>\n",
       "      <td>0.0028</td>\n",
       "      <td>0.0005</td>\n",
       "      <td>0.0051</td>\n",
       "      <td>0.2482</td>\n",
       "      <td>0.0022</td>\n",
       "      <td>6.0643</td>\n",
       "    </tr>\n",
       "  </tbody>\n",
       "</table>\n",
       "</div>"
      ],
      "text/plain": [
       "         MAE     MSE    RMSE      R2   RMSLE     MAPE\n",
       "0     0.0287  0.0015  0.0391  0.3078  0.0286  -0.6157\n",
       "1     0.0316  0.0024  0.0490 -0.2531  0.0296  -0.4763\n",
       "2     0.0256  0.0013  0.0363  0.3859  0.0238   0.7485\n",
       "3     0.0314  0.0026  0.0506 -0.2031  0.0292   7.5023\n",
       "4     0.0358  0.0027  0.0517 -0.3728  0.0322  12.0430\n",
       "5     0.0287  0.0018  0.0424  0.0516  0.0294  16.8127\n",
       "6     0.0292  0.0019  0.0433  0.0174  0.0288   3.3274\n",
       "7     0.0302  0.0019  0.0432  0.1129  0.0262  -2.6184\n",
       "8     0.0259  0.0014  0.0369  0.3226  0.0265  -1.0050\n",
       "9     0.0306  0.0018  0.0426 -0.1212  0.0275   1.5135\n",
       "Mean  0.0298  0.0019  0.0435  0.0248  0.0282   3.7232\n",
       "SD    0.0028  0.0005  0.0051  0.2482  0.0022   6.0643"
      ]
     },
     "metadata": {},
     "output_type": "display_data"
    }
   ],
   "source": [
    "dt = create_model('dt')"
   ]
  },
  {
   "cell_type": "markdown",
   "metadata": {},
   "source": [
    "## Tune a Model"
   ]
  },
  {
   "cell_type": "markdown",
   "metadata": {},
   "source": [
    "## AdaBoost Regressor"
   ]
  },
  {
   "cell_type": "code",
   "execution_count": 10,
   "metadata": {},
   "outputs": [
    {
     "data": {
      "text/html": [
       "<div>\n",
       "<style scoped>\n",
       "    .dataframe tbody tr th:only-of-type {\n",
       "        vertical-align: middle;\n",
       "    }\n",
       "\n",
       "    .dataframe tbody tr th {\n",
       "        vertical-align: top;\n",
       "    }\n",
       "\n",
       "    .dataframe thead th {\n",
       "        text-align: right;\n",
       "    }\n",
       "</style>\n",
       "<table border=\"1\" class=\"dataframe\">\n",
       "  <thead>\n",
       "    <tr style=\"text-align: right;\">\n",
       "      <th></th>\n",
       "      <th>MAE</th>\n",
       "      <th>MSE</th>\n",
       "      <th>RMSE</th>\n",
       "      <th>R2</th>\n",
       "      <th>RMSLE</th>\n",
       "      <th>MAPE</th>\n",
       "    </tr>\n",
       "  </thead>\n",
       "  <tbody>\n",
       "    <tr>\n",
       "      <th>0</th>\n",
       "      <td>0.0329</td>\n",
       "      <td>0.0016</td>\n",
       "      <td>0.0397</td>\n",
       "      <td>0.2869</td>\n",
       "      <td>0.0336</td>\n",
       "      <td>0.3388</td>\n",
       "    </tr>\n",
       "    <tr>\n",
       "      <th>1</th>\n",
       "      <td>0.0308</td>\n",
       "      <td>0.0015</td>\n",
       "      <td>0.0384</td>\n",
       "      <td>0.2281</td>\n",
       "      <td>0.0321</td>\n",
       "      <td>-0.2810</td>\n",
       "    </tr>\n",
       "    <tr>\n",
       "      <th>2</th>\n",
       "      <td>0.0320</td>\n",
       "      <td>0.0015</td>\n",
       "      <td>0.0390</td>\n",
       "      <td>0.2904</td>\n",
       "      <td>0.0350</td>\n",
       "      <td>0.6181</td>\n",
       "    </tr>\n",
       "    <tr>\n",
       "      <th>3</th>\n",
       "      <td>0.0310</td>\n",
       "      <td>0.0016</td>\n",
       "      <td>0.0399</td>\n",
       "      <td>0.2534</td>\n",
       "      <td>0.0353</td>\n",
       "      <td>0.6149</td>\n",
       "    </tr>\n",
       "    <tr>\n",
       "      <th>4</th>\n",
       "      <td>0.0302</td>\n",
       "      <td>0.0014</td>\n",
       "      <td>0.0372</td>\n",
       "      <td>0.2892</td>\n",
       "      <td>0.0321</td>\n",
       "      <td>2.0799</td>\n",
       "    </tr>\n",
       "    <tr>\n",
       "      <th>5</th>\n",
       "      <td>0.0321</td>\n",
       "      <td>0.0016</td>\n",
       "      <td>0.0396</td>\n",
       "      <td>0.1714</td>\n",
       "      <td>0.0332</td>\n",
       "      <td>4.2191</td>\n",
       "    </tr>\n",
       "    <tr>\n",
       "      <th>6</th>\n",
       "      <td>0.0301</td>\n",
       "      <td>0.0014</td>\n",
       "      <td>0.0369</td>\n",
       "      <td>0.2884</td>\n",
       "      <td>0.0324</td>\n",
       "      <td>0.2937</td>\n",
       "    </tr>\n",
       "    <tr>\n",
       "      <th>7</th>\n",
       "      <td>0.0336</td>\n",
       "      <td>0.0016</td>\n",
       "      <td>0.0406</td>\n",
       "      <td>0.2150</td>\n",
       "      <td>0.0338</td>\n",
       "      <td>-0.3238</td>\n",
       "    </tr>\n",
       "    <tr>\n",
       "      <th>8</th>\n",
       "      <td>0.0323</td>\n",
       "      <td>0.0016</td>\n",
       "      <td>0.0406</td>\n",
       "      <td>0.1806</td>\n",
       "      <td>0.0367</td>\n",
       "      <td>-0.3222</td>\n",
       "    </tr>\n",
       "    <tr>\n",
       "      <th>9</th>\n",
       "      <td>0.0297</td>\n",
       "      <td>0.0013</td>\n",
       "      <td>0.0360</td>\n",
       "      <td>0.2032</td>\n",
       "      <td>0.0312</td>\n",
       "      <td>-3.8280</td>\n",
       "    </tr>\n",
       "    <tr>\n",
       "      <th>Mean</th>\n",
       "      <td>0.0315</td>\n",
       "      <td>0.0015</td>\n",
       "      <td>0.0388</td>\n",
       "      <td>0.2407</td>\n",
       "      <td>0.0335</td>\n",
       "      <td>0.3410</td>\n",
       "    </tr>\n",
       "    <tr>\n",
       "      <th>SD</th>\n",
       "      <td>0.0013</td>\n",
       "      <td>0.0001</td>\n",
       "      <td>0.0015</td>\n",
       "      <td>0.0448</td>\n",
       "      <td>0.0016</td>\n",
       "      <td>1.9201</td>\n",
       "    </tr>\n",
       "  </tbody>\n",
       "</table>\n",
       "</div>"
      ],
      "text/plain": [
       "         MAE     MSE    RMSE      R2   RMSLE    MAPE\n",
       "0     0.0329  0.0016  0.0397  0.2869  0.0336  0.3388\n",
       "1     0.0308  0.0015  0.0384  0.2281  0.0321 -0.2810\n",
       "2     0.0320  0.0015  0.0390  0.2904  0.0350  0.6181\n",
       "3     0.0310  0.0016  0.0399  0.2534  0.0353  0.6149\n",
       "4     0.0302  0.0014  0.0372  0.2892  0.0321  2.0799\n",
       "5     0.0321  0.0016  0.0396  0.1714  0.0332  4.2191\n",
       "6     0.0301  0.0014  0.0369  0.2884  0.0324  0.2937\n",
       "7     0.0336  0.0016  0.0406  0.2150  0.0338 -0.3238\n",
       "8     0.0323  0.0016  0.0406  0.1806  0.0367 -0.3222\n",
       "9     0.0297  0.0013  0.0360  0.2032  0.0312 -3.8280\n",
       "Mean  0.0315  0.0015  0.0388  0.2407  0.0335  0.3410\n",
       "SD    0.0013  0.0001  0.0015  0.0448  0.0016  1.9201"
      ]
     },
     "metadata": {},
     "output_type": "display_data"
    }
   ],
   "source": [
    "tuned_ada = tune_model('ada')"
   ]
  },
  {
   "cell_type": "markdown",
   "metadata": {},
   "source": [
    "##  Light Gradient Boosting Machine"
   ]
  },
  {
   "cell_type": "code",
   "execution_count": 11,
   "metadata": {},
   "outputs": [
    {
     "data": {
      "text/html": [
       "<div>\n",
       "<style scoped>\n",
       "    .dataframe tbody tr th:only-of-type {\n",
       "        vertical-align: middle;\n",
       "    }\n",
       "\n",
       "    .dataframe tbody tr th {\n",
       "        vertical-align: top;\n",
       "    }\n",
       "\n",
       "    .dataframe thead th {\n",
       "        text-align: right;\n",
       "    }\n",
       "</style>\n",
       "<table border=\"1\" class=\"dataframe\">\n",
       "  <thead>\n",
       "    <tr style=\"text-align: right;\">\n",
       "      <th></th>\n",
       "      <th>MAE</th>\n",
       "      <th>MSE</th>\n",
       "      <th>RMSE</th>\n",
       "      <th>R2</th>\n",
       "      <th>RMSLE</th>\n",
       "      <th>MAPE</th>\n",
       "    </tr>\n",
       "  </thead>\n",
       "  <tbody>\n",
       "    <tr>\n",
       "      <th>0</th>\n",
       "      <td>0.0191</td>\n",
       "      <td>0.0006</td>\n",
       "      <td>0.0247</td>\n",
       "      <td>0.7245</td>\n",
       "      <td>0.0222</td>\n",
       "      <td>0.1846</td>\n",
       "    </tr>\n",
       "    <tr>\n",
       "      <th>1</th>\n",
       "      <td>0.0184</td>\n",
       "      <td>0.0007</td>\n",
       "      <td>0.0259</td>\n",
       "      <td>0.6484</td>\n",
       "      <td>0.0233</td>\n",
       "      <td>-0.1794</td>\n",
       "    </tr>\n",
       "    <tr>\n",
       "      <th>2</th>\n",
       "      <td>0.0196</td>\n",
       "      <td>0.0006</td>\n",
       "      <td>0.0248</td>\n",
       "      <td>0.7138</td>\n",
       "      <td>0.0221</td>\n",
       "      <td>1.1715</td>\n",
       "    </tr>\n",
       "    <tr>\n",
       "      <th>3</th>\n",
       "      <td>0.0201</td>\n",
       "      <td>0.0009</td>\n",
       "      <td>0.0295</td>\n",
       "      <td>0.5907</td>\n",
       "      <td>0.0265</td>\n",
       "      <td>0.5681</td>\n",
       "    </tr>\n",
       "    <tr>\n",
       "      <th>4</th>\n",
       "      <td>0.0217</td>\n",
       "      <td>0.0009</td>\n",
       "      <td>0.0302</td>\n",
       "      <td>0.5309</td>\n",
       "      <td>0.0260</td>\n",
       "      <td>3.7282</td>\n",
       "    </tr>\n",
       "    <tr>\n",
       "      <th>5</th>\n",
       "      <td>0.0200</td>\n",
       "      <td>0.0007</td>\n",
       "      <td>0.0274</td>\n",
       "      <td>0.6044</td>\n",
       "      <td>0.0243</td>\n",
       "      <td>6.6978</td>\n",
       "    </tr>\n",
       "    <tr>\n",
       "      <th>6</th>\n",
       "      <td>0.0199</td>\n",
       "      <td>0.0007</td>\n",
       "      <td>0.0268</td>\n",
       "      <td>0.6251</td>\n",
       "      <td>0.0237</td>\n",
       "      <td>1.3769</td>\n",
       "    </tr>\n",
       "    <tr>\n",
       "      <th>7</th>\n",
       "      <td>0.0202</td>\n",
       "      <td>0.0007</td>\n",
       "      <td>0.0269</td>\n",
       "      <td>0.6550</td>\n",
       "      <td>0.0230</td>\n",
       "      <td>-1.0670</td>\n",
       "    </tr>\n",
       "    <tr>\n",
       "      <th>8</th>\n",
       "      <td>0.0196</td>\n",
       "      <td>0.0007</td>\n",
       "      <td>0.0269</td>\n",
       "      <td>0.6405</td>\n",
       "      <td>0.0242</td>\n",
       "      <td>-0.6457</td>\n",
       "    </tr>\n",
       "    <tr>\n",
       "      <th>9</th>\n",
       "      <td>0.0200</td>\n",
       "      <td>0.0007</td>\n",
       "      <td>0.0272</td>\n",
       "      <td>0.5442</td>\n",
       "      <td>0.0229</td>\n",
       "      <td>-0.3814</td>\n",
       "    </tr>\n",
       "    <tr>\n",
       "      <th>Mean</th>\n",
       "      <td>0.0199</td>\n",
       "      <td>0.0007</td>\n",
       "      <td>0.0270</td>\n",
       "      <td>0.6277</td>\n",
       "      <td>0.0238</td>\n",
       "      <td>1.1454</td>\n",
       "    </tr>\n",
       "    <tr>\n",
       "      <th>SD</th>\n",
       "      <td>0.0008</td>\n",
       "      <td>0.0001</td>\n",
       "      <td>0.0017</td>\n",
       "      <td>0.0603</td>\n",
       "      <td>0.0014</td>\n",
       "      <td>2.2583</td>\n",
       "    </tr>\n",
       "  </tbody>\n",
       "</table>\n",
       "</div>"
      ],
      "text/plain": [
       "         MAE     MSE    RMSE      R2   RMSLE    MAPE\n",
       "0     0.0191  0.0006  0.0247  0.7245  0.0222  0.1846\n",
       "1     0.0184  0.0007  0.0259  0.6484  0.0233 -0.1794\n",
       "2     0.0196  0.0006  0.0248  0.7138  0.0221  1.1715\n",
       "3     0.0201  0.0009  0.0295  0.5907  0.0265  0.5681\n",
       "4     0.0217  0.0009  0.0302  0.5309  0.0260  3.7282\n",
       "5     0.0200  0.0007  0.0274  0.6044  0.0243  6.6978\n",
       "6     0.0199  0.0007  0.0268  0.6251  0.0237  1.3769\n",
       "7     0.0202  0.0007  0.0269  0.6550  0.0230 -1.0670\n",
       "8     0.0196  0.0007  0.0269  0.6405  0.0242 -0.6457\n",
       "9     0.0200  0.0007  0.0272  0.5442  0.0229 -0.3814\n",
       "Mean  0.0199  0.0007  0.0270  0.6277  0.0238  1.1454\n",
       "SD    0.0008  0.0001  0.0017  0.0603  0.0014  2.2583"
      ]
     },
     "metadata": {},
     "output_type": "display_data"
    }
   ],
   "source": [
    "tuned_lightgbm = tune_model('lightgbm')"
   ]
  },
  {
   "cell_type": "markdown",
   "metadata": {},
   "source": [
    "## Decision Tree"
   ]
  },
  {
   "cell_type": "code",
   "execution_count": 12,
   "metadata": {},
   "outputs": [
    {
     "data": {
      "text/html": [
       "<div>\n",
       "<style scoped>\n",
       "    .dataframe tbody tr th:only-of-type {\n",
       "        vertical-align: middle;\n",
       "    }\n",
       "\n",
       "    .dataframe tbody tr th {\n",
       "        vertical-align: top;\n",
       "    }\n",
       "\n",
       "    .dataframe thead th {\n",
       "        text-align: right;\n",
       "    }\n",
       "</style>\n",
       "<table border=\"1\" class=\"dataframe\">\n",
       "  <thead>\n",
       "    <tr style=\"text-align: right;\">\n",
       "      <th></th>\n",
       "      <th>MAE</th>\n",
       "      <th>MSE</th>\n",
       "      <th>RMSE</th>\n",
       "      <th>R2</th>\n",
       "      <th>RMSLE</th>\n",
       "      <th>MAPE</th>\n",
       "    </tr>\n",
       "  </thead>\n",
       "  <tbody>\n",
       "    <tr>\n",
       "      <th>0</th>\n",
       "      <td>0.0308</td>\n",
       "      <td>0.0018</td>\n",
       "      <td>0.0424</td>\n",
       "      <td>0.1858</td>\n",
       "      <td>0.0272</td>\n",
       "      <td>-0.6856</td>\n",
       "    </tr>\n",
       "    <tr>\n",
       "      <th>1</th>\n",
       "      <td>0.0260</td>\n",
       "      <td>0.0014</td>\n",
       "      <td>0.0372</td>\n",
       "      <td>0.2754</td>\n",
       "      <td>0.0243</td>\n",
       "      <td>-0.2546</td>\n",
       "    </tr>\n",
       "    <tr>\n",
       "      <th>2</th>\n",
       "      <td>0.0264</td>\n",
       "      <td>0.0013</td>\n",
       "      <td>0.0364</td>\n",
       "      <td>0.3813</td>\n",
       "      <td>0.0248</td>\n",
       "      <td>1.3076</td>\n",
       "    </tr>\n",
       "    <tr>\n",
       "      <th>3</th>\n",
       "      <td>0.0286</td>\n",
       "      <td>0.0016</td>\n",
       "      <td>0.0401</td>\n",
       "      <td>0.2439</td>\n",
       "      <td>0.0291</td>\n",
       "      <td>5.5135</td>\n",
       "    </tr>\n",
       "    <tr>\n",
       "      <th>4</th>\n",
       "      <td>0.0318</td>\n",
       "      <td>0.0020</td>\n",
       "      <td>0.0443</td>\n",
       "      <td>-0.0100</td>\n",
       "      <td>0.0295</td>\n",
       "      <td>7.5022</td>\n",
       "    </tr>\n",
       "    <tr>\n",
       "      <th>5</th>\n",
       "      <td>0.0296</td>\n",
       "      <td>0.0017</td>\n",
       "      <td>0.0417</td>\n",
       "      <td>0.0799</td>\n",
       "      <td>0.0277</td>\n",
       "      <td>11.3814</td>\n",
       "    </tr>\n",
       "    <tr>\n",
       "      <th>6</th>\n",
       "      <td>0.0305</td>\n",
       "      <td>0.0019</td>\n",
       "      <td>0.0439</td>\n",
       "      <td>-0.0071</td>\n",
       "      <td>0.0293</td>\n",
       "      <td>5.2719</td>\n",
       "    </tr>\n",
       "    <tr>\n",
       "      <th>7</th>\n",
       "      <td>0.0295</td>\n",
       "      <td>0.0017</td>\n",
       "      <td>0.0409</td>\n",
       "      <td>0.2014</td>\n",
       "      <td>0.0254</td>\n",
       "      <td>-3.1147</td>\n",
       "    </tr>\n",
       "    <tr>\n",
       "      <th>8</th>\n",
       "      <td>0.0287</td>\n",
       "      <td>0.0017</td>\n",
       "      <td>0.0409</td>\n",
       "      <td>0.1668</td>\n",
       "      <td>0.0277</td>\n",
       "      <td>-0.8802</td>\n",
       "    </tr>\n",
       "    <tr>\n",
       "      <th>9</th>\n",
       "      <td>0.0288</td>\n",
       "      <td>0.0015</td>\n",
       "      <td>0.0389</td>\n",
       "      <td>0.0661</td>\n",
       "      <td>0.0241</td>\n",
       "      <td>-1.5921</td>\n",
       "    </tr>\n",
       "    <tr>\n",
       "      <th>Mean</th>\n",
       "      <td>0.0291</td>\n",
       "      <td>0.0017</td>\n",
       "      <td>0.0407</td>\n",
       "      <td>0.1584</td>\n",
       "      <td>0.0269</td>\n",
       "      <td>2.4449</td>\n",
       "    </tr>\n",
       "    <tr>\n",
       "      <th>SD</th>\n",
       "      <td>0.0018</td>\n",
       "      <td>0.0002</td>\n",
       "      <td>0.0025</td>\n",
       "      <td>0.1199</td>\n",
       "      <td>0.0020</td>\n",
       "      <td>4.4664</td>\n",
       "    </tr>\n",
       "  </tbody>\n",
       "</table>\n",
       "</div>"
      ],
      "text/plain": [
       "         MAE     MSE    RMSE      R2   RMSLE     MAPE\n",
       "0     0.0308  0.0018  0.0424  0.1858  0.0272  -0.6856\n",
       "1     0.0260  0.0014  0.0372  0.2754  0.0243  -0.2546\n",
       "2     0.0264  0.0013  0.0364  0.3813  0.0248   1.3076\n",
       "3     0.0286  0.0016  0.0401  0.2439  0.0291   5.5135\n",
       "4     0.0318  0.0020  0.0443 -0.0100  0.0295   7.5022\n",
       "5     0.0296  0.0017  0.0417  0.0799  0.0277  11.3814\n",
       "6     0.0305  0.0019  0.0439 -0.0071  0.0293   5.2719\n",
       "7     0.0295  0.0017  0.0409  0.2014  0.0254  -3.1147\n",
       "8     0.0287  0.0017  0.0409  0.1668  0.0277  -0.8802\n",
       "9     0.0288  0.0015  0.0389  0.0661  0.0241  -1.5921\n",
       "Mean  0.0291  0.0017  0.0407  0.1584  0.0269   2.4449\n",
       "SD    0.0018  0.0002  0.0025  0.1199  0.0020   4.4664"
      ]
     },
     "metadata": {},
     "output_type": "display_data"
    }
   ],
   "source": [
    "tuned_dt = tune_model('dt')"
   ]
  },
  {
   "cell_type": "markdown",
   "metadata": {},
   "source": [
    "## Plot a Model"
   ]
  },
  {
   "cell_type": "markdown",
   "metadata": {},
   "source": [
    "##  Residual Plot"
   ]
  },
  {
   "cell_type": "code",
   "execution_count": 13,
   "metadata": {},
   "outputs": [
    {
     "data": {
      "image/png": "[encoded data removed]",
      "text/plain": [
       "<Figure size 576x396 with 2 Axes>"
      ]
     },
     "metadata": {},
     "output_type": "display_data"
    }
   ],
   "source": [
    "plot_model(tuned_lightgbm)"
   ]
  },
  {
   "cell_type": "markdown",
   "metadata": {},
   "source": [
    "##  Prediction Error Plot"
   ]
  },
  {
   "cell_type": "code",
   "execution_count": 14,
   "metadata": {},
   "outputs": [
    {
     "data": {
      "image/png": "[encoded data removed]",
      "text/plain": [
       "<Figure size 576x396 with 1 Axes>"
      ]
     },
     "metadata": {},
     "output_type": "display_data"
    }
   ],
   "source": [
    "plot_model(tuned_lightgbm, plot = 'error')"
   ]
  },
  {
   "cell_type": "markdown",
   "metadata": {},
   "source": [
    "## Feature Importance Plot"
   ]
  },
  {
   "cell_type": "code",
   "execution_count": 15,
   "metadata": {},
   "outputs": [
    {
     "data": {
      "image/png": "[encoded data removed]",
      "text/plain": [
       "<Figure size 576x360 with 1 Axes>"
      ]
     },
     "metadata": {},
     "output_type": "display_data"
    }
   ],
   "source": [
    "plot_model(tuned_lightgbm, plot='feature')"
   ]
  },
  {
   "cell_type": "code",
   "execution_count": 13,
   "metadata": {},
   "outputs": [
    {
     "data": {
      "application/vnd.jupyter.widget-view+json": {
       "model_id": "fd43f78bfb044ac6be03931185acbc17",
       "version_major": 2,
       "version_minor": 0
      },
      "text/plain": [
       "interactive(children=(ToggleButtons(description='Plot Type:', icons=('',), options=(('Hyperparameters', 'param…"
      ]
     },
     "metadata": {},
     "output_type": "display_data"
    }
   ],
   "source": [
    "evaluate_model(tuned_lightgbm)"
   ]
  },
  {
   "cell_type": "markdown",
   "metadata": {},
   "source": [
    "## Predict on Test / Hold-out Sample"
   ]
  },
  {
   "cell_type": "code",
   "execution_count": 14,
   "metadata": {},
   "outputs": [
    {
     "data": {
      "text/html": [
       "<div>\n",
       "<style scoped>\n",
       "    .dataframe tbody tr th:only-of-type {\n",
       "        vertical-align: middle;\n",
       "    }\n",
       "\n",
       "    .dataframe tbody tr th {\n",
       "        vertical-align: top;\n",
       "    }\n",
       "\n",
       "    .dataframe thead th {\n",
       "        text-align: right;\n",
       "    }\n",
       "</style>\n",
       "<table border=\"1\" class=\"dataframe\">\n",
       "  <thead>\n",
       "    <tr style=\"text-align: right;\">\n",
       "      <th></th>\n",
       "      <th>Model</th>\n",
       "      <th>MAE</th>\n",
       "      <th>MSE</th>\n",
       "      <th>RMSE</th>\n",
       "      <th>R2</th>\n",
       "      <th>RMSLE</th>\n",
       "      <th>MAPE</th>\n",
       "    </tr>\n",
       "  </thead>\n",
       "  <tbody>\n",
       "    <tr>\n",
       "      <th>0</th>\n",
       "      <td>Light Gradient Boosting Machine</td>\n",
       "      <td>0.0191</td>\n",
       "      <td>0.0007</td>\n",
       "      <td>0.0258</td>\n",
       "      <td>0.6433</td>\n",
       "      <td>0.0221</td>\n",
       "      <td>-0.1316</td>\n",
       "    </tr>\n",
       "  </tbody>\n",
       "</table>\n",
       "</div>"
      ],
      "text/plain": [
       "                             Model     MAE     MSE    RMSE      R2   RMSLE  \\\n",
       "0  Light Gradient Boosting Machine  0.0191  0.0007  0.0258  0.6433  0.0221   \n",
       "\n",
       "     MAPE  \n",
       "0 -0.1316  "
      ]
     },
     "metadata": {},
     "output_type": "display_data"
    }
   ],
   "source": [
    "predict_model(tuned_lightgbm);"
   ]
  },
  {
   "cell_type": "markdown",
   "metadata": {},
   "source": [
    "## Finalize Model for Deployment"
   ]
  },
  {
   "cell_type": "code",
   "execution_count": 15,
   "metadata": {},
   "outputs": [],
   "source": [
    "final_lightgbm = finalize_model(tuned_lightgbm)"
   ]
  },
  {
   "cell_type": "code",
   "execution_count": 16,
   "metadata": {},
   "outputs": [
    {
     "data": {
      "text/html": [
       "<div>\n",
       "<style scoped>\n",
       "    .dataframe tbody tr th:only-of-type {\n",
       "        vertical-align: middle;\n",
       "    }\n",
       "\n",
       "    .dataframe tbody tr th {\n",
       "        vertical-align: top;\n",
       "    }\n",
       "\n",
       "    .dataframe thead th {\n",
       "        text-align: right;\n",
       "    }\n",
       "</style>\n",
       "<table border=\"1\" class=\"dataframe\">\n",
       "  <thead>\n",
       "    <tr style=\"text-align: right;\">\n",
       "      <th></th>\n",
       "      <th>Model</th>\n",
       "      <th>MAE</th>\n",
       "      <th>MSE</th>\n",
       "      <th>RMSE</th>\n",
       "      <th>R2</th>\n",
       "      <th>RMSLE</th>\n",
       "      <th>MAPE</th>\n",
       "    </tr>\n",
       "  </thead>\n",
       "  <tbody>\n",
       "    <tr>\n",
       "      <th>0</th>\n",
       "      <td>Light Gradient Boosting Machine</td>\n",
       "      <td>0.0025</td>\n",
       "      <td>0.0</td>\n",
       "      <td>0.0034</td>\n",
       "      <td>0.9938</td>\n",
       "      <td>0.0032</td>\n",
       "      <td>-0.0803</td>\n",
       "    </tr>\n",
       "  </tbody>\n",
       "</table>\n",
       "</div>"
      ],
      "text/plain": [
       "                             Model     MAE  MSE    RMSE      R2   RMSLE  \\\n",
       "0  Light Gradient Boosting Machine  0.0025  0.0  0.0034  0.9938  0.0032   \n",
       "\n",
       "     MAPE  \n",
       "0 -0.0803  "
      ]
     },
     "metadata": {},
     "output_type": "display_data"
    }
   ],
   "source": [
    "predict_model(final_lightgbm);"
   ]
  },
  {
   "cell_type": "markdown",
   "metadata": {},
   "source": [
    "## Predict on Unseen Data"
   ]
  },
  {
   "cell_type": "code",
   "execution_count": 17,
   "metadata": {},
   "outputs": [
    {
     "data": {
      "text/html": [
       "<div>\n",
       "<style scoped>\n",
       "    .dataframe tbody tr th:only-of-type {\n",
       "        vertical-align: middle;\n",
       "    }\n",
       "\n",
       "    .dataframe tbody tr th {\n",
       "        vertical-align: top;\n",
       "    }\n",
       "\n",
       "    .dataframe thead th {\n",
       "        text-align: right;\n",
       "    }\n",
       "</style>\n",
       "<table border=\"1\" class=\"dataframe\">\n",
       "  <thead>\n",
       "    <tr style=\"text-align: right;\">\n",
       "      <th></th>\n",
       "      <th>3M Libor_T-1</th>\n",
       "      <th>EM Bond_T-1</th>\n",
       "      <th>US Bond ETF_T-1</th>\n",
       "      <th>Wheat 1_T-1</th>\n",
       "      <th>Wheat 2_T-1</th>\n",
       "      <th>Crude Palm Oil_T-1</th>\n",
       "      <th>Brent 1_T-1</th>\n",
       "      <th>Brent 2_T-1</th>\n",
       "      <th>Light Crude_T-1</th>\n",
       "      <th>White Sugar_T-1</th>\n",
       "      <th>...</th>\n",
       "      <th>Shanghai Index_T-22</th>\n",
       "      <th>Nikkei Ind_T-22</th>\n",
       "      <th>MSCI APAC ex J_T-22</th>\n",
       "      <th>EMEquity ETF_T-22</th>\n",
       "      <th>Silver_T-22</th>\n",
       "      <th>Platinum_T-22</th>\n",
       "      <th>Palladium_T-22</th>\n",
       "      <th>Gold_T-22</th>\n",
       "      <th>Gold_T+22</th>\n",
       "      <th>Label</th>\n",
       "    </tr>\n",
       "  </thead>\n",
       "  <tbody>\n",
       "    <tr>\n",
       "      <th>0</th>\n",
       "      <td>0.000000</td>\n",
       "      <td>-0.001898</td>\n",
       "      <td>-0.001700</td>\n",
       "      <td>-0.002508</td>\n",
       "      <td>-0.020341</td>\n",
       "      <td>0.000000</td>\n",
       "      <td>0.027663</td>\n",
       "      <td>0.028252</td>\n",
       "      <td>0.033096</td>\n",
       "      <td>-0.005455</td>\n",
       "      <td>...</td>\n",
       "      <td>-0.046689</td>\n",
       "      <td>0.016441</td>\n",
       "      <td>-0.054034</td>\n",
       "      <td>-0.045381</td>\n",
       "      <td>-0.077462</td>\n",
       "      <td>-0.048338</td>\n",
       "      <td>0.070879</td>\n",
       "      <td>-0.010984</td>\n",
       "      <td>0.021861</td>\n",
       "      <td>0.0166</td>\n",
       "    </tr>\n",
       "    <tr>\n",
       "      <th>1</th>\n",
       "      <td>-0.001178</td>\n",
       "      <td>0.003232</td>\n",
       "      <td>0.000662</td>\n",
       "      <td>-0.037707</td>\n",
       "      <td>-0.022211</td>\n",
       "      <td>-0.000908</td>\n",
       "      <td>0.003145</td>\n",
       "      <td>0.003925</td>\n",
       "      <td>0.006465</td>\n",
       "      <td>0.019500</td>\n",
       "      <td>...</td>\n",
       "      <td>-0.046579</td>\n",
       "      <td>0.034184</td>\n",
       "      <td>-0.037194</td>\n",
       "      <td>-0.024482</td>\n",
       "      <td>-0.049625</td>\n",
       "      <td>0.000627</td>\n",
       "      <td>0.094329</td>\n",
       "      <td>0.010233</td>\n",
       "      <td>0.010021</td>\n",
       "      <td>0.0075</td>\n",
       "    </tr>\n",
       "    <tr>\n",
       "      <th>2</th>\n",
       "      <td>0.001128</td>\n",
       "      <td>0.009759</td>\n",
       "      <td>0.000662</td>\n",
       "      <td>-0.011494</td>\n",
       "      <td>-0.018272</td>\n",
       "      <td>0.002273</td>\n",
       "      <td>-0.016552</td>\n",
       "      <td>-0.016017</td>\n",
       "      <td>-0.020411</td>\n",
       "      <td>0.001195</td>\n",
       "      <td>...</td>\n",
       "      <td>-0.033940</td>\n",
       "      <td>0.020810</td>\n",
       "      <td>-0.023750</td>\n",
       "      <td>-0.017314</td>\n",
       "      <td>-0.053275</td>\n",
       "      <td>0.002833</td>\n",
       "      <td>0.095318</td>\n",
       "      <td>0.005923</td>\n",
       "      <td>0.021521</td>\n",
       "      <td>0.0187</td>\n",
       "    </tr>\n",
       "    <tr>\n",
       "      <th>3</th>\n",
       "      <td>0.001285</td>\n",
       "      <td>0.001126</td>\n",
       "      <td>-0.001889</td>\n",
       "      <td>0.013742</td>\n",
       "      <td>0.029678</td>\n",
       "      <td>0.000454</td>\n",
       "      <td>-0.004208</td>\n",
       "      <td>-0.005127</td>\n",
       "      <td>0.001749</td>\n",
       "      <td>-0.047463</td>\n",
       "      <td>...</td>\n",
       "      <td>-0.015281</td>\n",
       "      <td>0.040103</td>\n",
       "      <td>-0.001939</td>\n",
       "      <td>0.010841</td>\n",
       "      <td>-0.026352</td>\n",
       "      <td>0.037667</td>\n",
       "      <td>0.160831</td>\n",
       "      <td>0.016206</td>\n",
       "      <td>0.025744</td>\n",
       "      <td>0.0209</td>\n",
       "    </tr>\n",
       "    <tr>\n",
       "      <th>4</th>\n",
       "      <td>0.000693</td>\n",
       "      <td>-0.003093</td>\n",
       "      <td>0.000000</td>\n",
       "      <td>0.058916</td>\n",
       "      <td>0.028334</td>\n",
       "      <td>0.000000</td>\n",
       "      <td>-0.001280</td>\n",
       "      <td>-0.001159</td>\n",
       "      <td>-0.003200</td>\n",
       "      <td>0.035099</td>\n",
       "      <td>...</td>\n",
       "      <td>-0.019741</td>\n",
       "      <td>0.040674</td>\n",
       "      <td>-0.010243</td>\n",
       "      <td>-0.004549</td>\n",
       "      <td>-0.031485</td>\n",
       "      <td>0.024767</td>\n",
       "      <td>0.106239</td>\n",
       "      <td>0.022981</td>\n",
       "      <td>0.018117</td>\n",
       "      <td>0.0168</td>\n",
       "    </tr>\n",
       "  </tbody>\n",
       "</table>\n",
       "<p>5 rows × 122 columns</p>\n",
       "</div>"
      ],
      "text/plain": [
       "   3M Libor_T-1  EM Bond_T-1  US Bond ETF_T-1  Wheat 1_T-1  Wheat 2_T-1  \\\n",
       "0      0.000000    -0.001898        -0.001700    -0.002508    -0.020341   \n",
       "1     -0.001178     0.003232         0.000662    -0.037707    -0.022211   \n",
       "2      0.001128     0.009759         0.000662    -0.011494    -0.018272   \n",
       "3      0.001285     0.001126        -0.001889     0.013742     0.029678   \n",
       "4      0.000693    -0.003093         0.000000     0.058916     0.028334   \n",
       "\n",
       "   Crude Palm Oil_T-1  Brent 1_T-1  Brent 2_T-1  Light Crude_T-1  \\\n",
       "0            0.000000     0.027663     0.028252         0.033096   \n",
       "1           -0.000908     0.003145     0.003925         0.006465   \n",
       "2            0.002273    -0.016552    -0.016017        -0.020411   \n",
       "3            0.000454    -0.004208    -0.005127         0.001749   \n",
       "4            0.000000    -0.001280    -0.001159        -0.003200   \n",
       "\n",
       "   White Sugar_T-1  ...  Shanghai Index_T-22  Nikkei Ind_T-22  \\\n",
       "0        -0.005455  ...            -0.046689         0.016441   \n",
       "1         0.019500  ...            -0.046579         0.034184   \n",
       "2         0.001195  ...            -0.033940         0.020810   \n",
       "3        -0.047463  ...            -0.015281         0.040103   \n",
       "4         0.035099  ...            -0.019741         0.040674   \n",
       "\n",
       "   MSCI APAC ex J_T-22  EMEquity ETF_T-22  Silver_T-22  Platinum_T-22  \\\n",
       "0            -0.054034          -0.045381    -0.077462      -0.048338   \n",
       "1            -0.037194          -0.024482    -0.049625       0.000627   \n",
       "2            -0.023750          -0.017314    -0.053275       0.002833   \n",
       "3            -0.001939           0.010841    -0.026352       0.037667   \n",
       "4            -0.010243          -0.004549    -0.031485       0.024767   \n",
       "\n",
       "   Palladium_T-22  Gold_T-22  Gold_T+22   Label  \n",
       "0        0.070879  -0.010984   0.021861  0.0166  \n",
       "1        0.094329   0.010233   0.010021  0.0075  \n",
       "2        0.095318   0.005923   0.021521  0.0187  \n",
       "3        0.160831   0.016206   0.025744  0.0209  \n",
       "4        0.106239   0.022981   0.018117  0.0168  \n",
       "\n",
       "[5 rows x 122 columns]"
      ]
     },
     "execution_count": 17,
     "metadata": {},
     "output_type": "execute_result"
    }
   ],
   "source": [
    "unseen_predictions = predict_model(final_lightgbm, data=data_unseen)\n",
    "unseen_predictions.head()"
   ]
  },
  {
   "cell_type": "markdown",
   "metadata": {},
   "source": [
    "## Saving the Model"
   ]
  },
  {
   "cell_type": "code",
   "execution_count": 19,
   "metadata": {},
   "outputs": [
    {
     "name": "stdout",
     "output_type": "stream",
     "text": [
      "Transformation Pipeline and Model Succesfully Saved\n"
     ]
    }
   ],
   "source": [
    "save_model(final_lightgbm,'Final Lightgbm Model 08Feb2020')"
   ]
  },
  {
   "cell_type": "markdown",
   "metadata": {},
   "source": [
    "## Loading the Saved Model"
   ]
  },
  {
   "cell_type": "code",
   "execution_count": 20,
   "metadata": {},
   "outputs": [
    {
     "name": "stdout",
     "output_type": "stream",
     "text": [
      "Transformation Pipeline and Model Sucessfully Loaded\n"
     ]
    }
   ],
   "source": [
    "saved_final_lightgbm = load_model('Final Lightgbm Model 08Feb2020')"
   ]
  },
  {
   "cell_type": "code",
   "execution_count": 21,
   "metadata": {},
   "outputs": [],
   "source": [
    "new_prediction = predict_model(saved_final_lightgbm, data=data_unseen)"
   ]
  },
  {
   "cell_type": "code",
   "execution_count": 22,
   "metadata": {},
   "outputs": [
    {
     "data": {
      "text/html": [
       "<div>\n",
       "<style scoped>\n",
       "    .dataframe tbody tr th:only-of-type {\n",
       "        vertical-align: middle;\n",
       "    }\n",
       "\n",
       "    .dataframe tbody tr th {\n",
       "        vertical-align: top;\n",
       "    }\n",
       "\n",
       "    .dataframe thead th {\n",
       "        text-align: right;\n",
       "    }\n",
       "</style>\n",
       "<table border=\"1\" class=\"dataframe\">\n",
       "  <thead>\n",
       "    <tr style=\"text-align: right;\">\n",
       "      <th></th>\n",
       "      <th>3M Libor_T-1</th>\n",
       "      <th>EM Bond_T-1</th>\n",
       "      <th>US Bond ETF_T-1</th>\n",
       "      <th>Wheat 1_T-1</th>\n",
       "      <th>Wheat 2_T-1</th>\n",
       "      <th>Crude Palm Oil_T-1</th>\n",
       "      <th>Brent 1_T-1</th>\n",
       "      <th>Brent 2_T-1</th>\n",
       "      <th>Light Crude_T-1</th>\n",
       "      <th>White Sugar_T-1</th>\n",
       "      <th>...</th>\n",
       "      <th>Shanghai Index_T-22</th>\n",
       "      <th>Nikkei Ind_T-22</th>\n",
       "      <th>MSCI APAC ex J_T-22</th>\n",
       "      <th>EMEquity ETF_T-22</th>\n",
       "      <th>Silver_T-22</th>\n",
       "      <th>Platinum_T-22</th>\n",
       "      <th>Palladium_T-22</th>\n",
       "      <th>Gold_T-22</th>\n",
       "      <th>Gold_T+22</th>\n",
       "      <th>Label</th>\n",
       "    </tr>\n",
       "  </thead>\n",
       "  <tbody>\n",
       "    <tr>\n",
       "      <th>0</th>\n",
       "      <td>0.000000</td>\n",
       "      <td>-0.001898</td>\n",
       "      <td>-0.001700</td>\n",
       "      <td>-0.002508</td>\n",
       "      <td>-0.020341</td>\n",
       "      <td>0.000000</td>\n",
       "      <td>0.027663</td>\n",
       "      <td>0.028252</td>\n",
       "      <td>0.033096</td>\n",
       "      <td>-0.005455</td>\n",
       "      <td>...</td>\n",
       "      <td>-0.046689</td>\n",
       "      <td>0.016441</td>\n",
       "      <td>-0.054034</td>\n",
       "      <td>-0.045381</td>\n",
       "      <td>-0.077462</td>\n",
       "      <td>-0.048338</td>\n",
       "      <td>0.070879</td>\n",
       "      <td>-0.010984</td>\n",
       "      <td>0.021861</td>\n",
       "      <td>0.0166</td>\n",
       "    </tr>\n",
       "    <tr>\n",
       "      <th>1</th>\n",
       "      <td>-0.001178</td>\n",
       "      <td>0.003232</td>\n",
       "      <td>0.000662</td>\n",
       "      <td>-0.037707</td>\n",
       "      <td>-0.022211</td>\n",
       "      <td>-0.000908</td>\n",
       "      <td>0.003145</td>\n",
       "      <td>0.003925</td>\n",
       "      <td>0.006465</td>\n",
       "      <td>0.019500</td>\n",
       "      <td>...</td>\n",
       "      <td>-0.046579</td>\n",
       "      <td>0.034184</td>\n",
       "      <td>-0.037194</td>\n",
       "      <td>-0.024482</td>\n",
       "      <td>-0.049625</td>\n",
       "      <td>0.000627</td>\n",
       "      <td>0.094329</td>\n",
       "      <td>0.010233</td>\n",
       "      <td>0.010021</td>\n",
       "      <td>0.0075</td>\n",
       "    </tr>\n",
       "    <tr>\n",
       "      <th>2</th>\n",
       "      <td>0.001128</td>\n",
       "      <td>0.009759</td>\n",
       "      <td>0.000662</td>\n",
       "      <td>-0.011494</td>\n",
       "      <td>-0.018272</td>\n",
       "      <td>0.002273</td>\n",
       "      <td>-0.016552</td>\n",
       "      <td>-0.016017</td>\n",
       "      <td>-0.020411</td>\n",
       "      <td>0.001195</td>\n",
       "      <td>...</td>\n",
       "      <td>-0.033940</td>\n",
       "      <td>0.020810</td>\n",
       "      <td>-0.023750</td>\n",
       "      <td>-0.017314</td>\n",
       "      <td>-0.053275</td>\n",
       "      <td>0.002833</td>\n",
       "      <td>0.095318</td>\n",
       "      <td>0.005923</td>\n",
       "      <td>0.021521</td>\n",
       "      <td>0.0187</td>\n",
       "    </tr>\n",
       "    <tr>\n",
       "      <th>3</th>\n",
       "      <td>0.001285</td>\n",
       "      <td>0.001126</td>\n",
       "      <td>-0.001889</td>\n",
       "      <td>0.013742</td>\n",
       "      <td>0.029678</td>\n",
       "      <td>0.000454</td>\n",
       "      <td>-0.004208</td>\n",
       "      <td>-0.005127</td>\n",
       "      <td>0.001749</td>\n",
       "      <td>-0.047463</td>\n",
       "      <td>...</td>\n",
       "      <td>-0.015281</td>\n",
       "      <td>0.040103</td>\n",
       "      <td>-0.001939</td>\n",
       "      <td>0.010841</td>\n",
       "      <td>-0.026352</td>\n",
       "      <td>0.037667</td>\n",
       "      <td>0.160831</td>\n",
       "      <td>0.016206</td>\n",
       "      <td>0.025744</td>\n",
       "      <td>0.0209</td>\n",
       "    </tr>\n",
       "    <tr>\n",
       "      <th>4</th>\n",
       "      <td>0.000693</td>\n",
       "      <td>-0.003093</td>\n",
       "      <td>0.000000</td>\n",
       "      <td>0.058916</td>\n",
       "      <td>0.028334</td>\n",
       "      <td>0.000000</td>\n",
       "      <td>-0.001280</td>\n",
       "      <td>-0.001159</td>\n",
       "      <td>-0.003200</td>\n",
       "      <td>0.035099</td>\n",
       "      <td>...</td>\n",
       "      <td>-0.019741</td>\n",
       "      <td>0.040674</td>\n",
       "      <td>-0.010243</td>\n",
       "      <td>-0.004549</td>\n",
       "      <td>-0.031485</td>\n",
       "      <td>0.024767</td>\n",
       "      <td>0.106239</td>\n",
       "      <td>0.022981</td>\n",
       "      <td>0.018117</td>\n",
       "      <td>0.0168</td>\n",
       "    </tr>\n",
       "  </tbody>\n",
       "</table>\n",
       "<p>5 rows × 122 columns</p>\n",
       "</div>"
      ],
      "text/plain": [
       "   3M Libor_T-1  EM Bond_T-1  US Bond ETF_T-1  Wheat 1_T-1  Wheat 2_T-1  \\\n",
       "0      0.000000    -0.001898        -0.001700    -0.002508    -0.020341   \n",
       "1     -0.001178     0.003232         0.000662    -0.037707    -0.022211   \n",
       "2      0.001128     0.009759         0.000662    -0.011494    -0.018272   \n",
       "3      0.001285     0.001126        -0.001889     0.013742     0.029678   \n",
       "4      0.000693    -0.003093         0.000000     0.058916     0.028334   \n",
       "\n",
       "   Crude Palm Oil_T-1  Brent 1_T-1  Brent 2_T-1  Light Crude_T-1  \\\n",
       "0            0.000000     0.027663     0.028252         0.033096   \n",
       "1           -0.000908     0.003145     0.003925         0.006465   \n",
       "2            0.002273    -0.016552    -0.016017        -0.020411   \n",
       "3            0.000454    -0.004208    -0.005127         0.001749   \n",
       "4            0.000000    -0.001280    -0.001159        -0.003200   \n",
       "\n",
       "   White Sugar_T-1  ...  Shanghai Index_T-22  Nikkei Ind_T-22  \\\n",
       "0        -0.005455  ...            -0.046689         0.016441   \n",
       "1         0.019500  ...            -0.046579         0.034184   \n",
       "2         0.001195  ...            -0.033940         0.020810   \n",
       "3        -0.047463  ...            -0.015281         0.040103   \n",
       "4         0.035099  ...            -0.019741         0.040674   \n",
       "\n",
       "   MSCI APAC ex J_T-22  EMEquity ETF_T-22  Silver_T-22  Platinum_T-22  \\\n",
       "0            -0.054034          -0.045381    -0.077462      -0.048338   \n",
       "1            -0.037194          -0.024482    -0.049625       0.000627   \n",
       "2            -0.023750          -0.017314    -0.053275       0.002833   \n",
       "3            -0.001939           0.010841    -0.026352       0.037667   \n",
       "4            -0.010243          -0.004549    -0.031485       0.024767   \n",
       "\n",
       "   Palladium_T-22  Gold_T-22  Gold_T+22   Label  \n",
       "0        0.070879  -0.010984   0.021861  0.0166  \n",
       "1        0.094329   0.010233   0.010021  0.0075  \n",
       "2        0.095318   0.005923   0.021521  0.0187  \n",
       "3        0.160831   0.016206   0.025744  0.0209  \n",
       "4        0.106239   0.022981   0.018117  0.0168  \n",
       "\n",
       "[5 rows x 122 columns]"
      ]
     },
     "execution_count": 22,
     "metadata": {},
     "output_type": "execute_result"
    }
   ],
   "source": [
    "new_prediction.head()"
   ]
  },
  {
   "cell_type": "markdown",
   "metadata": {},
   "source": [
    "## Ensemble a Model"
   ]
  },
  {
   "cell_type": "markdown",
   "metadata": {},
   "source": [
    "## Bagging"
   ]
  },
  {
   "cell_type": "code",
   "execution_count": 23,
   "metadata": {},
   "outputs": [
    {
     "data": {
      "text/html": [
       "<div>\n",
       "<style scoped>\n",
       "    .dataframe tbody tr th:only-of-type {\n",
       "        vertical-align: middle;\n",
       "    }\n",
       "\n",
       "    .dataframe tbody tr th {\n",
       "        vertical-align: top;\n",
       "    }\n",
       "\n",
       "    .dataframe thead th {\n",
       "        text-align: right;\n",
       "    }\n",
       "</style>\n",
       "<table border=\"1\" class=\"dataframe\">\n",
       "  <thead>\n",
       "    <tr style=\"text-align: right;\">\n",
       "      <th></th>\n",
       "      <th>MAE</th>\n",
       "      <th>MSE</th>\n",
       "      <th>RMSE</th>\n",
       "      <th>R2</th>\n",
       "      <th>RMSLE</th>\n",
       "      <th>MAPE</th>\n",
       "    </tr>\n",
       "  </thead>\n",
       "  <tbody>\n",
       "    <tr>\n",
       "      <th>0</th>\n",
       "      <td>0.0287</td>\n",
       "      <td>0.0015</td>\n",
       "      <td>0.0391</td>\n",
       "      <td>0.3078</td>\n",
       "      <td>0.0286</td>\n",
       "      <td>-0.6157</td>\n",
       "    </tr>\n",
       "    <tr>\n",
       "      <th>1</th>\n",
       "      <td>0.0316</td>\n",
       "      <td>0.0024</td>\n",
       "      <td>0.0490</td>\n",
       "      <td>-0.2531</td>\n",
       "      <td>0.0296</td>\n",
       "      <td>-0.4763</td>\n",
       "    </tr>\n",
       "    <tr>\n",
       "      <th>2</th>\n",
       "      <td>0.0256</td>\n",
       "      <td>0.0013</td>\n",
       "      <td>0.0363</td>\n",
       "      <td>0.3859</td>\n",
       "      <td>0.0238</td>\n",
       "      <td>0.7485</td>\n",
       "    </tr>\n",
       "    <tr>\n",
       "      <th>3</th>\n",
       "      <td>0.0314</td>\n",
       "      <td>0.0026</td>\n",
       "      <td>0.0506</td>\n",
       "      <td>-0.2031</td>\n",
       "      <td>0.0292</td>\n",
       "      <td>7.5023</td>\n",
       "    </tr>\n",
       "    <tr>\n",
       "      <th>4</th>\n",
       "      <td>0.0358</td>\n",
       "      <td>0.0027</td>\n",
       "      <td>0.0517</td>\n",
       "      <td>-0.3728</td>\n",
       "      <td>0.0322</td>\n",
       "      <td>12.0430</td>\n",
       "    </tr>\n",
       "    <tr>\n",
       "      <th>5</th>\n",
       "      <td>0.0287</td>\n",
       "      <td>0.0018</td>\n",
       "      <td>0.0424</td>\n",
       "      <td>0.0516</td>\n",
       "      <td>0.0294</td>\n",
       "      <td>16.8127</td>\n",
       "    </tr>\n",
       "    <tr>\n",
       "      <th>6</th>\n",
       "      <td>0.0292</td>\n",
       "      <td>0.0019</td>\n",
       "      <td>0.0433</td>\n",
       "      <td>0.0174</td>\n",
       "      <td>0.0288</td>\n",
       "      <td>3.3274</td>\n",
       "    </tr>\n",
       "    <tr>\n",
       "      <th>7</th>\n",
       "      <td>0.0302</td>\n",
       "      <td>0.0019</td>\n",
       "      <td>0.0432</td>\n",
       "      <td>0.1129</td>\n",
       "      <td>0.0262</td>\n",
       "      <td>-2.6184</td>\n",
       "    </tr>\n",
       "    <tr>\n",
       "      <th>8</th>\n",
       "      <td>0.0259</td>\n",
       "      <td>0.0014</td>\n",
       "      <td>0.0369</td>\n",
       "      <td>0.3226</td>\n",
       "      <td>0.0265</td>\n",
       "      <td>-1.0050</td>\n",
       "    </tr>\n",
       "    <tr>\n",
       "      <th>9</th>\n",
       "      <td>0.0306</td>\n",
       "      <td>0.0018</td>\n",
       "      <td>0.0426</td>\n",
       "      <td>-0.1212</td>\n",
       "      <td>0.0275</td>\n",
       "      <td>1.5135</td>\n",
       "    </tr>\n",
       "    <tr>\n",
       "      <th>Mean</th>\n",
       "      <td>0.0298</td>\n",
       "      <td>0.0019</td>\n",
       "      <td>0.0435</td>\n",
       "      <td>0.0248</td>\n",
       "      <td>0.0282</td>\n",
       "      <td>3.7232</td>\n",
       "    </tr>\n",
       "    <tr>\n",
       "      <th>SD</th>\n",
       "      <td>0.0028</td>\n",
       "      <td>0.0005</td>\n",
       "      <td>0.0051</td>\n",
       "      <td>0.2482</td>\n",
       "      <td>0.0022</td>\n",
       "      <td>6.0643</td>\n",
       "    </tr>\n",
       "  </tbody>\n",
       "</table>\n",
       "</div>"
      ],
      "text/plain": [
       "         MAE     MSE    RMSE      R2   RMSLE     MAPE\n",
       "0     0.0287  0.0015  0.0391  0.3078  0.0286  -0.6157\n",
       "1     0.0316  0.0024  0.0490 -0.2531  0.0296  -0.4763\n",
       "2     0.0256  0.0013  0.0363  0.3859  0.0238   0.7485\n",
       "3     0.0314  0.0026  0.0506 -0.2031  0.0292   7.5023\n",
       "4     0.0358  0.0027  0.0517 -0.3728  0.0322  12.0430\n",
       "5     0.0287  0.0018  0.0424  0.0516  0.0294  16.8127\n",
       "6     0.0292  0.0019  0.0433  0.0174  0.0288   3.3274\n",
       "7     0.0302  0.0019  0.0432  0.1129  0.0262  -2.6184\n",
       "8     0.0259  0.0014  0.0369  0.3226  0.0265  -1.0050\n",
       "9     0.0306  0.0018  0.0426 -0.1212  0.0275   1.5135\n",
       "Mean  0.0298  0.0019  0.0435  0.0248  0.0282   3.7232\n",
       "SD    0.0028  0.0005  0.0051  0.2482  0.0022   6.0643"
      ]
     },
     "metadata": {},
     "output_type": "display_data"
    }
   ],
   "source": [
    "dt = create_model('dt')"
   ]
  },
  {
   "cell_type": "code",
   "execution_count": 24,
   "metadata": {},
   "outputs": [
    {
     "data": {
      "text/html": [
       "<div>\n",
       "<style scoped>\n",
       "    .dataframe tbody tr th:only-of-type {\n",
       "        vertical-align: middle;\n",
       "    }\n",
       "\n",
       "    .dataframe tbody tr th {\n",
       "        vertical-align: top;\n",
       "    }\n",
       "\n",
       "    .dataframe thead th {\n",
       "        text-align: right;\n",
       "    }\n",
       "</style>\n",
       "<table border=\"1\" class=\"dataframe\">\n",
       "  <thead>\n",
       "    <tr style=\"text-align: right;\">\n",
       "      <th></th>\n",
       "      <th>MAE</th>\n",
       "      <th>MSE</th>\n",
       "      <th>RMSE</th>\n",
       "      <th>R2</th>\n",
       "      <th>RMSLE</th>\n",
       "      <th>MAPE</th>\n",
       "    </tr>\n",
       "  </thead>\n",
       "  <tbody>\n",
       "    <tr>\n",
       "      <th>0</th>\n",
       "      <td>0.0225</td>\n",
       "      <td>0.0009</td>\n",
       "      <td>0.0296</td>\n",
       "      <td>0.6044</td>\n",
       "      <td>0.0261</td>\n",
       "      <td>0.1789</td>\n",
       "    </tr>\n",
       "    <tr>\n",
       "      <th>1</th>\n",
       "      <td>0.0208</td>\n",
       "      <td>0.0007</td>\n",
       "      <td>0.0272</td>\n",
       "      <td>0.6131</td>\n",
       "      <td>0.0236</td>\n",
       "      <td>-0.1839</td>\n",
       "    </tr>\n",
       "    <tr>\n",
       "      <th>2</th>\n",
       "      <td>0.0231</td>\n",
       "      <td>0.0009</td>\n",
       "      <td>0.0299</td>\n",
       "      <td>0.5833</td>\n",
       "      <td>0.0256</td>\n",
       "      <td>-0.1777</td>\n",
       "    </tr>\n",
       "    <tr>\n",
       "      <th>3</th>\n",
       "      <td>0.0230</td>\n",
       "      <td>0.0011</td>\n",
       "      <td>0.0326</td>\n",
       "      <td>0.5017</td>\n",
       "      <td>0.0285</td>\n",
       "      <td>0.6098</td>\n",
       "    </tr>\n",
       "    <tr>\n",
       "      <th>4</th>\n",
       "      <td>0.0238</td>\n",
       "      <td>0.0011</td>\n",
       "      <td>0.0331</td>\n",
       "      <td>0.4368</td>\n",
       "      <td>0.0288</td>\n",
       "      <td>1.9321</td>\n",
       "    </tr>\n",
       "    <tr>\n",
       "      <th>5</th>\n",
       "      <td>0.0225</td>\n",
       "      <td>0.0009</td>\n",
       "      <td>0.0295</td>\n",
       "      <td>0.5412</td>\n",
       "      <td>0.0252</td>\n",
       "      <td>13.0030</td>\n",
       "    </tr>\n",
       "    <tr>\n",
       "      <th>6</th>\n",
       "      <td>0.0233</td>\n",
       "      <td>0.0009</td>\n",
       "      <td>0.0307</td>\n",
       "      <td>0.5069</td>\n",
       "      <td>0.0253</td>\n",
       "      <td>1.4009</td>\n",
       "    </tr>\n",
       "    <tr>\n",
       "      <th>7</th>\n",
       "      <td>0.0246</td>\n",
       "      <td>0.0010</td>\n",
       "      <td>0.0317</td>\n",
       "      <td>0.5210</td>\n",
       "      <td>0.0269</td>\n",
       "      <td>-0.6797</td>\n",
       "    </tr>\n",
       "    <tr>\n",
       "      <th>8</th>\n",
       "      <td>0.0242</td>\n",
       "      <td>0.0010</td>\n",
       "      <td>0.0311</td>\n",
       "      <td>0.5175</td>\n",
       "      <td>0.0266</td>\n",
       "      <td>-0.4109</td>\n",
       "    </tr>\n",
       "    <tr>\n",
       "      <th>9</th>\n",
       "      <td>0.0223</td>\n",
       "      <td>0.0008</td>\n",
       "      <td>0.0289</td>\n",
       "      <td>0.4859</td>\n",
       "      <td>0.0250</td>\n",
       "      <td>-1.3715</td>\n",
       "    </tr>\n",
       "    <tr>\n",
       "      <th>Mean</th>\n",
       "      <td>0.0230</td>\n",
       "      <td>0.0009</td>\n",
       "      <td>0.0304</td>\n",
       "      <td>0.5312</td>\n",
       "      <td>0.0262</td>\n",
       "      <td>1.4301</td>\n",
       "    </tr>\n",
       "    <tr>\n",
       "      <th>SD</th>\n",
       "      <td>0.0010</td>\n",
       "      <td>0.0001</td>\n",
       "      <td>0.0017</td>\n",
       "      <td>0.0525</td>\n",
       "      <td>0.0015</td>\n",
       "      <td>3.9661</td>\n",
       "    </tr>\n",
       "  </tbody>\n",
       "</table>\n",
       "</div>"
      ],
      "text/plain": [
       "         MAE     MSE    RMSE      R2   RMSLE     MAPE\n",
       "0     0.0225  0.0009  0.0296  0.6044  0.0261   0.1789\n",
       "1     0.0208  0.0007  0.0272  0.6131  0.0236  -0.1839\n",
       "2     0.0231  0.0009  0.0299  0.5833  0.0256  -0.1777\n",
       "3     0.0230  0.0011  0.0326  0.5017  0.0285   0.6098\n",
       "4     0.0238  0.0011  0.0331  0.4368  0.0288   1.9321\n",
       "5     0.0225  0.0009  0.0295  0.5412  0.0252  13.0030\n",
       "6     0.0233  0.0009  0.0307  0.5069  0.0253   1.4009\n",
       "7     0.0246  0.0010  0.0317  0.5210  0.0269  -0.6797\n",
       "8     0.0242  0.0010  0.0311  0.5175  0.0266  -0.4109\n",
       "9     0.0223  0.0008  0.0289  0.4859  0.0250  -1.3715\n",
       "Mean  0.0230  0.0009  0.0304  0.5312  0.0262   1.4301\n",
       "SD    0.0010  0.0001  0.0017  0.0525  0.0015   3.9661"
      ]
     },
     "metadata": {},
     "output_type": "display_data"
    }
   ],
   "source": [
    "bagged_dt = ensemble_model(dt)"
   ]
  },
  {
   "cell_type": "code",
   "execution_count": 25,
   "metadata": {},
   "outputs": [
    {
     "name": "stdout",
     "output_type": "stream",
     "text": [
      "BaggingRegressor(base_estimator=DecisionTreeRegressor(ccp_alpha=0.0,\n",
      "                                                      criterion='mse',\n",
      "                                                      max_depth=None,\n",
      "                                                      max_features=None,\n",
      "                                                      max_leaf_nodes=None,\n",
      "                                                      min_impurity_decrease=0.0,\n",
      "                                                      min_impurity_split=None,\n",
      "                                                      min_samples_leaf=1,\n",
      "                                                      min_samples_split=2,\n",
      "                                                      min_weight_fraction_leaf=0.0,\n",
      "                                                      presort='deprecated',\n",
      "                                                      random_state=123,\n",
      "                                                      splitter='best'),\n",
      "                 bootstrap=True, bootstrap_features=False, max_features=1.0,\n",
      "                 max_samples=1.0, n_estimators=10, n_jobs=None, oob_score=False,\n",
      "                 random_state=123, verbose=0, warm_start=False)\n"
     ]
    }
   ],
   "source": [
    "print(bagged_dt)"
   ]
  },
  {
   "cell_type": "markdown",
   "metadata": {},
   "source": [
    "## Boosting"
   ]
  },
  {
   "cell_type": "code",
   "execution_count": 26,
   "metadata": {},
   "outputs": [
    {
     "data": {
      "text/html": [
       "<div>\n",
       "<style scoped>\n",
       "    .dataframe tbody tr th:only-of-type {\n",
       "        vertical-align: middle;\n",
       "    }\n",
       "\n",
       "    .dataframe tbody tr th {\n",
       "        vertical-align: top;\n",
       "    }\n",
       "\n",
       "    .dataframe thead th {\n",
       "        text-align: right;\n",
       "    }\n",
       "</style>\n",
       "<table border=\"1\" class=\"dataframe\">\n",
       "  <thead>\n",
       "    <tr style=\"text-align: right;\">\n",
       "      <th></th>\n",
       "      <th>MAE</th>\n",
       "      <th>MSE</th>\n",
       "      <th>RMSE</th>\n",
       "      <th>R2</th>\n",
       "      <th>RMSLE</th>\n",
       "      <th>MAPE</th>\n",
       "    </tr>\n",
       "  </thead>\n",
       "  <tbody>\n",
       "    <tr>\n",
       "      <th>0</th>\n",
       "      <td>0.0192</td>\n",
       "      <td>0.0007</td>\n",
       "      <td>0.0259</td>\n",
       "      <td>0.6972</td>\n",
       "      <td>0.0213</td>\n",
       "      <td>0.0375</td>\n",
       "    </tr>\n",
       "    <tr>\n",
       "      <th>1</th>\n",
       "      <td>0.0214</td>\n",
       "      <td>0.0009</td>\n",
       "      <td>0.0300</td>\n",
       "      <td>0.5301</td>\n",
       "      <td>0.0252</td>\n",
       "      <td>0.1625</td>\n",
       "    </tr>\n",
       "    <tr>\n",
       "      <th>2</th>\n",
       "      <td>0.0224</td>\n",
       "      <td>0.0009</td>\n",
       "      <td>0.0296</td>\n",
       "      <td>0.5915</td>\n",
       "      <td>0.0243</td>\n",
       "      <td>-0.0938</td>\n",
       "    </tr>\n",
       "    <tr>\n",
       "      <th>3</th>\n",
       "      <td>0.0215</td>\n",
       "      <td>0.0010</td>\n",
       "      <td>0.0321</td>\n",
       "      <td>0.5165</td>\n",
       "      <td>0.0274</td>\n",
       "      <td>1.3252</td>\n",
       "    </tr>\n",
       "    <tr>\n",
       "      <th>4</th>\n",
       "      <td>0.0223</td>\n",
       "      <td>0.0010</td>\n",
       "      <td>0.0313</td>\n",
       "      <td>0.4954</td>\n",
       "      <td>0.0253</td>\n",
       "      <td>4.3938</td>\n",
       "    </tr>\n",
       "    <tr>\n",
       "      <th>5</th>\n",
       "      <td>0.0228</td>\n",
       "      <td>0.0011</td>\n",
       "      <td>0.0324</td>\n",
       "      <td>0.4450</td>\n",
       "      <td>0.0262</td>\n",
       "      <td>0.4003</td>\n",
       "    </tr>\n",
       "    <tr>\n",
       "      <th>6</th>\n",
       "      <td>0.0203</td>\n",
       "      <td>0.0008</td>\n",
       "      <td>0.0282</td>\n",
       "      <td>0.5850</td>\n",
       "      <td>0.0230</td>\n",
       "      <td>1.7753</td>\n",
       "    </tr>\n",
       "    <tr>\n",
       "      <th>7</th>\n",
       "      <td>0.0229</td>\n",
       "      <td>0.0010</td>\n",
       "      <td>0.0318</td>\n",
       "      <td>0.5179</td>\n",
       "      <td>0.0262</td>\n",
       "      <td>-0.0201</td>\n",
       "    </tr>\n",
       "    <tr>\n",
       "      <th>8</th>\n",
       "      <td>0.0221</td>\n",
       "      <td>0.0009</td>\n",
       "      <td>0.0298</td>\n",
       "      <td>0.5570</td>\n",
       "      <td>0.0250</td>\n",
       "      <td>-0.7731</td>\n",
       "    </tr>\n",
       "    <tr>\n",
       "      <th>9</th>\n",
       "      <td>0.0200</td>\n",
       "      <td>0.0008</td>\n",
       "      <td>0.0280</td>\n",
       "      <td>0.5170</td>\n",
       "      <td>0.0236</td>\n",
       "      <td>-1.6740</td>\n",
       "    </tr>\n",
       "    <tr>\n",
       "      <th>Mean</th>\n",
       "      <td>0.0215</td>\n",
       "      <td>0.0009</td>\n",
       "      <td>0.0299</td>\n",
       "      <td>0.5453</td>\n",
       "      <td>0.0247</td>\n",
       "      <td>0.5534</td>\n",
       "    </tr>\n",
       "    <tr>\n",
       "      <th>SD</th>\n",
       "      <td>0.0012</td>\n",
       "      <td>0.0001</td>\n",
       "      <td>0.0020</td>\n",
       "      <td>0.0649</td>\n",
       "      <td>0.0017</td>\n",
       "      <td>1.5732</td>\n",
       "    </tr>\n",
       "  </tbody>\n",
       "</table>\n",
       "</div>"
      ],
      "text/plain": [
       "         MAE     MSE    RMSE      R2   RMSLE    MAPE\n",
       "0     0.0192  0.0007  0.0259  0.6972  0.0213  0.0375\n",
       "1     0.0214  0.0009  0.0300  0.5301  0.0252  0.1625\n",
       "2     0.0224  0.0009  0.0296  0.5915  0.0243 -0.0938\n",
       "3     0.0215  0.0010  0.0321  0.5165  0.0274  1.3252\n",
       "4     0.0223  0.0010  0.0313  0.4954  0.0253  4.3938\n",
       "5     0.0228  0.0011  0.0324  0.4450  0.0262  0.4003\n",
       "6     0.0203  0.0008  0.0282  0.5850  0.0230  1.7753\n",
       "7     0.0229  0.0010  0.0318  0.5179  0.0262 -0.0201\n",
       "8     0.0221  0.0009  0.0298  0.5570  0.0250 -0.7731\n",
       "9     0.0200  0.0008  0.0280  0.5170  0.0236 -1.6740\n",
       "Mean  0.0215  0.0009  0.0299  0.5453  0.0247  0.5534\n",
       "SD    0.0012  0.0001  0.0020  0.0649  0.0017  1.5732"
      ]
     },
     "metadata": {},
     "output_type": "display_data"
    }
   ],
   "source": [
    "boosted_dt = ensemble_model(dt, method = 'Boosting')"
   ]
  },
  {
   "cell_type": "code",
   "execution_count": 27,
   "metadata": {},
   "outputs": [
    {
     "data": {
      "text/html": [
       "<div>\n",
       "<style scoped>\n",
       "    .dataframe tbody tr th:only-of-type {\n",
       "        vertical-align: middle;\n",
       "    }\n",
       "\n",
       "    .dataframe tbody tr th {\n",
       "        vertical-align: top;\n",
       "    }\n",
       "\n",
       "    .dataframe thead th {\n",
       "        text-align: right;\n",
       "    }\n",
       "</style>\n",
       "<table border=\"1\" class=\"dataframe\">\n",
       "  <thead>\n",
       "    <tr style=\"text-align: right;\">\n",
       "      <th></th>\n",
       "      <th>MAE</th>\n",
       "      <th>MSE</th>\n",
       "      <th>RMSE</th>\n",
       "      <th>R2</th>\n",
       "      <th>RMSLE</th>\n",
       "      <th>MAPE</th>\n",
       "    </tr>\n",
       "  </thead>\n",
       "  <tbody>\n",
       "    <tr>\n",
       "      <th>0</th>\n",
       "      <td>0.0226</td>\n",
       "      <td>0.0008</td>\n",
       "      <td>0.0290</td>\n",
       "      <td>0.6181</td>\n",
       "      <td>0.0265</td>\n",
       "      <td>-0.0266</td>\n",
       "    </tr>\n",
       "    <tr>\n",
       "      <th>1</th>\n",
       "      <td>0.0208</td>\n",
       "      <td>0.0008</td>\n",
       "      <td>0.0275</td>\n",
       "      <td>0.6043</td>\n",
       "      <td>0.0245</td>\n",
       "      <td>-0.0244</td>\n",
       "    </tr>\n",
       "    <tr>\n",
       "      <th>2</th>\n",
       "      <td>0.0217</td>\n",
       "      <td>0.0008</td>\n",
       "      <td>0.0284</td>\n",
       "      <td>0.6233</td>\n",
       "      <td>0.0258</td>\n",
       "      <td>-0.1510</td>\n",
       "    </tr>\n",
       "    <tr>\n",
       "      <th>3</th>\n",
       "      <td>0.0219</td>\n",
       "      <td>0.0010</td>\n",
       "      <td>0.0315</td>\n",
       "      <td>0.5355</td>\n",
       "      <td>0.0285</td>\n",
       "      <td>0.1387</td>\n",
       "    </tr>\n",
       "    <tr>\n",
       "      <th>4</th>\n",
       "      <td>0.0227</td>\n",
       "      <td>0.0009</td>\n",
       "      <td>0.0307</td>\n",
       "      <td>0.5149</td>\n",
       "      <td>0.0280</td>\n",
       "      <td>1.7023</td>\n",
       "    </tr>\n",
       "    <tr>\n",
       "      <th>5</th>\n",
       "      <td>0.0220</td>\n",
       "      <td>0.0009</td>\n",
       "      <td>0.0295</td>\n",
       "      <td>0.5417</td>\n",
       "      <td>0.0255</td>\n",
       "      <td>2.4272</td>\n",
       "    </tr>\n",
       "    <tr>\n",
       "      <th>6</th>\n",
       "      <td>0.0226</td>\n",
       "      <td>0.0009</td>\n",
       "      <td>0.0300</td>\n",
       "      <td>0.5293</td>\n",
       "      <td>0.0276</td>\n",
       "      <td>1.7334</td>\n",
       "    </tr>\n",
       "    <tr>\n",
       "      <th>7</th>\n",
       "      <td>0.0231</td>\n",
       "      <td>0.0009</td>\n",
       "      <td>0.0298</td>\n",
       "      <td>0.5761</td>\n",
       "      <td>0.0265</td>\n",
       "      <td>-0.8460</td>\n",
       "    </tr>\n",
       "    <tr>\n",
       "      <th>8</th>\n",
       "      <td>0.0222</td>\n",
       "      <td>0.0009</td>\n",
       "      <td>0.0294</td>\n",
       "      <td>0.5711</td>\n",
       "      <td>0.0265</td>\n",
       "      <td>-0.2945</td>\n",
       "    </tr>\n",
       "    <tr>\n",
       "      <th>9</th>\n",
       "      <td>0.0204</td>\n",
       "      <td>0.0007</td>\n",
       "      <td>0.0267</td>\n",
       "      <td>0.5619</td>\n",
       "      <td>0.0244</td>\n",
       "      <td>-1.2359</td>\n",
       "    </tr>\n",
       "    <tr>\n",
       "      <th>Mean</th>\n",
       "      <td>0.0220</td>\n",
       "      <td>0.0009</td>\n",
       "      <td>0.0292</td>\n",
       "      <td>0.5676</td>\n",
       "      <td>0.0264</td>\n",
       "      <td>0.3423</td>\n",
       "    </tr>\n",
       "    <tr>\n",
       "      <th>SD</th>\n",
       "      <td>0.0008</td>\n",
       "      <td>0.0001</td>\n",
       "      <td>0.0014</td>\n",
       "      <td>0.0361</td>\n",
       "      <td>0.0013</td>\n",
       "      <td>1.1400</td>\n",
       "    </tr>\n",
       "  </tbody>\n",
       "</table>\n",
       "</div>"
      ],
      "text/plain": [
       "         MAE     MSE    RMSE      R2   RMSLE    MAPE\n",
       "0     0.0226  0.0008  0.0290  0.6181  0.0265 -0.0266\n",
       "1     0.0208  0.0008  0.0275  0.6043  0.0245 -0.0244\n",
       "2     0.0217  0.0008  0.0284  0.6233  0.0258 -0.1510\n",
       "3     0.0219  0.0010  0.0315  0.5355  0.0285  0.1387\n",
       "4     0.0227  0.0009  0.0307  0.5149  0.0280  1.7023\n",
       "5     0.0220  0.0009  0.0295  0.5417  0.0255  2.4272\n",
       "6     0.0226  0.0009  0.0300  0.5293  0.0276  1.7334\n",
       "7     0.0231  0.0009  0.0298  0.5761  0.0265 -0.8460\n",
       "8     0.0222  0.0009  0.0294  0.5711  0.0265 -0.2945\n",
       "9     0.0204  0.0007  0.0267  0.5619  0.0244 -1.2359\n",
       "Mean  0.0220  0.0009  0.0292  0.5676  0.0264  0.3423\n",
       "SD    0.0008  0.0001  0.0014  0.0361  0.0013  1.1400"
      ]
     },
     "metadata": {},
     "output_type": "display_data"
    }
   ],
   "source": [
    "bagged_dt2 = ensemble_model(dt, n_estimators=50)"
   ]
  },
  {
   "cell_type": "code",
   "execution_count": 28,
   "metadata": {},
   "outputs": [
    {
     "data": {
      "text/html": [
       "<div>\n",
       "<style scoped>\n",
       "    .dataframe tbody tr th:only-of-type {\n",
       "        vertical-align: middle;\n",
       "    }\n",
       "\n",
       "    .dataframe tbody tr th {\n",
       "        vertical-align: top;\n",
       "    }\n",
       "\n",
       "    .dataframe thead th {\n",
       "        text-align: right;\n",
       "    }\n",
       "</style>\n",
       "<table border=\"1\" class=\"dataframe\">\n",
       "  <thead>\n",
       "    <tr style=\"text-align: right;\">\n",
       "      <th></th>\n",
       "      <th>MAE</th>\n",
       "      <th>MSE</th>\n",
       "      <th>RMSE</th>\n",
       "      <th>R2</th>\n",
       "      <th>RMSLE</th>\n",
       "      <th>MAPE</th>\n",
       "    </tr>\n",
       "  </thead>\n",
       "  <tbody>\n",
       "    <tr>\n",
       "      <th>0</th>\n",
       "      <td>0.0308</td>\n",
       "      <td>0.0019</td>\n",
       "      <td>0.0430</td>\n",
       "      <td>0.1608</td>\n",
       "      <td>0.0275</td>\n",
       "      <td>-0.4603</td>\n",
       "    </tr>\n",
       "    <tr>\n",
       "      <th>1</th>\n",
       "      <td>0.0298</td>\n",
       "      <td>0.0019</td>\n",
       "      <td>0.0436</td>\n",
       "      <td>0.0040</td>\n",
       "      <td>0.0279</td>\n",
       "      <td>0.1744</td>\n",
       "    </tr>\n",
       "    <tr>\n",
       "      <th>2</th>\n",
       "      <td>0.0278</td>\n",
       "      <td>0.0014</td>\n",
       "      <td>0.0378</td>\n",
       "      <td>0.3355</td>\n",
       "      <td>0.0245</td>\n",
       "      <td>1.1800</td>\n",
       "    </tr>\n",
       "    <tr>\n",
       "      <th>3</th>\n",
       "      <td>0.0291</td>\n",
       "      <td>0.0017</td>\n",
       "      <td>0.0409</td>\n",
       "      <td>0.2153</td>\n",
       "      <td>0.0274</td>\n",
       "      <td>4.4645</td>\n",
       "    </tr>\n",
       "    <tr>\n",
       "      <th>4</th>\n",
       "      <td>0.0316</td>\n",
       "      <td>0.0019</td>\n",
       "      <td>0.0436</td>\n",
       "      <td>0.0240</td>\n",
       "      <td>0.0289</td>\n",
       "      <td>4.9359</td>\n",
       "    </tr>\n",
       "    <tr>\n",
       "      <th>5</th>\n",
       "      <td>0.0302</td>\n",
       "      <td>0.0018</td>\n",
       "      <td>0.0429</td>\n",
       "      <td>0.0268</td>\n",
       "      <td>0.0296</td>\n",
       "      <td>10.2501</td>\n",
       "    </tr>\n",
       "    <tr>\n",
       "      <th>6</th>\n",
       "      <td>0.0279</td>\n",
       "      <td>0.0016</td>\n",
       "      <td>0.0400</td>\n",
       "      <td>0.1619</td>\n",
       "      <td>0.0281</td>\n",
       "      <td>2.8188</td>\n",
       "    </tr>\n",
       "    <tr>\n",
       "      <th>7</th>\n",
       "      <td>0.0305</td>\n",
       "      <td>0.0019</td>\n",
       "      <td>0.0432</td>\n",
       "      <td>0.1125</td>\n",
       "      <td>0.0266</td>\n",
       "      <td>-2.7569</td>\n",
       "    </tr>\n",
       "    <tr>\n",
       "      <th>8</th>\n",
       "      <td>0.0296</td>\n",
       "      <td>0.0017</td>\n",
       "      <td>0.0407</td>\n",
       "      <td>0.1766</td>\n",
       "      <td>0.0280</td>\n",
       "      <td>-1.2896</td>\n",
       "    </tr>\n",
       "    <tr>\n",
       "      <th>9</th>\n",
       "      <td>0.0284</td>\n",
       "      <td>0.0015</td>\n",
       "      <td>0.0392</td>\n",
       "      <td>0.0504</td>\n",
       "      <td>0.0268</td>\n",
       "      <td>4.3747</td>\n",
       "    </tr>\n",
       "    <tr>\n",
       "      <th>Mean</th>\n",
       "      <td>0.0296</td>\n",
       "      <td>0.0017</td>\n",
       "      <td>0.0415</td>\n",
       "      <td>0.1268</td>\n",
       "      <td>0.0275</td>\n",
       "      <td>2.3692</td>\n",
       "    </tr>\n",
       "    <tr>\n",
       "      <th>SD</th>\n",
       "      <td>0.0012</td>\n",
       "      <td>0.0002</td>\n",
       "      <td>0.0020</td>\n",
       "      <td>0.0990</td>\n",
       "      <td>0.0013</td>\n",
       "      <td>3.6223</td>\n",
       "    </tr>\n",
       "  </tbody>\n",
       "</table>\n",
       "</div>"
      ],
      "text/plain": [
       "         MAE     MSE    RMSE      R2   RMSLE     MAPE\n",
       "0     0.0308  0.0019  0.0430  0.1608  0.0275  -0.4603\n",
       "1     0.0298  0.0019  0.0436  0.0040  0.0279   0.1744\n",
       "2     0.0278  0.0014  0.0378  0.3355  0.0245   1.1800\n",
       "3     0.0291  0.0017  0.0409  0.2153  0.0274   4.4645\n",
       "4     0.0316  0.0019  0.0436  0.0240  0.0289   4.9359\n",
       "5     0.0302  0.0018  0.0429  0.0268  0.0296  10.2501\n",
       "6     0.0279  0.0016  0.0400  0.1619  0.0281   2.8188\n",
       "7     0.0305  0.0019  0.0432  0.1125  0.0266  -2.7569\n",
       "8     0.0296  0.0017  0.0407  0.1766  0.0280  -1.2896\n",
       "9     0.0284  0.0015  0.0392  0.0504  0.0268   4.3747\n",
       "Mean  0.0296  0.0017  0.0415  0.1268  0.0275   2.3692\n",
       "SD    0.0012  0.0002  0.0020  0.0990  0.0013   3.6223"
      ]
     },
     "metadata": {},
     "output_type": "display_data"
    }
   ],
   "source": [
    "tuned_bagged_dt = tune_model('dt', ensemble = True, method = 'Bagging', n_iter = 1)"
   ]
  },
  {
   "cell_type": "code",
   "execution_count": 29,
   "metadata": {},
   "outputs": [
    {
     "name": "stdout",
     "output_type": "stream",
     "text": [
      "BaggingRegressor(base_estimator=DecisionTreeRegressor(ccp_alpha=0.0,\n",
      "                                                      criterion='mse',\n",
      "                                                      max_depth=17,\n",
      "                                                      max_features=None,\n",
      "                                                      max_leaf_nodes=None,\n",
      "                                                      min_impurity_decrease=0.0,\n",
      "                                                      min_impurity_split=None,\n",
      "                                                      min_samples_leaf=5,\n",
      "                                                      min_samples_split=2,\n",
      "                                                      min_weight_fraction_leaf=0.0,\n",
      "                                                      presort='deprecated',\n",
      "                                                      random_state=123,\n",
      "                                                      splitter='best'),\n",
      "                 bootstrap=False, bootstrap_features=False, max_features=1.0,\n",
      "                 max_samples=1.0, n_estimators=230, n_jobs=None,\n",
      "                 oob_score=False, random_state=123, verbose=0,\n",
      "                 warm_start=False)\n"
     ]
    }
   ],
   "source": [
    "print(tuned_bagged_dt)"
   ]
  },
  {
   "cell_type": "markdown",
   "metadata": {},
   "source": [
    "## Blending"
   ]
  },
  {
   "cell_type": "code",
   "execution_count": 30,
   "metadata": {},
   "outputs": [
    {
     "data": {
      "text/html": [
       "<div>\n",
       "<style scoped>\n",
       "    .dataframe tbody tr th:only-of-type {\n",
       "        vertical-align: middle;\n",
       "    }\n",
       "\n",
       "    .dataframe tbody tr th {\n",
       "        vertical-align: top;\n",
       "    }\n",
       "\n",
       "    .dataframe thead th {\n",
       "        text-align: right;\n",
       "    }\n",
       "</style>\n",
       "<table border=\"1\" class=\"dataframe\">\n",
       "  <thead>\n",
       "    <tr style=\"text-align: right;\">\n",
       "      <th></th>\n",
       "      <th>MAE</th>\n",
       "      <th>MSE</th>\n",
       "      <th>RMSE</th>\n",
       "      <th>R2</th>\n",
       "      <th>RMSLE</th>\n",
       "      <th>MAPE</th>\n",
       "    </tr>\n",
       "  </thead>\n",
       "  <tbody>\n",
       "    <tr>\n",
       "      <th>0</th>\n",
       "      <td>0.0312</td>\n",
       "      <td>0.0016</td>\n",
       "      <td>0.0397</td>\n",
       "      <td>0.2845</td>\n",
       "      <td>0.0300</td>\n",
       "      <td>-0.0939</td>\n",
       "    </tr>\n",
       "    <tr>\n",
       "      <th>1</th>\n",
       "      <td>0.0345</td>\n",
       "      <td>0.0019</td>\n",
       "      <td>0.0440</td>\n",
       "      <td>-0.0132</td>\n",
       "      <td>0.0330</td>\n",
       "      <td>-0.4292</td>\n",
       "    </tr>\n",
       "    <tr>\n",
       "      <th>2</th>\n",
       "      <td>0.0356</td>\n",
       "      <td>0.0020</td>\n",
       "      <td>0.0443</td>\n",
       "      <td>0.0852</td>\n",
       "      <td>0.0305</td>\n",
       "      <td>1.1342</td>\n",
       "    </tr>\n",
       "    <tr>\n",
       "      <th>3</th>\n",
       "      <td>0.0367</td>\n",
       "      <td>0.0022</td>\n",
       "      <td>0.0472</td>\n",
       "      <td>-0.0461</td>\n",
       "      <td>0.0362</td>\n",
       "      <td>4.4531</td>\n",
       "    </tr>\n",
       "    <tr>\n",
       "      <th>4</th>\n",
       "      <td>0.0298</td>\n",
       "      <td>0.0014</td>\n",
       "      <td>0.0380</td>\n",
       "      <td>0.2568</td>\n",
       "      <td>0.0338</td>\n",
       "      <td>2.7426</td>\n",
       "    </tr>\n",
       "    <tr>\n",
       "      <th>5</th>\n",
       "      <td>0.0275</td>\n",
       "      <td>0.0013</td>\n",
       "      <td>0.0365</td>\n",
       "      <td>0.2966</td>\n",
       "      <td>0.0313</td>\n",
       "      <td>7.3192</td>\n",
       "    </tr>\n",
       "    <tr>\n",
       "      <th>6</th>\n",
       "      <td>0.0474</td>\n",
       "      <td>0.0032</td>\n",
       "      <td>0.0565</td>\n",
       "      <td>-0.6701</td>\n",
       "      <td>0.0300</td>\n",
       "      <td>4.8695</td>\n",
       "    </tr>\n",
       "    <tr>\n",
       "      <th>7</th>\n",
       "      <td>0.0414</td>\n",
       "      <td>0.0027</td>\n",
       "      <td>0.0520</td>\n",
       "      <td>-0.2857</td>\n",
       "      <td>0.0342</td>\n",
       "      <td>-1.5021</td>\n",
       "    </tr>\n",
       "    <tr>\n",
       "      <th>8</th>\n",
       "      <td>0.0318</td>\n",
       "      <td>0.0017</td>\n",
       "      <td>0.0409</td>\n",
       "      <td>0.1696</td>\n",
       "      <td>0.0323</td>\n",
       "      <td>-0.0818</td>\n",
       "    </tr>\n",
       "    <tr>\n",
       "      <th>9</th>\n",
       "      <td>0.0323</td>\n",
       "      <td>0.0016</td>\n",
       "      <td>0.0399</td>\n",
       "      <td>0.0191</td>\n",
       "      <td>0.0245</td>\n",
       "      <td>-4.4372</td>\n",
       "    </tr>\n",
       "    <tr>\n",
       "      <th>Mean</th>\n",
       "      <td>0.0348</td>\n",
       "      <td>0.0020</td>\n",
       "      <td>0.0439</td>\n",
       "      <td>0.0097</td>\n",
       "      <td>0.0316</td>\n",
       "      <td>1.3974</td>\n",
       "    </tr>\n",
       "    <tr>\n",
       "      <th>SD</th>\n",
       "      <td>0.0056</td>\n",
       "      <td>0.0006</td>\n",
       "      <td>0.0061</td>\n",
       "      <td>0.2834</td>\n",
       "      <td>0.0030</td>\n",
       "      <td>3.2945</td>\n",
       "    </tr>\n",
       "  </tbody>\n",
       "</table>\n",
       "</div>"
      ],
      "text/plain": [
       "         MAE     MSE    RMSE      R2   RMSLE    MAPE\n",
       "0     0.0312  0.0016  0.0397  0.2845  0.0300 -0.0939\n",
       "1     0.0345  0.0019  0.0440 -0.0132  0.0330 -0.4292\n",
       "2     0.0356  0.0020  0.0443  0.0852  0.0305  1.1342\n",
       "3     0.0367  0.0022  0.0472 -0.0461  0.0362  4.4531\n",
       "4     0.0298  0.0014  0.0380  0.2568  0.0338  2.7426\n",
       "5     0.0275  0.0013  0.0365  0.2966  0.0313  7.3192\n",
       "6     0.0474  0.0032  0.0565 -0.6701  0.0300  4.8695\n",
       "7     0.0414  0.0027  0.0520 -0.2857  0.0342 -1.5021\n",
       "8     0.0318  0.0017  0.0409  0.1696  0.0323 -0.0818\n",
       "9     0.0323  0.0016  0.0399  0.0191  0.0245 -4.4372\n",
       "Mean  0.0348  0.0020  0.0439  0.0097  0.0316  1.3974\n",
       "SD    0.0056  0.0006  0.0061  0.2834  0.0030  3.2945"
      ]
     },
     "metadata": {},
     "output_type": "display_data"
    }
   ],
   "source": [
    "blend_all = blend_models()"
   ]
  },
  {
   "cell_type": "code",
   "execution_count": 31,
   "metadata": {},
   "outputs": [],
   "source": [
    "huber = create_model('huber', verbose = False)\n",
    "dt = create_model('dt', verbose = False)\n",
    "lightgbm = create_model('lightgbm', verbose = False)\n",
    "ridge = create_model('ridge', verbose = False)"
   ]
  },
  {
   "cell_type": "markdown",
   "metadata": {},
   "source": [
    "## Stacking"
   ]
  },
  {
   "cell_type": "code",
   "execution_count": 32,
   "metadata": {},
   "outputs": [
    {
     "data": {
      "text/html": [
       "<div>\n",
       "<style scoped>\n",
       "    .dataframe tbody tr th:only-of-type {\n",
       "        vertical-align: middle;\n",
       "    }\n",
       "\n",
       "    .dataframe tbody tr th {\n",
       "        vertical-align: top;\n",
       "    }\n",
       "\n",
       "    .dataframe thead th {\n",
       "        text-align: right;\n",
       "    }\n",
       "</style>\n",
       "<table border=\"1\" class=\"dataframe\">\n",
       "  <thead>\n",
       "    <tr style=\"text-align: right;\">\n",
       "      <th></th>\n",
       "      <th>MAE</th>\n",
       "      <th>MSE</th>\n",
       "      <th>RMSE</th>\n",
       "      <th>R2</th>\n",
       "      <th>RMSLE</th>\n",
       "      <th>MAPE</th>\n",
       "    </tr>\n",
       "  </thead>\n",
       "  <tbody>\n",
       "    <tr>\n",
       "      <th>0</th>\n",
       "      <td>0.0181</td>\n",
       "      <td>0.0005</td>\n",
       "      <td>0.0226</td>\n",
       "      <td>0.7681</td>\n",
       "      <td>0.0198</td>\n",
       "      <td>0.6821</td>\n",
       "    </tr>\n",
       "    <tr>\n",
       "      <th>1</th>\n",
       "      <td>0.0183</td>\n",
       "      <td>0.0005</td>\n",
       "      <td>0.0233</td>\n",
       "      <td>0.7155</td>\n",
       "      <td>0.0203</td>\n",
       "      <td>0.2546</td>\n",
       "    </tr>\n",
       "    <tr>\n",
       "      <th>2</th>\n",
       "      <td>0.0178</td>\n",
       "      <td>0.0005</td>\n",
       "      <td>0.0228</td>\n",
       "      <td>0.7573</td>\n",
       "      <td>0.0193</td>\n",
       "      <td>1.4615</td>\n",
       "    </tr>\n",
       "    <tr>\n",
       "      <th>3</th>\n",
       "      <td>0.0188</td>\n",
       "      <td>0.0007</td>\n",
       "      <td>0.0265</td>\n",
       "      <td>0.6708</td>\n",
       "      <td>0.0232</td>\n",
       "      <td>0.4508</td>\n",
       "    </tr>\n",
       "    <tr>\n",
       "      <th>4</th>\n",
       "      <td>0.0190</td>\n",
       "      <td>0.0007</td>\n",
       "      <td>0.0257</td>\n",
       "      <td>0.6620</td>\n",
       "      <td>0.0215</td>\n",
       "      <td>0.6142</td>\n",
       "    </tr>\n",
       "    <tr>\n",
       "      <th>5</th>\n",
       "      <td>0.0198</td>\n",
       "      <td>0.0006</td>\n",
       "      <td>0.0244</td>\n",
       "      <td>0.6867</td>\n",
       "      <td>0.0214</td>\n",
       "      <td>13.0202</td>\n",
       "    </tr>\n",
       "    <tr>\n",
       "      <th>6</th>\n",
       "      <td>0.0164</td>\n",
       "      <td>0.0004</td>\n",
       "      <td>0.0210</td>\n",
       "      <td>0.7691</td>\n",
       "      <td>0.0179</td>\n",
       "      <td>1.0049</td>\n",
       "    </tr>\n",
       "    <tr>\n",
       "      <th>7</th>\n",
       "      <td>0.0188</td>\n",
       "      <td>0.0006</td>\n",
       "      <td>0.0238</td>\n",
       "      <td>0.7292</td>\n",
       "      <td>0.0209</td>\n",
       "      <td>-0.9594</td>\n",
       "    </tr>\n",
       "    <tr>\n",
       "      <th>8</th>\n",
       "      <td>0.0175</td>\n",
       "      <td>0.0006</td>\n",
       "      <td>0.0243</td>\n",
       "      <td>0.7059</td>\n",
       "      <td>0.0209</td>\n",
       "      <td>-0.7752</td>\n",
       "    </tr>\n",
       "    <tr>\n",
       "      <th>9</th>\n",
       "      <td>0.0197</td>\n",
       "      <td>0.0007</td>\n",
       "      <td>0.0264</td>\n",
       "      <td>0.5709</td>\n",
       "      <td>0.0221</td>\n",
       "      <td>1.3678</td>\n",
       "    </tr>\n",
       "    <tr>\n",
       "      <th>Mean</th>\n",
       "      <td>0.0184</td>\n",
       "      <td>0.0006</td>\n",
       "      <td>0.0241</td>\n",
       "      <td>0.7035</td>\n",
       "      <td>0.0207</td>\n",
       "      <td>1.7121</td>\n",
       "    </tr>\n",
       "    <tr>\n",
       "      <th>SD</th>\n",
       "      <td>0.0010</td>\n",
       "      <td>0.0001</td>\n",
       "      <td>0.0017</td>\n",
       "      <td>0.0573</td>\n",
       "      <td>0.0014</td>\n",
       "      <td>3.8453</td>\n",
       "    </tr>\n",
       "  </tbody>\n",
       "</table>\n",
       "</div>"
      ],
      "text/plain": [
       "         MAE     MSE    RMSE      R2   RMSLE     MAPE\n",
       "0     0.0181  0.0005  0.0226  0.7681  0.0198   0.6821\n",
       "1     0.0183  0.0005  0.0233  0.7155  0.0203   0.2546\n",
       "2     0.0178  0.0005  0.0228  0.7573  0.0193   1.4615\n",
       "3     0.0188  0.0007  0.0265  0.6708  0.0232   0.4508\n",
       "4     0.0190  0.0007  0.0257  0.6620  0.0215   0.6142\n",
       "5     0.0198  0.0006  0.0244  0.6867  0.0214  13.0202\n",
       "6     0.0164  0.0004  0.0210  0.7691  0.0179   1.0049\n",
       "7     0.0188  0.0006  0.0238  0.7292  0.0209  -0.9594\n",
       "8     0.0175  0.0006  0.0243  0.7059  0.0209  -0.7752\n",
       "9     0.0197  0.0007  0.0264  0.5709  0.0221   1.3678\n",
       "Mean  0.0184  0.0006  0.0241  0.7035  0.0207   1.7121\n",
       "SD    0.0010  0.0001  0.0017  0.0573  0.0014   3.8453"
      ]
     },
     "metadata": {},
     "output_type": "display_data"
    }
   ],
   "source": [
    "stack_1 = stack_models([huber,dt,lightgbm,ridge])"
   ]
  },
  {
   "cell_type": "code",
   "execution_count": 33,
   "metadata": {},
   "outputs": [
    {
     "data": {
      "text/html": [
       "<div>\n",
       "<style scoped>\n",
       "    .dataframe tbody tr th:only-of-type {\n",
       "        vertical-align: middle;\n",
       "    }\n",
       "\n",
       "    .dataframe tbody tr th {\n",
       "        vertical-align: top;\n",
       "    }\n",
       "\n",
       "    .dataframe thead th {\n",
       "        text-align: right;\n",
       "    }\n",
       "</style>\n",
       "<table border=\"1\" class=\"dataframe\">\n",
       "  <thead>\n",
       "    <tr style=\"text-align: right;\">\n",
       "      <th></th>\n",
       "      <th>MAE</th>\n",
       "      <th>MSE</th>\n",
       "      <th>RMSE</th>\n",
       "      <th>R2</th>\n",
       "      <th>RMSLE</th>\n",
       "      <th>MAPE</th>\n",
       "    </tr>\n",
       "  </thead>\n",
       "  <tbody>\n",
       "    <tr>\n",
       "      <th>0</th>\n",
       "      <td>0.0231</td>\n",
       "      <td>0.0008</td>\n",
       "      <td>0.0289</td>\n",
       "      <td>0.6220</td>\n",
       "      <td>0.0256</td>\n",
       "      <td>-0.2097</td>\n",
       "    </tr>\n",
       "    <tr>\n",
       "      <th>1</th>\n",
       "      <td>0.0218</td>\n",
       "      <td>0.0009</td>\n",
       "      <td>0.0298</td>\n",
       "      <td>0.5363</td>\n",
       "      <td>0.0267</td>\n",
       "      <td>-0.3432</td>\n",
       "    </tr>\n",
       "    <tr>\n",
       "      <th>2</th>\n",
       "      <td>0.0215</td>\n",
       "      <td>0.0008</td>\n",
       "      <td>0.0276</td>\n",
       "      <td>0.6446</td>\n",
       "      <td>0.0247</td>\n",
       "      <td>0.4249</td>\n",
       "    </tr>\n",
       "    <tr>\n",
       "      <th>3</th>\n",
       "      <td>0.0225</td>\n",
       "      <td>0.0012</td>\n",
       "      <td>0.0349</td>\n",
       "      <td>0.4279</td>\n",
       "      <td>0.0296</td>\n",
       "      <td>1.7524</td>\n",
       "    </tr>\n",
       "    <tr>\n",
       "      <th>4</th>\n",
       "      <td>0.0242</td>\n",
       "      <td>0.0011</td>\n",
       "      <td>0.0334</td>\n",
       "      <td>0.4262</td>\n",
       "      <td>0.0288</td>\n",
       "      <td>2.3415</td>\n",
       "    </tr>\n",
       "    <tr>\n",
       "      <th>5</th>\n",
       "      <td>0.0226</td>\n",
       "      <td>0.0009</td>\n",
       "      <td>0.0301</td>\n",
       "      <td>0.5202</td>\n",
       "      <td>0.0270</td>\n",
       "      <td>3.5779</td>\n",
       "    </tr>\n",
       "    <tr>\n",
       "      <th>6</th>\n",
       "      <td>0.0218</td>\n",
       "      <td>0.0009</td>\n",
       "      <td>0.0295</td>\n",
       "      <td>0.5455</td>\n",
       "      <td>0.0262</td>\n",
       "      <td>0.6028</td>\n",
       "    </tr>\n",
       "    <tr>\n",
       "      <th>7</th>\n",
       "      <td>0.0227</td>\n",
       "      <td>0.0008</td>\n",
       "      <td>0.0291</td>\n",
       "      <td>0.5969</td>\n",
       "      <td>0.0256</td>\n",
       "      <td>-1.1780</td>\n",
       "    </tr>\n",
       "    <tr>\n",
       "      <th>8</th>\n",
       "      <td>0.0212</td>\n",
       "      <td>0.0008</td>\n",
       "      <td>0.0283</td>\n",
       "      <td>0.6010</td>\n",
       "      <td>0.0254</td>\n",
       "      <td>-0.6203</td>\n",
       "    </tr>\n",
       "    <tr>\n",
       "      <th>9</th>\n",
       "      <td>0.0219</td>\n",
       "      <td>0.0008</td>\n",
       "      <td>0.0284</td>\n",
       "      <td>0.5023</td>\n",
       "      <td>0.0254</td>\n",
       "      <td>0.6982</td>\n",
       "    </tr>\n",
       "    <tr>\n",
       "      <th>Mean</th>\n",
       "      <td>0.0223</td>\n",
       "      <td>0.0009</td>\n",
       "      <td>0.0300</td>\n",
       "      <td>0.5423</td>\n",
       "      <td>0.0265</td>\n",
       "      <td>0.7046</td>\n",
       "    </tr>\n",
       "    <tr>\n",
       "      <th>SD</th>\n",
       "      <td>0.0008</td>\n",
       "      <td>0.0001</td>\n",
       "      <td>0.0022</td>\n",
       "      <td>0.0721</td>\n",
       "      <td>0.0015</td>\n",
       "      <td>1.3912</td>\n",
       "    </tr>\n",
       "  </tbody>\n",
       "</table>\n",
       "</div>"
      ],
      "text/plain": [
       "         MAE     MSE    RMSE      R2   RMSLE    MAPE\n",
       "0     0.0231  0.0008  0.0289  0.6220  0.0256 -0.2097\n",
       "1     0.0218  0.0009  0.0298  0.5363  0.0267 -0.3432\n",
       "2     0.0215  0.0008  0.0276  0.6446  0.0247  0.4249\n",
       "3     0.0225  0.0012  0.0349  0.4279  0.0296  1.7524\n",
       "4     0.0242  0.0011  0.0334  0.4262  0.0288  2.3415\n",
       "5     0.0226  0.0009  0.0301  0.5202  0.0270  3.5779\n",
       "6     0.0218  0.0009  0.0295  0.5455  0.0262  0.6028\n",
       "7     0.0227  0.0008  0.0291  0.5969  0.0256 -1.1780\n",
       "8     0.0212  0.0008  0.0283  0.6010  0.0254 -0.6203\n",
       "9     0.0219  0.0008  0.0284  0.5023  0.0254  0.6982\n",
       "Mean  0.0223  0.0009  0.0300  0.5423  0.0265  0.7046\n",
       "SD    0.0008  0.0001  0.0022  0.0721  0.0015  1.3912"
      ]
     },
     "metadata": {},
     "output_type": "display_data"
    }
   ],
   "source": [
    "stack_1 = stack_models([huber,dt,lightgbm], meta_model = ridge)"
   ]
  },
  {
   "cell_type": "code",
   "execution_count": 34,
   "metadata": {},
   "outputs": [
    {
     "data": {
      "text/html": [
       "<div>\n",
       "<style scoped>\n",
       "    .dataframe tbody tr th:only-of-type {\n",
       "        vertical-align: middle;\n",
       "    }\n",
       "\n",
       "    .dataframe tbody tr th {\n",
       "        vertical-align: top;\n",
       "    }\n",
       "\n",
       "    .dataframe thead th {\n",
       "        text-align: right;\n",
       "    }\n",
       "</style>\n",
       "<table border=\"1\" class=\"dataframe\">\n",
       "  <thead>\n",
       "    <tr style=\"text-align: right;\">\n",
       "      <th></th>\n",
       "      <th>MAE</th>\n",
       "      <th>MSE</th>\n",
       "      <th>RMSE</th>\n",
       "      <th>R2</th>\n",
       "      <th>RMSLE</th>\n",
       "      <th>MAPE</th>\n",
       "    </tr>\n",
       "  </thead>\n",
       "  <tbody>\n",
       "    <tr>\n",
       "      <th>0</th>\n",
       "      <td>0.0174</td>\n",
       "      <td>0.0005</td>\n",
       "      <td>0.0229</td>\n",
       "      <td>0.7622</td>\n",
       "      <td>0.0192</td>\n",
       "      <td>0.2072</td>\n",
       "    </tr>\n",
       "    <tr>\n",
       "      <th>1</th>\n",
       "      <td>0.0175</td>\n",
       "      <td>0.0006</td>\n",
       "      <td>0.0235</td>\n",
       "      <td>0.7115</td>\n",
       "      <td>0.0211</td>\n",
       "      <td>-0.3410</td>\n",
       "    </tr>\n",
       "    <tr>\n",
       "      <th>2</th>\n",
       "      <td>0.0174</td>\n",
       "      <td>0.0005</td>\n",
       "      <td>0.0229</td>\n",
       "      <td>0.7547</td>\n",
       "      <td>0.0188</td>\n",
       "      <td>0.8474</td>\n",
       "    </tr>\n",
       "    <tr>\n",
       "      <th>3</th>\n",
       "      <td>0.0195</td>\n",
       "      <td>0.0009</td>\n",
       "      <td>0.0293</td>\n",
       "      <td>0.5984</td>\n",
       "      <td>0.0249</td>\n",
       "      <td>0.1213</td>\n",
       "    </tr>\n",
       "    <tr>\n",
       "      <th>4</th>\n",
       "      <td>0.0195</td>\n",
       "      <td>0.0008</td>\n",
       "      <td>0.0280</td>\n",
       "      <td>0.5983</td>\n",
       "      <td>0.0236</td>\n",
       "      <td>1.0181</td>\n",
       "    </tr>\n",
       "    <tr>\n",
       "      <th>5</th>\n",
       "      <td>0.0191</td>\n",
       "      <td>0.0006</td>\n",
       "      <td>0.0254</td>\n",
       "      <td>0.6588</td>\n",
       "      <td>0.0224</td>\n",
       "      <td>9.0556</td>\n",
       "    </tr>\n",
       "    <tr>\n",
       "      <th>6</th>\n",
       "      <td>0.0178</td>\n",
       "      <td>0.0006</td>\n",
       "      <td>0.0238</td>\n",
       "      <td>0.7037</td>\n",
       "      <td>0.0212</td>\n",
       "      <td>1.4728</td>\n",
       "    </tr>\n",
       "    <tr>\n",
       "      <th>7</th>\n",
       "      <td>0.0179</td>\n",
       "      <td>0.0006</td>\n",
       "      <td>0.0238</td>\n",
       "      <td>0.7309</td>\n",
       "      <td>0.0209</td>\n",
       "      <td>-1.2395</td>\n",
       "    </tr>\n",
       "    <tr>\n",
       "      <th>8</th>\n",
       "      <td>0.0188</td>\n",
       "      <td>0.0007</td>\n",
       "      <td>0.0258</td>\n",
       "      <td>0.6681</td>\n",
       "      <td>0.0218</td>\n",
       "      <td>-0.6321</td>\n",
       "    </tr>\n",
       "    <tr>\n",
       "      <th>9</th>\n",
       "      <td>0.0208</td>\n",
       "      <td>0.0008</td>\n",
       "      <td>0.0275</td>\n",
       "      <td>0.5351</td>\n",
       "      <td>0.0230</td>\n",
       "      <td>0.5998</td>\n",
       "    </tr>\n",
       "    <tr>\n",
       "      <th>Mean</th>\n",
       "      <td>0.0186</td>\n",
       "      <td>0.0006</td>\n",
       "      <td>0.0253</td>\n",
       "      <td>0.6722</td>\n",
       "      <td>0.0217</td>\n",
       "      <td>1.1109</td>\n",
       "    </tr>\n",
       "    <tr>\n",
       "      <th>SD</th>\n",
       "      <td>0.0011</td>\n",
       "      <td>0.0001</td>\n",
       "      <td>0.0022</td>\n",
       "      <td>0.0713</td>\n",
       "      <td>0.0018</td>\n",
       "      <td>2.7578</td>\n",
       "    </tr>\n",
       "  </tbody>\n",
       "</table>\n",
       "</div>"
      ],
      "text/plain": [
       "         MAE     MSE    RMSE      R2   RMSLE    MAPE\n",
       "0     0.0174  0.0005  0.0229  0.7622  0.0192  0.2072\n",
       "1     0.0175  0.0006  0.0235  0.7115  0.0211 -0.3410\n",
       "2     0.0174  0.0005  0.0229  0.7547  0.0188  0.8474\n",
       "3     0.0195  0.0009  0.0293  0.5984  0.0249  0.1213\n",
       "4     0.0195  0.0008  0.0280  0.5983  0.0236  1.0181\n",
       "5     0.0191  0.0006  0.0254  0.6588  0.0224  9.0556\n",
       "6     0.0178  0.0006  0.0238  0.7037  0.0212  1.4728\n",
       "7     0.0179  0.0006  0.0238  0.7309  0.0209 -1.2395\n",
       "8     0.0188  0.0007  0.0258  0.6681  0.0218 -0.6321\n",
       "9     0.0208  0.0008  0.0275  0.5351  0.0230  0.5998\n",
       "Mean  0.0186  0.0006  0.0253  0.6722  0.0217  1.1109\n",
       "SD    0.0011  0.0001  0.0022  0.0713  0.0018  2.7578"
      ]
     },
     "metadata": {},
     "output_type": "display_data"
    }
   ],
   "source": [
    "stack_2 = stack_models([huber,dt,lightgbm,ridge], restack = False)"
   ]
  },
  {
   "cell_type": "markdown",
   "metadata": {},
   "source": [
    "## Predict on test / hold-out Sample"
   ]
  },
  {
   "cell_type": "code",
   "execution_count": 35,
   "metadata": {},
   "outputs": [
    {
     "data": {
      "text/html": [
       "<div>\n",
       "<style scoped>\n",
       "    .dataframe tbody tr th:only-of-type {\n",
       "        vertical-align: middle;\n",
       "    }\n",
       "\n",
       "    .dataframe tbody tr th {\n",
       "        vertical-align: top;\n",
       "    }\n",
       "\n",
       "    .dataframe thead th {\n",
       "        text-align: right;\n",
       "    }\n",
       "</style>\n",
       "<table border=\"1\" class=\"dataframe\">\n",
       "  <thead>\n",
       "    <tr style=\"text-align: right;\">\n",
       "      <th></th>\n",
       "      <th>Model</th>\n",
       "      <th>MAE</th>\n",
       "      <th>MSE</th>\n",
       "      <th>RMSE</th>\n",
       "      <th>R2</th>\n",
       "      <th>RMSLE</th>\n",
       "      <th>MAPE</th>\n",
       "    </tr>\n",
       "  </thead>\n",
       "  <tbody>\n",
       "    <tr>\n",
       "      <th>0</th>\n",
       "      <td>Stacking Regressor</td>\n",
       "      <td>0.0207</td>\n",
       "      <td>0.0007</td>\n",
       "      <td>0.0272</td>\n",
       "      <td>0.6033</td>\n",
       "      <td>0.0239</td>\n",
       "      <td>-0.1238</td>\n",
       "    </tr>\n",
       "  </tbody>\n",
       "</table>\n",
       "</div>"
      ],
      "text/plain": [
       "                Model     MAE     MSE    RMSE      R2   RMSLE    MAPE\n",
       "0  Stacking Regressor  0.0207  0.0007  0.0272  0.6033  0.0239 -0.1238"
      ]
     },
     "metadata": {},
     "output_type": "display_data"
    }
   ],
   "source": [
    "predict_model(stack_1);"
   ]
  },
  {
   "cell_type": "markdown",
   "metadata": {},
   "source": [
    "## Finalize Model for Deployment"
   ]
  },
  {
   "cell_type": "code",
   "execution_count": 36,
   "metadata": {},
   "outputs": [],
   "source": [
    "final_stack_1 = finalize_model(stack_1)"
   ]
  },
  {
   "cell_type": "markdown",
   "metadata": {},
   "source": [
    "## Predict on unseen data"
   ]
  },
  {
   "cell_type": "code",
   "execution_count": 37,
   "metadata": {},
   "outputs": [
    {
     "data": {
      "text/html": [
       "<div>\n",
       "<style scoped>\n",
       "    .dataframe tbody tr th:only-of-type {\n",
       "        vertical-align: middle;\n",
       "    }\n",
       "\n",
       "    .dataframe tbody tr th {\n",
       "        vertical-align: top;\n",
       "    }\n",
       "\n",
       "    .dataframe thead th {\n",
       "        text-align: right;\n",
       "    }\n",
       "</style>\n",
       "<table border=\"1\" class=\"dataframe\">\n",
       "  <thead>\n",
       "    <tr style=\"text-align: right;\">\n",
       "      <th></th>\n",
       "      <th>3M Libor_T-1</th>\n",
       "      <th>EM Bond_T-1</th>\n",
       "      <th>US Bond ETF_T-1</th>\n",
       "      <th>Wheat 1_T-1</th>\n",
       "      <th>Wheat 2_T-1</th>\n",
       "      <th>Crude Palm Oil_T-1</th>\n",
       "      <th>Brent 1_T-1</th>\n",
       "      <th>Brent 2_T-1</th>\n",
       "      <th>Light Crude_T-1</th>\n",
       "      <th>White Sugar_T-1</th>\n",
       "      <th>...</th>\n",
       "      <th>Shanghai Index_T-22</th>\n",
       "      <th>Nikkei Ind_T-22</th>\n",
       "      <th>MSCI APAC ex J_T-22</th>\n",
       "      <th>EMEquity ETF_T-22</th>\n",
       "      <th>Silver_T-22</th>\n",
       "      <th>Platinum_T-22</th>\n",
       "      <th>Palladium_T-22</th>\n",
       "      <th>Gold_T-22</th>\n",
       "      <th>Gold_T+22</th>\n",
       "      <th>Label</th>\n",
       "    </tr>\n",
       "  </thead>\n",
       "  <tbody>\n",
       "    <tr>\n",
       "      <th>0</th>\n",
       "      <td>0.000000</td>\n",
       "      <td>-0.001898</td>\n",
       "      <td>-0.001700</td>\n",
       "      <td>-0.002508</td>\n",
       "      <td>-0.020341</td>\n",
       "      <td>0.000000</td>\n",
       "      <td>0.027663</td>\n",
       "      <td>0.028252</td>\n",
       "      <td>0.033096</td>\n",
       "      <td>-0.005455</td>\n",
       "      <td>...</td>\n",
       "      <td>-0.046689</td>\n",
       "      <td>0.016441</td>\n",
       "      <td>-0.054034</td>\n",
       "      <td>-0.045381</td>\n",
       "      <td>-0.077462</td>\n",
       "      <td>-0.048338</td>\n",
       "      <td>0.070879</td>\n",
       "      <td>-0.010984</td>\n",
       "      <td>0.021861</td>\n",
       "      <td>0.0</td>\n",
       "    </tr>\n",
       "    <tr>\n",
       "      <th>1</th>\n",
       "      <td>-0.001178</td>\n",
       "      <td>0.003232</td>\n",
       "      <td>0.000662</td>\n",
       "      <td>-0.037707</td>\n",
       "      <td>-0.022211</td>\n",
       "      <td>-0.000908</td>\n",
       "      <td>0.003145</td>\n",
       "      <td>0.003925</td>\n",
       "      <td>0.006465</td>\n",
       "      <td>0.019500</td>\n",
       "      <td>...</td>\n",
       "      <td>-0.046579</td>\n",
       "      <td>0.034184</td>\n",
       "      <td>-0.037194</td>\n",
       "      <td>-0.024482</td>\n",
       "      <td>-0.049625</td>\n",
       "      <td>0.000627</td>\n",
       "      <td>0.094329</td>\n",
       "      <td>0.010233</td>\n",
       "      <td>0.010021</td>\n",
       "      <td>0.0</td>\n",
       "    </tr>\n",
       "    <tr>\n",
       "      <th>2</th>\n",
       "      <td>0.001128</td>\n",
       "      <td>0.009759</td>\n",
       "      <td>0.000662</td>\n",
       "      <td>-0.011494</td>\n",
       "      <td>-0.018272</td>\n",
       "      <td>0.002273</td>\n",
       "      <td>-0.016552</td>\n",
       "      <td>-0.016017</td>\n",
       "      <td>-0.020411</td>\n",
       "      <td>0.001195</td>\n",
       "      <td>...</td>\n",
       "      <td>-0.033940</td>\n",
       "      <td>0.020810</td>\n",
       "      <td>-0.023750</td>\n",
       "      <td>-0.017314</td>\n",
       "      <td>-0.053275</td>\n",
       "      <td>0.002833</td>\n",
       "      <td>0.095318</td>\n",
       "      <td>0.005923</td>\n",
       "      <td>0.021521</td>\n",
       "      <td>0.0</td>\n",
       "    </tr>\n",
       "    <tr>\n",
       "      <th>3</th>\n",
       "      <td>0.001285</td>\n",
       "      <td>0.001126</td>\n",
       "      <td>-0.001889</td>\n",
       "      <td>0.013742</td>\n",
       "      <td>0.029678</td>\n",
       "      <td>0.000454</td>\n",
       "      <td>-0.004208</td>\n",
       "      <td>-0.005127</td>\n",
       "      <td>0.001749</td>\n",
       "      <td>-0.047463</td>\n",
       "      <td>...</td>\n",
       "      <td>-0.015281</td>\n",
       "      <td>0.040103</td>\n",
       "      <td>-0.001939</td>\n",
       "      <td>0.010841</td>\n",
       "      <td>-0.026352</td>\n",
       "      <td>0.037667</td>\n",
       "      <td>0.160831</td>\n",
       "      <td>0.016206</td>\n",
       "      <td>0.025744</td>\n",
       "      <td>0.0</td>\n",
       "    </tr>\n",
       "    <tr>\n",
       "      <th>4</th>\n",
       "      <td>0.000693</td>\n",
       "      <td>-0.003093</td>\n",
       "      <td>0.000000</td>\n",
       "      <td>0.058916</td>\n",
       "      <td>0.028334</td>\n",
       "      <td>0.000000</td>\n",
       "      <td>-0.001280</td>\n",
       "      <td>-0.001159</td>\n",
       "      <td>-0.003200</td>\n",
       "      <td>0.035099</td>\n",
       "      <td>...</td>\n",
       "      <td>-0.019741</td>\n",
       "      <td>0.040674</td>\n",
       "      <td>-0.010243</td>\n",
       "      <td>-0.004549</td>\n",
       "      <td>-0.031485</td>\n",
       "      <td>0.024767</td>\n",
       "      <td>0.106239</td>\n",
       "      <td>0.022981</td>\n",
       "      <td>0.018117</td>\n",
       "      <td>0.0</td>\n",
       "    </tr>\n",
       "  </tbody>\n",
       "</table>\n",
       "<p>5 rows × 122 columns</p>\n",
       "</div>"
      ],
      "text/plain": [
       "   3M Libor_T-1  EM Bond_T-1  US Bond ETF_T-1  Wheat 1_T-1  Wheat 2_T-1  \\\n",
       "0      0.000000    -0.001898        -0.001700    -0.002508    -0.020341   \n",
       "1     -0.001178     0.003232         0.000662    -0.037707    -0.022211   \n",
       "2      0.001128     0.009759         0.000662    -0.011494    -0.018272   \n",
       "3      0.001285     0.001126        -0.001889     0.013742     0.029678   \n",
       "4      0.000693    -0.003093         0.000000     0.058916     0.028334   \n",
       "\n",
       "   Crude Palm Oil_T-1  Brent 1_T-1  Brent 2_T-1  Light Crude_T-1  \\\n",
       "0            0.000000     0.027663     0.028252         0.033096   \n",
       "1           -0.000908     0.003145     0.003925         0.006465   \n",
       "2            0.002273    -0.016552    -0.016017        -0.020411   \n",
       "3            0.000454    -0.004208    -0.005127         0.001749   \n",
       "4            0.000000    -0.001280    -0.001159        -0.003200   \n",
       "\n",
       "   White Sugar_T-1  ...  Shanghai Index_T-22  Nikkei Ind_T-22  \\\n",
       "0        -0.005455  ...            -0.046689         0.016441   \n",
       "1         0.019500  ...            -0.046579         0.034184   \n",
       "2         0.001195  ...            -0.033940         0.020810   \n",
       "3        -0.047463  ...            -0.015281         0.040103   \n",
       "4         0.035099  ...            -0.019741         0.040674   \n",
       "\n",
       "   MSCI APAC ex J_T-22  EMEquity ETF_T-22  Silver_T-22  Platinum_T-22  \\\n",
       "0            -0.054034          -0.045381    -0.077462      -0.048338   \n",
       "1            -0.037194          -0.024482    -0.049625       0.000627   \n",
       "2            -0.023750          -0.017314    -0.053275       0.002833   \n",
       "3            -0.001939           0.010841    -0.026352       0.037667   \n",
       "4            -0.010243          -0.004549    -0.031485       0.024767   \n",
       "\n",
       "   Palladium_T-22  Gold_T-22  Gold_T+22  Label  \n",
       "0        0.070879  -0.010984   0.021861    0.0  \n",
       "1        0.094329   0.010233   0.010021    0.0  \n",
       "2        0.095318   0.005923   0.021521    0.0  \n",
       "3        0.160831   0.016206   0.025744    0.0  \n",
       "4        0.106239   0.022981   0.018117    0.0  \n",
       "\n",
       "[5 rows x 122 columns]"
      ]
     },
     "execution_count": 37,
     "metadata": {},
     "output_type": "execute_result"
    }
   ],
   "source": [
    "unseen_predictions = predict_model(final_stack_1, data=data_unseen, round=0)\n",
    "unseen_predictions.head()"
   ]
  },
  {
   "cell_type": "markdown",
   "metadata": {},
   "source": [
    "## Save the experiment"
   ]
  },
  {
   "cell_type": "code",
   "execution_count": 38,
   "metadata": {},
   "outputs": [
    {
     "name": "stdout",
     "output_type": "stream",
     "text": [
      "Experiment Succesfully Saved\n"
     ]
    }
   ],
   "source": [
    "save_experiment('Experiment_123 08Feb2020')"
   ]
  },
  {
   "cell_type": "markdown",
   "metadata": {},
   "source": [
    "## Loading saved experiment"
   ]
  },
  {
   "cell_type": "code",
   "execution_count": 39,
   "metadata": {},
   "outputs": [
    {
     "data": {
      "text/html": [
       "<div>\n",
       "<style scoped>\n",
       "    .dataframe tbody tr th:only-of-type {\n",
       "        vertical-align: middle;\n",
       "    }\n",
       "\n",
       "    .dataframe tbody tr th {\n",
       "        vertical-align: top;\n",
       "    }\n",
       "\n",
       "    .dataframe thead th {\n",
       "        text-align: right;\n",
       "    }\n",
       "</style>\n",
       "<table border=\"1\" class=\"dataframe\">\n",
       "  <thead>\n",
       "    <tr style=\"text-align: right;\">\n",
       "      <th></th>\n",
       "      <th>Object</th>\n",
       "    </tr>\n",
       "  </thead>\n",
       "  <tbody>\n",
       "    <tr>\n",
       "      <th>0</th>\n",
       "      <td>Regression Setup Config</td>\n",
       "    </tr>\n",
       "    <tr>\n",
       "      <th>1</th>\n",
       "      <td>X_training Set</td>\n",
       "    </tr>\n",
       "    <tr>\n",
       "      <th>2</th>\n",
       "      <td>y_training Set</td>\n",
       "    </tr>\n",
       "    <tr>\n",
       "      <th>3</th>\n",
       "      <td>X_test Set</td>\n",
       "    </tr>\n",
       "    <tr>\n",
       "      <th>4</th>\n",
       "      <td>y_test Set</td>\n",
       "    </tr>\n",
       "    <tr>\n",
       "      <th>5</th>\n",
       "      <td>Transformation Pipeline</td>\n",
       "    </tr>\n",
       "    <tr>\n",
       "      <th>6</th>\n",
       "      <td>Target Inverse Transformer</td>\n",
       "    </tr>\n",
       "    <tr>\n",
       "      <th>7</th>\n",
       "      <td>AdaBoost Regressor</td>\n",
       "    </tr>\n",
       "    <tr>\n",
       "      <th>8</th>\n",
       "      <td>AdaBoost Regressor Score Grid</td>\n",
       "    </tr>\n",
       "    <tr>\n",
       "      <th>9</th>\n",
       "      <td>Light Gradient Boosting Machine</td>\n",
       "    </tr>\n",
       "    <tr>\n",
       "      <th>10</th>\n",
       "      <td>Light Gradient Boosting Machine Score Grid</td>\n",
       "    </tr>\n",
       "    <tr>\n",
       "      <th>11</th>\n",
       "      <td>Decision Tree Regressor</td>\n",
       "    </tr>\n",
       "    <tr>\n",
       "      <th>12</th>\n",
       "      <td>Decision Tree Regressor Score Grid</td>\n",
       "    </tr>\n",
       "    <tr>\n",
       "      <th>13</th>\n",
       "      <td>Tuned AdaBoostRegressor</td>\n",
       "    </tr>\n",
       "    <tr>\n",
       "      <th>14</th>\n",
       "      <td>Tuned AdaBoostRegressor Score Grid</td>\n",
       "    </tr>\n",
       "    <tr>\n",
       "      <th>15</th>\n",
       "      <td>Tuned LGBMRegressor</td>\n",
       "    </tr>\n",
       "    <tr>\n",
       "      <th>16</th>\n",
       "      <td>Tuned LGBMRegressor Score Grid</td>\n",
       "    </tr>\n",
       "    <tr>\n",
       "      <th>17</th>\n",
       "      <td>Tuned DecisionTreeRegressor</td>\n",
       "    </tr>\n",
       "    <tr>\n",
       "      <th>18</th>\n",
       "      <td>Tuned DecisionTreeRegressor Score Grid</td>\n",
       "    </tr>\n",
       "    <tr>\n",
       "      <th>19</th>\n",
       "      <td>Final LGBMRegressor</td>\n",
       "    </tr>\n",
       "    <tr>\n",
       "      <th>20</th>\n",
       "      <td>Decision Tree Regressor</td>\n",
       "    </tr>\n",
       "    <tr>\n",
       "      <th>21</th>\n",
       "      <td>Decision Tree Regressor Score Grid</td>\n",
       "    </tr>\n",
       "    <tr>\n",
       "      <th>22</th>\n",
       "      <td>BaggingRegressor</td>\n",
       "    </tr>\n",
       "    <tr>\n",
       "      <th>23</th>\n",
       "      <td>BaggingRegressor Score Grid</td>\n",
       "    </tr>\n",
       "    <tr>\n",
       "      <th>24</th>\n",
       "      <td>AdaBoostRegressor</td>\n",
       "    </tr>\n",
       "    <tr>\n",
       "      <th>25</th>\n",
       "      <td>AdaBoostRegressor Score Grid</td>\n",
       "    </tr>\n",
       "    <tr>\n",
       "      <th>26</th>\n",
       "      <td>BaggingRegressor</td>\n",
       "    </tr>\n",
       "    <tr>\n",
       "      <th>27</th>\n",
       "      <td>BaggingRegressor Score Grid</td>\n",
       "    </tr>\n",
       "    <tr>\n",
       "      <th>28</th>\n",
       "      <td>Tuned BaggingRegressor</td>\n",
       "    </tr>\n",
       "    <tr>\n",
       "      <th>29</th>\n",
       "      <td>Tuned BaggingRegressor Score Grid</td>\n",
       "    </tr>\n",
       "    <tr>\n",
       "      <th>30</th>\n",
       "      <td>Voting Regressor</td>\n",
       "    </tr>\n",
       "    <tr>\n",
       "      <th>31</th>\n",
       "      <td>Voting Regressor Score Grid</td>\n",
       "    </tr>\n",
       "    <tr>\n",
       "      <th>32</th>\n",
       "      <td>Huber Regressor</td>\n",
       "    </tr>\n",
       "    <tr>\n",
       "      <th>33</th>\n",
       "      <td>Huber Regressor Score Grid</td>\n",
       "    </tr>\n",
       "    <tr>\n",
       "      <th>34</th>\n",
       "      <td>Decision Tree Regressor</td>\n",
       "    </tr>\n",
       "    <tr>\n",
       "      <th>35</th>\n",
       "      <td>Decision Tree Regressor Score Grid</td>\n",
       "    </tr>\n",
       "    <tr>\n",
       "      <th>36</th>\n",
       "      <td>Light Gradient Boosting Machine</td>\n",
       "    </tr>\n",
       "    <tr>\n",
       "      <th>37</th>\n",
       "      <td>Light Gradient Boosting Machine Score Grid</td>\n",
       "    </tr>\n",
       "    <tr>\n",
       "      <th>38</th>\n",
       "      <td>Ridge Regression</td>\n",
       "    </tr>\n",
       "    <tr>\n",
       "      <th>39</th>\n",
       "      <td>Ridge Regression Score Grid</td>\n",
       "    </tr>\n",
       "    <tr>\n",
       "      <th>40</th>\n",
       "      <td>Stacking Regressor (Single Layer)</td>\n",
       "    </tr>\n",
       "    <tr>\n",
       "      <th>41</th>\n",
       "      <td>Stacking Regressor (Single Layer) Score Grid</td>\n",
       "    </tr>\n",
       "    <tr>\n",
       "      <th>42</th>\n",
       "      <td>Stacking Regressor (Single Layer)</td>\n",
       "    </tr>\n",
       "    <tr>\n",
       "      <th>43</th>\n",
       "      <td>Stacking Regressor (Single Layer) Score Grid</td>\n",
       "    </tr>\n",
       "    <tr>\n",
       "      <th>44</th>\n",
       "      <td>Stacking Regressor (Single Layer)</td>\n",
       "    </tr>\n",
       "    <tr>\n",
       "      <th>45</th>\n",
       "      <td>Stacking Regressor (Single Layer) Score Grid</td>\n",
       "    </tr>\n",
       "    <tr>\n",
       "      <th>46</th>\n",
       "      <td>Stacking Regressor (Single Layer)</td>\n",
       "    </tr>\n",
       "    <tr>\n",
       "      <th>47</th>\n",
       "      <td>Stacking Regressor (Single Layer) Score Grid</td>\n",
       "    </tr>\n",
       "    <tr>\n",
       "      <th>48</th>\n",
       "      <td>Final [HuberRegressor</td>\n",
       "    </tr>\n",
       "  </tbody>\n",
       "</table>\n",
       "</div>"
      ],
      "text/plain": [
       "                                          Object\n",
       "0                        Regression Setup Config\n",
       "1                                 X_training Set\n",
       "2                                 y_training Set\n",
       "3                                     X_test Set\n",
       "4                                     y_test Set\n",
       "5                        Transformation Pipeline\n",
       "6                     Target Inverse Transformer\n",
       "7                             AdaBoost Regressor\n",
       "8                  AdaBoost Regressor Score Grid\n",
       "9                Light Gradient Boosting Machine\n",
       "10    Light Gradient Boosting Machine Score Grid\n",
       "11                       Decision Tree Regressor\n",
       "12            Decision Tree Regressor Score Grid\n",
       "13                       Tuned AdaBoostRegressor\n",
       "14            Tuned AdaBoostRegressor Score Grid\n",
       "15                           Tuned LGBMRegressor\n",
       "16                Tuned LGBMRegressor Score Grid\n",
       "17                   Tuned DecisionTreeRegressor\n",
       "18        Tuned DecisionTreeRegressor Score Grid\n",
       "19                           Final LGBMRegressor\n",
       "20                       Decision Tree Regressor\n",
       "21            Decision Tree Regressor Score Grid\n",
       "22                              BaggingRegressor\n",
       "23                   BaggingRegressor Score Grid\n",
       "24                             AdaBoostRegressor\n",
       "25                  AdaBoostRegressor Score Grid\n",
       "26                              BaggingRegressor\n",
       "27                   BaggingRegressor Score Grid\n",
       "28                        Tuned BaggingRegressor\n",
       "29             Tuned BaggingRegressor Score Grid\n",
       "30                              Voting Regressor\n",
       "31                   Voting Regressor Score Grid\n",
       "32                               Huber Regressor\n",
       "33                    Huber Regressor Score Grid\n",
       "34                       Decision Tree Regressor\n",
       "35            Decision Tree Regressor Score Grid\n",
       "36               Light Gradient Boosting Machine\n",
       "37    Light Gradient Boosting Machine Score Grid\n",
       "38                              Ridge Regression\n",
       "39                   Ridge Regression Score Grid\n",
       "40             Stacking Regressor (Single Layer)\n",
       "41  Stacking Regressor (Single Layer) Score Grid\n",
       "42             Stacking Regressor (Single Layer)\n",
       "43  Stacking Regressor (Single Layer) Score Grid\n",
       "44             Stacking Regressor (Single Layer)\n",
       "45  Stacking Regressor (Single Layer) Score Grid\n",
       "46             Stacking Regressor (Single Layer)\n",
       "47  Stacking Regressor (Single Layer) Score Grid\n",
       "48                         Final [HuberRegressor"
      ]
     },
     "metadata": {},
     "output_type": "display_data"
    }
   ],
   "source": [
    " saved_experiment = load_experiment('Experiment_123 08Feb2020')"
   ]
  },
  {
   "cell_type": "code",
   "execution_count": 40,
   "metadata": {},
   "outputs": [],
   "source": [
    "final_stack_1_loaded = saved_experiment[46]"
   ]
  },
  {
   "cell_type": "code",
   "execution_count": 41,
   "metadata": {},
   "outputs": [
    {
     "data": {
      "text/html": [
       "<div>\n",
       "<style scoped>\n",
       "    .dataframe tbody tr th:only-of-type {\n",
       "        vertical-align: middle;\n",
       "    }\n",
       "\n",
       "    .dataframe tbody tr th {\n",
       "        vertical-align: top;\n",
       "    }\n",
       "\n",
       "    .dataframe thead th {\n",
       "        text-align: right;\n",
       "    }\n",
       "</style>\n",
       "<table border=\"1\" class=\"dataframe\">\n",
       "  <thead>\n",
       "    <tr style=\"text-align: right;\">\n",
       "      <th></th>\n",
       "      <th>3M Libor_T-1</th>\n",
       "      <th>EM Bond_T-1</th>\n",
       "      <th>US Bond ETF_T-1</th>\n",
       "      <th>Wheat 1_T-1</th>\n",
       "      <th>Wheat 2_T-1</th>\n",
       "      <th>Crude Palm Oil_T-1</th>\n",
       "      <th>Brent 1_T-1</th>\n",
       "      <th>Brent 2_T-1</th>\n",
       "      <th>Light Crude_T-1</th>\n",
       "      <th>White Sugar_T-1</th>\n",
       "      <th>...</th>\n",
       "      <th>Shanghai Index_T-22</th>\n",
       "      <th>Nikkei Ind_T-22</th>\n",
       "      <th>MSCI APAC ex J_T-22</th>\n",
       "      <th>EMEquity ETF_T-22</th>\n",
       "      <th>Silver_T-22</th>\n",
       "      <th>Platinum_T-22</th>\n",
       "      <th>Palladium_T-22</th>\n",
       "      <th>Gold_T-22</th>\n",
       "      <th>Gold_T+22</th>\n",
       "      <th>Label</th>\n",
       "    </tr>\n",
       "  </thead>\n",
       "  <tbody>\n",
       "    <tr>\n",
       "      <th>0</th>\n",
       "      <td>0.000000</td>\n",
       "      <td>-0.001898</td>\n",
       "      <td>-0.001700</td>\n",
       "      <td>-0.002508</td>\n",
       "      <td>-0.020341</td>\n",
       "      <td>0.000000</td>\n",
       "      <td>0.027663</td>\n",
       "      <td>0.028252</td>\n",
       "      <td>0.033096</td>\n",
       "      <td>-0.005455</td>\n",
       "      <td>...</td>\n",
       "      <td>-0.046689</td>\n",
       "      <td>0.016441</td>\n",
       "      <td>-0.054034</td>\n",
       "      <td>-0.045381</td>\n",
       "      <td>-0.077462</td>\n",
       "      <td>-0.048338</td>\n",
       "      <td>0.070879</td>\n",
       "      <td>-0.010984</td>\n",
       "      <td>0.021861</td>\n",
       "      <td>0.0</td>\n",
       "    </tr>\n",
       "    <tr>\n",
       "      <th>1</th>\n",
       "      <td>-0.001178</td>\n",
       "      <td>0.003232</td>\n",
       "      <td>0.000662</td>\n",
       "      <td>-0.037707</td>\n",
       "      <td>-0.022211</td>\n",
       "      <td>-0.000908</td>\n",
       "      <td>0.003145</td>\n",
       "      <td>0.003925</td>\n",
       "      <td>0.006465</td>\n",
       "      <td>0.019500</td>\n",
       "      <td>...</td>\n",
       "      <td>-0.046579</td>\n",
       "      <td>0.034184</td>\n",
       "      <td>-0.037194</td>\n",
       "      <td>-0.024482</td>\n",
       "      <td>-0.049625</td>\n",
       "      <td>0.000627</td>\n",
       "      <td>0.094329</td>\n",
       "      <td>0.010233</td>\n",
       "      <td>0.010021</td>\n",
       "      <td>0.0</td>\n",
       "    </tr>\n",
       "    <tr>\n",
       "      <th>2</th>\n",
       "      <td>0.001128</td>\n",
       "      <td>0.009759</td>\n",
       "      <td>0.000662</td>\n",
       "      <td>-0.011494</td>\n",
       "      <td>-0.018272</td>\n",
       "      <td>0.002273</td>\n",
       "      <td>-0.016552</td>\n",
       "      <td>-0.016017</td>\n",
       "      <td>-0.020411</td>\n",
       "      <td>0.001195</td>\n",
       "      <td>...</td>\n",
       "      <td>-0.033940</td>\n",
       "      <td>0.020810</td>\n",
       "      <td>-0.023750</td>\n",
       "      <td>-0.017314</td>\n",
       "      <td>-0.053275</td>\n",
       "      <td>0.002833</td>\n",
       "      <td>0.095318</td>\n",
       "      <td>0.005923</td>\n",
       "      <td>0.021521</td>\n",
       "      <td>0.0</td>\n",
       "    </tr>\n",
       "    <tr>\n",
       "      <th>3</th>\n",
       "      <td>0.001285</td>\n",
       "      <td>0.001126</td>\n",
       "      <td>-0.001889</td>\n",
       "      <td>0.013742</td>\n",
       "      <td>0.029678</td>\n",
       "      <td>0.000454</td>\n",
       "      <td>-0.004208</td>\n",
       "      <td>-0.005127</td>\n",
       "      <td>0.001749</td>\n",
       "      <td>-0.047463</td>\n",
       "      <td>...</td>\n",
       "      <td>-0.015281</td>\n",
       "      <td>0.040103</td>\n",
       "      <td>-0.001939</td>\n",
       "      <td>0.010841</td>\n",
       "      <td>-0.026352</td>\n",
       "      <td>0.037667</td>\n",
       "      <td>0.160831</td>\n",
       "      <td>0.016206</td>\n",
       "      <td>0.025744</td>\n",
       "      <td>0.0</td>\n",
       "    </tr>\n",
       "    <tr>\n",
       "      <th>4</th>\n",
       "      <td>0.000693</td>\n",
       "      <td>-0.003093</td>\n",
       "      <td>0.000000</td>\n",
       "      <td>0.058916</td>\n",
       "      <td>0.028334</td>\n",
       "      <td>0.000000</td>\n",
       "      <td>-0.001280</td>\n",
       "      <td>-0.001159</td>\n",
       "      <td>-0.003200</td>\n",
       "      <td>0.035099</td>\n",
       "      <td>...</td>\n",
       "      <td>-0.019741</td>\n",
       "      <td>0.040674</td>\n",
       "      <td>-0.010243</td>\n",
       "      <td>-0.004549</td>\n",
       "      <td>-0.031485</td>\n",
       "      <td>0.024767</td>\n",
       "      <td>0.106239</td>\n",
       "      <td>0.022981</td>\n",
       "      <td>0.018117</td>\n",
       "      <td>0.0</td>\n",
       "    </tr>\n",
       "  </tbody>\n",
       "</table>\n",
       "<p>5 rows × 122 columns</p>\n",
       "</div>"
      ],
      "text/plain": [
       "   3M Libor_T-1  EM Bond_T-1  US Bond ETF_T-1  Wheat 1_T-1  Wheat 2_T-1  \\\n",
       "0      0.000000    -0.001898        -0.001700    -0.002508    -0.020341   \n",
       "1     -0.001178     0.003232         0.000662    -0.037707    -0.022211   \n",
       "2      0.001128     0.009759         0.000662    -0.011494    -0.018272   \n",
       "3      0.001285     0.001126        -0.001889     0.013742     0.029678   \n",
       "4      0.000693    -0.003093         0.000000     0.058916     0.028334   \n",
       "\n",
       "   Crude Palm Oil_T-1  Brent 1_T-1  Brent 2_T-1  Light Crude_T-1  \\\n",
       "0            0.000000     0.027663     0.028252         0.033096   \n",
       "1           -0.000908     0.003145     0.003925         0.006465   \n",
       "2            0.002273    -0.016552    -0.016017        -0.020411   \n",
       "3            0.000454    -0.004208    -0.005127         0.001749   \n",
       "4            0.000000    -0.001280    -0.001159        -0.003200   \n",
       "\n",
       "   White Sugar_T-1  ...  Shanghai Index_T-22  Nikkei Ind_T-22  \\\n",
       "0        -0.005455  ...            -0.046689         0.016441   \n",
       "1         0.019500  ...            -0.046579         0.034184   \n",
       "2         0.001195  ...            -0.033940         0.020810   \n",
       "3        -0.047463  ...            -0.015281         0.040103   \n",
       "4         0.035099  ...            -0.019741         0.040674   \n",
       "\n",
       "   MSCI APAC ex J_T-22  EMEquity ETF_T-22  Silver_T-22  Platinum_T-22  \\\n",
       "0            -0.054034          -0.045381    -0.077462      -0.048338   \n",
       "1            -0.037194          -0.024482    -0.049625       0.000627   \n",
       "2            -0.023750          -0.017314    -0.053275       0.002833   \n",
       "3            -0.001939           0.010841    -0.026352       0.037667   \n",
       "4            -0.010243          -0.004549    -0.031485       0.024767   \n",
       "\n",
       "   Palladium_T-22  Gold_T-22  Gold_T+22  Label  \n",
       "0        0.070879  -0.010984   0.021861    0.0  \n",
       "1        0.094329   0.010233   0.010021    0.0  \n",
       "2        0.095318   0.005923   0.021521    0.0  \n",
       "3        0.160831   0.016206   0.025744    0.0  \n",
       "4        0.106239   0.022981   0.018117    0.0  \n",
       "\n",
       "[5 rows x 122 columns]"
      ]
     },
     "execution_count": 41,
     "metadata": {},
     "output_type": "execute_result"
    }
   ],
   "source": [
    "new_prediction = predict_model(final_stack_1_loaded, data=data_unseen, round = 0)\n",
    "new_prediction.head()"
   ]
  },
  {
   "cell_type": "markdown",
   "metadata": {},
   "source": [
    "## Anomaly Detection 3D PLOT"
   ]
  },
  {
   "cell_type": "code",
   "execution_count": 51,
   "metadata": {},
   "outputs": [
    {
     "data": {
      "text/html": [
       "        <script type=\"text/javascript\">\n",
       "        window.PlotlyConfig = {MathJaxConfig: 'local'};\n",
       "        if (window.MathJax) {MathJax.Hub.Config({SVG: {font: \"STIX-Web\"}});}\n",
       "        if (typeof require !== 'undefined') {\n",
       "        require.undef(\"plotly\");\n",
       "        requirejs.config({\n",
       "            paths: {\n",
       "                'plotly': ['https://cdn.plot.ly/plotly-latest.min']\n",
       "            }\n",
       "        });\n",
       "        require(['plotly'], function(Plotly) {\n",
       "            window._Plotly = Plotly;\n",
       "        });\n",
       "        }\n",
       "        </script>\n",
       "        "
      ]
     },
     "metadata": {},
     "output_type": "display_data"
    },
    {
     "data": {
      "application/vnd.plotly.v1+json": {
       "config": {
        "plotlyServerURL": "https://plot.ly"
       },
       "data": [
        {
         "customdata": [
          [
           0.263995357
          ],
          [
           0.546092303
          ],
          [
           0.33671410399999996
          ],
          [
           0.092107835
          ],
          [
           0.325261175
          ],
          [
           0.212464853
          ],
          [
           0.258565714
          ],
          [
           0.869236755
          ],
          [
           0.197077957
          ],
          [
           0.292984504
          ],
          [
           0.82178316
          ],
          [
           0.796622959
          ],
          [
           0.045577010999999994
          ],
          [
           0.613660351
          ],
          [
           0.9507445659999999
          ],
          [
           0.33634633700000005
          ],
          [
           0.034440667
          ],
          [
           0.741544275
          ],
          [
           0.18443265
          ],
          [
           0.664514943
          ],
          [
           0.16282485800000002
          ],
          [
           0.729838445
          ],
          [
           0.62837389
          ],
          [
           0.057883660999999996
          ],
          [
           0.445534827
          ],
          [
           0.80183695
          ],
          [
           0.27709612
          ],
          [
           0.228634015
          ],
          [
           0.834860657
          ],
          [
           0.6697665110000001
          ],
          [
           0.532527349
          ],
          [
           0.17045907100000002
          ],
          [
           0.5102884679999999
          ],
          [
           0.977561989
          ],
          [
           0.249775993
          ],
          [
           0.9755006820000001
          ],
          [
           0.613701727
          ],
          [
           0.16742036300000002
          ],
          [
           0.537472516
          ],
          [
           0.379899131
          ],
          [
           0.633897303
          ],
          [
           0.633960424
          ],
          [
           0.5499746529999999
          ],
          [
           0.178172988
          ],
          [
           0.85563814
          ],
          [
           0.321796672
          ],
          [
           0.8174905370000001
          ],
          [
           0.254879417
          ],
          [
           0.344140513
          ],
          [
           0.8061457259999999
          ],
          [
           0.27708167100000003
          ],
          [
           0.544328519
          ],
          [
           0.07708393
          ],
          [
           0.273081458
          ],
          [
           0.390877336
          ],
          [
           0.349621385
          ],
          [
           0.214549744
          ],
          [
           0.206075222
          ],
          [
           0.86461997
          ],
          [
           0.9817088540000001
          ],
          [
           0.33482964600000004
          ],
          [
           0.648387061
          ],
          [
           0.093643561
          ],
          [
           0.837802698
          ],
          [
           0.7603439670000001
          ],
          [
           0.29140417399999996
          ],
          [
           0.3413454
          ],
          [
           0.7611124840000001
          ],
          [
           0.541899775
          ],
          [
           0.684176639
          ],
          [
           0.983535597
          ],
          [
           0.52081245
          ],
          [
           0.328227724
          ],
          [
           0.09715793800000001
          ],
          [
           0.876088593
          ],
          [
           0.870214512
          ],
          [
           0.656086992
          ],
          [
           0.306791514
          ],
          [
           0.48126734
          ],
          [
           0.259559174
          ],
          [
           0.326123655
          ],
          [
           0.930568042
          ],
          [
           0.6583894
          ],
          [
           0.689992335
          ],
          [
           0.315781109
          ],
          [
           0.5669050929999999
          ],
          [
           0.637526619
          ],
          [
           0.687540723
          ],
          [
           0.324300602
          ],
          [
           0.592704906
          ],
          [
           0.7402531259999999
          ],
          [
           0.5940328770000001
          ],
          [
           0.596452977
          ],
          [
           0.27768081699999997
          ],
          [
           0.258329663
          ],
          [
           0.142460864
          ],
          [
           0.435533461
          ],
          [
           0.7024990440000001
          ],
          [
           0.58897535
          ],
          [
           0.653304374
          ],
          [
           0.336968524
          ],
          [
           0.631244736
          ],
          [
           0.73530076
          ],
          [
           0.050390366
          ],
          [
           0.064264924
          ],
          [
           0.665359476
          ],
          [
           0.917835245
          ],
          [
           0.44651012
          ],
          [
           0.661938199
          ],
          [
           0.43935985299999997
          ],
          [
           0.6875724040000001
          ],
          [
           0.363462248
          ],
          [
           0.6542621820000001
          ],
          [
           0.578553536
          ],
          [
           0.065927945
          ],
          [
           0.550148559
          ],
          [
           0.13918281400000002
          ],
          [
           0.080004635
          ],
          [
           0.278228358
          ],
          [
           0.560124266
          ],
          [
           0.53639864
          ],
          [
           0.42653190399999996
          ],
          [
           0.789109796
          ],
          [
           0.742900474
          ],
          [
           0.901692589
          ],
          [
           0.650337401
          ],
          [
           0.114057311
          ],
          [
           0.260812592
          ],
          [
           0.43991232
          ],
          [
           0.964409284
          ],
          [
           0.184401415
          ],
          [
           0.345145446
          ],
          [
           0.17589458100000002
          ],
          [
           0.312514453
          ],
          [
           0.674131879
          ],
          [
           0.32825045
          ],
          [
           0.598231057
          ],
          [
           0.09259881699999999
          ],
          [
           0.497916521
          ],
          [
           0.419776521
          ],
          [
           0.31217670000000003
          ],
          [
           0.937857107
          ],
          [
           0.049030963
          ],
          [
           0.47610452600000003
          ],
          [
           0.447397526
          ],
          [
           0.295806058
          ],
          [
           0.737363977
          ],
          [
           0.625896253
          ],
          [
           0.408813429
          ],
          [
           0.437511156
          ],
          [
           0.691351375
          ],
          [
           0.935555275
          ],
          [
           0.437846654
          ],
          [
           0.072217715
          ],
          [
           0.67636067
          ],
          [
           0.468883999
          ],
          [
           0.543820644
          ],
          [
           0.6555226470000001
          ],
          [
           0.6935289240000001
          ],
          [
           0.10887831199999999
          ],
          [
           0.285463743
          ],
          [
           0
          ],
          [
           0.706495497
          ],
          [
           0.273530633
          ],
          [
           0.292320271
          ],
          [
           0.673984307
          ],
          [
           0.12612182800000002
          ],
          [
           0.9467074590000001
          ],
          [
           0.9363388979999999
          ],
          [
           0.8537553640000001
          ],
          [
           0.7060713609999999
          ],
          [
           0.693682186
          ],
          [
           0.508527882
          ],
          [
           0.34717038899999997
          ],
          [
           0.704154263
          ],
          [
           0.658730088
          ],
          [
           0.155841557
          ],
          [
           0.311085435
          ],
          [
           0.281135347
          ],
          [
           0.094587802
          ],
          [
           0.6832609540000001
          ],
          [
           0.9077292509999999
          ],
          [
           0.29151267399999997
          ],
          [
           0.752734459
          ],
          [
           0.93482964
          ],
          [
           0.071413953
          ],
          [
           0.5948963270000001
          ],
          [
           0.404672015
          ],
          [
           0.13837621
          ],
          [
           0.7473384679999999
          ],
          [
           0.530882486
          ],
          [
           0.282649594
          ],
          [
           0.699335734
          ],
          [
           0.056111250999999994
          ],
          [
           0.855234998
          ],
          [
           0.07789512700000001
          ],
          [
           0.891649583
          ],
          [
           0.38674227899999997
          ],
          [
           0.27113158
          ],
          [
           0.958888961
          ],
          [
           0.085120869
          ],
          [
           0.5269022489999999
          ],
          [
           0.066577785
          ],
          [
           0.841506738
          ],
          [
           0.255342095
          ],
          [
           0.060545771
          ],
          [
           0.073385869
          ],
          [
           0.187493723
          ],
          [
           0.858365688
          ],
          [
           0.090640352
          ],
          [
           0.7097252270000001
          ],
          [
           0.631300647
          ],
          [
           0.24750447399999997
          ],
          [
           0.822843584
          ],
          [
           0.373476759
          ],
          [
           0.625538582
          ],
          [
           0.292951715
          ],
          [
           0.299730324
          ],
          [
           0.25121407
          ],
          [
           0.344480551
          ],
          [
           0.293064767
          ],
          [
           0.7628032240000001
          ],
          [
           0.7384708040000001
          ],
          [
           0.674883265
          ],
          [
           0.719151612
          ],
          [
           0.13098021599999998
          ],
          [
           0.511328036
          ],
          [
           0.04492903
          ],
          [
           0.560914449
          ],
          [
           0.7440406409999999
          ],
          [
           0.266961634
          ],
          [
           0.644231853
          ],
          [
           0.038113352
          ],
          [
           0.05715529900000001
          ],
          [
           0.34139246100000004
          ],
          [
           0.7204636320000001
          ],
          [
           0.402878236
          ],
          [
           0.635148967
          ],
          [
           0.320729467
          ],
          [
           0.09120969400000001
          ],
          [
           0.23414609
          ],
          [
           0.8902211309999999
          ],
          [
           0.602170884
          ],
          [
           0.633652055
          ],
          [
           0.806240837
          ],
          [
           0.739731184
          ],
          [
           0.465231269
          ],
          [
           0.7321109
          ],
          [
           0.373874305
          ],
          [
           0.501587947
          ],
          [
           0.11538315800000001
          ],
          [
           0.7319466040000001
          ],
          [
           0.41829872799999995
          ],
          [
           0.062259590999999996
          ],
          [
           0.391496379
          ],
          [
           0.35984929
          ],
          [
           0.24523562699999998
          ],
          [
           0.610028339
          ],
          [
           0.43540360200000006
          ],
          [
           0.434309675
          ],
          [
           0.523763344
          ],
          [
           0.17118786600000002
          ],
          [
           0.18773430300000002
          ],
          [
           0.945014638
          ],
          [
           0.027851097000000002
          ],
          [
           0.68445706
          ],
          [
           0.178014532
          ],
          [
           0.643427879
          ],
          [
           0.59588355
          ],
          [
           0.372361682
          ],
          [
           0.586103584
          ],
          [
           0.271658852
          ],
          [
           0.59951107
          ],
          [
           0.468363088
          ],
          [
           0.314515565
          ],
          [
           0.21893726
          ],
          [
           0.254716562
          ],
          [
           0.25612815
          ],
          [
           0.602259755
          ],
          [
           0.134381075
          ],
          [
           0.513887424
          ],
          [
           0.624241636
          ],
          [
           0.160251854
          ],
          [
           0.580708108
          ],
          [
           0.270540486
          ],
          [
           0.832919932
          ],
          [
           0.93032134
          ],
          [
           0.719157884
          ],
          [
           0.886720033
          ],
          [
           0.098792281
          ],
          [
           0.787174286
          ],
          [
           0.365592376
          ],
          [
           0.719576193
          ],
          [
           0.8058956
          ],
          [
           0.7555783340000001
          ],
          [
           0.526005909
          ],
          [
           0.68880424
          ],
          [
           0.22111531199999998
          ],
          [
           0.739369477
          ],
          [
           0.408440236
          ],
          [
           0.348926542
          ],
          [
           0.433713763
          ],
          [
           0.5964966070000001
          ],
          [
           0.6942953000000001
          ],
          [
           0.7090309659999999
          ],
          [
           0.867652984
          ],
          [
           0.89332545
          ],
          [
           0.746020922
          ],
          [
           0.538284443
          ],
          [
           0.8922193140000001
          ],
          [
           0.935175765
          ],
          [
           0.260527707
          ],
          [
           0.956780449
          ],
          [
           0.204932484
          ],
          [
           0.687733351
          ],
          [
           0.329063619
          ],
          [
           0.632149831
          ],
          [
           0.463744506
          ],
          [
           0.698859621
          ],
          [
           0.385446564
          ],
          [
           0.47997537700000004
          ],
          [
           0.732279108
          ],
          [
           0.3813543
          ],
          [
           0.459326013
          ],
          [
           0.257401434
          ],
          [
           0.665014804
          ],
          [
           0.103399542
          ],
          [
           0.425284413
          ],
          [
           0.943529051
          ],
          [
           0.594750236
          ],
          [
           0.543776817
          ],
          [
           0.18203988
          ],
          [
           0.23584208399999998
          ],
          [
           0.585984497
          ],
          [
           0.762013168
          ],
          [
           0.6849829070000001
          ],
          [
           0.676936933
          ],
          [
           0.290184964
          ],
          [
           0.48106822200000005
          ],
          [
           0.492766033
          ],
          [
           0.22185623399999999
          ],
          [
           0.053875998
          ],
          [
           0.082751144
          ],
          [
           0.385366225
          ],
          [
           0.702513961
          ],
          [
           0.91553156
          ],
          [
           0.082087436
          ],
          [
           0.251280378
          ],
          [
           0.41672181700000005
          ],
          [
           0.277032672
          ],
          [
           0.579539754
          ],
          [
           0.569363476
          ],
          [
           0.133399703
          ],
          [
           0.265045463
          ],
          [
           0.936571901
          ],
          [
           0.252618554
          ],
          [
           0.054033081
          ],
          [
           0.802481439
          ],
          [
           0.528197693
          ],
          [
           0.9515026
          ],
          [
           0.572121173
          ],
          [
           0.752938227
          ],
          [
           0.143857535
          ],
          [
           0.513484576
          ],
          [
           0.313322389
          ],
          [
           0.6877973959999999
          ],
          [
           0.37705984
          ],
          [
           0.348226142
          ],
          [
           0.67763282
          ],
          [
           0.24138752100000002
          ],
          [
           0.8506501790000001
          ],
          [
           0.22034810300000002
          ],
          [
           0.476445464
          ],
          [
           0.690324025
          ],
          [
           0.364695946
          ],
          [
           0.6492491970000001
          ],
          [
           0.9437019209999999
          ],
          [
           0.529645971
          ],
          [
           0.299097002
          ],
          [
           0.96696247
          ],
          [
           0.272005242
          ],
          [
           0.314161447
          ],
          [
           0.752020991
          ],
          [
           0.221882453
          ],
          [
           0.7203326729999999
          ],
          [
           0.379204782
          ],
          [
           0.60168653
          ],
          [
           0.582932673
          ],
          [
           0.950809853
          ],
          [
           0.58830141
          ],
          [
           0.880887227
          ],
          [
           0.467857701
          ],
          [
           0.8799021709999999
          ],
          [
           0.619844009
          ],
          [
           0.359002573
          ],
          [
           0.291511278
          ],
          [
           0.694157143
          ],
          [
           0.727960353
          ],
          [
           0.617703921
          ],
          [
           0.39581257
          ],
          [
           0.58317282
          ],
          [
           0.710332374
          ],
          [
           0.253753693
          ],
          [
           0.049412227999999996
          ],
          [
           0.728378695
          ],
          [
           0.432432881
          ],
          [
           0.58612345
          ],
          [
           0.052342373
          ],
          [
           0.053483902
          ],
          [
           0.518729378
          ],
          [
           0.933040208
          ],
          [
           0.7035542840000001
          ],
          [
           0.268989899
          ],
          [
           0.733006927
          ],
          [
           0.44435246700000003
          ],
          [
           0.5833946210000001
          ],
          [
           0.871172692
          ],
          [
           0.42876707799999997
          ],
          [
           0.30046084100000003
          ],
          [
           0.9533294590000001
          ],
          [
           0.606443965
          ],
          [
           0.90986815
          ],
          [
           0.714896449
          ],
          [
           0.49734950899999997
          ],
          [
           0.8530974859999999
          ],
          [
           0.721804145
          ],
          [
           0.303467328
          ],
          [
           0.664485096
          ],
          [
           0.27978062
          ],
          [
           0.569481665
          ],
          [
           0.628628926
          ],
          [
           0.088368123
          ],
          [
           0.733567326
          ],
          [
           0.537436778
          ],
          [
           0.638593691
          ],
          [
           0.954726948
          ],
          [
           0.632202332
          ],
          [
           0.642134651
          ],
          [
           0.744653087
          ],
          [
           0.115714007
          ],
          [
           0.48625007299999995
          ],
          [
           0.440356144
          ],
          [
           0.08272289
          ],
          [
           0.511591027
          ],
          [
           0.394627555
          ],
          [
           0.224394
          ],
          [
           0.626927584
          ],
          [
           0.290254057
          ],
          [
           0.779008053
          ],
          [
           0.86610579
          ],
          [
           0.873326081
          ],
          [
           0.49548916
          ],
          [
           0.594297695
          ],
          [
           0.9182015840000001
          ],
          [
           0.5770427539999999
          ],
          [
           0.019467671000000002
          ],
          [
           0.6702982820000001
          ],
          [
           0.546595316
          ],
          [
           0.591665146
          ],
          [
           0.42155819
          ],
          [
           0.6856085590000001
          ],
          [
           0.340303024
          ],
          [
           0.675626741
          ],
          [
           0.319067345
          ],
          [
           0.38849966399999997
          ],
          [
           0.706949589
          ],
          [
           0.559409515
          ],
          [
           0.687663508
          ],
          [
           0.7088045540000001
          ],
          [
           0.6818880940000001
          ],
          [
           0.42253510899999996
          ],
          [
           0.320004605
          ],
          [
           0.6582813679999999
          ],
          [
           0.634154867
          ],
          [
           0.7773320090000001
          ],
          [
           0.812677205
          ],
          [
           0.074280797
          ],
          [
           0.39600217
          ],
          [
           0.054933913
          ],
          [
           0.825058925
          ],
          [
           0.382642009
          ],
          [
           0.8687298179999999
          ],
          [
           0.588043346
          ],
          [
           0.891551577
          ],
          [
           0.10920046
          ],
          [
           0.647682781
          ],
          [
           0.724342512
          ],
          [
           0.07016304400000001
          ],
          [
           0.280882054
          ],
          [
           0.039113261
          ],
          [
           0.579641592
          ],
          [
           0.639000922
          ],
          [
           0.281745925
          ],
          [
           0.647857744
          ],
          [
           0.6479057970000001
          ],
          [
           0.875226264
          ],
          [
           0.567603305
          ],
          [
           0.262940591
          ],
          [
           0.268026042
          ],
          [
           0.40519133
          ],
          [
           0.479965451
          ],
          [
           0.33552403
          ],
          [
           0.777165379
          ],
          [
           0.42548796299999997
          ],
          [
           0.237986115
          ],
          [
           0.142522971
          ],
          [
           0.724176488
          ],
          [
           0.234698933
          ],
          [
           0.07818228099999999
          ],
          [
           0.855990155
          ],
          [
           0.270251765
          ],
          [
           0.435517841
          ],
          [
           0.762697513
          ],
          [
           0.46448725799999996
          ],
          [
           0.396112685
          ],
          [
           0.37638092100000003
          ],
          [
           0.29459467699999997
          ],
          [
           0.6944921209999999
          ],
          [
           0.622767949
          ],
          [
           0.8475597220000001
          ],
          [
           0.301463054
          ],
          [
           0.912937812
          ],
          [
           0.500017182
          ],
          [
           0.902587935
          ],
          [
           0.304517943
          ],
          [
           0.299165673
          ],
          [
           0.092014087
          ],
          [
           0.488548917
          ],
          [
           0.664664437
          ],
          [
           0.26534954899999996
          ],
          [
           0.723657021
          ],
          [
           0.149262385
          ],
          [
           0.04577339
          ],
          [
           0.69661064
          ],
          [
           0.42181486
          ],
          [
           0.733845785
          ],
          [
           0.418795386
          ],
          [
           0.677443529
          ],
          [
           0.26128360300000003
          ],
          [
           0.268527767
          ],
          [
           0.5443222360000001
          ],
          [
           0.431632036
          ],
          [
           0.981018141
          ],
          [
           0.21498072399999998
          ],
          [
           0.39472999299999995
          ],
          [
           0.122224944
          ],
          [
           0.297496875
          ],
          [
           0.37490443100000004
          ],
          [
           0.68698771
          ],
          [
           0.388549207
          ],
          [
           0.039296071
          ],
          [
           0.73553424
          ],
          [
           0.37929489299999997
          ],
          [
           0.7321233859999999
          ],
          [
           0.33922143899999996
          ],
          [
           0.659450594
          ],
          [
           0.054838642
          ],
          [
           0.640112102
          ],
          [
           0.30714170399999996
          ],
          [
           0.39661190700000004
          ],
          [
           0.420439161
          ],
          [
           0.24171497399999997
          ],
          [
           0.065893153
          ],
          [
           0.9105219370000001
          ],
          [
           0.697163103
          ],
          [
           0.072559853
          ],
          [
           0.81825094
          ],
          [
           0.311888815
          ],
          [
           0.961644609
          ],
          [
           0.816325524
          ],
          [
           0.14647302
          ],
          [
           0.548753945
          ],
          [
           0.946158087
          ],
          [
           0.293992717
          ],
          [
           0.331479643
          ],
          [
           0.9062200309999999
          ],
          [
           0.525540416
          ],
          [
           0.83301411
          ],
          [
           0.514849806
          ],
          [
           0.574609024
          ],
          [
           0.46871185299999996
          ],
          [
           0.71002775
          ],
          [
           0.645973276
          ],
          [
           0.229794416
          ],
          [
           0.551783393
          ],
          [
           0.055822990999999995
          ],
          [
           0.331750941
          ],
          [
           0.715520198
          ],
          [
           0.583924357
          ],
          [
           0.30695769100000003
          ],
          [
           0.7914782370000001
          ],
          [
           0.16423663900000002
          ],
          [
           0.065711219
          ],
          [
           0.948993132
          ],
          [
           0.080423835
          ],
          [
           0.052495426
          ],
          [
           0.566346135
          ],
          [
           0.3630266
          ],
          [
           0.605442195
          ],
          [
           0.6308505839999999
          ],
          [
           0.065791238
          ],
          [
           0.28681707100000003
          ],
          [
           0.685462839
          ],
          [
           0.260853706
          ],
          [
           0.659122429
          ],
          [
           0.44317392200000005
          ],
          [
           0.602063986
          ],
          [
           0.060366910999999995
          ],
          [
           0.781903153
          ],
          [
           0.5145798070000001
          ],
          [
           0.48388621299999995
          ],
          [
           0.600213807
          ],
          [
           0.49736405200000006
          ],
          [
           0.411145245
          ],
          [
           0.116999171
          ],
          [
           0.34189014100000004
          ],
          [
           0.746950848
          ],
          [
           0.39629274600000003
          ],
          [
           0.6221438429999999
          ],
          [
           0.335271141
          ],
          [
           0.140257137
          ],
          [
           0.081620681
          ],
          [
           0.069837569
          ],
          [
           0.46894000799999996
          ],
          [
           0.9908574170000001
          ],
          [
           0.896616832
          ],
          [
           0.255310561
          ],
          [
           0.22464526699999998
          ],
          [
           0.01991825
          ],
          [
           0.296480415
          ],
          [
           0.155458996
          ],
          [
           0.577916714
          ],
          [
           0.9563030309999999
          ],
          [
           0.813464394
          ],
          [
           0.529675785
          ],
          [
           0.287671353
          ],
          [
           0.48039136
          ],
          [
           0.28104482199999997
          ],
          [
           0.633196521
          ],
          [
           0.09332537699999999
          ],
          [
           0.28447398100000004
          ],
          [
           0.052223775
          ],
          [
           0.051129385
          ],
          [
           0.967405608
          ],
          [
           0.040045727999999996
          ],
          [
           0.9085829209999999
          ],
          [
           0.6621174160000001
          ],
          [
           0.42470320899999997
          ],
          [
           0.72207806
          ],
          [
           0.666193327
          ],
          [
           0.509681253
          ],
          [
           0.7513536209999999
          ],
          [
           0.279073124
          ],
          [
           0.074927
          ],
          [
           0.916359535
          ],
          [
           0.31040327
          ],
          [
           0.716604052
          ],
          [
           0.485587085
          ],
          [
           0.30607518100000003
          ],
          [
           0.477558204
          ],
          [
           0.7119239409999999
          ],
          [
           0.066348638
          ],
          [
           0.27453935100000004
          ],
          [
           0.31082252
          ],
          [
           0.47607312700000004
          ],
          [
           0.186795565
          ],
          [
           0.26654207
          ],
          [
           0.070231142
          ],
          [
           0.26951927
          ],
          [
           0.800004713
          ],
          [
           0.27363366699999997
          ],
          [
           0.14647919199999998
          ],
          [
           0.378318951
          ],
          [
           0.373849065
          ],
          [
           0.242170835
          ],
          [
           0.249796488
          ],
          [
           0.066591188
          ],
          [
           0.372956798
          ],
          [
           0.501812291
          ],
          [
           0.313097752
          ],
          [
           0.8802021959999999
          ],
          [
           0.51981893
          ],
          [
           0.364138746
          ],
          [
           0.49268289600000004
          ],
          [
           0.285732652
          ],
          [
           0.890114985
          ],
          [
           0.316419561
          ],
          [
           0.26866354
          ],
          [
           0.771975959
          ],
          [
           0.968888992
          ],
          [
           0.080334377
          ],
          [
           0.7368282209999999
          ],
          [
           0.30055807100000004
          ],
          [
           0.9179503929999999
          ],
          [
           0.465815039
          ],
          [
           0.054036682
          ],
          [
           0.963150123
          ],
          [
           0.08965350300000001
          ],
          [
           0.7076932340000001
          ],
          [
           0.636416037
          ],
          [
           0.539521117
          ],
          [
           0.114757161
          ],
          [
           0.357312419
          ],
          [
           0.67639834
          ],
          [
           0.43482839
          ],
          [
           0.032326387000000005
          ],
          [
           0.711365605
          ],
          [
           0.187486519
          ],
          [
           0.052789653
          ],
          [
           0.5058636129999999
          ],
          [
           0.927431873
          ],
          [
           0.6809842559999999
          ],
          [
           0.882822186
          ],
          [
           0.495705441
          ],
          [
           0.596240398
          ],
          [
           0.320610701
          ],
          [
           0.3413685
          ],
          [
           0.159681797
          ],
          [
           0.318133669
          ],
          [
           0.8393010479999999
          ],
          [
           0.06435925099999999
          ],
          [
           0.470216633
          ],
          [
           0.7762522909999999
          ],
          [
           0.635843383
          ],
          [
           0.62510543
          ],
          [
           0.52959065
          ],
          [
           0.986900166
          ],
          [
           0.078585688
          ],
          [
           0.233284267
          ],
          [
           0.363330957
          ],
          [
           0.7167169809999999
          ],
          [
           0.37588979200000006
          ],
          [
           0.223316889
          ],
          [
           0.299343986
          ],
          [
           0.538595767
          ],
          [
           0.730297124
          ],
          [
           0.66033077
          ],
          [
           0.435296009
          ],
          [
           0.326494313
          ],
          [
           0.854402708
          ],
          [
           0.5734938470000001
          ],
          [
           0.757786135
          ],
          [
           0.704743233
          ],
          [
           0.281575597
          ],
          [
           0.671968208
          ],
          [
           0.313726015
          ],
          [
           0.364338275
          ],
          [
           0.368216396
          ],
          [
           0.38629520700000003
          ],
          [
           0.655971865
          ],
          [
           0.5660252729999999
          ],
          [
           0.424999093
          ],
          [
           0.090110371
          ],
          [
           0.772350538
          ],
          [
           0.331047258
          ],
          [
           0.273716188
          ],
          [
           0.23877568
          ],
          [
           0.37307977200000003
          ],
          [
           0.331185868
          ],
          [
           0.256134531
          ],
          [
           0.678373225
          ],
          [
           0.43463833799999996
          ],
          [
           0.654668307
          ],
          [
           0.986681065
          ],
          [
           0.371520495
          ],
          [
           0.408359618
          ],
          [
           0.40932365
          ],
          [
           0.283412082
          ],
          [
           0.395246531
          ],
          [
           0.010984428000000001
          ],
          [
           0.306013869
          ],
          [
           0.266194806
          ],
          [
           0.299318521
          ],
          [
           0.318293946
          ],
          [
           0.74282591
          ],
          [
           0.09766432900000001
          ],
          [
           0.079666942
          ],
          [
           0.613258767
          ],
          [
           0.99443072
          ],
          [
           0.568835082
          ],
          [
           0.7080345159999999
          ],
          [
           0.37059271899999996
          ],
          [
           0.669867361
          ],
          [
           0.651295625
          ],
          [
           0.462531569
          ],
          [
           0.7196256190000001
          ],
          [
           0.45377248
          ],
          [
           0.394863946
          ],
          [
           0.323974831
          ],
          [
           0.146454724
          ],
          [
           0.7790670409999999
          ],
          [
           0.401828915
          ],
          [
           0.601479585
          ],
          [
           0.856423023
          ],
          [
           0.565242962
          ],
          [
           0.301225108
          ],
          [
           0.282108144
          ],
          [
           0.594378011
          ],
          [
           0.705312368
          ],
          [
           0.5408696279999999
          ],
          [
           0.319249574
          ],
          [
           0.36176613799999996
          ],
          [
           0.625000704
          ],
          [
           0.316287401
          ],
          [
           0.047239021
          ],
          [
           0.801182233
          ],
          [
           0.508474436
          ],
          [
           0.8178934109999999
          ],
          [
           0.399235601
          ],
          [
           0.9740519990000001
          ],
          [
           0.72241535
          ],
          [
           0.039564764
          ],
          [
           0.908684108
          ],
          [
           0.47301013399999997
          ],
          [
           0.7180496279999999
          ],
          [
           0.7634790690000001
          ],
          [
           0.6475965370000001
          ],
          [
           0.8949973859999999
          ],
          [
           0.22282590100000002
          ],
          [
           0.359012234
          ],
          [
           0.944910252
          ],
          [
           0.297877816
          ],
          [
           0.172517997
          ],
          [
           0.556586265
          ],
          [
           0.876481735
          ],
          [
           0.48667784299999994
          ],
          [
           0.459496733
          ],
          [
           0.47412637700000004
          ],
          [
           0.70101144
          ],
          [
           0.337597387
          ],
          [
           0.537578886
          ],
          [
           0.966992448
          ],
          [
           0.056849545
          ],
          [
           0.233249065
          ],
          [
           0.380054711
          ],
          [
           0.602929443
          ],
          [
           0.303847999
          ],
          [
           0.170194553
          ],
          [
           0.972168554
          ],
          [
           0.332168927
          ],
          [
           0.6887286890000001
          ],
          [
           0.110773401
          ],
          [
           0.273352065
          ],
          [
           0.572939678
          ],
          [
           0.491457065
          ],
          [
           0.281389999
          ],
          [
           0.821697261
          ],
          [
           0.6749776829999999
          ],
          [
           0.585134549
          ],
          [
           0.7105961159999999
          ],
          [
           0.040488789
          ],
          [
           0.568054311
          ],
          [
           0.321752928
          ],
          [
           0.611850232
          ],
          [
           0.926096887
          ],
          [
           0.618347428
          ],
          [
           0.667629785
          ],
          [
           0.39773346600000004
          ],
          [
           0.290875487
          ],
          [
           0.594375103
          ],
          [
           0.508255233
          ],
          [
           0.338571357
          ],
          [
           0.43230234700000003
          ],
          [
           0.302221978
          ],
          [
           0.87619819
          ],
          [
           0.080204492
          ],
          [
           0.092333532
          ],
          [
           0.09365644699999999
          ],
          [
           0.6084523510000001
          ],
          [
           0.732654598
          ],
          [
           0.944158855
          ],
          [
           0.26742308
          ],
          [
           0.731124201
          ],
          [
           0.661308553
          ],
          [
           0.38776626200000003
          ],
          [
           0.962585273
          ],
          [
           0.322067067
          ],
          [
           0.6340810929999999
          ],
          [
           0.475345002
          ],
          [
           0.35355897299999994
          ],
          [
           0.8859363159999999
          ],
          [
           0.876798106
          ],
          [
           0.221581064
          ],
          [
           0.394362449
          ],
          [
           0.8050356759999999
          ],
          [
           0.452898486
          ],
          [
           0.592520516
          ],
          [
           0.761026394
          ],
          [
           0.245049023
          ],
          [
           0.37213936299999995
          ],
          [
           0.681054822
          ],
          [
           0.7471431479999999
          ],
          [
           0.9207395290000001
          ],
          [
           0.097207945
          ],
          [
           0.699302998
          ],
          [
           0.721647006
          ],
          [
           0.5353561139999999
          ],
          [
           0.738293805
          ],
          [
           0.7064675509999999
          ],
          [
           0.67395061
          ],
          [
           0.7112122909999999
          ],
          [
           0.302558708
          ],
          [
           0.080097855
          ],
          [
           0.707010837
          ],
          [
           0.512248622
          ],
          [
           0.659627472
          ],
          [
           0.657559694
          ],
          [
           0.100645606
          ],
          [
           0.92665363
          ],
          [
           0.892879338
          ],
          [
           0.839157508
          ],
          [
           0.890959718
          ],
          [
           0.556754471
          ],
          [
           0.960361937
          ],
          [
           0.631037864
          ],
          [
           0.029838065
          ],
          [
           0.278843351
          ],
          [
           0.926157705
          ],
          [
           0.551504258
          ],
          [
           0.485942349
          ],
          [
           0.43723469600000003
          ],
          [
           0.25231801800000003
          ],
          [
           0.515466972
          ],
          [
           0.43725229600000004
          ],
          [
           0.493724207
          ],
          [
           0.83324725
          ],
          [
           0.317521477
          ],
          [
           0.28623456199999997
          ],
          [
           0.726833965
          ],
          [
           0.495667033
          ],
          [
           0.028645255
          ],
          [
           0.31967191699999997
          ],
          [
           0.674344598
          ],
          [
           0.7660371890000001
          ],
          [
           0.65456992
          ],
          [
           0.7565143809999999
          ],
          [
           0.528253719
          ],
          [
           0.38971949100000003
          ],
          [
           0.355087459
          ],
          [
           0.87015202
          ],
          [
           0.7390833059999999
          ],
          [
           0.305761846
          ],
          [
           0.411587673
          ],
          [
           0.063633094
          ],
          [
           0.735409395
          ],
          [
           0.605916669
          ],
          [
           0.539395562
          ],
          [
           0.566183532
          ],
          [
           0.674795186
          ],
          [
           0.070993366
          ],
          [
           0.12526410000000002
          ],
          [
           0.279601492
          ],
          [
           0.952174402
          ],
          [
           0.233806762
          ],
          [
           0.43724742899999997
          ],
          [
           0.925423095
          ],
          [
           0.433498634
          ],
          [
           0.52517902
          ],
          [
           0.088435529
          ],
          [
           0.447677638
          ],
          [
           0.647000631
          ],
          [
           0.9036033370000001
          ],
          [
           0.265790738
          ],
          [
           0.66419695
          ],
          [
           0.498120658
          ],
          [
           0.49018894399999996
          ],
          [
           0.747084187
          ],
          [
           0.906783648
          ],
          [
           0.678770917
          ],
          [
           0.348599859
          ],
          [
           0.294839683
          ],
          [
           0.705691827
          ],
          [
           0.211917931
          ],
          [
           0.063201124
          ],
          [
           0.276699543
          ],
          [
           0.672459395
          ],
          [
           0.8082059490000001
          ],
          [
           0.296538373
          ],
          [
           0.16012686199999998
          ],
          [
           0.439385032
          ],
          [
           0.555951416
          ],
          [
           0.386240112
          ],
          [
           0.158689619
          ],
          [
           0.214499855
          ],
          [
           0.299579429
          ],
          [
           0.569161656
          ],
          [
           0.488614799
          ],
          [
           0.8782950209999999
          ],
          [
           0.649380949
          ],
          [
           0.465713341
          ],
          [
           0.16813774
          ],
          [
           0.87529545
          ],
          [
           0.8411323409999999
          ],
          [
           0.33292081
          ],
          [
           0.5130478589999999
          ],
          [
           0.30505507800000004
          ],
          [
           0.8126269909999999
          ],
          [
           0.25096706
          ],
          [
           0.5024355779999999
          ],
          [
           0.45799074100000003
          ]
         ],
         "hoverlabel": {
          "namelength": 0
         },
         "hovertemplate": "0=%{x}<br>1=%{y}<br>2=%{z}<br>Feature=%{customdata[0]}<br>Label=%{marker.color}",
         "legendgroup": "",
         "marker": {
          "color": [
           0,
           0,
           1,
           1,
           0,
           0,
           0,
           1,
           1,
           0,
           0,
           1,
           0,
           1,
           1,
           1,
           0,
           1,
           0,
           0,
           1,
           0,
           0,
           1,
           1,
           1,
           0,
           0,
           1,
           1,
           0,
           0,
           0,
           0,
           1,
           0,
           0,
           0,
           0,
           0,
           0,
           0,
           0,
           1,
           0,
           0,
           0,
           1,
           0,
           0,
           0,
           1,
           0,
           1,
           0,
           1,
           0,
           0,
           0,
           1,
           0,
           0,
           0,
           1,
           0,
           0,
           1,
           0,
           0,
           1,
           0,
           0,
           0,
           0,
           0,
           0,
           0,
           0,
           0,
           0,
           0,
           0,
           0,
           0,
           0,
           0,
           0,
           0,
           0,
           0,
           0,
           0,
           0,
           0,
           0,
           0,
           0,
           0,
           0,
           0,
           0,
           0,
           0,
           0,
           0,
           0,
           0,
           0,
           0,
           0,
           0,
           0,
           0,
           0,
           0,
           0,
           0,
           0,
           0,
           0,
           0,
           0,
           0,
           0,
           0,
           0,
           0,
           0,
           0,
           0,
           1,
           0,
           0,
           0,
           0,
           0,
           1,
           0,
           0,
           0,
           0,
           0,
           0,
           0,
           0,
           0,
           0,
           0,
           0,
           0,
           0,
           0,
           0,
           0,
           0,
           0,
           0,
           0,
           0,
           0,
           0,
           0,
           0,
           0,
           0,
           0,
           0,
           0,
           0,
           0,
           0,
           0,
           0,
           0,
           0,
           0,
           0,
           0,
           0,
           0,
           0,
           0,
           0,
           0,
           0,
           0,
           0,
           0,
           0,
           0,
           0,
           0,
           0,
           0,
           0,
           0,
           0,
           0,
           0,
           0,
           0,
           0,
           0,
           0,
           0,
           0,
           0,
           0,
           0,
           0,
           0,
           0,
           0,
           0,
           0,
           0,
           0,
           0,
           0,
           0,
           0,
           0,
           0,
           0,
           0,
           0,
           0,
           0,
           0,
           1,
           0,
           0,
           0,
           0,
           0,
           0,
           0,
           0,
           0,
           0,
           0,
           0,
           0,
           0,
           0,
           0,
           0,
           0,
           0,
           0,
           0,
           0,
           0,
           0,
           0,
           0,
           0,
           0,
           0,
           0,
           0,
           0,
           0,
           0,
           0,
           0,
           0,
           0,
           0,
           0,
           0,
           0,
           0,
           0,
           0,
           0,
           0,
           0,
           0,
           0,
           0,
           0,
           0,
           0,
           0,
           0,
           0,
           0,
           0,
           0,
           0,
           0,
           0,
           0,
           0,
           0,
           0,
           0,
           0,
           0,
           0,
           0,
           0,
           0,
           0,
           0,
           0,
           0,
           0,
           0,
           0,
           0,
           0,
           0,
           0,
           0,
           0,
           0,
           0,
           0,
           0,
           0,
           0,
           0,
           0,
           0,
           0,
           0,
           0,
           0,
           0,
           0,
           0,
           0,
           0,
           0,
           0,
           0,
           0,
           0,
           0,
           0,
           0,
           0,
           0,
           0,
           0,
           0,
           0,
           0,
           0,
           0,
           0,
           0,
           0,
           0,
           0,
           0,
           0,
           0,
           0,
           0,
           0,
           0,
           0,
           0,
           0,
           0,
           0,
           0,
           0,
           0,
           0,
           0,
           0,
           0,
           0,
           0,
           0,
           0,
           0,
           0,
           0,
           0,
           0,
           0,
           0,
           0,
           0,
           0,
           0,
           0,
           1,
           0,
           0,
           0,
           0,
           0,
           0,
           0,
           0,
           0,
           0,
           0,
           0,
           0,
           0,
           0,
           0,
           0,
           0,
           0,
           0,
           0,
           0,
           0,
           0,
           0,
           0,
           0,
           0,
           0,
           0,
           0,
           0,
           0,
           0,
           0,
           0,
           0,
           0,
           0,
           0,
           0,
           0,
           0,
           0,
           0,
           0,
           0,
           0,
           0,
           0,
           0,
           0,
           0,
           0,
           0,
           0,
           0,
           0,
           0,
           0,
           0,
           0,
           0,
           0,
           0,
           0,
           0,
           0,
           0,
           0,
           0,
           0,
           0,
           0,
           0,
           0,
           0,
           0,
           0,
           0,
           0,
           1,
           0,
           0,
           0,
           0,
           0,
           0,
           0,
           0,
           0,
           0,
           0,
           0,
           0,
           0,
           0,
           0,
           0,
           0,
           0,
           0,
           0,
           0,
           0,
           0,
           0,
           0,
           0,
           0,
           0,
           0,
           0,
           0,
           0,
           0,
           0,
           0,
           0,
           0,
           0,
           0,
           0,
           0,
           0,
           0,
           0,
           0,
           0,
           0,
           0,
           0,
           0,
           0,
           0,
           0,
           0,
           0,
           0,
           0,
           0,
           0,
           0,
           0,
           0,
           0,
           0,
           0,
           0,
           0,
           0,
           0,
           0,
           0,
           0,
           0,
           0,
           0,
           0,
           0,
           0,
           0,
           0,
           0,
           0,
           0,
           0,
           0,
           0,
           0,
           0,
           0,
           0,
           0,
           0,
           0,
           0,
           0,
           0,
           0,
           0,
           0,
           0,
           0,
           0,
           0,
           0,
           0,
           0,
           0,
           0,
           0,
           0,
           0,
           0,
           0,
           0,
           0,
           0,
           0,
           0,
           0,
           0,
           0,
           0,
           0,
           0,
           0,
           0,
           1,
           0,
           0,
           0,
           0,
           0,
           0,
           0,
           0,
           0,
           0,
           0,
           0,
           0,
           0,
           0,
           0,
           0,
           0,
           0,
           0,
           0,
           0,
           0,
           0,
           0,
           0,
           0,
           0,
           0,
           0,
           0,
           0,
           0,
           0,
           0,
           0,
           0,
           0,
           0,
           0,
           0,
           0,
           0,
           0,
           0,
           0,
           0,
           0,
           0,
           0,
           0,
           0,
           0,
           0,
           0,
           0,
           0,
           0,
           0,
           0,
           0,
           0,
           0,
           0,
           0,
           0,
           0,
           0,
           0,
           0,
           0,
           0,
           0,
           0,
           0,
           0,
           0,
           0,
           0,
           0,
           0,
           0,
           0,
           0,
           0,
           0,
           0,
           0,
           0,
           0,
           0,
           0,
           0,
           0,
           0,
           0,
           0,
           1,
           1,
           0,
           1,
           1,
           0,
           0,
           1,
           1,
           0,
           1,
           0,
           1,
           1,
           0,
           0,
           1,
           1,
           1,
           0,
           1,
           0,
           1,
           1,
           1,
           0,
           0,
           0,
           0,
           0,
           0,
           0,
           0,
           0,
           0,
           0,
           0,
           0,
           0,
           0,
           0,
           0,
           0,
           0,
           0,
           0,
           0,
           0,
           0,
           0,
           0,
           0,
           0,
           0,
           0,
           0,
           0,
           0,
           0,
           0,
           0,
           0,
           0,
           0,
           0,
           0,
           0,
           0,
           0,
           0,
           0,
           0,
           0,
           0,
           0,
           0,
           0,
           0,
           0,
           0,
           0,
           0,
           0,
           0,
           0,
           0,
           0,
           0,
           0,
           0,
           0,
           0,
           0,
           0,
           0,
           0,
           0,
           0,
           0,
           1,
           0,
           0,
           0,
           0,
           0,
           0,
           0,
           0,
           0,
           0,
           0,
           0,
           0,
           0,
           0,
           0,
           0,
           0,
           0,
           0,
           0,
           0,
           0,
           0,
           0,
           0,
           0,
           0,
           0,
           0,
           0,
           0,
           0,
           0,
           0,
           0,
           0,
           0,
           0,
           0,
           0,
           0,
           0,
           0,
           0,
           0,
           0,
           0,
           0,
           0,
           0,
           0,
           0,
           0,
           0,
           0,
           1,
           0,
           0,
           0,
           0,
           0,
           0,
           0,
           0,
           0,
           0,
           0,
           0,
           0,
           0,
           0,
           0,
           0,
           0,
           0,
           0,
           0,
           0,
           0,
           0,
           0,
           0,
           0,
           0,
           0,
           0,
           0,
           0,
           0,
           0,
           0,
           0,
           0,
           0,
           0,
           0,
           0,
           0,
           0,
           0,
           0,
           0,
           0,
           0,
           0,
           0,
           0,
           0,
           0,
           0,
           0,
           0,
           0,
           0,
           0,
           0,
           0,
           0,
           0,
           0,
           0,
           0,
           0,
           0,
           0,
           0,
           0,
           0,
           0,
           0,
           0,
           0,
           0,
           0,
           0,
           0,
           0,
           0,
           0,
           0,
           1,
           0,
           0,
           0,
           0,
           0,
           0,
           0,
           0,
           0,
           0,
           0,
           0,
           0,
           0,
           0,
           0,
           0,
           0,
           0,
           0,
           0,
           0,
           0,
           0,
           0,
           0,
           0,
           0,
           0,
           0,
           0,
           0,
           0,
           0,
           0,
           0,
           0,
           0,
           0,
           0,
           0,
           0,
           0,
           0,
           0,
           0,
           0,
           0,
           0,
           0,
           0,
           0,
           0,
           0,
           0,
           0,
           0,
           0
          ],
          "coloraxis": "coloraxis",
          "opacity": 0.7,
          "symbol": "circle"
         },
         "mode": "markers",
         "name": "",
         "scene": "scene",
         "showlegend": false,
         "type": "scatter3d",
         "x": [
          6.392225742340088,
          -5.9391255378723145,
          -2.0729732513427734,
          -4.705265998840332,
          2.111455202102661,
          -3.3076295852661133,
          -2.941977024078369,
          -10.718835830688477,
          1.8584870100021362,
          10.543533325195312,
          -13.249078750610352,
          2.034015655517578,
          -8.379013061523438,
          5.202855110168457,
          0.06316080689430237,
          -1.6841744184494019,
          -8.409873008728027,
          -2.201519250869751,
          -3.435202121734619,
          0.9072648882865906,
          -2.4776651859283447,
          7.849078178405762,
          4.372779369354248,
          1.3115520477294922,
          -5.174935817718506,
          -6.318411827087402,
          1.1100826263427734,
          2.100163221359253,
          -0.650590181350708,
          -6.389282703399658,
          0.45039117336273193,
          -6.409014701843262,
          4.7392401695251465,
          -0.37023621797561646,
          5.448054790496826,
          6.359287738800049,
          -1.4245737791061401,
          2.4465975761413574,
          7.30708122253418,
          -4.64686918258667,
          -11.725838661193848,
          -2.4910404682159424,
          -0.06650770455598831,
          -3.317974328994751,
          -1.2352583408355713,
          -1.1997071504592896,
          -0.7735996246337891,
          1.3573253154754639,
          1.724914312362671,
          -3.4615440368652344,
          -11.822999954223633,
          -4.252824783325195,
          6.152592182159424,
          -1.3281354904174805,
          -4.769993782043457,
          -10.499444961547852,
          -7.122137069702148,
          5.3968119621276855,
          -0.8438017964363098,
          -2.761979341506958,
          3.3585281372070312,
          2.398920774459839,
          -3.9731249809265137,
          -2.9861130714416504,
          -0.4838888645172119,
          -0.17014305293560028,
          2.4706146717071533,
          -1.6941992044448853,
          1.1206700801849365,
          -8.518882751464844,
          -8.623785018920898,
          -6.639642238616943,
          9.436944007873535,
          -8.588730812072754,
          9.922607421875,
          9.207791328430176,
          -0.5503478646278381,
          -4.602102756500244,
          13.909537315368652,
          12.934207916259766,
          12.082581520080566,
          10.287201881408691,
          3.328611135482788,
          0.9382613301277161,
          -2.6244542598724365,
          -4.984551906585693,
          -2.73895001411438,
          -3.1878037452697754,
          1.784600019454956,
          10.79482364654541,
          7.770097732543945,
          -11.454665184020996,
          0.3685699999332428,
          -2.731302499771118,
          -8.339756965637207,
          -5.1968278884887695,
          4.797112941741943,
          -4.1986541748046875,
          0.8093714714050293,
          0.4750899076461792,
          8.370880126953125,
          -2.387937545776367,
          -3.677182197570801,
          6.402167797088623,
          -5.030100345611572,
          7.019034385681152,
          0.10796001553535461,
          -7.501927375793457,
          10.493858337402344,
          -5.108173370361328,
          11.852027893066406,
          9.268619537353516,
          -13.358201026916504,
          10.38169002532959,
          -0.11308173835277557,
          12.679773330688477,
          -6.7702317237854,
          -2.6403186321258545,
          -6.376334190368652,
          0.4699578583240509,
          13.095284461975098,
          2.4878852367401123,
          -7.225142478942871,
          -0.6368126273155212,
          -0.5501521229743958,
          -4.875373363494873,
          -8.717689514160156,
          -5.770042419433594,
          -2.6449694633483887,
          -4.869409084320068,
          3.159940719604492,
          5.110086441040039,
          -10.764860153198242,
          -5.2367777824401855,
          -2.7345197200775146,
          7.820735454559326,
          2.8355629444122314,
          -7.792471408843994,
          -3.507045269012451,
          -0.43944647908210754,
          -9.388169288635254,
          10.524117469787598,
          6.423454284667969,
          2.535388231277466,
          0.018375715240836143,
          9.679966926574707,
          -10.162723541259766,
          -1.1200776100158691,
          -4.410388469696045,
          1.259251594543457,
          12.247915267944336,
          10.098713874816895,
          -5.375502109527588,
          6.452933311462402,
          7.921080112457275,
          4.307567596435547,
          -2.4637608528137207,
          -0.6422267556190491,
          11.747577667236328,
          -7.398767471313477,
          -6.301792621612549,
          5.170248031616211,
          12.11781120300293,
          15.092183113098145,
          -6.109467029571533,
          -2.523167371749878,
          -8.827420234680176,
          -8.42746353149414,
          -0.5579685568809509,
          -0.11070134490728378,
          0.7321867346763611,
          -4.384944915771484,
          -6.473416805267334,
          0.8392186164855957,
          -0.09342370927333832,
          -2.7517571449279785,
          -5.127166748046875,
          0.29427340626716614,
          -4.915501594543457,
          -6.54029655456543,
          -1.1567983627319336,
          -9.048450469970703,
          -7.343869209289551,
          -6.915379524230957,
          -8.052927017211914,
          -5.696907997131348,
          -4.135800838470459,
          3.2498133182525635,
          10.793781280517578,
          10.258148193359375,
          -1.4171884059906006,
          1.8682985305786133,
          -12.05428409576416,
          0.1019127294421196,
          -6.806657314300537,
          -4.845836162567139,
          -1.9777483940124512,
          -8.226746559143066,
          8.062857627868652,
          -0.9650412201881409,
          3.6232192516326904,
          -0.8155054450035095,
          -8.675248146057129,
          3.142855405807495,
          -0.8485152721405029,
          -6.710724353790283,
          15.125861167907715,
          3.304790735244751,
          -9.486932754516602,
          -2.781822681427002,
          0.4858408272266388,
          -4.81744384765625,
          -5.535576343536377,
          12.59532642364502,
          2.4014334678649902,
          0.5769973397254944,
          -2.9293060302734375,
          -3.558405637741089,
          -5.372725486755371,
          -0.4911203980445862,
          -1.0830137729644775,
          -4.631319999694824,
          2.0432558059692383,
          11.701395034790039,
          -5.528388500213623,
          14.69310474395752,
          1.0380576848983765,
          11.798887252807617,
          -2.076582908630371,
          -7.04899263381958,
          -4.235839366912842,
          0.26136523485183716,
          -7.452539920806885,
          -7.371633052825928,
          -1.306864619255066,
          -4.682371139526367,
          -0.974962592124939,
          10.321022033691406,
          -5.7909932136535645,
          0.5258933901786804,
          2.8881824016571045,
          -4.806295394897461,
          0.4091509282588959,
          -3.596985101699829,
          -8.334524154663086,
          -4.918972015380859,
          8.907307624816895,
          14.189569473266602,
          1.6208919286727905,
          3.8717074394226074,
          6.698852062225342,
          -1.094586968421936,
          -6.204412937164307,
          4.8545918464660645,
          7.96358585357666,
          -0.5893219709396362,
          5.886830806732178,
          -2.807169198989868,
          -6.654984474182129,
          0.020425664260983467,
          1.33406662940979,
          4.573322772979736,
          1.8649476766586304,
          -1.7799687385559082,
          7.586562156677246,
          -3.6801817417144775,
          -8.752368927001953,
          -6.406678199768066,
          10.442768096923828,
          -7.628417015075684,
          -6.13933801651001,
          -7.1795830726623535,
          6.8906073570251465,
          1.1821119785308838,
          -6.213255405426025,
          3.510742425918579,
          -4.161464214324951,
          1.728345274925232,
          -6.327434539794922,
          10.490449905395508,
          0.602756917476654,
          1.2517560720443726,
          10.046073913574219,
          9.281181335449219,
          -0.32245656847953796,
          -6.172664642333984,
          0.2712216377258301,
          -4.656923770904541,
          -3.8100640773773193,
          7.233856678009033,
          11.816543579101562,
          -7.342805862426758,
          0.42086637020111084,
          -5.578602313995361,
          0.7585824728012085,
          -11.043204307556152,
          -9.033608436584473,
          15.389754295349121,
          -0.5460253357887268,
          6.802766799926758,
          -4.813077449798584,
          -2.8095099925994873,
          -6.367812633514404,
          -8.368645668029785,
          -7.259603500366211,
          10.59939956665039,
          -4.596437454223633,
          11.12369441986084,
          0.23197269439697266,
          -7.8470540046691895,
          -8.043961524963379,
          0.5893172025680542,
          -8.341716766357422,
          0.9075143933296204,
          -0.28924885392189026,
          6.350092887878418,
          0.019523706287145615,
          -3.438721179962158,
          11.206755638122559,
          -8.566154479980469,
          -5.088534355163574,
          7.833178997039795,
          -6.857369899749756,
          -2.527543067932129,
          15.353731155395508,
          7.505348205566406,
          -7.49599552154541,
          -9.548564910888672,
          0.5127554535865784,
          -7.615910053253174,
          -6.592357635498047,
          -3.357349395751953,
          3.682246446609497,
          5.855582237243652,
          -3.275899648666382,
          0.09068246930837631,
          -4.44308614730835,
          7.5249176025390625,
          -4.236303329467773,
          -4.038060188293457,
          6.656154155731201,
          11.328818321228027,
          -6.494387149810791,
          6.0345258712768555,
          -9.907543182373047,
          1.8826557397842407,
          -5.034098148345947,
          -0.0556289479136467,
          -6.305730819702148,
          -2.944355010986328,
          -0.6216630339622498,
          6.906397819519043,
          0.4518246054649353,
          -7.366673946380615,
          0.2700885534286499,
          11.591401100158691,
          4.614831447601318,
          -3.472783327102661,
          -6.531344890594482,
          7.235965251922607,
          -5.614614963531494,
          -4.298829555511475,
          2.2844743728637695,
          0.5714097023010254,
          -7.054617881774902,
          12.396860122680664,
          -4.186605930328369,
          -4.463330268859863,
          -2.771487236022949,
          -8.085237503051758,
          -1.8899035453796387,
          2.736894130706787,
          0.19820073246955872,
          -1.5289689302444458,
          -6.76125431060791,
          -0.41472962498664856,
          10.875697135925293,
          -7.101663589477539,
          -8.409637451171875,
          9.45908260345459,
          -8.141585350036621,
          1.4819785356521606,
          9.504863739013672,
          9.199355125427246,
          -5.4554443359375,
          4.242837429046631,
          0.7780706882476807,
          0.9054033160209656,
          -1.1866421699523926,
          9.931640625,
          0.2819592356681824,
          5.328347682952881,
          6.720039367675781,
          10.345261573791504,
          -0.9071922898292542,
          -7.407299518585205,
          6.928413391113281,
          -7.902411937713623,
          7.193116188049316,
          9.136076927185059,
          0.6253013610839844,
          1.392270565032959,
          0.39901453256607056,
          -7.2538251876831055,
          -10.107481002807617,
          -6.202108860015869,
          -1.5602680444717407,
          3.063713550567627,
          -8.18288516998291,
          -8.028114318847656,
          -4.976959228515625,
          9.997954368591309,
          -5.819640159606934,
          11.76570987701416,
          -7.494926452636719,
          0.03222692757844925,
          -3.4464871883392334,
          -3.501608371734619,
          -9.572649002075195,
          1.642910361289978,
          10.004344940185547,
          -2.2148396968841553,
          -4.795397758483887,
          -4.376095294952393,
          -0.6475531458854675,
          -3.533332347869873,
          -3.844059467315674,
          -7.531822204589844,
          8.349872589111328,
          -0.553573727607727,
          12.173760414123535,
          -5.071435451507568,
          1.4460954666137695,
          -6.4680047035217285,
          -7.9408860206604,
          -1.9691402912139893,
          -1.3625963926315308,
          0.9778448343276978,
          11.101790428161621,
          -1.4223939180374146,
          7.732444763183594,
          14.3840913772583,
          -0.6126641035079956,
          -0.6134299039840698,
          2.8533811569213867,
          -6.261973857879639,
          -7.361452102661133,
          4.198948860168457,
          2.668060541152954,
          -10.475255012512207,
          0.8418970108032227,
          2.3933446407318115,
          -0.29385700821876526,
          11.036653518676758,
          -12.50549602508545,
          -8.574545860290527,
          -2.1018221378326416,
          2.2890851497650146,
          13.383069038391113,
          14.630830764770508,
          -6.141360759735107,
          -1.1397596597671509,
          -1.0898163318634033,
          12.490753173828125,
          -0.0884498879313469,
          7.875363826751709,
          10.508292198181152,
          -8.803462982177734,
          -2.539929151535034,
          -0.00023258314467966557,
          13.489690780639648,
          -0.24947580695152283,
          -2.106847047805786,
          8.291669845581055,
          -0.8107323050498962,
          -6.116532802581787,
          -4.63124418258667,
          -6.168890953063965,
          8.450236320495605,
          -3.905216932296753,
          0.5218992829322815,
          1.8165295124053955,
          -7.112421035766602,
          1.2411563396453857,
          -6.257370948791504,
          0.5010563731193542,
          -4.329689979553223,
          8.466730117797852,
          7.263834476470947,
          1.1847193241119385,
          13.467527389526367,
          -11.465140342712402,
          -5.826674938201904,
          -6.51276159286499,
          0.247865229845047,
          -9.697155952453613,
          -8.319268226623535,
          -9.059415817260742,
          4.989547252655029,
          10.661030769348145,
          -3.6312363147735596,
          1.3402292728424072,
          7.892697334289551,
          1.6222974061965942,
          8.354467391967773,
          1.3181151151657104,
          11.856051445007324,
          1.092901349067688,
          9.162639617919922,
          -8.631366729736328,
          0.9106075167655945,
          -0.26607459783554077,
          -4.327024459838867,
          -4.360244274139404,
          14.470220565795898,
          4.800081253051758,
          7.01948356628418,
          12.689919471740723,
          -0.47092485427856445,
          -5.358660697937012,
          10.012614250183105,
          3.2155652046203613,
          -5.034329414367676,
          0.47445088624954224,
          -5.251810550689697,
          -7.516780376434326,
          8.62139892578125,
          -2.8977210521698,
          -0.4685121178627014,
          5.727376461029053,
          -3.7413406372070312,
          -4.61247444152832,
          -8.39652156829834,
          -2.1151344776153564,
          -10.720240592956543,
          -7.839416980743408,
          -7.691929817199707,
          2.448216676712036,
          10.805365562438965,
          -7.729005336761475,
          -1.4320422410964966,
          -8.414835929870605,
          -5.10230827331543,
          -4.220378875732422,
          -0.6993260383605957,
          -10.03438663482666,
          8.72012996673584,
          -7.861922264099121,
          -8.980591773986816,
          9.504316329956055,
          4.823676586151123,
          9.174034118652344,
          -0.04823794960975647,
          11.630866050720215,
          3.7688937187194824,
          -1.8588827848434448,
          -8.201414108276367,
          8.924382209777832,
          -8.68979549407959,
          -0.9129467606544495,
          -0.4257984459400177,
          -5.597024440765381,
          3.5544650554656982,
          -11.303973197937012,
          0.151064932346344,
          14.470369338989258,
          -2.584825277328491,
          1.1262692213058472,
          -10.89110279083252,
          -11.781264305114746,
          7.486884117126465,
          -11.386402130126953,
          -9.273722648620605,
          -2.817091464996338,
          -6.818947792053223,
          -8.73305606842041,
          -3.5580601692199707,
          -3.3598997592926025,
          8.423704147338867,
          13.668386459350586,
          9.260579109191895,
          12.948529243469238,
          -1.310994267463684,
          -3.701246500015259,
          0.228631392121315,
          15.257739067077637,
          5.660661697387695,
          -0.5344750285148621,
          -5.575636386871338,
          -4.200191020965576,
          0.9007342457771301,
          2.506739616394043,
          0.4497419595718384,
          -9.526127815246582,
          -0.09001881629228592,
          6.699348449707031,
          -8.129051208496094,
          -5.70432186126709,
          -7.06550407409668,
          -0.10194215923547745,
          -7.576876163482666,
          3.7547388076782227,
          -8.584775924682617,
          -4.238715648651123,
          -8.972134590148926,
          -3.576160430908203,
          -9.923300743103027,
          -4.059972286224365,
          0.02734789438545704,
          -3.5932252407073975,
          -5.5797271728515625,
          11.133313179016113,
          10.679028511047363,
          6.545810222625732,
          12.1653470993042,
          3.1949660778045654,
          -0.7452974319458008,
          1.0997222661972046,
          -0.006640160456299782,
          5.568743705749512,
          1.998795986175537,
          5.6108269691467285,
          7.218085765838623,
          -0.009387693367898464,
          -0.052287518978118896,
          -10.188194274902344,
          -6.000136375427246,
          -0.37878939509391785,
          2.299208164215088,
          12.615715026855469,
          5.645910263061523,
          -7.747347831726074,
          10.980401992797852,
          3.2470719814300537,
          10.624079704284668,
          10.705119132995605,
          12.091536521911621,
          1.6650829315185547,
          -12.370384216308594,
          0.09521254897117615,
          -0.8848183751106262,
          -2.9594764709472656,
          -4.835609436035156,
          10.089923858642578,
          -4.082103252410889,
          12.911096572875977,
          -0.8012083172798157,
          9.159082412719727,
          -6.298121452331543,
          6.788940906524658,
          1.0238499641418457,
          -2.3830668926239014,
          1.0519310235977173,
          -9.009981155395508,
          -3.384803056716919,
          -2.7792928218841553,
          1.6583802700042725,
          8.73862075805664,
          1.8806291818618774,
          -5.053114891052246,
          -7.757253170013428,
          5.058741569519043,
          0.15440350770950317,
          6.889707088470459,
          -8.259385108947754,
          -1.3077712059020996,
          -7.21938943862915,
          -5.0801873207092285,
          -8.352214813232422,
          -2.818859577178955,
          -0.4799160957336426,
          10.993524551391602,
          6.92738151550293,
          0.9745793342590332,
          -6.944373607635498,
          3.9528088569641113,
          -3.784970760345459,
          -12.189613342285156,
          -7.646994113922119,
          -5.261035442352295,
          -0.472441166639328,
          -0.3311713635921478,
          6.633082866668701,
          -6.476680755615234,
          2.9722816944122314,
          -3.240421772003174,
          9.012360572814941,
          0.11358411610126495,
          -12.14896297454834,
          -8.057504653930664,
          -4.423047065734863,
          -7.875596046447754,
          -5.882904529571533,
          -3.2443082332611084,
          -12.944199562072754,
          -7.771580219268799,
          8.060685157775879,
          14.60191535949707,
          12.794515609741211,
          -3.7833034992218018,
          0.48219215869903564,
          15.054242134094238,
          5.1752166748046875,
          -0.6326315999031067,
          8.352041244506836,
          -9.519508361816406,
          -11.073208808898926,
          -4.780299663543701,
          3.1708626747131348,
          -3.7807912826538086,
          -0.3663049638271332,
          -0.7233851552009583,
          -0.3240197002887726,
          -6.278510570526123,
          1.6297106742858887,
          -7.678010940551758,
          -3.0541131496429443,
          -1.205628752708435,
          1.6768730878829956,
          -1.4221044778823853,
          -3.371790885925293,
          -8.118223190307617,
          -4.7226409912109375,
          -4.303037166595459,
          -1.19215726852417,
          4.689738750457764,
          -9.759387969970703,
          -7.644925117492676,
          -5.705476760864258,
          -4.111491680145264,
          0.4504377543926239,
          -0.9524716734886169,
          1.1804922819137573,
          -0.41871094703674316,
          -2.8469412326812744,
          -12.407438278198242,
          12.352105140686035,
          14.306844711303711,
          14.651576042175293,
          -5.611431121826172,
          -0.05063123255968094,
          8.962082862854004,
          8.826183319091797,
          -6.541920185089111,
          7.175128936767578,
          15.120898246765137,
          14.518355369567871,
          -12.260185241699219,
          1.8497282266616821,
          -7.782810211181641,
          -5.4683027267456055,
          0.24247241020202637,
          -8.260998725891113,
          -6.741418838500977,
          1.178953766822815,
          0.1662004441022873,
          12.90439510345459,
          4.164059638977051,
          -4.244137763977051,
          0.9692567586898804,
          -7.209659576416016,
          7.031988620758057,
          0.7545254826545715,
          -4.755002975463867,
          6.6977009773254395,
          -4.8778977394104,
          -6.226282119750977,
          1.1085412502288818,
          -3.5367870330810547,
          1.8893769979476929,
          12.462757110595703,
          9.323814392089844,
          1.2714829444885254,
          -4.186779022216797,
          7.538842678070068,
          2.3537232875823975,
          2.1836342811584473,
          -0.22669455409049988,
          10.870527267456055,
          6.234444618225098,
          11.362733840942383,
          -5.5979323387146,
          -4.582003116607666,
          12.114532470703125,
          14.773603439331055,
          -7.959227561950684,
          2.705611228942871,
          -7.457154750823975,
          14.95634651184082,
          14.849123001098633,
          -10.786453247070312,
          10.248443603515625,
          -6.80868673324585,
          10.111078262329102,
          -6.603497505187988,
          -7.696898937225342,
          2.823127508163452,
          2.364088535308838,
          11.91391372680664,
          -0.44154319167137146,
          2.971653699874878,
          2.1881725788116455,
          -0.30490052700042725,
          -5.572714805603027,
          0.5245046615600586,
          -3.049290657043457,
          4.779858589172363,
          -2.5102343559265137,
          -10.104787826538086,
          -2.478329658508301,
          1.1385760307312012,
          -6.4506354331970215,
          10.41005802154541,
          9.385810852050781,
          -5.07850980758667,
          2.5231740474700928,
          -3.5921425819396973,
          -9.530254364013672,
          -4.841763496398926,
          -7.797555446624756,
          -11.471841812133789,
          1.1911697387695312,
          15.700031280517578,
          -3.144896984100342,
          -3.371641159057617,
          -1.2293922901153564,
          -10.193502426147461,
          13.558924674987793,
          7.59474515914917,
          -5.086353302001953,
          -1.6301085948944092,
          8.024333000183105,
          -4.2708048820495605,
          -5.755197525024414,
          2.551924705505371,
          -8.096820831298828,
          -0.6675186157226562,
          2.318460464477539,
          -11.200393676757812,
          4.333485126495361,
          12.076584815979004,
          6.418163299560547,
          -7.419754981994629,
          -6.5435614585876465,
          -3.705038547515869,
          -9.35461711883545,
          -7.056216716766357,
          12.387890815734863,
          12.393460273742676,
          -0.4992060661315918,
          -8.088130950927734,
          10.95022201538086,
          5.551582336425781,
          12.420442581176758,
          -0.4788116216659546,
          -6.286038875579834,
          0.19526612758636475,
          -10.782147407531738,
          14.561260223388672,
          -6.76475715637207,
          8.330620765686035,
          13.404852867126465,
          -1.598029613494873,
          14.749149322509766,
          -4.790045738220215,
          -7.895913600921631,
          -2.9412360191345215,
          14.681705474853516,
          -8.853687286376953,
          10.460612297058105,
          -11.0651273727417,
          4.451943397521973,
          -2.8064568042755127,
          13.12597370147705,
          -9.010336875915527,
          0.11337044835090637,
          -1.020250678062439,
          0.6642737984657288,
          9.420134544372559,
          -0.8597751259803772,
          11.576359748840332,
          13.518559455871582,
          10.966410636901855,
          -5.920241832733154,
          -8.289204597473145,
          -12.956022262573242,
          6.536070823669434,
          -0.06208148971199989,
          6.6051788330078125,
          -4.344779014587402,
          1.888343095779419,
          -7.4514594078063965,
          -0.23399502038955688,
          11.017861366271973,
          -6.953067779541016,
          10.166852951049805,
          8.425740242004395,
          -3.167264223098755,
          -0.9276097416877747,
          -0.6075943112373352,
          -4.296602249145508,
          4.364602565765381,
          2.6816530227661133,
          -9.636590003967285,
          15.290298461914062,
          3.511388063430786,
          -9.083563804626465,
          -5.9985198974609375,
          -0.4270768165588379,
          11.60645580291748,
          -4.656956672668457,
          -0.5026095509529114,
          0.5431811213493347,
          10.034546852111816,
          -6.342657089233398,
          0.16746725142002106,
          9.84372615814209,
          -6.725269317626953,
          -10.997725486755371,
          -12.883959770202637,
          9.995195388793945,
          -10.671082496643066,
          0.1305573731660843,
          10.146820068359375,
          -6.853721618652344,
          12.497544288635254,
          -7.0734148025512695,
          8.945673942565918,
          -0.726270854473114,
          -6.679235458374023,
          1.0539803504943848,
          3.7026774883270264,
          -2.624175548553467,
          -8.275437355041504,
          -8.250977516174316,
          -0.4146706759929657,
          4.510892391204834,
          -1.6923348903656006,
          -4.9703803062438965,
          -11.847259521484375,
          -2.0383238792419434,
          3.222254753112793,
          14.360310554504395,
          -9.331242561340332,
          12.000680923461914,
          -4.822263717651367,
          13.665217399597168,
          8.099007606506348,
          -5.587662696838379,
          -7.051385879516602,
          8.5086030960083,
          2.394688367843628,
          -9.506610870361328,
          -7.177722930908203,
          1.3693963289260864,
          -3.4750566482543945,
          -12.86994457244873,
          -4.684925079345703,
          -5.666928291320801,
          1.376732349395752,
          -5.270707607269287,
          -1.9411472082138062,
          0.21685932576656342,
          12.981683731079102,
          8.414228439331055,
          -0.5951395630836487,
          -5.009613037109375,
          11.097677230834961,
          -4.741222381591797,
          3.8615033626556396,
          -4.930538177490234,
          13.637418746948242,
          6.510613918304443,
          0.22842693328857422,
          11.201366424560547,
          -3.890101671218872,
          -3.5658459663391113,
          -4.052018165588379,
          1.1864949464797974,
          -7.69940185546875,
          -5.198792457580566,
          8.427675247192383,
          15.864325523376465,
          -4.783348083496094,
          -3.8711354732513428,
          1.5739301443099976,
          1.2283741235733032,
          -9.300226211547852,
          -11.357891082763672,
          0.2858103811740875,
          -6.801013469696045,
          10.049652099609375,
          13.345390319824219,
          -1.7169932126998901,
          -4.865418434143066,
          8.473531723022461,
          -0.22400863468647003,
          14.614176750183105,
          -6.913273334503174,
          -0.7780136466026306
         ],
         "y": [
          -2.0284311771392822,
          6.937380790710449,
          -11.09097671508789,
          4.215539455413818,
          -10.454426765441895,
          2.369987726211548,
          12.137964248657227,
          1.6611886024475098,
          4.397462844848633,
          1.3382903337478638,
          1.572913408279419,
          -4.3759918212890625,
          7.3400774002075195,
          -7.103407859802246,
          -3.013864278793335,
          -2.7505571842193604,
          7.300616264343262,
          5.3092827796936035,
          -10.716541290283203,
          -2.862142562866211,
          2.661970376968384,
          -7.906952381134033,
          -7.522434234619141,
          4.703094482421875,
          -1.7168875932693481,
          -2.0049567222595215,
          -3.604983329772949,
          1.522567629814148,
          1.5292307138442993,
          -2.7525315284729004,
          1.8751850128173828,
          5.025327205657959,
          -7.6692914962768555,
          -1.406175136566162,
          3.3091354370117188,
          -8.301929473876953,
          2.2653284072875977,
          1.3191629648208618,
          -6.619711875915527,
          1.4952008724212646,
          10.723701477050781,
          -1.1625951528549194,
          2.770174741744995,
          -2.695096969604492,
          -2.573683261871338,
          -2.461184024810791,
          -1.821116328239441,
          4.580977439880371,
          -4.139331817626953,
          5.802395343780518,
          5.114552974700928,
          -10.317598342895508,
          2.7183613777160645,
          -2.3998632431030273,
          2.1255383491516113,
          10.78076171875,
          2.975691795349121,
          7.354984283447266,
          -1.1740092039108276,
          -7.743043899536133,
          6.747562408447266,
          -2.4662833213806152,
          -5.458713531494141,
          -0.9506327509880066,
          2.289680242538452,
          -1.5207302570343018,
          8.19018268585205,
          5.726375579833984,
          -4.866109371185303,
          -0.6742321848869324,
          -3.979146718978882,
          1.666479468345642,
          -3.958430290222168,
          4.9040350914001465,
          -5.446568012237549,
          -5.143992900848389,
          -7.388017177581787,
          -2.239960193634033,
          -5.295002460479736,
          -2.9359681606292725,
          -3.028141498565674,
          -6.927390098571777,
          -7.4434356689453125,
          -2.189155340194702,
          9.323609352111816,
          3.04682993888855,
          3.3017234802246094,
          9.518915176391602,
          2.5104074478149414,
          -5.673145771026611,
          -7.278400421142578,
          2.2486789226531982,
          2.024156332015991,
          11.731083869934082,
          9.634065628051758,
          -4.943149566650391,
          0.817261815071106,
          2.333953857421875,
          7.665699005126953,
          -6.997072696685791,
          -5.288727283477783,
          6.267584800720215,
          2.462951183319092,
          3.654853582382202,
          -4.236242771148682,
          -0.8499640226364136,
          -1.1704916954040527,
          3.693568468093872,
          -4.596667289733887,
          -1.2269476652145386,
          -5.032705307006836,
          -7.186037540435791,
          3.1556177139282227,
          -3.5208890438079834,
          -10.878789901733398,
          -5.704237937927246,
          11.573258399963379,
          11.981067657470703,
          4.394775867462158,
          8.480433464050293,
          -5.428330898284912,
          1.2131789922714233,
          2.439101457595825,
          3.4158458709716797,
          -3.672419309616089,
          5.311318397521973,
          8.86458969116211,
          2.9245431423187256,
          8.3300199508667,
          4.449131965637207,
          4.449156284332275,
          1.4366390705108643,
          5.130167484283447,
          9.6110258102417,
          6.873806953430176,
          -2.3141064643859863,
          -8.90897274017334,
          5.28990364074707,
          5.94740629196167,
          3.313713550567627,
          4.498180389404297,
          -7.339821815490723,
          4.203137397766113,
          -8.901535034179688,
          9.507481575012207,
          -1.2977510690689087,
          0.4642510414123535,
          7.411125659942627,
          6.242758274078369,
          -1.1212745904922485,
          -5.859837055206299,
          -5.966422080993652,
          -0.05005619302392006,
          5.1050310134887695,
          -6.601771354675293,
          1.2235448360443115,
          4.226691246032715,
          4.794288635253906,
          -8.266524314880371,
          3.3192946910858154,
          12.297014236450195,
          6.704794883728027,
          -8.631251335144043,
          -4.126768112182617,
          2.3912124633789062,
          5.411685466766357,
          5.088770389556885,
          -3.2719831466674805,
          -6.902801036834717,
          -4.236037731170654,
          -0.5560530424118042,
          1.6394157409667969,
          -1.0384868383407593,
          -10.453288078308105,
          -1.025519609451294,
          8.33182430267334,
          0.8265926837921143,
          -10.117485046386719,
          6.483829975128174,
          4.218957424163818,
          0.24575801193714142,
          -2.3192977905273438,
          3.7819581031799316,
          -5.441442489624023,
          -4.1865034103393555,
          12.21435832977295,
          -2.911700963973999,
          4.729643821716309,
          -1.821226716041565,
          -5.810585021972656,
          6.935798645019531,
          -9.902127265930176,
          2.5477046966552734,
          -11.21504020690918,
          8.8888578414917,
          12.090865135192871,
          0.6762971878051758,
          2.5712056159973145,
          -5.180049419403076,
          -2.935213327407837,
          2.482194423675537,
          2.6013760566711426,
          7.904995918273926,
          -7.368874549865723,
          -10.911209106445312,
          5.029915809631348,
          -2.239257335662842,
          2.856322765350342,
          -1.405293345451355,
          7.797114372253418,
          -1.483311653137207,
          -4.749499797821045,
          -1.1484107971191406,
          -6.350955963134766,
          1.3018709421157837,
          0.5567331910133362,
          7.2797393798828125,
          -2.7391011714935303,
          -3.3959033489227295,
          3.648059606552124,
          -11.582575798034668,
          4.272782802581787,
          -7.3839287757873535,
          -4.846517086029053,
          8.140649795532227,
          -2.756774425506592,
          2.395371675491333,
          -0.6164276599884033,
          6.996511459350586,
          -5.60377836227417,
          11.066476821899414,
          2.093775987625122,
          4.072206020355225,
          4.962282180786133,
          10.814985275268555,
          3.9372572898864746,
          6.972191333770752,
          -5.079083442687988,
          2.6558241844177246,
          -10.682676315307617,
          2.8282101154327393,
          1.1343483924865723,
          -8.169644355773926,
          7.925267696380615,
          0.09683120250701904,
          7.821945667266846,
          -3.112642526626587,
          -7.517857074737549,
          2.4511523246765137,
          -8.044737815856934,
          6.1384382247924805,
          1.5286083221435547,
          1.5667294263839722,
          6.417910575866699,
          -0.5774587988853455,
          5.1724395751953125,
          -3.0298376083374023,
          9.100269317626953,
          -5.90119743347168,
          9.623977661132812,
          -8.978198051452637,
          5.100734710693359,
          -10.817557334899902,
          -0.5156833529472351,
          4.877970218658447,
          7.533692836761475,
          4.8014702796936035,
          9.150486946105957,
          -4.5456695556640625,
          0.7378352880477905,
          2.644526958465576,
          8.442483901977539,
          -4.146024703979492,
          -8.841428756713867,
          2.65230393409729,
          6.7005109786987305,
          -4.645620822906494,
          -9.987263679504395,
          3.8298113346099854,
          -1.7654260396957397,
          2.9624745845794678,
          -8.493537902832031,
          -0.7382535934448242,
          -3.667630434036255,
          -10.18812084197998,
          3.424057960510254,
          7.031077861785889,
          4.615597248077393,
          8.617009162902832,
          -4.898828506469727,
          -6.683264255523682,
          4.905151844024658,
          -1.3280359506607056,
          4.099544048309326,
          -2.2376766204833984,
          4.265801429748535,
          0.43984949588775635,
          -4.748133182525635,
          -1.0959831476211548,
          -3.763943910598755,
          3.4671292304992676,
          10.44789981842041,
          -2.731494426727295,
          0.7941756248474121,
          -0.7825669646263123,
          -8.006759643554688,
          1.8243417739868164,
          -7.749129772186279,
          6.031007289886475,
          -4.613793849945068,
          -3.972644090652466,
          7.856326103210449,
          -3.03244948387146,
          -10.090557098388672,
          2.1228792667388916,
          -3.8225350379943848,
          -4.005954742431641,
          9.331113815307617,
          -7.523673057556152,
          7.909558296203613,
          3.401069402694702,
          -5.2461419105529785,
          2.794896364212036,
          3.936185598373413,
          -5.349655628204346,
          -6.55908727645874,
          4.141519546508789,
          3.904974937438965,
          -5.031589984893799,
          0.3635212182998657,
          9.448413848876953,
          -4.265085697174072,
          6.4232587814331055,
          -0.05549634248018265,
          9.404097557067871,
          -6.855286598205566,
          5.175905704498291,
          -1.9481024742126465,
          -2.537287950515747,
          -5.563561916351318,
          -2.5260584354400635,
          -1.2242295742034912,
          4.632007598876953,
          5.798535346984863,
          1.8524272441864014,
          -5.9824419021606445,
          9.858287811279297,
          7.6613240242004395,
          3.1810142993927,
          -3.795835494995117,
          1.3875808715820312,
          -3.637266159057617,
          10.083251953125,
          8.783061027526855,
          7.075177192687988,
          -0.8928325176239014,
          2.6978113651275635,
          4.86826753616333,
          -4.602829456329346,
          -8.60078239440918,
          5.2183403968811035,
          2.7222354412078857,
          5.793208599090576,
          5.064268112182617,
          3.099580764770508,
          -8.49045181274414,
          -1.4376254081726074,
          11.442431449890137,
          8.947672843933105,
          4.139758586883545,
          1.9855647087097168,
          2.714134693145752,
          -8.385746955871582,
          -4.993525981903076,
          2.814833402633667,
          1.910281777381897,
          -6.326385021209717,
          0.2603538930416107,
          8.527575492858887,
          -7.674344539642334,
          3.0101239681243896,
          2.9066812992095947,
          -5.490299701690674,
          -2.781019926071167,
          5.006461143493652,
          0.419760137796402,
          -1.6539312601089478,
          -1.0783735513687134,
          -2.073664426803589,
          -6.746686935424805,
          5.74821138381958,
          0.4909121096134186,
          -6.037816047668457,
          -5.121798038482666,
          9.82734203338623,
          8.554850578308105,
          -1.2437784671783447,
          0.22103603184223175,
          -6.20677375793457,
          -2.782041072845459,
          8.316244125366211,
          4.685593128204346,
          8.038670539855957,
          4.783036708831787,
          -0.2778712809085846,
          9.831239700317383,
          -8.436190605163574,
          2.6673781871795654,
          4.0246500968933105,
          2.649134635925293,
          6.045409202575684,
          -6.525946140289307,
          -2.872429847717285,
          -7.795322418212891,
          5.482696533203125,
          2.398473024368286,
          9.067270278930664,
          7.749122619628906,
          4.264882564544678,
          -5.826436519622803,
          -6.975620269775391,
          0.45157790184020996,
          4.153223037719727,
          4.823252201080322,
          -6.66800594329834,
          7.482416152954102,
          10.899239540100098,
          -0.19332242012023926,
          -3.945167303085327,
          -7.053304672241211,
          -5.928775787353516,
          12.532047271728516,
          -2.2710657119750977,
          0.7091398239135742,
          -3.745102882385254,
          -0.6433441042900085,
          9.294071197509766,
          -7.4615302085876465,
          -5.029062747955322,
          -10.735401153564453,
          -1.189444899559021,
          -5.721405029296875,
          -10.870372772216797,
          -7.367362976074219,
          1.9600721597671509,
          0.8255612254142761,
          -2.7497811317443848,
          5.512366771697998,
          -7.370877742767334,
          -1.8606164455413818,
          5.161088466644287,
          -9.001014709472656,
          2.9419443607330322,
          -7.891478061676025,
          2.6309423446655273,
          9.028484344482422,
          -1.5486695766448975,
          -8.869490623474121,
          -5.815056800842285,
          -6.458688735961914,
          4.909742832183838,
          -9.599268913269043,
          2.8156545162200928,
          -2.224066972732544,
          3.5339431762695312,
          -7.118378639221191,
          -4.1523847579956055,
          -2.454444408416748,
          5.909947872161865,
          -7.44692850112915,
          -4.833379745483398,
          10.76179313659668,
          3.3374440670013428,
          -3.7548463344573975,
          1.3071849346160889,
          9.150116920471191,
          11.434379577636719,
          -0.5795705914497375,
          -1.8038796186447144,
          6.937467575073242,
          5.1964945793151855,
          -1.7730637788772583,
          -1.1926006078720093,
          -6.742003440856934,
          11.953727722167969,
          -7.5031561851501465,
          0.4612128734588623,
          -3.488121747970581,
          -2.412477493286133,
          -11.530099868774414,
          -7.362152576446533,
          3.566117525100708,
          -3.4079244136810303,
          -2.312357187271118,
          -8.000173568725586,
          -0.11623098701238632,
          2.7321815490722656,
          3.379668712615967,
          4.899738788604736,
          -4.439146995544434,
          6.152914524078369,
          1.822087287902832,
          -7.4578752517700195,
          2.0081729888916016,
          -3.4752144813537598,
          -10.864971160888672,
          -6.277388095855713,
          7.769246578216553,
          -3.7289605140686035,
          -3.18896484375,
          -10.35904312133789,
          5.268786907196045,
          0.8444444537162781,
          -4.899175643920898,
          -4.563967704772949,
          5.1820502281188965,
          6.239315509796143,
          -6.0837225914001465,
          1.0756229162216187,
          1.2591439485549927,
          -5.754558086395264,
          -5.870145320892334,
          -5.111996650695801,
          -4.610426902770996,
          -4.257083415985107,
          11.099895477294922,
          -2.352428913116455,
          10.395614624023438,
          -1.0741431713104248,
          -4.534993648529053,
          2.3043086528778076,
          -1.477497935295105,
          4.6666789054870605,
          1.8340436220169067,
          2.992476463317871,
          -3.8199448585510254,
          3.1547412872314453,
          -7.62750768661499,
          -2.004690647125244,
          1.1774765253067017,
          3.4114742279052734,
          1.333931565284729,
          5.861723899841309,
          6.2336530685424805,
          7.8610758781433105,
          6.04301643371582,
          -0.9874790906906128,
          2.0220863819122314,
          -0.40216511487960815,
          -0.9316002130508423,
          3.1219358444213867,
          -3.65093731880188,
          -8.922295570373535,
          -8.203682899475098,
          6.16076135635376,
          3.5886008739471436,
          4.3874192237854,
          -6.554693698883057,
          4.4375200271606445,
          5.261043071746826,
          -7.9966654777526855,
          -3.189481258392334,
          6.6312127113342285,
          0.28587019443511963,
          7.650907516479492,
          -2.240187168121338,
          5.06012487411499,
          1.889133334159851,
          -1.1492918729782104,
          1.198659896850586,
          -3.0554447174072266,
          2.348111391067505,
          0.8979930877685547,
          -4.067381858825684,
          5.383484840393066,
          -4.1579108238220215,
          7.839686393737793,
          9.458809852600098,
          -3.610295534133911,
          -6.301673889160156,
          -6.47840690612793,
          -6.895334720611572,
          -5.520207405090332,
          8.591723442077637,
          5.818979740142822,
          -1.9458448886871338,
          -4.094970226287842,
          0.07437553256750107,
          9.736369132995605,
          -1.5458934307098389,
          4.412848949432373,
          4.728307723999023,
          5.580489158630371,
          0.011774309910833836,
          5.549760341644287,
          4.0947747230529785,
          1.86602783203125,
          -1.4388985633850098,
          -0.8332405090332031,
          -7.393707275390625,
          4.942732334136963,
          1.808592677116394,
          -3.776061773300171,
          11.95510482788086,
          0.1436755210161209,
          6.203094959259033,
          3.1923277378082275,
          -5.202425956726074,
          8.05634593963623,
          3.519334077835083,
          -4.708007335662842,
          -5.439223289489746,
          -5.292863368988037,
          -3.422630548477173,
          -0.2825152277946472,
          6.318819046020508,
          0.9020994305610657,
          2.9439964294433594,
          -3.9591176509857178,
          -4.488505840301514,
          5.525364875793457,
          3.717947244644165,
          5.745509147644043,
          1.5073812007904053,
          -4.9218645095825195,
          -1.4574775695800781,
          11.945931434631348,
          -11.231221199035645,
          3.582045555114746,
          -2.4754929542541504,
          4.8729658126831055,
          2.3563320636749268,
          -6.427741527557373,
          -6.604555130004883,
          -5.720142841339111,
          -2.2294859886169434,
          -4.300470352172852,
          5.668126583099365,
          2.2622835636138916,
          6.431501388549805,
          -10.917295455932617,
          7.923635005950928,
          11.804717063903809,
          -7.310696601867676,
          -5.290642261505127,
          -8.679572105407715,
          -8.026519775390625,
          -2.3562963008880615,
          -2.0271048545837402,
          -4.973369598388672,
          2.334921360015869,
          5.462994575500488,
          3.2665843963623047,
          5.220212459564209,
          7.898680686950684,
          4.359156608581543,
          -7.103389263153076,
          -3.211332082748413,
          -0.5668668746948242,
          -1.7318410873413086,
          -3.078294515609741,
          2.8989529609680176,
          3.871997594833374,
          -3.091661214828491,
          1.4870942831039429,
          7.197366714477539,
          5.563424587249756,
          9.78346061706543,
          2.6838605403900146,
          7.181206226348877,
          3.688030242919922,
          -0.7954374551773071,
          6.389374732971191,
          6.717905521392822,
          2.0843935012817383,
          3.1017985343933105,
          7.319563388824463,
          3.796914577484131,
          1.1811655759811401,
          9.606239318847656,
          -6.547265529632568,
          2.8949530124664307,
          -2.910604953765869,
          -0.824867308139801,
          8.187328338623047,
          7.093130111694336,
          -1.3420358896255493,
          6.912877082824707,
          1.9909855127334595,
          -3.4123032093048096,
          0.28414109349250793,
          -3.7333662509918213,
          -3.032479763031006,
          -0.6292658448219299,
          3.702731132507324,
          4.8968610763549805,
          -7.863898277282715,
          -2.8812170028686523,
          -7.262691974639893,
          -3.3837850093841553,
          2.0041298866271973,
          -0.3084474205970764,
          -7.119112491607666,
          1.551253080368042,
          -2.364185333251953,
          10.437883377075195,
          2.218954563140869,
          -9.133713722229004,
          5.613683223724365,
          -2.9752418994903564,
          -1.4395180940628052,
          4.223662853240967,
          -4.497673511505127,
          -1.7536433935165405,
          -3.5679049491882324,
          2.5686697959899902,
          2.387577772140503,
          -1.6850359439849854,
          -3.7100157737731934,
          0.1380416601896286,
          -10.740578651428223,
          10.600513458251953,
          -0.25489285588264465,
          -10.290328025817871,
          -1.1739025115966797,
          -7.69918966293335,
          -2.213529109954834,
          5.567284107208252,
          3.4152932167053223,
          1.4150463342666626,
          -1.4097927808761597,
          -8.170159339904785,
          6.385179042816162,
          9.432682991027832,
          -1.2664023637771606,
          1.8323538303375244,
          -5.944356441497803,
          -5.996038436889648,
          -5.044896602630615,
          -4.7764973640441895,
          -1.9778358936309814,
          -5.007374286651611,
          -4.1516218185424805,
          -4.735994815826416,
          -6.459704875946045,
          -4.8631978034973145,
          -4.961227893829346,
          3.5937957763671875,
          -9.31534481048584,
          -3.1692392826080322,
          6.261077404022217,
          -8.6834716796875,
          10.178754806518555,
          9.000993728637695,
          3.780529260635376,
          -10.503058433532715,
          -2.845128297805786,
          5.227838516235352,
          -4.790673732757568,
          7.677978992462158,
          -4.768862724304199,
          6.522223472595215,
          0.743242084980011,
          8.163406372070312,
          -3.5682311058044434,
          11.231308937072754,
          9.92866039276123,
          -9.45410442352295,
          9.521512031555176,
          -10.735349655151367,
          -2.9364771842956543,
          -2.161226511001587,
          4.474864959716797,
          10.778802871704102,
          -5.621166229248047,
          5.367465496063232,
          3.479285478591919,
          1.0951011180877686,
          -6.580017566680908,
          -5.192799091339111,
          -6.050144672393799,
          10.750151634216309,
          2.001786708831787,
          -5.5417256355285645,
          -7.0272417068481445,
          -3.908499002456665,
          5.087752342224121,
          2.2468624114990234,
          -3.1739141941070557,
          -2.380305051803589,
          -0.12895993888378143,
          -4.006299018859863,
          -5.097250461578369,
          -7.874670505523682,
          9.852648735046387,
          4.674525737762451,
          3.1873116493225098,
          -7.896536350250244,
          -6.007643222808838,
          7.438721656799316,
          1.89834725856781,
          2.1902236938476562,
          -0.13513539731502533,
          6.950481414794922,
          -11.030230522155762,
          6.152676105499268,
          5.528085231781006,
          3.056321144104004,
          4.428377628326416,
          1.2112163305282593,
          -7.568084716796875,
          -3.889024257659912,
          -7.191479206085205,
          -7.212034225463867,
          2.1885695457458496,
          -7.24992561340332,
          3.004213333129883,
          -1.017334222793579,
          0.39041295647621155,
          2.6156773567199707,
          0.33314934372901917,
          -9.724590301513672,
          -4.785140514373779,
          3.2233378887176514,
          0.849717915058136,
          10.555034637451172,
          4.238621234893799,
          -3.7841734886169434,
          -6.638947010040283,
          -2.5895118713378906,
          3.7631468772888184,
          -7.892003059387207,
          -5.149912357330322,
          -3.6385438442230225,
          -9.332625389099121,
          0.18845464289188385,
          -8.578899383544922,
          -10.299004554748535,
          -0.12675215303897858,
          5.196911334991455,
          -6.012524604797363,
          3.6024231910705566,
          2.9870965480804443,
          4.436850070953369,
          9.527106285095215,
          3.3795628547668457,
          1.8724210262298584,
          -5.87202262878418,
          -5.200789451599121,
          -3.865673065185547,
          4.2790985107421875,
          -5.320784091949463,
          5.461219310760498,
          -5.655677795410156,
          -1.769604206085205,
          1.005102276802063,
          0.42090922594070435,
          5.5604729652404785,
          -3.4603793621063232,
          -5.2927398681640625,
          -6.179670333862305,
          -3.309831142425537,
          5.495576858520508,
          -4.767696857452393,
          1.3868242502212524,
          5.032149791717529,
          12.273991584777832,
          -2.5547542572021484,
          0.588157594203949,
          -6.595147609710693,
          -1.5894745588302612,
          3.1151537895202637,
          3.345353126525879,
          -5.342906951904297,
          8.982343673706055,
          -0.07101058214902878,
          10.042631149291992,
          2.2817718982696533,
          -3.3743083477020264,
          -9.507214546203613,
          -7.068721294403076,
          -9.260103225708008,
          -0.7231566309928894,
          1.6274864673614502,
          0.181846022605896,
          3.3599023818969727,
          -5.445486545562744,
          -0.9314707517623901,
          -3.2776424884796143,
          -3.323465585708618,
          -7.7984442710876465,
          -4.028702735900879,
          -5.972309112548828,
          -0.3085007071495056,
          -5.37762975692749,
          -6.586407661437988,
          -2.958916187286377,
          7.9093403816223145,
          -1.3295621871948242,
          6.564802169799805,
          4.36745548248291,
          5.3090410232543945,
          4.382084369659424,
          -1.3782812356948853,
          -5.6587934494018555,
          -7.73013973236084,
          0.5491457581520081,
          5.305628299713135,
          -5.5630927085876465,
          -5.238574981689453,
          4.279595851898193,
          -0.19299516081809998,
          1.8992838859558105,
          -5.610342979431152,
          -4.177425384521484,
          -11.286823272705078,
          -2.80659818649292,
          2.2967422008514404,
          4.885370254516602,
          2.5667731761932373,
          -5.461546897888184,
          5.167109489440918,
          7.916684150695801,
          -2.9500269889831543,
          0.9298500418663025,
          -6.542386531829834,
          9.199540138244629,
          -2.671570062637329,
          -0.9140180945396423,
          1.2052345275878906,
          -11.423439025878906,
          3.624490737915039,
          2.737952947616577,
          -2.3424618244171143,
          0.8275026679039001,
          -6.777763843536377,
          0.7895145416259766,
          -9.76148796081543,
          6.026221752166748,
          0.6876723170280457,
          -7.890702724456787,
          4.524113655090332,
          -5.133168697357178,
          4.220880031585693,
          -7.654592990875244,
          -5.153595447540283,
          -7.1586151123046875,
          -5.890835762023926,
          3.7014689445495605,
          10.18304443359375,
          -1.3921819925308228,
          2.4177348613739014,
          -0.7426615953445435,
          3.6076788902282715,
          -0.9621556401252747,
          9.0872163772583,
          3.4962148666381836,
          -1.7754623889923096,
          -3.7762413024902344,
          2.1972837448120117,
          10.060615539550781,
          0.3354821503162384,
          -9.990593910217285,
          -6.333144187927246,
          -3.437628984451294,
          5.637078762054443,
          4.305377960205078,
          -8.221170425415039,
          -4.076139450073242,
          5.95436429977417,
          -3.5000619888305664,
          -6.981492042541504,
          -2.3502514362335205,
          -11.018951416015625,
          -2.220670700073242,
          7.419511318206787,
          7.109617233276367,
          -4.1157379150390625,
          6.268204212188721,
          1.9899353981018066,
          -4.622570991516113,
          -5.513637065887451,
          -4.405007839202881,
          12.206693649291992,
          -3.419341564178467,
          4.796286106109619,
          2.2410967350006104,
          0.05121460556983948,
          1.8435581922531128,
          -8.155743598937988,
          2.8940937519073486,
          -7.6042680740356445,
          -8.828030586242676,
          -9.653937339782715,
          -4.397967338562012,
          -2.5341174602508545,
          8.180357933044434,
          -3.1442697048187256,
          0.719532310962677,
          -8.262303352355957
         ],
         "z": [
          0.464490681886673,
          -2.3279693126678467,
          7.880293846130371,
          11.278559684753418,
          14.784664154052734,
          9.276999473571777,
          -4.37931489944458,
          14.94333553314209,
          2.745640516281128,
          -8.785052299499512,
          12.650666236877441,
          14.950642585754395,
          8.440672874450684,
          7.099527835845947,
          9.028626441955566,
          16.589866638183594,
          8.458677291870117,
          -7.35264253616333,
          6.9145660400390625,
          13.83497428894043,
          9.216657638549805,
          -0.6967057585716248,
          8.312289237976074,
          3.236372709274292,
          8.848989486694336,
          -3.587094783782959,
          14.03424072265625,
          1.0594311952590942,
          15.135815620422363,
          13.481588363647461,
          2.0705387592315674,
          -0.06860199570655823,
          3.204326629638672,
          9.473968505859375,
          -5.987551689147949,
          -1.7128536701202393,
          3.1819868087768555,
          1.2330762147903442,
          0.8892816305160522,
          10.448870658874512,
          -4.596451759338379,
          12.458601951599121,
          -10.363938331604004,
          7.11362361907959,
          11.302959442138672,
          17.182344436645508,
          11.411343574523926,
          2.810791492462158,
          14.697725296020508,
          -12.862662315368652,
          12.928242683410645,
          5.247783184051514,
          -7.495149612426758,
          17.02922821044922,
          7.713318347930908,
          -3.044752597808838,
          4.66068172454834,
          -4.651117324829102,
          9.941139221191406,
          10.566202163696289,
          -3.437868118286133,
          -5.987181186676025,
          18.154767990112305,
          12.528892517089844,
          -14.031922340393066,
          11.925456047058105,
          -13.184636116027832,
          -7.20505952835083,
          13.930198669433594,
          8.185347557067871,
          17.218107223510742,
          13.999072074890137,
          1.6977815628051758,
          10.74344539642334,
          -9.674866676330566,
          -4.118038654327393,
          13.17143726348877,
          15.056418418884277,
          -11.135852813720703,
          -8.382620811462402,
          -8.540849685668945,
          -4.242927551269531,
          12.253400802612305,
          -5.384438514709473,
          -3.654120445251465,
          -1.3924614191055298,
          -9.11084270477295,
          -10.757098197937012,
          -5.860933303833008,
          -0.7777135372161865,
          -3.8808398246765137,
          11.63764762878418,
          -9.014912605285645,
          -5.934177875518799,
          -3.113372564315796,
          17.677919387817383,
          -9.834906578063965,
          -3.5153648853302,
          -3.4509475231170654,
          13.313850402832031,
          1.68600332736969,
          -11.914682388305664,
          -3.5003163814544678,
          -9.205184936523438,
          19.08787727355957,
          -9.514019012451172,
          -10.019112586975098,
          -5.23909854888916,
          -9.406889915466309,
          14.760802268981934,
          -2.6390221118927,
          2.2293190956115723,
          9.685919761657715,
          -4.442746162414551,
          11.960227012634277,
          -4.681887149810791,
          -6.137022972106934,
          -6.122323989868164,
          10.52407169342041,
          -5.4372992515563965,
          -5.395175933837891,
          -4.666694641113281,
          -6.658681869506836,
          -12.422881126403809,
          -3.969935894012451,
          -3.0555267333984375,
          -1.8675816059112549,
          11.824440956115723,
          -3.3196213245391846,
          -3.7554376125335693,
          -4.272017478942871,
          -9.306441307067871,
          13.671937942504883,
          -2.770996570587158,
          -10.653696060180664,
          -3.4071056842803955,
          10.819731712341309,
          13.741251945495605,
          -2.328800916671753,
          -2.1388590335845947,
          11.379150390625,
          -1.7413603067398071,
          -8.513911247253418,
          12.895551681518555,
          -6.299061298370361,
          -9.512590408325195,
          11.676688194274902,
          -13.386744499206543,
          -1.6544300317764282,
          -7.780219078063965,
          -1.6215602159500122,
          -6.361561298370361,
          -3.3794493675231934,
          -9.040857315063477,
          -0.15125563740730286,
          -10.632981300354004,
          -13.706290245056152,
          -11.706101417541504,
          -11.04401683807373,
          8.642014503479004,
          -4.9269819259643555,
          -5.247249603271484,
          -7.59820556640625,
          -10.605915069580078,
          9.958134651184082,
          -10.828120231628418,
          11.769668579101562,
          14.279289245605469,
          9.960416793823242,
          -5.5927910804748535,
          -10.457552909851074,
          -2.5921361446380615,
          8.360713958740234,
          9.956846237182617,
          -2.188131093978882,
          -11.683828353881836,
          7.817800521850586,
          9.110424041748047,
          -1.0021744966506958,
          13.814255714416504,
          -4.3008599281311035,
          9.608959197998047,
          -0.9314721822738647,
          14.821011543273926,
          14.257413864135742,
          -6.626964569091797,
          11.686363220214844,
          -5.077669620513916,
          -7.297072887420654,
          -5.728038311004639,
          -12.8040771484375,
          13.108575820922852,
          12.2957124710083,
          10.58475399017334,
          -8.869355201721191,
          -3.6653246879577637,
          -5.7155985832214355,
          -4.908802509307861,
          2.9474353790283203,
          -3.366910219192505,
          -3.8638436794281006,
          -2.597670793533325,
          -2.923757553100586,
          13.119762420654297,
          9.36693000793457,
          0.3118540048599243,
          -7.984770774841309,
          -4.154170989990234,
          9.320813179016113,
          -0.8818877339363098,
          -3.140641450881958,
          12.563826560974121,
          16.437644958496094,
          -3.3756463527679443,
          -4.465789318084717,
          -4.234439849853516,
          -1.5218607187271118,
          15.17326831817627,
          17.652050018310547,
          -0.4908256530761719,
          9.318751335144043,
          -5.985477924346924,
          12.996635437011719,
          -10.070639610290527,
          -9.408317565917969,
          -7.033836841583252,
          -11.678935050964355,
          -7.50781774520874,
          -10.457901000976562,
          9.85782241821289,
          -4.2754740715026855,
          -9.37762451171875,
          13.106528282165527,
          13.73624038696289,
          -5.646960258483887,
          -6.117920875549316,
          -1.4964590072631836,
          -5.483162879943848,
          12.050963401794434,
          7.820749759674072,
          -4.410390853881836,
          -7.073897838592529,
          8.239456176757812,
          -7.004629611968994,
          13.708490371704102,
          -10.12283706665039,
          -6.59776496887207,
          -9.55749797821045,
          -11.784868240356445,
          9.356239318847656,
          -6.307458877563477,
          -1.4489692449569702,
          13.672257423400879,
          -5.381683826446533,
          -9.553668975830078,
          1.5818290710449219,
          -1.4958317279815674,
          -8.049345016479492,
          9.33852767944336,
          -5.780396938323975,
          8.537824630737305,
          -5.652634620666504,
          11.6052827835083,
          -3.816735029220581,
          -6.988040924072266,
          -6.875720500946045,
          14.7139253616333,
          -7.1260504722595215,
          -9.296605110168457,
          -4.376218318939209,
          -5.233726501464844,
          -4.246915340423584,
          -4.223921298980713,
          7.679288864135742,
          8.852435111999512,
          -9.17684555053711,
          16.56911849975586,
          13.21602725982666,
          -5.579361438751221,
          -7.271417617797852,
          -11.592833518981934,
          7.849613666534424,
          -8.563780784606934,
          -2.2244327068328857,
          11.73553466796875,
          -7.443129062652588,
          -8.042888641357422,
          -5.521653175354004,
          -9.292112350463867,
          2.7324869632720947,
          -1.11626398563385,
          -5.321786403656006,
          -9.835638999938965,
          -8.026117324829102,
          -5.600537300109863,
          10.082940101623535,
          11.139122009277344,
          -9.396027565002441,
          -7.347119331359863,
          -1.1447707414627075,
          -0.40521419048309326,
          -7.4312310218811035,
          15.567954063415527,
          14.029630661010742,
          10.549324035644531,
          -8.746898651123047,
          -5.720663070678711,
          -7.625799655914307,
          -13.202397346496582,
          14.15764331817627,
          13.501333236694336,
          -13.151504516601562,
          9.778180122375488,
          7.840420246124268,
          -7.229760646820068,
          0.2595841586589813,
          -5.409303665161133,
          -4.890833854675293,
          -9.512592315673828,
          -3.656391143798828,
          -1.2708680629730225,
          -6.078086853027344,
          14.035792350769043,
          -2.4950010776519775,
          -6.329352855682373,
          -2.259920835494995,
          15.239004135131836,
          14.719929695129395,
          10.200118064880371,
          10.470999717712402,
          -7.2833733558654785,
          15.261363983154297,
          -7.579163074493408,
          -9.76372241973877,
          -11.332005500793457,
          12.413352966308594,
          -3.702346086502075,
          -3.588963031768799,
          11.931357383728027,
          13.752344131469727,
          -3.5259041786193848,
          -10.152865409851074,
          10.4397554397583,
          -9.240985870361328,
          14.798129081726074,
          11.075150489807129,
          -1.9963933229446411,
          -11.244449615478516,
          11.362610816955566,
          15.512890815734863,
          -0.5410457253456116,
          -4.666459083557129,
          -5.1268110275268555,
          -4.265190601348877,
          -8.02929973602295,
          -10.0756254196167,
          -7.1347551345825195,
          -4.9612507820129395,
          17.81365966796875,
          -1.1001278162002563,
          -2.318059206008911,
          -4.891131401062012,
          -0.9677084684371948,
          -12.807653427124023,
          12.883667945861816,
          -7.668696880340576,
          16.819801330566406,
          -7.835121154785156,
          -8.37866497039795,
          -5.229928016662598,
          -11.41781234741211,
          -4.547780513763428,
          13.360865592956543,
          10.318323135375977,
          13.992753028869629,
          -12.640835762023926,
          -8.463630676269531,
          11.086441040039062,
          -3.7848682403564453,
          -2.112412691116333,
          10.406615257263184,
          -1.9153103828430176,
          -8.152162551879883,
          2.083588123321533,
          -3.194064140319824,
          -9.542277336120605,
          -9.757010459899902,
          -8.5460786819458,
          -2.9577839374542236,
          1.4475369453430176,
          -8.657390594482422,
          -10.023124694824219,
          -4.859255313873291,
          -6.249258518218994,
          -4.73772668838501,
          -4.22148323059082,
          -9.351696968078613,
          13.988211631774902,
          -0.9378398656845093,
          -7.501829147338867,
          -5.070830821990967,
          -7.424497604370117,
          -13.488700866699219,
          -0.17222151160240173,
          14.899197578430176,
          -6.438286781311035,
          10.399150848388672,
          -1.6192433834075928,
          7.736706733703613,
          -2.3426477909088135,
          -7.479189872741699,
          -2.8353567123413086,
          19.02997589111328,
          -8.40789794921875,
          -4.966050148010254,
          -9.858195304870605,
          -12.504512786865234,
          -3.834308385848999,
          14.478157043457031,
          11.418994903564453,
          1.5384798049926758,
          -7.64610481262207,
          -6.252438545227051,
          -1.0939724445343018,
          10.771806716918945,
          -10.062216758728027,
          -4.6565399169921875,
          10.63494873046875,
          1.110708475112915,
          13.21318531036377,
          -4.39671516418457,
          -5.523824214935303,
          -5.235085487365723,
          12.097434997558594,
          17.660314559936523,
          -4.310774326324463,
          -7.422933101654053,
          13.133392333984375,
          -9.634173393249512,
          9.876782417297363,
          -9.325068473815918,
          -10.422252655029297,
          10.627669334411621,
          15.604290008544922,
          -6.6303629875183105,
          7.862514972686768,
          15.986936569213867,
          -9.636201858520508,
          9.219497680664062,
          10.298554420471191,
          -8.094378471374512,
          11.406606674194336,
          -12.418533325195312,
          -8.666730880737305,
          10.310656547546387,
          -2.2713229656219482,
          -1.3409219980239868,
          10.177329063415527,
          -10.953971862792969,
          -11.61953067779541,
          -3.1777572631835938,
          11.24449634552002,
          -9.786880493164062,
          -10.841377258300781,
          1.3940892219543457,
          -4.036586284637451,
          -9.365900039672852,
          16.518386840820312,
          -10.934741973876953,
          10.125521659851074,
          -6.041984558105469,
          -7.81859016418457,
          -9.611884117126465,
          -5.587372779846191,
          -12.532641410827637,
          -8.997580528259277,
          -3.3228797912597656,
          9.84892463684082,
          -0.9702707529067993,
          -5.853703498840332,
          -12.212162017822266,
          -5.252876281738281,
          11.395439147949219,
          15.217714309692383,
          -6.075718402862549,
          14.854077339172363,
          -2.883645534515381,
          1.7977707386016846,
          -2.652459144592285,
          8.173832893371582,
          -8.35640811920166,
          10.059896469116211,
          7.980963230133057,
          15.939287185668945,
          8.91815185546875,
          11.833431243896484,
          -3.2097480297088623,
          8.73588752746582,
          -8.510326385498047,
          -0.22306078672409058,
          -2.5190911293029785,
          0.8736395239830017,
          -2.292490243911743,
          -5.583276748657227,
          0.9095678925514221,
          8.285758972167969,
          -11.226123809814453,
          -11.286099433898926,
          2.359748601913452,
          9.414932250976562,
          13.918611526489258,
          -11.278414726257324,
          -5.789280891418457,
          13.568000793457031,
          -10.406707763671875,
          -11.204689025878906,
          -7.695718765258789,
          -11.370450019836426,
          -0.6233571171760559,
          -5.684263706207275,
          2.8070197105407715,
          12.434425354003906,
          9.468932151794434,
          10.491233825683594,
          17.872848510742188,
          -6.857467174530029,
          1.9749435186386108,
          -7.602426052093506,
          -1.788619875907898,
          1.062180995941162,
          -3.5657784938812256,
          15.75587272644043,
          9.473600387573242,
          -11.010127067565918,
          9.016722679138184,
          12.772890090942383,
          -1.6027449369430542,
          14.039773941040039,
          -0.05515320599079132,
          -4.395845890045166,
          -1.007696270942688,
          9.655656814575195,
          -7.601614475250244,
          -0.7546769976615906,
          -11.06025218963623,
          11.513427734375,
          -9.809195518493652,
          11.26840877532959,
          11.834901809692383,
          -9.002045631408691,
          -10.1881685256958,
          -3.565335512161255,
          12.195478439331055,
          -11.094417572021484,
          -8.954602241516113,
          -4.0903191566467285,
          8.471007347106934,
          -9.54101276397705,
          15.172425270080566,
          1.4968794584274292,
          15.643152236938477,
          18.064136505126953,
          -9.643665313720703,
          10.87565803527832,
          -7.240894794464111,
          -9.29126262664795,
          -12.164610862731934,
          0.43561995029449463,
          12.047624588012695,
          9.658527374267578,
          0.45015355944633484,
          9.602837562561035,
          15.080215454101562,
          15.773629188537598,
          -1.7032800912857056,
          15.023553848266602,
          -4.534936428070068,
          -9.795221328735352,
          -2.060234308242798,
          -5.362281322479248,
          1.6778264045715332,
          -7.142388820648193,
          10.238713264465332,
          -3.930342197418213,
          -13.0409517288208,
          -8.026153564453125,
          0.4321708679199219,
          -11.710917472839355,
          -8.933708190917969,
          16.537322998046875,
          -7.219172477722168,
          -12.076918601989746,
          1.6909688711166382,
          15.033825874328613,
          -0.172352135181427,
          -8.039592742919922,
          14.242753028869629,
          16.423532485961914,
          9.739294052124023,
          15.03514575958252,
          11.751080513000488,
          -4.776750087738037,
          9.002431869506836,
          -5.238924026489258,
          9.228389739990234,
          -2.212681770324707,
          14.704737663269043,
          16.671768188476562,
          -5.898180961608887,
          -1.024116039276123,
          9.313624382019043,
          -1.14303457736969,
          2.0550665855407715,
          -3.1461446285247803,
          -9.248754501342773,
          -10.667606353759766,
          -5.275768280029297,
          -5.415317535400391,
          -4.850988388061523,
          0.7447555065155029,
          0.05578172206878662,
          -8.129615783691406,
          -6.80380916595459,
          -0.0035823278594762087,
          10.268399238586426,
          16.347713470458984,
          -5.5267486572265625,
          12.925907135009766,
          -2.098985433578491,
          -10.881156921386719,
          -4.805036544799805,
          -5.768716812133789,
          -11.172712326049805,
          12.337413787841797,
          -0.4515734016895294,
          -0.15014196932315826,
          -0.8995710611343384,
          -0.2614656686782837,
          10.145219802856445,
          -0.8991504907608032,
          9.078461647033691,
          -0.758404552936554,
          -3.837531805038452,
          -2.142153739929199,
          15.400607109069824,
          -8.321616172790527,
          9.480300903320312,
          -4.643479824066162,
          10.30959415435791,
          -4.978940963745117,
          -11.625022888183594,
          -12.553939819335938,
          -2.038879156112671,
          12.49793529510498,
          -11.88452434539795,
          -2.1045219898223877,
          12.943228721618652,
          -2.6233341693878174,
          -7.787319660186768,
          14.752674102783203,
          15.87625503540039,
          -7.801758289337158,
          1.2692270278930664,
          -0.5138309001922607,
          10.48326301574707,
          -1.3855594396591187,
          12.81714153289795,
          -2.2999765872955322,
          -4.838144302368164,
          -12.51699447631836,
          -1.6010607481002808,
          -9.77748966217041,
          -7.865523338317871,
          -1.7565016746520996,
          8.166741371154785,
          -10.765904426574707,
          -0.19398707151412964,
          8.911469459533691,
          11.828665733337402,
          -2.9467318058013916,
          9.52299976348877,
          -11.003528594970703,
          -4.4693684577941895,
          8.211943626403809,
          -9.267524719238281,
          -11.987709999084473,
          -10.424259185791016,
          -11.757195472717285,
          11.790657997131348,
          14.677732467651367,
          7.6164350509643555,
          12.470434188842773,
          18.453203201293945,
          -2.841366767883301,
          11.41745376586914,
          8.665919303894043,
          -1.9193916320800781,
          -6.803096771240234,
          -11.145488739013672,
          10.96985149383545,
          -4.734402656555176,
          -6.99899435043335,
          7.121362209320068,
          15.142603874206543,
          -7.683680534362793,
          -3.1956567764282227,
          13.176703453063965,
          8.751540184020996,
          0.35146257281303406,
          7.706868648529053,
          10.089476585388184,
          -12.33180046081543,
          -6.570842266082764,
          -3.604698419570923,
          -10.035322189331055,
          6.29833459854126,
          9.380916595458984,
          17.33839225769043,
          -10.05836296081543,
          -9.146139144897461,
          7.005556106567383,
          -7.261727333068848,
          -2.242933511734009,
          5.152108192443848,
          1.2231444120407104,
          3.2748634815216064,
          9.767518997192383,
          8.289772033691406,
          14.010001182556152,
          9.994349479675293,
          -3.455720901489258,
          13.717503547668457,
          -1.2454640865325928,
          -2.794616222381592,
          -1.3592687845230103,
          10.719937324523926,
          -3.9332997798919678,
          -8.723014831542969,
          -10.005118370056152,
          10.369006156921387,
          -7.247045993804932,
          -2.889728546142578,
          -3.050525426864624,
          8.16561222076416,
          -0.8787372708320618,
          -9.39175796508789,
          -5.740948677062988,
          9.57933521270752,
          9.873112678527832,
          16.5252742767334,
          -2.226620674133301,
          12.72531795501709,
          -3.4272937774658203,
          -8.798149108886719,
          -12.093913078308105,
          9.483736038208008,
          -8.163689613342285,
          -5.858817100524902,
          14.055578231811523,
          -10.916582107543945,
          15.087715148925781,
          -7.779146194458008,
          -11.317888259887695,
          -11.518753051757812,
          0.19793245196342468,
          -7.38571310043335,
          -6.499573230743408,
          13.21994686126709,
          -4.675827980041504,
          12.95730972290039,
          -8.111638069152832,
          -1.1809487342834473,
          1.0109714269638062,
          -4.2632155418396,
          -2.319631338119507,
          -12.567201614379883,
          -2.0705442428588867,
          -5.391867637634277,
          -11.127702713012695,
          -1.9409756660461426,
          -5.490716457366943,
          -6.662095069885254,
          -2.39611554145813,
          -1.8057726621627808,
          -9.525588989257812,
          15.910540580749512,
          -6.941490650177002,
          8.532160758972168,
          -9.747964859008789,
          -6.083273887634277,
          14.92652702331543,
          -6.111513137817383,
          9.712227821350098,
          -9.241562843322754,
          -8.273719787597656,
          -0.7519212961196899,
          -11.423431396484375,
          9.45904541015625,
          -6.819124221801758,
          -13.966506004333496,
          -6.755227565765381,
          -1.534901738166809,
          -1.2312672138214111,
          -1.453229546546936,
          8.436312675476074,
          -11.281554222106934,
          -10.934187889099121,
          -3.833120107650757,
          11.609049797058105,
          -11.410204887390137,
          12.49930191040039,
          7.285881996154785,
          -9.552392959594727,
          1.9746692180633545,
          -1.9623708724975586,
          9.217103004455566,
          -3.880537271499634,
          15.787175178527832,
          7.900827884674072,
          11.986528396606445,
          10.933770179748535,
          7.629868030548096,
          -10.081634521484375,
          -1.4820163249969482,
          -6.03212308883667,
          -7.752988338470459,
          11.536724090576172,
          -8.556196212768555,
          -4.710452556610107,
          15.89452838897705,
          -4.00913143157959,
          -2.0768001079559326,
          17.199987411499023,
          7.99714469909668,
          10.01233196258545,
          8.815526008605957,
          14.600915908813477,
          12.48458194732666,
          9.825228691101074,
          -9.639223098754883,
          -5.99570369720459,
          -8.919544219970703,
          12.254213333129883,
          -5.665602684020996,
          -6.012870788574219,
          8.543794631958008,
          -2.378354549407959,
          -6.604437351226807,
          -2.283034563064575,
          -4.175137042999268,
          8.610269546508789,
          2.0142297744750977,
          -9.355485916137695,
          -5.6307268142700195,
          -2.5886871814727783,
          -5.189078330993652,
          -3.131258249282837,
          10.727763175964355,
          -8.13574504852295,
          9.532572746276855,
          0.5924352407455444,
          -7.370044708251953,
          2.029815673828125,
          -5.280907154083252,
          -5.974013328552246,
          13.637149810791016,
          -6.527131080627441,
          -6.490602016448975,
          9.369841575622559,
          -1.3329753875732422,
          11.122689247131348,
          -10.324694633483887,
          -9.113517761230469,
          -2.6899313926696777,
          -4.489171981811523,
          -11.637927055358887,
          -4.576048374176025,
          -6.573669910430908,
          -1.1870142221450806,
          9.139859199523926,
          -1.6569819450378418,
          -7.693541526794434,
          -9.709023475646973,
          14.831377983093262,
          14.111967086791992,
          10.064208030700684,
          -2.02699613571167,
          -8.733433723449707,
          -1.1627790927886963,
          8.119989395141602,
          12.856531143188477,
          13.675971984863281,
          10.193809509277344,
          -8.710526466369629,
          14.12941837310791,
          -4.224184513092041,
          -4.078799724578857,
          -10.888051986694336,
          -1.8358221054077148,
          -3.932208776473999,
          -5.512960910797119,
          -6.137694358825684,
          -11.915912628173828,
          16.290809631347656,
          -6.363261699676514,
          12.903403282165527,
          11.71267032623291,
          0.690938413143158,
          10.129169464111328,
          -10.271201133728027,
          -8.765886306762695,
          -11.231042861938477,
          -9.12502670288086,
          -10.139397621154785,
          9.99785327911377,
          13.2402982711792,
          -0.3612823784351349,
          -7.153387069702148,
          10.441573143005371,
          10.93498420715332,
          1.8400462865829468,
          13.944082260131836,
          -4.3147196769714355,
          -6.906073570251465,
          -4.194801330566406,
          -1.339660406112671,
          -4.811470985412598,
          -0.7193705439567566,
          -7.055295944213867,
          -5.059338569641113,
          13.791800498962402,
          -9.16132640838623,
          -8.863117218017578,
          15.857711791992188,
          13.899415016174316,
          12.541781425476074,
          -10.148550033569336,
          9.295059204101562,
          -1.2503089904785156,
          11.030794143676758,
          10.40556812286377,
          -4.747784614562988,
          -10.464790344238281,
          8.678542137145996,
          -8.933549880981445,
          11.097128868103027,
          -8.456655502319336,
          -6.222829341888428,
          -5.677757740020752,
          -4.895530700683594,
          -0.9798210263252258,
          -1.6280981302261353,
          15.664544105529785,
          13.787691116333008,
          -8.1222562789917,
          -12.53589916229248,
          11.174285888671875,
          12.451371192932129,
          7.713110446929932,
          -5.459237098693848,
          -9.029090881347656,
          -7.962457656860352,
          8.562128067016602,
          -10.608126640319824,
          -2.296126365661621,
          -11.144889831542969,
          -7.695496559143066,
          -11.546932220458984,
          10.174015045166016,
          -7.819553852081299,
          16.731416702270508,
          -6.191226482391357,
          -3.9899213314056396,
          13.08289623260498,
          -7.1936445236206055,
          -8.571151733398438,
          -6.464447021484375,
          15.94951057434082,
          -1.1533455848693848,
          8.182380676269531,
          9.669329643249512,
          1.843247890472412,
          -8.919432640075684,
          -6.359738826751709,
          15.78903865814209,
          -7.441573143005371,
          -6.377816677093506,
          10.486122131347656,
          9.706342697143555,
          14.900603294372559,
          9.482857704162598,
          -9.527522087097168,
          -8.192923545837402,
          9.409856796264648,
          12.110790252685547,
          -1.6566815376281738,
          -6.47037410736084,
          -9.204363822937012,
          11.236045837402344,
          14.249014854431152
         ]
        }
       ],
       "layout": {
        "coloraxis": {
         "colorbar": {
          "title": {
           "text": "Label"
          }
         },
         "colorscale": [
          [
           0,
           "#0d0887"
          ],
          [
           0.1111111111111111,
           "#46039f"
          ],
          [
           0.2222222222222222,
           "#7201a8"
          ],
          [
           0.3333333333333333,
           "#9c179e"
          ],
          [
           0.4444444444444444,
           "#bd3786"
          ],
          [
           0.5555555555555556,
           "#d8576b"
          ],
          [
           0.6666666666666666,
           "#ed7953"
          ],
          [
           0.7777777777777778,
           "#fb9f3a"
          ],
          [
           0.8888888888888888,
           "#fdca26"
          ],
          [
           1,
           "#f0f921"
          ]
         ]
        },
        "height": 800,
        "legend": {
         "tracegroupgap": 0
        },
        "scene": {
         "domain": {
          "x": [
           0,
           1
          ],
          "y": [
           0,
           1
          ]
         },
         "xaxis": {
          "title": {
           "text": "0"
          }
         },
         "yaxis": {
          "title": {
           "text": "1"
          }
         },
         "zaxis": {
          "title": {
           "text": "2"
          }
         }
        },
        "template": {
         "data": {
          "bar": [
           {
            "error_x": {
             "color": "#2a3f5f"
            },
            "error_y": {
             "color": "#2a3f5f"
            },
            "marker": {
             "line": {
              "color": "#E5ECF6",
              "width": 0.5
             }
            },
            "type": "bar"
           }
          ],
          "barpolar": [
           {
            "marker": {
             "line": {
              "color": "#E5ECF6",
              "width": 0.5
             }
            },
            "type": "barpolar"
           }
          ],
          "carpet": [
           {
            "aaxis": {
             "endlinecolor": "#2a3f5f",
             "gridcolor": "white",
             "linecolor": "white",
             "minorgridcolor": "white",
             "startlinecolor": "#2a3f5f"
            },
            "baxis": {
             "endlinecolor": "#2a3f5f",
             "gridcolor": "white",
             "linecolor": "white",
             "minorgridcolor": "white",
             "startlinecolor": "#2a3f5f"
            },
            "type": "carpet"
           }
          ],
          "choropleth": [
           {
            "colorbar": {
             "outlinewidth": 0,
             "ticks": ""
            },
            "type": "choropleth"
           }
          ],
          "contour": [
           {
            "colorbar": {
             "outlinewidth": 0,
             "ticks": ""
            },
            "colorscale": [
             [
              0,
              "#0d0887"
             ],
             [
              0.1111111111111111,
              "#46039f"
             ],
             [
              0.2222222222222222,
              "#7201a8"
             ],
             [
              0.3333333333333333,
              "#9c179e"
             ],
             [
              0.4444444444444444,
              "#bd3786"
             ],
             [
              0.5555555555555556,
              "#d8576b"
             ],
             [
              0.6666666666666666,
              "#ed7953"
             ],
             [
              0.7777777777777778,
              "#fb9f3a"
             ],
             [
              0.8888888888888888,
              "#fdca26"
             ],
             [
              1,
              "#f0f921"
             ]
            ],
            "type": "contour"
           }
          ],
          "contourcarpet": [
           {
            "colorbar": {
             "outlinewidth": 0,
             "ticks": ""
            },
            "type": "contourcarpet"
           }
          ],
          "heatmap": [
           {
            "colorbar": {
             "outlinewidth": 0,
             "ticks": ""
            },
            "colorscale": [
             [
              0,
              "#0d0887"
             ],
             [
              0.1111111111111111,
              "#46039f"
             ],
             [
              0.2222222222222222,
              "#7201a8"
             ],
             [
              0.3333333333333333,
              "#9c179e"
             ],
             [
              0.4444444444444444,
              "#bd3786"
             ],
             [
              0.5555555555555556,
              "#d8576b"
             ],
             [
              0.6666666666666666,
              "#ed7953"
             ],
             [
              0.7777777777777778,
              "#fb9f3a"
             ],
             [
              0.8888888888888888,
              "#fdca26"
             ],
             [
              1,
              "#f0f921"
             ]
            ],
            "type": "heatmap"
           }
          ],
          "heatmapgl": [
           {
            "colorbar": {
             "outlinewidth": 0,
             "ticks": ""
            },
            "colorscale": [
             [
              0,
              "#0d0887"
             ],
             [
              0.1111111111111111,
              "#46039f"
             ],
             [
              0.2222222222222222,
              "#7201a8"
             ],
             [
              0.3333333333333333,
              "#9c179e"
             ],
             [
              0.4444444444444444,
              "#bd3786"
             ],
             [
              0.5555555555555556,
              "#d8576b"
             ],
             [
              0.6666666666666666,
              "#ed7953"
             ],
             [
              0.7777777777777778,
              "#fb9f3a"
             ],
             [
              0.8888888888888888,
              "#fdca26"
             ],
             [
              1,
              "#f0f921"
             ]
            ],
            "type": "heatmapgl"
           }
          ],
          "histogram": [
           {
            "marker": {
             "colorbar": {
              "outlinewidth": 0,
              "ticks": ""
             }
            },
            "type": "histogram"
           }
          ],
          "histogram2d": [
           {
            "colorbar": {
             "outlinewidth": 0,
             "ticks": ""
            },
            "colorscale": [
             [
              0,
              "#0d0887"
             ],
             [
              0.1111111111111111,
              "#46039f"
             ],
             [
              0.2222222222222222,
              "#7201a8"
             ],
             [
              0.3333333333333333,
              "#9c179e"
             ],
             [
              0.4444444444444444,
              "#bd3786"
             ],
             [
              0.5555555555555556,
              "#d8576b"
             ],
             [
              0.6666666666666666,
              "#ed7953"
             ],
             [
              0.7777777777777778,
              "#fb9f3a"
             ],
             [
              0.8888888888888888,
              "#fdca26"
             ],
             [
              1,
              "#f0f921"
             ]
            ],
            "type": "histogram2d"
           }
          ],
          "histogram2dcontour": [
           {
            "colorbar": {
             "outlinewidth": 0,
             "ticks": ""
            },
            "colorscale": [
             [
              0,
              "#0d0887"
             ],
             [
              0.1111111111111111,
              "#46039f"
             ],
             [
              0.2222222222222222,
              "#7201a8"
             ],
             [
              0.3333333333333333,
              "#9c179e"
             ],
             [
              0.4444444444444444,
              "#bd3786"
             ],
             [
              0.5555555555555556,
              "#d8576b"
             ],
             [
              0.6666666666666666,
              "#ed7953"
             ],
             [
              0.7777777777777778,
              "#fb9f3a"
             ],
             [
              0.8888888888888888,
              "#fdca26"
             ],
             [
              1,
              "#f0f921"
             ]
            ],
            "type": "histogram2dcontour"
           }
          ],
          "mesh3d": [
           {
            "colorbar": {
             "outlinewidth": 0,
             "ticks": ""
            },
            "type": "mesh3d"
           }
          ],
          "parcoords": [
           {
            "line": {
             "colorbar": {
              "outlinewidth": 0,
              "ticks": ""
             }
            },
            "type": "parcoords"
           }
          ],
          "pie": [
           {
            "automargin": true,
            "type": "pie"
           }
          ],
          "scatter": [
           {
            "marker": {
             "colorbar": {
              "outlinewidth": 0,
              "ticks": ""
             }
            },
            "type": "scatter"
           }
          ],
          "scatter3d": [
           {
            "line": {
             "colorbar": {
              "outlinewidth": 0,
              "ticks": ""
             }
            },
            "marker": {
             "colorbar": {
              "outlinewidth": 0,
              "ticks": ""
             }
            },
            "type": "scatter3d"
           }
          ],
          "scattercarpet": [
           {
            "marker": {
             "colorbar": {
              "outlinewidth": 0,
              "ticks": ""
             }
            },
            "type": "scattercarpet"
           }
          ],
          "scattergeo": [
           {
            "marker": {
             "colorbar": {
              "outlinewidth": 0,
              "ticks": ""
             }
            },
            "type": "scattergeo"
           }
          ],
          "scattergl": [
           {
            "marker": {
             "colorbar": {
              "outlinewidth": 0,
              "ticks": ""
             }
            },
            "type": "scattergl"
           }
          ],
          "scattermapbox": [
           {
            "marker": {
             "colorbar": {
              "outlinewidth": 0,
              "ticks": ""
             }
            },
            "type": "scattermapbox"
           }
          ],
          "scatterpolar": [
           {
            "marker": {
             "colorbar": {
              "outlinewidth": 0,
              "ticks": ""
             }
            },
            "type": "scatterpolar"
           }
          ],
          "scatterpolargl": [
           {
            "marker": {
             "colorbar": {
              "outlinewidth": 0,
              "ticks": ""
             }
            },
            "type": "scatterpolargl"
           }
          ],
          "scatterternary": [
           {
            "marker": {
             "colorbar": {
              "outlinewidth": 0,
              "ticks": ""
             }
            },
            "type": "scatterternary"
           }
          ],
          "surface": [
           {
            "colorbar": {
             "outlinewidth": 0,
             "ticks": ""
            },
            "colorscale": [
             [
              0,
              "#0d0887"
             ],
             [
              0.1111111111111111,
              "#46039f"
             ],
             [
              0.2222222222222222,
              "#7201a8"
             ],
             [
              0.3333333333333333,
              "#9c179e"
             ],
             [
              0.4444444444444444,
              "#bd3786"
             ],
             [
              0.5555555555555556,
              "#d8576b"
             ],
             [
              0.6666666666666666,
              "#ed7953"
             ],
             [
              0.7777777777777778,
              "#fb9f3a"
             ],
             [
              0.8888888888888888,
              "#fdca26"
             ],
             [
              1,
              "#f0f921"
             ]
            ],
            "type": "surface"
           }
          ],
          "table": [
           {
            "cells": {
             "fill": {
              "color": "#EBF0F8"
             },
             "line": {
              "color": "white"
             }
            },
            "header": {
             "fill": {
              "color": "#C8D4E3"
             },
             "line": {
              "color": "white"
             }
            },
            "type": "table"
           }
          ]
         },
         "layout": {
          "annotationdefaults": {
           "arrowcolor": "#2a3f5f",
           "arrowhead": 0,
           "arrowwidth": 1
          },
          "coloraxis": {
           "colorbar": {
            "outlinewidth": 0,
            "ticks": ""
           }
          },
          "colorscale": {
           "diverging": [
            [
             0,
             "#8e0152"
            ],
            [
             0.1,
             "#c51b7d"
            ],
            [
             0.2,
             "#de77ae"
            ],
            [
             0.3,
             "#f1b6da"
            ],
            [
             0.4,
             "#fde0ef"
            ],
            [
             0.5,
             "#f7f7f7"
            ],
            [
             0.6,
             "#e6f5d0"
            ],
            [
             0.7,
             "#b8e186"
            ],
            [
             0.8,
             "#7fbc41"
            ],
            [
             0.9,
             "#4d9221"
            ],
            [
             1,
             "#276419"
            ]
           ],
           "sequential": [
            [
             0,
             "#0d0887"
            ],
            [
             0.1111111111111111,
             "#46039f"
            ],
            [
             0.2222222222222222,
             "#7201a8"
            ],
            [
             0.3333333333333333,
             "#9c179e"
            ],
            [
             0.4444444444444444,
             "#bd3786"
            ],
            [
             0.5555555555555556,
             "#d8576b"
            ],
            [
             0.6666666666666666,
             "#ed7953"
            ],
            [
             0.7777777777777778,
             "#fb9f3a"
            ],
            [
             0.8888888888888888,
             "#fdca26"
            ],
            [
             1,
             "#f0f921"
            ]
           ],
           "sequentialminus": [
            [
             0,
             "#0d0887"
            ],
            [
             0.1111111111111111,
             "#46039f"
            ],
            [
             0.2222222222222222,
             "#7201a8"
            ],
            [
             0.3333333333333333,
             "#9c179e"
            ],
            [
             0.4444444444444444,
             "#bd3786"
            ],
            [
             0.5555555555555556,
             "#d8576b"
            ],
            [
             0.6666666666666666,
             "#ed7953"
            ],
            [
             0.7777777777777778,
             "#fb9f3a"
            ],
            [
             0.8888888888888888,
             "#fdca26"
            ],
            [
             1,
             "#f0f921"
            ]
           ]
          },
          "colorway": [
           "#636efa",
           "#EF553B",
           "#00cc96",
           "#ab63fa",
           "#FFA15A",
           "#19d3f3",
           "#FF6692",
           "#B6E880",
           "#FF97FF",
           "#FECB52"
          ],
          "font": {
           "color": "#2a3f5f"
          },
          "geo": {
           "bgcolor": "white",
           "lakecolor": "white",
           "landcolor": "#E5ECF6",
           "showlakes": true,
           "showland": true,
           "subunitcolor": "white"
          },
          "hoverlabel": {
           "align": "left"
          },
          "hovermode": "closest",
          "mapbox": {
           "style": "light"
          },
          "paper_bgcolor": "white",
          "plot_bgcolor": "#E5ECF6",
          "polar": {
           "angularaxis": {
            "gridcolor": "white",
            "linecolor": "white",
            "ticks": ""
           },
           "bgcolor": "#E5ECF6",
           "radialaxis": {
            "gridcolor": "white",
            "linecolor": "white",
            "ticks": ""
           }
          },
          "scene": {
           "xaxis": {
            "backgroundcolor": "#E5ECF6",
            "gridcolor": "white",
            "gridwidth": 2,
            "linecolor": "white",
            "showbackground": true,
            "ticks": "",
            "zerolinecolor": "white"
           },
           "yaxis": {
            "backgroundcolor": "#E5ECF6",
            "gridcolor": "white",
            "gridwidth": 2,
            "linecolor": "white",
            "showbackground": true,
            "ticks": "",
            "zerolinecolor": "white"
           },
           "zaxis": {
            "backgroundcolor": "#E5ECF6",
            "gridcolor": "white",
            "gridwidth": 2,
            "linecolor": "white",
            "showbackground": true,
            "ticks": "",
            "zerolinecolor": "white"
           }
          },
          "shapedefaults": {
           "line": {
            "color": "#2a3f5f"
           }
          },
          "ternary": {
           "aaxis": {
            "gridcolor": "white",
            "linecolor": "white",
            "ticks": ""
           },
           "baxis": {
            "gridcolor": "white",
            "linecolor": "white",
            "ticks": ""
           },
           "bgcolor": "#E5ECF6",
           "caxis": {
            "gridcolor": "white",
            "linecolor": "white",
            "ticks": ""
           }
          },
          "title": {
           "x": 0.05
          },
          "xaxis": {
           "automargin": true,
           "gridcolor": "white",
           "linecolor": "white",
           "ticks": "",
           "title": {
            "standoff": 15
           },
           "zerolinecolor": "white",
           "zerolinewidth": 2
          },
          "yaxis": {
           "automargin": true,
           "gridcolor": "white",
           "linecolor": "white",
           "ticks": "",
           "title": {
            "standoff": 15
           },
           "zerolinecolor": "white",
           "zerolinewidth": 2
          }
         }
        },
        "title": {
         "text": "3d TSNE Plot for Outliers"
        },
        "width": 900
       }
      },
      "text/html": [
       "<div>\n",
       "        \n",
       "        \n",
       "            <div id=\"9f26f704-3ad5-457b-98eb-bcf44827f9f2\" class=\"plotly-graph-div\" style=\"height:800px; width:900px;\"></div>\n",
       "            <script type=\"text/javascript\">\n",
       "                require([\"plotly\"], function(Plotly) {\n",
       "                    window.PLOTLYENV=window.PLOTLYENV || {};\n",
       "                    \n",
       "                if (document.getElementById(\"9f26f704-3ad5-457b-98eb-bcf44827f9f2\")) {\n",
       "                    Plotly.newPlot(\n",
       "                        '9f26f704-3ad5-457b-98eb-bcf44827f9f2',\n",
       "                        [{\"customdata\": [[0.263995357], [0.546092303], [0.33671410399999996], [0.092107835], [0.325261175], [0.212464853], [0.258565714], [0.869236755], [0.197077957], [0.292984504], [0.82178316], [0.796622959], [0.045577010999999994], [0.613660351], [0.9507445659999999], [0.33634633700000005], [0.034440667], [0.741544275], [0.18443265], [0.664514943], [0.16282485800000002], [0.729838445], [0.62837389], [0.057883660999999996], [0.445534827], [0.80183695], [0.27709612], [0.228634015], [0.834860657], [0.6697665110000001], [0.532527349], [0.17045907100000002], [0.5102884679999999], [0.977561989], [0.249775993], [0.9755006820000001], [0.613701727], [0.16742036300000002], [0.537472516], [0.379899131], [0.633897303], [0.633960424], [0.5499746529999999], [0.178172988], [0.85563814], [0.321796672], [0.8174905370000001], [0.254879417], [0.344140513], [0.8061457259999999], [0.27708167100000003], [0.544328519], [0.07708393], [0.273081458], [0.390877336], [0.349621385], [0.214549744], [0.206075222], [0.86461997], [0.9817088540000001], [0.33482964600000004], [0.648387061], [0.093643561], [0.837802698], [0.7603439670000001], [0.29140417399999996], [0.3413454], [0.7611124840000001], [0.541899775], [0.684176639], [0.983535597], [0.52081245], [0.328227724], [0.09715793800000001], [0.876088593], [0.870214512], [0.656086992], [0.306791514], [0.48126734], [0.259559174], [0.326123655], [0.930568042], [0.6583894], [0.689992335], [0.315781109], [0.5669050929999999], [0.637526619], [0.687540723], [0.324300602], [0.592704906], [0.7402531259999999], [0.5940328770000001], [0.596452977], [0.27768081699999997], [0.258329663], [0.142460864], [0.435533461], [0.7024990440000001], [0.58897535], [0.653304374], [0.336968524], [0.631244736], [0.73530076], [0.050390366], [0.064264924], [0.665359476], [0.917835245], [0.44651012], [0.661938199], [0.43935985299999997], [0.6875724040000001], [0.363462248], [0.6542621820000001], [0.578553536], [0.065927945], [0.550148559], [0.13918281400000002], [0.080004635], [0.278228358], [0.560124266], [0.53639864], [0.42653190399999996], [0.789109796], [0.742900474], [0.901692589], [0.650337401], [0.114057311], [0.260812592], [0.43991232], [0.964409284], [0.184401415], [0.345145446], [0.17589458100000002], [0.312514453], [0.674131879], [0.32825045], [0.598231057], [0.09259881699999999], [0.497916521], [0.419776521], [0.31217670000000003], [0.937857107], [0.049030963], [0.47610452600000003], [0.447397526], [0.295806058], [0.737363977], [0.625896253], [0.408813429], [0.437511156], [0.691351375], [0.935555275], [0.437846654], [0.072217715], [0.67636067], [0.468883999], [0.543820644], [0.6555226470000001], [0.6935289240000001], [0.10887831199999999], [0.285463743], [0.0], [0.706495497], [0.273530633], [0.292320271], [0.673984307], [0.12612182800000002], [0.9467074590000001], [0.9363388979999999], [0.8537553640000001], [0.7060713609999999], [0.693682186], [0.508527882], [0.34717038899999997], [0.704154263], [0.658730088], [0.155841557], [0.311085435], [0.281135347], [0.094587802], [0.6832609540000001], [0.9077292509999999], [0.29151267399999997], [0.752734459], [0.93482964], [0.071413953], [0.5948963270000001], [0.404672015], [0.13837621], [0.7473384679999999], [0.530882486], [0.282649594], [0.699335734], [0.056111250999999994], [0.855234998], [0.07789512700000001], [0.891649583], [0.38674227899999997], [0.27113158], [0.958888961], [0.085120869], [0.5269022489999999], [0.066577785], [0.841506738], [0.255342095], [0.060545771], [0.073385869], [0.187493723], [0.858365688], [0.090640352], [0.7097252270000001], [0.631300647], [0.24750447399999997], [0.822843584], [0.373476759], [0.625538582], [0.292951715], [0.299730324], [0.25121407], [0.344480551], [0.293064767], [0.7628032240000001], [0.7384708040000001], [0.674883265], [0.719151612], [0.13098021599999998], [0.511328036], [0.04492903], [0.560914449], [0.7440406409999999], [0.266961634], [0.644231853], [0.038113352], [0.05715529900000001], [0.34139246100000004], [0.7204636320000001], [0.402878236], [0.635148967], [0.320729467], [0.09120969400000001], [0.23414609], [0.8902211309999999], [0.602170884], [0.633652055], [0.806240837], [0.739731184], [0.465231269], [0.7321109], [0.373874305], [0.501587947], [0.11538315800000001], [0.7319466040000001], [0.41829872799999995], [0.062259590999999996], [0.391496379], [0.35984929], [0.24523562699999998], [0.610028339], [0.43540360200000006], [0.434309675], [0.523763344], [0.17118786600000002], [0.18773430300000002], [0.945014638], [0.027851097000000002], [0.68445706], [0.178014532], [0.643427879], [0.59588355], [0.372361682], [0.586103584], [0.271658852], [0.59951107], [0.468363088], [0.314515565], [0.21893726], [0.254716562], [0.25612815], [0.602259755], [0.134381075], [0.513887424], [0.624241636], [0.160251854], [0.580708108], [0.270540486], [0.832919932], [0.93032134], [0.719157884], [0.886720033], [0.098792281], [0.787174286], [0.365592376], [0.719576193], [0.8058956], [0.7555783340000001], [0.526005909], [0.68880424], [0.22111531199999998], [0.739369477], [0.408440236], [0.348926542], [0.433713763], [0.5964966070000001], [0.6942953000000001], [0.7090309659999999], [0.867652984], [0.89332545], [0.746020922], [0.538284443], [0.8922193140000001], [0.935175765], [0.260527707], [0.956780449], [0.204932484], [0.687733351], [0.329063619], [0.632149831], [0.463744506], [0.698859621], [0.385446564], [0.47997537700000004], [0.732279108], [0.3813543], [0.459326013], [0.257401434], [0.665014804], [0.103399542], [0.425284413], [0.943529051], [0.594750236], [0.543776817], [0.18203988], [0.23584208399999998], [0.585984497], [0.762013168], [0.6849829070000001], [0.676936933], [0.290184964], [0.48106822200000005], [0.492766033], [0.22185623399999999], [0.053875998], [0.082751144], [0.385366225], [0.702513961], [0.91553156], [0.082087436], [0.251280378], [0.41672181700000005], [0.277032672], [0.579539754], [0.569363476], [0.133399703], [0.265045463], [0.936571901], [0.252618554], [0.054033081], [0.802481439], [0.528197693], [0.9515026], [0.572121173], [0.752938227], [0.143857535], [0.513484576], [0.313322389], [0.6877973959999999], [0.37705984], [0.348226142], [0.67763282], [0.24138752100000002], [0.8506501790000001], [0.22034810300000002], [0.476445464], [0.690324025], [0.364695946], [0.6492491970000001], [0.9437019209999999], [0.529645971], [0.299097002], [0.96696247], [0.272005242], [0.314161447], [0.752020991], [0.221882453], [0.7203326729999999], [0.379204782], [0.60168653], [0.582932673], [0.950809853], [0.58830141], [0.880887227], [0.467857701], [0.8799021709999999], [0.619844009], [0.359002573], [0.291511278], [0.694157143], [0.727960353], [0.617703921], [0.39581257], [0.58317282], [0.710332374], [0.253753693], [0.049412227999999996], [0.728378695], [0.432432881], [0.58612345], [0.052342373], [0.053483902], [0.518729378], [0.933040208], [0.7035542840000001], [0.268989899], [0.733006927], [0.44435246700000003], [0.5833946210000001], [0.871172692], [0.42876707799999997], [0.30046084100000003], [0.9533294590000001], [0.606443965], [0.90986815], [0.714896449], [0.49734950899999997], [0.8530974859999999], [0.721804145], [0.303467328], [0.664485096], [0.27978062], [0.569481665], [0.628628926], [0.088368123], [0.733567326], [0.537436778], [0.638593691], [0.954726948], [0.632202332], [0.642134651], [0.744653087], [0.115714007], [0.48625007299999995], [0.440356144], [0.08272289], [0.511591027], [0.394627555], [0.224394], [0.626927584], [0.290254057], [0.779008053], [0.86610579], [0.873326081], [0.49548916], [0.594297695], [0.9182015840000001], [0.5770427539999999], [0.019467671000000002], [0.6702982820000001], [0.546595316], [0.591665146], [0.42155819], [0.6856085590000001], [0.340303024], [0.675626741], [0.319067345], [0.38849966399999997], [0.706949589], [0.559409515], [0.687663508], [0.7088045540000001], [0.6818880940000001], [0.42253510899999996], [0.320004605], [0.6582813679999999], [0.634154867], [0.7773320090000001], [0.812677205], [0.074280797], [0.39600217], [0.054933913], [0.825058925], [0.382642009], [0.8687298179999999], [0.588043346], [0.891551577], [0.10920046], [0.647682781], [0.724342512], [0.07016304400000001], [0.280882054], [0.039113261], [0.579641592], [0.639000922], [0.281745925], [0.647857744], [0.6479057970000001], [0.875226264], [0.567603305], [0.262940591], [0.268026042], [0.40519133], [0.479965451], [0.33552403], [0.777165379], [0.42548796299999997], [0.237986115], [0.142522971], [0.724176488], [0.234698933], [0.07818228099999999], [0.855990155], [0.270251765], [0.435517841], [0.762697513], [0.46448725799999996], [0.396112685], [0.37638092100000003], [0.29459467699999997], [0.6944921209999999], [0.622767949], [0.8475597220000001], [0.301463054], [0.912937812], [0.500017182], [0.902587935], [0.304517943], [0.299165673], [0.092014087], [0.488548917], [0.664664437], [0.26534954899999996], [0.723657021], [0.149262385], [0.04577339], [0.69661064], [0.42181486], [0.733845785], [0.418795386], [0.677443529], [0.26128360300000003], [0.268527767], [0.5443222360000001], [0.431632036], [0.981018141], [0.21498072399999998], [0.39472999299999995], [0.122224944], [0.297496875], [0.37490443100000004], [0.68698771], [0.388549207], [0.039296071], [0.73553424], [0.37929489299999997], [0.7321233859999999], [0.33922143899999996], [0.659450594], [0.054838642], [0.640112102], [0.30714170399999996], [0.39661190700000004], [0.420439161], [0.24171497399999997], [0.065893153], [0.9105219370000001], [0.697163103], [0.072559853], [0.81825094], [0.311888815], [0.961644609], [0.816325524], [0.14647302], [0.548753945], [0.946158087], [0.293992717], [0.331479643], [0.9062200309999999], [0.525540416], [0.83301411], [0.514849806], [0.574609024], [0.46871185299999996], [0.71002775], [0.645973276], [0.229794416], [0.551783393], [0.055822990999999995], [0.331750941], [0.715520198], [0.583924357], [0.30695769100000003], [0.7914782370000001], [0.16423663900000002], [0.065711219], [0.948993132], [0.080423835], [0.052495426], [0.566346135], [0.3630266], [0.605442195], [0.6308505839999999], [0.065791238], [0.28681707100000003], [0.685462839], [0.260853706], [0.659122429], [0.44317392200000005], [0.602063986], [0.060366910999999995], [0.781903153], [0.5145798070000001], [0.48388621299999995], [0.600213807], [0.49736405200000006], [0.411145245], [0.116999171], [0.34189014100000004], [0.746950848], [0.39629274600000003], [0.6221438429999999], [0.335271141], [0.140257137], [0.081620681], [0.069837569], [0.46894000799999996], [0.9908574170000001], [0.896616832], [0.255310561], [0.22464526699999998], [0.01991825], [0.296480415], [0.155458996], [0.577916714], [0.9563030309999999], [0.813464394], [0.529675785], [0.287671353], [0.48039136], [0.28104482199999997], [0.633196521], [0.09332537699999999], [0.28447398100000004], [0.052223775], [0.051129385], [0.967405608], [0.040045727999999996], [0.9085829209999999], [0.6621174160000001], [0.42470320899999997], [0.72207806], [0.666193327], [0.509681253], [0.7513536209999999], [0.279073124], [0.074927], [0.916359535], [0.31040327], [0.716604052], [0.485587085], [0.30607518100000003], [0.477558204], [0.7119239409999999], [0.066348638], [0.27453935100000004], [0.31082252], [0.47607312700000004], [0.186795565], [0.26654207], [0.070231142], [0.26951927], [0.800004713], [0.27363366699999997], [0.14647919199999998], [0.378318951], [0.373849065], [0.242170835], [0.249796488], [0.066591188], [0.372956798], [0.501812291], [0.313097752], [0.8802021959999999], [0.51981893], [0.364138746], [0.49268289600000004], [0.285732652], [0.890114985], [0.316419561], [0.26866354], [0.771975959], [0.968888992], [0.080334377], [0.7368282209999999], [0.30055807100000004], [0.9179503929999999], [0.465815039], [0.054036682], [0.963150123], [0.08965350300000001], [0.7076932340000001], [0.636416037], [0.539521117], [0.114757161], [0.357312419], [0.67639834], [0.43482839], [0.032326387000000005], [0.711365605], [0.187486519], [0.052789653], [0.5058636129999999], [0.927431873], [0.6809842559999999], [0.882822186], [0.495705441], [0.596240398], [0.320610701], [0.3413685], [0.159681797], [0.318133669], [0.8393010479999999], [0.06435925099999999], [0.470216633], [0.7762522909999999], [0.635843383], [0.62510543], [0.52959065], [0.986900166], [0.078585688], [0.233284267], [0.363330957], [0.7167169809999999], [0.37588979200000006], [0.223316889], [0.299343986], [0.538595767], [0.730297124], [0.66033077], [0.435296009], [0.326494313], [0.854402708], [0.5734938470000001], [0.757786135], [0.704743233], [0.281575597], [0.671968208], [0.313726015], [0.364338275], [0.368216396], [0.38629520700000003], [0.655971865], [0.5660252729999999], [0.424999093], [0.090110371], [0.772350538], [0.331047258], [0.273716188], [0.23877568], [0.37307977200000003], [0.331185868], [0.256134531], [0.678373225], [0.43463833799999996], [0.654668307], [0.986681065], [0.371520495], [0.408359618], [0.40932365], [0.283412082], [0.395246531], [0.010984428000000001], [0.306013869], [0.266194806], [0.299318521], [0.318293946], [0.74282591], [0.09766432900000001], [0.079666942], [0.613258767], [0.99443072], [0.568835082], [0.7080345159999999], [0.37059271899999996], [0.669867361], [0.651295625], [0.462531569], [0.7196256190000001], [0.45377248], [0.394863946], [0.323974831], [0.146454724], [0.7790670409999999], [0.401828915], [0.601479585], [0.856423023], [0.565242962], [0.301225108], [0.282108144], [0.594378011], [0.705312368], [0.5408696279999999], [0.319249574], [0.36176613799999996], [0.625000704], [0.316287401], [0.047239021], [0.801182233], [0.508474436], [0.8178934109999999], [0.399235601], [0.9740519990000001], [0.72241535], [0.039564764], [0.908684108], [0.47301013399999997], [0.7180496279999999], [0.7634790690000001], [0.6475965370000001], [0.8949973859999999], [0.22282590100000002], [0.359012234], [0.944910252], [0.297877816], [0.172517997], [0.556586265], [0.876481735], [0.48667784299999994], [0.459496733], [0.47412637700000004], [0.70101144], [0.337597387], [0.537578886], [0.966992448], [0.056849545], [0.233249065], [0.380054711], [0.602929443], [0.303847999], [0.170194553], [0.972168554], [0.332168927], [0.6887286890000001], [0.110773401], [0.273352065], [0.572939678], [0.491457065], [0.281389999], [0.821697261], [0.6749776829999999], [0.585134549], [0.7105961159999999], [0.040488789], [0.568054311], [0.321752928], [0.611850232], [0.926096887], [0.618347428], [0.667629785], [0.39773346600000004], [0.290875487], [0.594375103], [0.508255233], [0.338571357], [0.43230234700000003], [0.302221978], [0.87619819], [0.080204492], [0.092333532], [0.09365644699999999], [0.6084523510000001], [0.732654598], [0.944158855], [0.26742308], [0.731124201], [0.661308553], [0.38776626200000003], [0.962585273], [0.322067067], [0.6340810929999999], [0.475345002], [0.35355897299999994], [0.8859363159999999], [0.876798106], [0.221581064], [0.394362449], [0.8050356759999999], [0.452898486], [0.592520516], [0.761026394], [0.245049023], [0.37213936299999995], [0.681054822], [0.7471431479999999], [0.9207395290000001], [0.097207945], [0.699302998], [0.721647006], [0.5353561139999999], [0.738293805], [0.7064675509999999], [0.67395061], [0.7112122909999999], [0.302558708], [0.080097855], [0.707010837], [0.512248622], [0.659627472], [0.657559694], [0.100645606], [0.92665363], [0.892879338], [0.839157508], [0.890959718], [0.556754471], [0.960361937], [0.631037864], [0.029838065], [0.278843351], [0.926157705], [0.551504258], [0.485942349], [0.43723469600000003], [0.25231801800000003], [0.515466972], [0.43725229600000004], [0.493724207], [0.83324725], [0.317521477], [0.28623456199999997], [0.726833965], [0.495667033], [0.028645255], [0.31967191699999997], [0.674344598], [0.7660371890000001], [0.65456992], [0.7565143809999999], [0.528253719], [0.38971949100000003], [0.355087459], [0.87015202], [0.7390833059999999], [0.305761846], [0.411587673], [0.063633094], [0.735409395], [0.605916669], [0.539395562], [0.566183532], [0.674795186], [0.070993366], [0.12526410000000002], [0.279601492], [0.952174402], [0.233806762], [0.43724742899999997], [0.925423095], [0.433498634], [0.52517902], [0.088435529], [0.447677638], [0.647000631], [0.9036033370000001], [0.265790738], [0.66419695], [0.498120658], [0.49018894399999996], [0.747084187], [0.906783648], [0.678770917], [0.348599859], [0.294839683], [0.705691827], [0.211917931], [0.063201124], [0.276699543], [0.672459395], [0.8082059490000001], [0.296538373], [0.16012686199999998], [0.439385032], [0.555951416], [0.386240112], [0.158689619], [0.214499855], [0.299579429], [0.569161656], [0.488614799], [0.8782950209999999], [0.649380949], [0.465713341], [0.16813774], [0.87529545], [0.8411323409999999], [0.33292081], [0.5130478589999999], [0.30505507800000004], [0.8126269909999999], [0.25096706], [0.5024355779999999], [0.45799074100000003]], \"hoverlabel\": {\"namelength\": 0}, \"hovertemplate\": \"0=%{x}<br>1=%{y}<br>2=%{z}<br>Feature=%{customdata[0]}<br>Label=%{marker.color}\", \"legendgroup\": \"\", \"marker\": {\"color\": [0, 0, 1, 1, 0, 0, 0, 1, 1, 0, 0, 1, 0, 1, 1, 1, 0, 1, 0, 0, 1, 0, 0, 1, 1, 1, 0, 0, 1, 1, 0, 0, 0, 0, 1, 0, 0, 0, 0, 0, 0, 0, 0, 1, 0, 0, 0, 1, 0, 0, 0, 1, 0, 1, 0, 1, 0, 0, 0, 1, 0, 0, 0, 1, 0, 0, 1, 0, 0, 1, 0, 0, 0, 0, 0, 0, 0, 0, 0, 0, 0, 0, 0, 0, 0, 0, 0, 0, 0, 0, 0, 0, 0, 0, 0, 0, 0, 0, 0, 0, 0, 0, 0, 0, 0, 0, 0, 0, 0, 0, 0, 0, 0, 0, 0, 0, 0, 0, 0, 0, 0, 0, 0, 0, 0, 0, 0, 0, 0, 0, 1, 0, 0, 0, 0, 0, 1, 0, 0, 0, 0, 0, 0, 0, 0, 0, 0, 0, 0, 0, 0, 0, 0, 0, 0, 0, 0, 0, 0, 0, 0, 0, 0, 0, 0, 0, 0, 0, 0, 0, 0, 0, 0, 0, 0, 0, 0, 0, 0, 0, 0, 0, 0, 0, 0, 0, 0, 0, 0, 0, 0, 0, 0, 0, 0, 0, 0, 0, 0, 0, 0, 0, 0, 0, 0, 0, 0, 0, 0, 0, 0, 0, 0, 0, 0, 0, 0, 0, 0, 0, 0, 0, 0, 0, 0, 0, 0, 0, 0, 1, 0, 0, 0, 0, 0, 0, 0, 0, 0, 0, 0, 0, 0, 0, 0, 0, 0, 0, 0, 0, 0, 0, 0, 0, 0, 0, 0, 0, 0, 0, 0, 0, 0, 0, 0, 0, 0, 0, 0, 0, 0, 0, 0, 0, 0, 0, 0, 0, 0, 0, 0, 0, 0, 0, 0, 0, 0, 0, 0, 0, 0, 0, 0, 0, 0, 0, 0, 0, 0, 0, 0, 0, 0, 0, 0, 0, 0, 0, 0, 0, 0, 0, 0, 0, 0, 0, 0, 0, 0, 0, 0, 0, 0, 0, 0, 0, 0, 0, 0, 0, 0, 0, 0, 0, 0, 0, 0, 0, 0, 0, 0, 0, 0, 0, 0, 0, 0, 0, 0, 0, 0, 0, 0, 0, 0, 0, 0, 0, 0, 0, 0, 0, 0, 0, 0, 0, 0, 0, 0, 0, 0, 0, 0, 0, 0, 0, 0, 0, 0, 0, 0, 0, 0, 0, 0, 0, 0, 0, 0, 0, 0, 0, 1, 0, 0, 0, 0, 0, 0, 0, 0, 0, 0, 0, 0, 0, 0, 0, 0, 0, 0, 0, 0, 0, 0, 0, 0, 0, 0, 0, 0, 0, 0, 0, 0, 0, 0, 0, 0, 0, 0, 0, 0, 0, 0, 0, 0, 0, 0, 0, 0, 0, 0, 0, 0, 0, 0, 0, 0, 0, 0, 0, 0, 0, 0, 0, 0, 0, 0, 0, 0, 0, 0, 0, 0, 0, 0, 0, 0, 0, 0, 0, 0, 0, 1, 0, 0, 0, 0, 0, 0, 0, 0, 0, 0, 0, 0, 0, 0, 0, 0, 0, 0, 0, 0, 0, 0, 0, 0, 0, 0, 0, 0, 0, 0, 0, 0, 0, 0, 0, 0, 0, 0, 0, 0, 0, 0, 0, 0, 0, 0, 0, 0, 0, 0, 0, 0, 0, 0, 0, 0, 0, 0, 0, 0, 0, 0, 0, 0, 0, 0, 0, 0, 0, 0, 0, 0, 0, 0, 0, 0, 0, 0, 0, 0, 0, 0, 0, 0, 0, 0, 0, 0, 0, 0, 0, 0, 0, 0, 0, 0, 0, 0, 0, 0, 0, 0, 0, 0, 0, 0, 0, 0, 0, 0, 0, 0, 0, 0, 0, 0, 0, 0, 0, 0, 0, 0, 0, 0, 0, 0, 0, 1, 0, 0, 0, 0, 0, 0, 0, 0, 0, 0, 0, 0, 0, 0, 0, 0, 0, 0, 0, 0, 0, 0, 0, 0, 0, 0, 0, 0, 0, 0, 0, 0, 0, 0, 0, 0, 0, 0, 0, 0, 0, 0, 0, 0, 0, 0, 0, 0, 0, 0, 0, 0, 0, 0, 0, 0, 0, 0, 0, 0, 0, 0, 0, 0, 0, 0, 0, 0, 0, 0, 0, 0, 0, 0, 0, 0, 0, 0, 0, 0, 0, 0, 0, 0, 0, 0, 0, 0, 0, 0, 0, 0, 0, 0, 0, 0, 0, 1, 1, 0, 1, 1, 0, 0, 1, 1, 0, 1, 0, 1, 1, 0, 0, 1, 1, 1, 0, 1, 0, 1, 1, 1, 0, 0, 0, 0, 0, 0, 0, 0, 0, 0, 0, 0, 0, 0, 0, 0, 0, 0, 0, 0, 0, 0, 0, 0, 0, 0, 0, 0, 0, 0, 0, 0, 0, 0, 0, 0, 0, 0, 0, 0, 0, 0, 0, 0, 0, 0, 0, 0, 0, 0, 0, 0, 0, 0, 0, 0, 0, 0, 0, 0, 0, 0, 0, 0, 0, 0, 0, 0, 0, 0, 0, 0, 0, 0, 1, 0, 0, 0, 0, 0, 0, 0, 0, 0, 0, 0, 0, 0, 0, 0, 0, 0, 0, 0, 0, 0, 0, 0, 0, 0, 0, 0, 0, 0, 0, 0, 0, 0, 0, 0, 0, 0, 0, 0, 0, 0, 0, 0, 0, 0, 0, 0, 0, 0, 0, 0, 0, 0, 0, 0, 0, 1, 0, 0, 0, 0, 0, 0, 0, 0, 0, 0, 0, 0, 0, 0, 0, 0, 0, 0, 0, 0, 0, 0, 0, 0, 0, 0, 0, 0, 0, 0, 0, 0, 0, 0, 0, 0, 0, 0, 0, 0, 0, 0, 0, 0, 0, 0, 0, 0, 0, 0, 0, 0, 0, 0, 0, 0, 0, 0, 0, 0, 0, 0, 0, 0, 0, 0, 0, 0, 0, 0, 0, 0, 0, 0, 0, 0, 0, 0, 0, 0, 0, 0, 0, 0, 1, 0, 0, 0, 0, 0, 0, 0, 0, 0, 0, 0, 0, 0, 0, 0, 0, 0, 0, 0, 0, 0, 0, 0, 0, 0, 0, 0, 0, 0, 0, 0, 0, 0, 0, 0, 0, 0, 0, 0, 0, 0, 0, 0, 0, 0, 0, 0, 0, 0, 0, 0, 0, 0, 0, 0, 0, 0, 0], \"coloraxis\": \"coloraxis\", \"opacity\": 0.7, \"symbol\": \"circle\"}, \"mode\": \"markers\", \"name\": \"\", \"scene\": \"scene\", \"showlegend\": false, \"type\": \"scatter3d\", \"x\": [6.392225742340088, -5.9391255378723145, -2.0729732513427734, -4.705265998840332, 2.111455202102661, -3.3076295852661133, -2.941977024078369, -10.718835830688477, 1.8584870100021362, 10.543533325195312, -13.249078750610352, 2.034015655517578, -8.379013061523438, 5.202855110168457, 0.06316080689430237, -1.6841744184494019, -8.409873008728027, -2.201519250869751, -3.435202121734619, 0.9072648882865906, -2.4776651859283447, 7.849078178405762, 4.372779369354248, 1.3115520477294922, -5.174935817718506, -6.318411827087402, 1.1100826263427734, 2.100163221359253, -0.650590181350708, -6.389282703399658, 0.45039117336273193, -6.409014701843262, 4.7392401695251465, -0.37023621797561646, 5.448054790496826, 6.359287738800049, -1.4245737791061401, 2.4465975761413574, 7.30708122253418, -4.64686918258667, -11.725838661193848, -2.4910404682159424, -0.06650770455598831, -3.317974328994751, -1.2352583408355713, -1.1997071504592896, -0.7735996246337891, 1.3573253154754639, 1.724914312362671, -3.4615440368652344, -11.822999954223633, -4.252824783325195, 6.152592182159424, -1.3281354904174805, -4.769993782043457, -10.499444961547852, -7.122137069702148, 5.3968119621276855, -0.8438017964363098, -2.761979341506958, 3.3585281372070312, 2.398920774459839, -3.9731249809265137, -2.9861130714416504, -0.4838888645172119, -0.17014305293560028, 2.4706146717071533, -1.6941992044448853, 1.1206700801849365, -8.518882751464844, -8.623785018920898, -6.639642238616943, 9.436944007873535, -8.588730812072754, 9.922607421875, 9.207791328430176, -0.5503478646278381, -4.602102756500244, 13.909537315368652, 12.934207916259766, 12.082581520080566, 10.287201881408691, 3.328611135482788, 0.9382613301277161, -2.6244542598724365, -4.984551906585693, -2.73895001411438, -3.1878037452697754, 1.784600019454956, 10.79482364654541, 7.770097732543945, -11.454665184020996, 0.3685699999332428, -2.731302499771118, -8.339756965637207, -5.1968278884887695, 4.797112941741943, -4.1986541748046875, 0.8093714714050293, 0.4750899076461792, 8.370880126953125, -2.387937545776367, -3.677182197570801, 6.402167797088623, -5.030100345611572, 7.019034385681152, 0.10796001553535461, -7.501927375793457, 10.493858337402344, -5.108173370361328, 11.852027893066406, 9.268619537353516, -13.358201026916504, 10.38169002532959, -0.11308173835277557, 12.679773330688477, -6.7702317237854, -2.6403186321258545, -6.376334190368652, 0.4699578583240509, 13.095284461975098, 2.4878852367401123, -7.225142478942871, -0.6368126273155212, -0.5501521229743958, -4.875373363494873, -8.717689514160156, -5.770042419433594, -2.6449694633483887, -4.869409084320068, 3.159940719604492, 5.110086441040039, -10.764860153198242, -5.2367777824401855, -2.7345197200775146, 7.820735454559326, 2.8355629444122314, -7.792471408843994, -3.507045269012451, -0.43944647908210754, -9.388169288635254, 10.524117469787598, 6.423454284667969, 2.535388231277466, 0.018375715240836143, 9.679966926574707, -10.162723541259766, -1.1200776100158691, -4.410388469696045, 1.259251594543457, 12.247915267944336, 10.098713874816895, -5.375502109527588, 6.452933311462402, 7.921080112457275, 4.307567596435547, -2.4637608528137207, -0.6422267556190491, 11.747577667236328, -7.398767471313477, -6.301792621612549, 5.170248031616211, 12.11781120300293, 15.092183113098145, -6.109467029571533, -2.523167371749878, -8.827420234680176, -8.42746353149414, -0.5579685568809509, -0.11070134490728378, 0.7321867346763611, -4.384944915771484, -6.473416805267334, 0.8392186164855957, -0.09342370927333832, -2.7517571449279785, -5.127166748046875, 0.29427340626716614, -4.915501594543457, -6.54029655456543, -1.1567983627319336, -9.048450469970703, -7.343869209289551, -6.915379524230957, -8.052927017211914, -5.696907997131348, -4.135800838470459, 3.2498133182525635, 10.793781280517578, 10.258148193359375, -1.4171884059906006, 1.8682985305786133, -12.05428409576416, 0.1019127294421196, -6.806657314300537, -4.845836162567139, -1.9777483940124512, -8.226746559143066, 8.062857627868652, -0.9650412201881409, 3.6232192516326904, -0.8155054450035095, -8.675248146057129, 3.142855405807495, -0.8485152721405029, -6.710724353790283, 15.125861167907715, 3.304790735244751, -9.486932754516602, -2.781822681427002, 0.4858408272266388, -4.81744384765625, -5.535576343536377, 12.59532642364502, 2.4014334678649902, 0.5769973397254944, -2.9293060302734375, -3.558405637741089, -5.372725486755371, -0.4911203980445862, -1.0830137729644775, -4.631319999694824, 2.0432558059692383, 11.701395034790039, -5.528388500213623, 14.69310474395752, 1.0380576848983765, 11.798887252807617, -2.076582908630371, -7.04899263381958, -4.235839366912842, 0.26136523485183716, -7.452539920806885, -7.371633052825928, -1.306864619255066, -4.682371139526367, -0.974962592124939, 10.321022033691406, -5.7909932136535645, 0.5258933901786804, 2.8881824016571045, -4.806295394897461, 0.4091509282588959, -3.596985101699829, -8.334524154663086, -4.918972015380859, 8.907307624816895, 14.189569473266602, 1.6208919286727905, 3.8717074394226074, 6.698852062225342, -1.094586968421936, -6.204412937164307, 4.8545918464660645, 7.96358585357666, -0.5893219709396362, 5.886830806732178, -2.807169198989868, -6.654984474182129, 0.020425664260983467, 1.33406662940979, 4.573322772979736, 1.8649476766586304, -1.7799687385559082, 7.586562156677246, -3.6801817417144775, -8.752368927001953, -6.406678199768066, 10.442768096923828, -7.628417015075684, -6.13933801651001, -7.1795830726623535, 6.8906073570251465, 1.1821119785308838, -6.213255405426025, 3.510742425918579, -4.161464214324951, 1.728345274925232, -6.327434539794922, 10.490449905395508, 0.602756917476654, 1.2517560720443726, 10.046073913574219, 9.281181335449219, -0.32245656847953796, -6.172664642333984, 0.2712216377258301, -4.656923770904541, -3.8100640773773193, 7.233856678009033, 11.816543579101562, -7.342805862426758, 0.42086637020111084, -5.578602313995361, 0.7585824728012085, -11.043204307556152, -9.033608436584473, 15.389754295349121, -0.5460253357887268, 6.802766799926758, -4.813077449798584, -2.8095099925994873, -6.367812633514404, -8.368645668029785, -7.259603500366211, 10.59939956665039, -4.596437454223633, 11.12369441986084, 0.23197269439697266, -7.8470540046691895, -8.043961524963379, 0.5893172025680542, -8.341716766357422, 0.9075143933296204, -0.28924885392189026, 6.350092887878418, 0.019523706287145615, -3.438721179962158, 11.206755638122559, -8.566154479980469, -5.088534355163574, 7.833178997039795, -6.857369899749756, -2.527543067932129, 15.353731155395508, 7.505348205566406, -7.49599552154541, -9.548564910888672, 0.5127554535865784, -7.615910053253174, -6.592357635498047, -3.357349395751953, 3.682246446609497, 5.855582237243652, -3.275899648666382, 0.09068246930837631, -4.44308614730835, 7.5249176025390625, -4.236303329467773, -4.038060188293457, 6.656154155731201, 11.328818321228027, -6.494387149810791, 6.0345258712768555, -9.907543182373047, 1.8826557397842407, -5.034098148345947, -0.0556289479136467, -6.305730819702148, -2.944355010986328, -0.6216630339622498, 6.906397819519043, 0.4518246054649353, -7.366673946380615, 0.2700885534286499, 11.591401100158691, 4.614831447601318, -3.472783327102661, -6.531344890594482, 7.235965251922607, -5.614614963531494, -4.298829555511475, 2.2844743728637695, 0.5714097023010254, -7.054617881774902, 12.396860122680664, -4.186605930328369, -4.463330268859863, -2.771487236022949, -8.085237503051758, -1.8899035453796387, 2.736894130706787, 0.19820073246955872, -1.5289689302444458, -6.76125431060791, -0.41472962498664856, 10.875697135925293, -7.101663589477539, -8.409637451171875, 9.45908260345459, -8.141585350036621, 1.4819785356521606, 9.504863739013672, 9.199355125427246, -5.4554443359375, 4.242837429046631, 0.7780706882476807, 0.9054033160209656, -1.1866421699523926, 9.931640625, 0.2819592356681824, 5.328347682952881, 6.720039367675781, 10.345261573791504, -0.9071922898292542, -7.407299518585205, 6.928413391113281, -7.902411937713623, 7.193116188049316, 9.136076927185059, 0.6253013610839844, 1.392270565032959, 0.39901453256607056, -7.2538251876831055, -10.107481002807617, -6.202108860015869, -1.5602680444717407, 3.063713550567627, -8.18288516998291, -8.028114318847656, -4.976959228515625, 9.997954368591309, -5.819640159606934, 11.76570987701416, -7.494926452636719, 0.03222692757844925, -3.4464871883392334, -3.501608371734619, -9.572649002075195, 1.642910361289978, 10.004344940185547, -2.2148396968841553, -4.795397758483887, -4.376095294952393, -0.6475531458854675, -3.533332347869873, -3.844059467315674, -7.531822204589844, 8.349872589111328, -0.553573727607727, 12.173760414123535, -5.071435451507568, 1.4460954666137695, -6.4680047035217285, -7.9408860206604, -1.9691402912139893, -1.3625963926315308, 0.9778448343276978, 11.101790428161621, -1.4223939180374146, 7.732444763183594, 14.3840913772583, -0.6126641035079956, -0.6134299039840698, 2.8533811569213867, -6.261973857879639, -7.361452102661133, 4.198948860168457, 2.668060541152954, -10.475255012512207, 0.8418970108032227, 2.3933446407318115, -0.29385700821876526, 11.036653518676758, -12.50549602508545, -8.574545860290527, -2.1018221378326416, 2.2890851497650146, 13.383069038391113, 14.630830764770508, -6.141360759735107, -1.1397596597671509, -1.0898163318634033, 12.490753173828125, -0.0884498879313469, 7.875363826751709, 10.508292198181152, -8.803462982177734, -2.539929151535034, -0.00023258314467966557, 13.489690780639648, -0.24947580695152283, -2.106847047805786, 8.291669845581055, -0.8107323050498962, -6.116532802581787, -4.63124418258667, -6.168890953063965, 8.450236320495605, -3.905216932296753, 0.5218992829322815, 1.8165295124053955, -7.112421035766602, 1.2411563396453857, -6.257370948791504, 0.5010563731193542, -4.329689979553223, 8.466730117797852, 7.263834476470947, 1.1847193241119385, 13.467527389526367, -11.465140342712402, -5.826674938201904, -6.51276159286499, 0.247865229845047, -9.697155952453613, -8.319268226623535, -9.059415817260742, 4.989547252655029, 10.661030769348145, -3.6312363147735596, 1.3402292728424072, 7.892697334289551, 1.6222974061965942, 8.354467391967773, 1.3181151151657104, 11.856051445007324, 1.092901349067688, 9.162639617919922, -8.631366729736328, 0.9106075167655945, -0.26607459783554077, -4.327024459838867, -4.360244274139404, 14.470220565795898, 4.800081253051758, 7.01948356628418, 12.689919471740723, -0.47092485427856445, -5.358660697937012, 10.012614250183105, 3.2155652046203613, -5.034329414367676, 0.47445088624954224, -5.251810550689697, -7.516780376434326, 8.62139892578125, -2.8977210521698, -0.4685121178627014, 5.727376461029053, -3.7413406372070312, -4.61247444152832, -8.39652156829834, -2.1151344776153564, -10.720240592956543, -7.839416980743408, -7.691929817199707, 2.448216676712036, 10.805365562438965, -7.729005336761475, -1.4320422410964966, -8.414835929870605, -5.10230827331543, -4.220378875732422, -0.6993260383605957, -10.03438663482666, 8.72012996673584, -7.861922264099121, -8.980591773986816, 9.504316329956055, 4.823676586151123, 9.174034118652344, -0.04823794960975647, 11.630866050720215, 3.7688937187194824, -1.8588827848434448, -8.201414108276367, 8.924382209777832, -8.68979549407959, -0.9129467606544495, -0.4257984459400177, -5.597024440765381, 3.5544650554656982, -11.303973197937012, 0.151064932346344, 14.470369338989258, -2.584825277328491, 1.1262692213058472, -10.89110279083252, -11.781264305114746, 7.486884117126465, -11.386402130126953, -9.273722648620605, -2.817091464996338, -6.818947792053223, -8.73305606842041, -3.5580601692199707, -3.3598997592926025, 8.423704147338867, 13.668386459350586, 9.260579109191895, 12.948529243469238, -1.310994267463684, -3.701246500015259, 0.228631392121315, 15.257739067077637, 5.660661697387695, -0.5344750285148621, -5.575636386871338, -4.200191020965576, 0.9007342457771301, 2.506739616394043, 0.4497419595718384, -9.526127815246582, -0.09001881629228592, 6.699348449707031, -8.129051208496094, -5.70432186126709, -7.06550407409668, -0.10194215923547745, -7.576876163482666, 3.7547388076782227, -8.584775924682617, -4.238715648651123, -8.972134590148926, -3.576160430908203, -9.923300743103027, -4.059972286224365, 0.02734789438545704, -3.5932252407073975, -5.5797271728515625, 11.133313179016113, 10.679028511047363, 6.545810222625732, 12.1653470993042, 3.1949660778045654, -0.7452974319458008, 1.0997222661972046, -0.006640160456299782, 5.568743705749512, 1.998795986175537, 5.6108269691467285, 7.218085765838623, -0.009387693367898464, -0.052287518978118896, -10.188194274902344, -6.000136375427246, -0.37878939509391785, 2.299208164215088, 12.615715026855469, 5.645910263061523, -7.747347831726074, 10.980401992797852, 3.2470719814300537, 10.624079704284668, 10.705119132995605, 12.091536521911621, 1.6650829315185547, -12.370384216308594, 0.09521254897117615, -0.8848183751106262, -2.9594764709472656, -4.835609436035156, 10.089923858642578, -4.082103252410889, 12.911096572875977, -0.8012083172798157, 9.159082412719727, -6.298121452331543, 6.788940906524658, 1.0238499641418457, -2.3830668926239014, 1.0519310235977173, -9.009981155395508, -3.384803056716919, -2.7792928218841553, 1.6583802700042725, 8.73862075805664, 1.8806291818618774, -5.053114891052246, -7.757253170013428, 5.058741569519043, 0.15440350770950317, 6.889707088470459, -8.259385108947754, -1.3077712059020996, -7.21938943862915, -5.0801873207092285, -8.352214813232422, -2.818859577178955, -0.4799160957336426, 10.993524551391602, 6.92738151550293, 0.9745793342590332, -6.944373607635498, 3.9528088569641113, -3.784970760345459, -12.189613342285156, -7.646994113922119, -5.261035442352295, -0.472441166639328, -0.3311713635921478, 6.633082866668701, -6.476680755615234, 2.9722816944122314, -3.240421772003174, 9.012360572814941, 0.11358411610126495, -12.14896297454834, -8.057504653930664, -4.423047065734863, -7.875596046447754, -5.882904529571533, -3.2443082332611084, -12.944199562072754, -7.771580219268799, 8.060685157775879, 14.60191535949707, 12.794515609741211, -3.7833034992218018, 0.48219215869903564, 15.054242134094238, 5.1752166748046875, -0.6326315999031067, 8.352041244506836, -9.519508361816406, -11.073208808898926, -4.780299663543701, 3.1708626747131348, -3.7807912826538086, -0.3663049638271332, -0.7233851552009583, -0.3240197002887726, -6.278510570526123, 1.6297106742858887, -7.678010940551758, -3.0541131496429443, -1.205628752708435, 1.6768730878829956, -1.4221044778823853, -3.371790885925293, -8.118223190307617, -4.7226409912109375, -4.303037166595459, -1.19215726852417, 4.689738750457764, -9.759387969970703, -7.644925117492676, -5.705476760864258, -4.111491680145264, 0.4504377543926239, -0.9524716734886169, 1.1804922819137573, -0.41871094703674316, -2.8469412326812744, -12.407438278198242, 12.352105140686035, 14.306844711303711, 14.651576042175293, -5.611431121826172, -0.05063123255968094, 8.962082862854004, 8.826183319091797, -6.541920185089111, 7.175128936767578, 15.120898246765137, 14.518355369567871, -12.260185241699219, 1.8497282266616821, -7.782810211181641, -5.4683027267456055, 0.24247241020202637, -8.260998725891113, -6.741418838500977, 1.178953766822815, 0.1662004441022873, 12.90439510345459, 4.164059638977051, -4.244137763977051, 0.9692567586898804, -7.209659576416016, 7.031988620758057, 0.7545254826545715, -4.755002975463867, 6.6977009773254395, -4.8778977394104, -6.226282119750977, 1.1085412502288818, -3.5367870330810547, 1.8893769979476929, 12.462757110595703, 9.323814392089844, 1.2714829444885254, -4.186779022216797, 7.538842678070068, 2.3537232875823975, 2.1836342811584473, -0.22669455409049988, 10.870527267456055, 6.234444618225098, 11.362733840942383, -5.5979323387146, -4.582003116607666, 12.114532470703125, 14.773603439331055, -7.959227561950684, 2.705611228942871, -7.457154750823975, 14.95634651184082, 14.849123001098633, -10.786453247070312, 10.248443603515625, -6.80868673324585, 10.111078262329102, -6.603497505187988, -7.696898937225342, 2.823127508163452, 2.364088535308838, 11.91391372680664, -0.44154319167137146, 2.971653699874878, 2.1881725788116455, -0.30490052700042725, -5.572714805603027, 0.5245046615600586, -3.049290657043457, 4.779858589172363, -2.5102343559265137, -10.104787826538086, -2.478329658508301, 1.1385760307312012, -6.4506354331970215, 10.41005802154541, 9.385810852050781, -5.07850980758667, 2.5231740474700928, -3.5921425819396973, -9.530254364013672, -4.841763496398926, -7.797555446624756, -11.471841812133789, 1.1911697387695312, 15.700031280517578, -3.144896984100342, -3.371641159057617, -1.2293922901153564, -10.193502426147461, 13.558924674987793, 7.59474515914917, -5.086353302001953, -1.6301085948944092, 8.024333000183105, -4.2708048820495605, -5.755197525024414, 2.551924705505371, -8.096820831298828, -0.6675186157226562, 2.318460464477539, -11.200393676757812, 4.333485126495361, 12.076584815979004, 6.418163299560547, -7.419754981994629, -6.5435614585876465, -3.705038547515869, -9.35461711883545, -7.056216716766357, 12.387890815734863, 12.393460273742676, -0.4992060661315918, -8.088130950927734, 10.95022201538086, 5.551582336425781, 12.420442581176758, -0.4788116216659546, -6.286038875579834, 0.19526612758636475, -10.782147407531738, 14.561260223388672, -6.76475715637207, 8.330620765686035, 13.404852867126465, -1.598029613494873, 14.749149322509766, -4.790045738220215, -7.895913600921631, -2.9412360191345215, 14.681705474853516, -8.853687286376953, 10.460612297058105, -11.0651273727417, 4.451943397521973, -2.8064568042755127, 13.12597370147705, -9.010336875915527, 0.11337044835090637, -1.020250678062439, 0.6642737984657288, 9.420134544372559, -0.8597751259803772, 11.576359748840332, 13.518559455871582, 10.966410636901855, -5.920241832733154, -8.289204597473145, -12.956022262573242, 6.536070823669434, -0.06208148971199989, 6.6051788330078125, -4.344779014587402, 1.888343095779419, -7.4514594078063965, -0.23399502038955688, 11.017861366271973, -6.953067779541016, 10.166852951049805, 8.425740242004395, -3.167264223098755, -0.9276097416877747, -0.6075943112373352, -4.296602249145508, 4.364602565765381, 2.6816530227661133, -9.636590003967285, 15.290298461914062, 3.511388063430786, -9.083563804626465, -5.9985198974609375, -0.4270768165588379, 11.60645580291748, -4.656956672668457, -0.5026095509529114, 0.5431811213493347, 10.034546852111816, -6.342657089233398, 0.16746725142002106, 9.84372615814209, -6.725269317626953, -10.997725486755371, -12.883959770202637, 9.995195388793945, -10.671082496643066, 0.1305573731660843, 10.146820068359375, -6.853721618652344, 12.497544288635254, -7.0734148025512695, 8.945673942565918, -0.726270854473114, -6.679235458374023, 1.0539803504943848, 3.7026774883270264, -2.624175548553467, -8.275437355041504, -8.250977516174316, -0.4146706759929657, 4.510892391204834, -1.6923348903656006, -4.9703803062438965, -11.847259521484375, -2.0383238792419434, 3.222254753112793, 14.360310554504395, -9.331242561340332, 12.000680923461914, -4.822263717651367, 13.665217399597168, 8.099007606506348, -5.587662696838379, -7.051385879516602, 8.5086030960083, 2.394688367843628, -9.506610870361328, -7.177722930908203, 1.3693963289260864, -3.4750566482543945, -12.86994457244873, -4.684925079345703, -5.666928291320801, 1.376732349395752, -5.270707607269287, -1.9411472082138062, 0.21685932576656342, 12.981683731079102, 8.414228439331055, -0.5951395630836487, -5.009613037109375, 11.097677230834961, -4.741222381591797, 3.8615033626556396, -4.930538177490234, 13.637418746948242, 6.510613918304443, 0.22842693328857422, 11.201366424560547, -3.890101671218872, -3.5658459663391113, -4.052018165588379, 1.1864949464797974, -7.69940185546875, -5.198792457580566, 8.427675247192383, 15.864325523376465, -4.783348083496094, -3.8711354732513428, 1.5739301443099976, 1.2283741235733032, -9.300226211547852, -11.357891082763672, 0.2858103811740875, -6.801013469696045, 10.049652099609375, 13.345390319824219, -1.7169932126998901, -4.865418434143066, 8.473531723022461, -0.22400863468647003, 14.614176750183105, -6.913273334503174, -0.7780136466026306], \"y\": [-2.0284311771392822, 6.937380790710449, -11.09097671508789, 4.215539455413818, -10.454426765441895, 2.369987726211548, 12.137964248657227, 1.6611886024475098, 4.397462844848633, 1.3382903337478638, 1.572913408279419, -4.3759918212890625, 7.3400774002075195, -7.103407859802246, -3.013864278793335, -2.7505571842193604, 7.300616264343262, 5.3092827796936035, -10.716541290283203, -2.862142562866211, 2.661970376968384, -7.906952381134033, -7.522434234619141, 4.703094482421875, -1.7168875932693481, -2.0049567222595215, -3.604983329772949, 1.522567629814148, 1.5292307138442993, -2.7525315284729004, 1.8751850128173828, 5.025327205657959, -7.6692914962768555, -1.406175136566162, 3.3091354370117188, -8.301929473876953, 2.2653284072875977, 1.3191629648208618, -6.619711875915527, 1.4952008724212646, 10.723701477050781, -1.1625951528549194, 2.770174741744995, -2.695096969604492, -2.573683261871338, -2.461184024810791, -1.821116328239441, 4.580977439880371, -4.139331817626953, 5.802395343780518, 5.114552974700928, -10.317598342895508, 2.7183613777160645, -2.3998632431030273, 2.1255383491516113, 10.78076171875, 2.975691795349121, 7.354984283447266, -1.1740092039108276, -7.743043899536133, 6.747562408447266, -2.4662833213806152, -5.458713531494141, -0.9506327509880066, 2.289680242538452, -1.5207302570343018, 8.19018268585205, 5.726375579833984, -4.866109371185303, -0.6742321848869324, -3.979146718978882, 1.666479468345642, -3.958430290222168, 4.9040350914001465, -5.446568012237549, -5.143992900848389, -7.388017177581787, -2.239960193634033, -5.295002460479736, -2.9359681606292725, -3.028141498565674, -6.927390098571777, -7.4434356689453125, -2.189155340194702, 9.323609352111816, 3.04682993888855, 3.3017234802246094, 9.518915176391602, 2.5104074478149414, -5.673145771026611, -7.278400421142578, 2.2486789226531982, 2.024156332015991, 11.731083869934082, 9.634065628051758, -4.943149566650391, 0.817261815071106, 2.333953857421875, 7.665699005126953, -6.997072696685791, -5.288727283477783, 6.267584800720215, 2.462951183319092, 3.654853582382202, -4.236242771148682, -0.8499640226364136, -1.1704916954040527, 3.693568468093872, -4.596667289733887, -1.2269476652145386, -5.032705307006836, -7.186037540435791, 3.1556177139282227, -3.5208890438079834, -10.878789901733398, -5.704237937927246, 11.573258399963379, 11.981067657470703, 4.394775867462158, 8.480433464050293, -5.428330898284912, 1.2131789922714233, 2.439101457595825, 3.4158458709716797, -3.672419309616089, 5.311318397521973, 8.86458969116211, 2.9245431423187256, 8.3300199508667, 4.449131965637207, 4.449156284332275, 1.4366390705108643, 5.130167484283447, 9.6110258102417, 6.873806953430176, -2.3141064643859863, -8.90897274017334, 5.28990364074707, 5.94740629196167, 3.313713550567627, 4.498180389404297, -7.339821815490723, 4.203137397766113, -8.901535034179688, 9.507481575012207, -1.2977510690689087, 0.4642510414123535, 7.411125659942627, 6.242758274078369, -1.1212745904922485, -5.859837055206299, -5.966422080993652, -0.05005619302392006, 5.1050310134887695, -6.601771354675293, 1.2235448360443115, 4.226691246032715, 4.794288635253906, -8.266524314880371, 3.3192946910858154, 12.297014236450195, 6.704794883728027, -8.631251335144043, -4.126768112182617, 2.3912124633789062, 5.411685466766357, 5.088770389556885, -3.2719831466674805, -6.902801036834717, -4.236037731170654, -0.5560530424118042, 1.6394157409667969, -1.0384868383407593, -10.453288078308105, -1.025519609451294, 8.33182430267334, 0.8265926837921143, -10.117485046386719, 6.483829975128174, 4.218957424163818, 0.24575801193714142, -2.3192977905273438, 3.7819581031799316, -5.441442489624023, -4.1865034103393555, 12.21435832977295, -2.911700963973999, 4.729643821716309, -1.821226716041565, -5.810585021972656, 6.935798645019531, -9.902127265930176, 2.5477046966552734, -11.21504020690918, 8.8888578414917, 12.090865135192871, 0.6762971878051758, 2.5712056159973145, -5.180049419403076, -2.935213327407837, 2.482194423675537, 2.6013760566711426, 7.904995918273926, -7.368874549865723, -10.911209106445312, 5.029915809631348, -2.239257335662842, 2.856322765350342, -1.405293345451355, 7.797114372253418, -1.483311653137207, -4.749499797821045, -1.1484107971191406, -6.350955963134766, 1.3018709421157837, 0.5567331910133362, 7.2797393798828125, -2.7391011714935303, -3.3959033489227295, 3.648059606552124, -11.582575798034668, 4.272782802581787, -7.3839287757873535, -4.846517086029053, 8.140649795532227, -2.756774425506592, 2.395371675491333, -0.6164276599884033, 6.996511459350586, -5.60377836227417, 11.066476821899414, 2.093775987625122, 4.072206020355225, 4.962282180786133, 10.814985275268555, 3.9372572898864746, 6.972191333770752, -5.079083442687988, 2.6558241844177246, -10.682676315307617, 2.8282101154327393, 1.1343483924865723, -8.169644355773926, 7.925267696380615, 0.09683120250701904, 7.821945667266846, -3.112642526626587, -7.517857074737549, 2.4511523246765137, -8.044737815856934, 6.1384382247924805, 1.5286083221435547, 1.5667294263839722, 6.417910575866699, -0.5774587988853455, 5.1724395751953125, -3.0298376083374023, 9.100269317626953, -5.90119743347168, 9.623977661132812, -8.978198051452637, 5.100734710693359, -10.817557334899902, -0.5156833529472351, 4.877970218658447, 7.533692836761475, 4.8014702796936035, 9.150486946105957, -4.5456695556640625, 0.7378352880477905, 2.644526958465576, 8.442483901977539, -4.146024703979492, -8.841428756713867, 2.65230393409729, 6.7005109786987305, -4.645620822906494, -9.987263679504395, 3.8298113346099854, -1.7654260396957397, 2.9624745845794678, -8.493537902832031, -0.7382535934448242, -3.667630434036255, -10.18812084197998, 3.424057960510254, 7.031077861785889, 4.615597248077393, 8.617009162902832, -4.898828506469727, -6.683264255523682, 4.905151844024658, -1.3280359506607056, 4.099544048309326, -2.2376766204833984, 4.265801429748535, 0.43984949588775635, -4.748133182525635, -1.0959831476211548, -3.763943910598755, 3.4671292304992676, 10.44789981842041, -2.731494426727295, 0.7941756248474121, -0.7825669646263123, -8.006759643554688, 1.8243417739868164, -7.749129772186279, 6.031007289886475, -4.613793849945068, -3.972644090652466, 7.856326103210449, -3.03244948387146, -10.090557098388672, 2.1228792667388916, -3.8225350379943848, -4.005954742431641, 9.331113815307617, -7.523673057556152, 7.909558296203613, 3.401069402694702, -5.2461419105529785, 2.794896364212036, 3.936185598373413, -5.349655628204346, -6.55908727645874, 4.141519546508789, 3.904974937438965, -5.031589984893799, 0.3635212182998657, 9.448413848876953, -4.265085697174072, 6.4232587814331055, -0.05549634248018265, 9.404097557067871, -6.855286598205566, 5.175905704498291, -1.9481024742126465, -2.537287950515747, -5.563561916351318, -2.5260584354400635, -1.2242295742034912, 4.632007598876953, 5.798535346984863, 1.8524272441864014, -5.9824419021606445, 9.858287811279297, 7.6613240242004395, 3.1810142993927, -3.795835494995117, 1.3875808715820312, -3.637266159057617, 10.083251953125, 8.783061027526855, 7.075177192687988, -0.8928325176239014, 2.6978113651275635, 4.86826753616333, -4.602829456329346, -8.60078239440918, 5.2183403968811035, 2.7222354412078857, 5.793208599090576, 5.064268112182617, 3.099580764770508, -8.49045181274414, -1.4376254081726074, 11.442431449890137, 8.947672843933105, 4.139758586883545, 1.9855647087097168, 2.714134693145752, -8.385746955871582, -4.993525981903076, 2.814833402633667, 1.910281777381897, -6.326385021209717, 0.2603538930416107, 8.527575492858887, -7.674344539642334, 3.0101239681243896, 2.9066812992095947, -5.490299701690674, -2.781019926071167, 5.006461143493652, 0.419760137796402, -1.6539312601089478, -1.0783735513687134, -2.073664426803589, -6.746686935424805, 5.74821138381958, 0.4909121096134186, -6.037816047668457, -5.121798038482666, 9.82734203338623, 8.554850578308105, -1.2437784671783447, 0.22103603184223175, -6.20677375793457, -2.782041072845459, 8.316244125366211, 4.685593128204346, 8.038670539855957, 4.783036708831787, -0.2778712809085846, 9.831239700317383, -8.436190605163574, 2.6673781871795654, 4.0246500968933105, 2.649134635925293, 6.045409202575684, -6.525946140289307, -2.872429847717285, -7.795322418212891, 5.482696533203125, 2.398473024368286, 9.067270278930664, 7.749122619628906, 4.264882564544678, -5.826436519622803, -6.975620269775391, 0.45157790184020996, 4.153223037719727, 4.823252201080322, -6.66800594329834, 7.482416152954102, 10.899239540100098, -0.19332242012023926, -3.945167303085327, -7.053304672241211, -5.928775787353516, 12.532047271728516, -2.2710657119750977, 0.7091398239135742, -3.745102882385254, -0.6433441042900085, 9.294071197509766, -7.4615302085876465, -5.029062747955322, -10.735401153564453, -1.189444899559021, -5.721405029296875, -10.870372772216797, -7.367362976074219, 1.9600721597671509, 0.8255612254142761, -2.7497811317443848, 5.512366771697998, -7.370877742767334, -1.8606164455413818, 5.161088466644287, -9.001014709472656, 2.9419443607330322, -7.891478061676025, 2.6309423446655273, 9.028484344482422, -1.5486695766448975, -8.869490623474121, -5.815056800842285, -6.458688735961914, 4.909742832183838, -9.599268913269043, 2.8156545162200928, -2.224066972732544, 3.5339431762695312, -7.118378639221191, -4.1523847579956055, -2.454444408416748, 5.909947872161865, -7.44692850112915, -4.833379745483398, 10.76179313659668, 3.3374440670013428, -3.7548463344573975, 1.3071849346160889, 9.150116920471191, 11.434379577636719, -0.5795705914497375, -1.8038796186447144, 6.937467575073242, 5.1964945793151855, -1.7730637788772583, -1.1926006078720093, -6.742003440856934, 11.953727722167969, -7.5031561851501465, 0.4612128734588623, -3.488121747970581, -2.412477493286133, -11.530099868774414, -7.362152576446533, 3.566117525100708, -3.4079244136810303, -2.312357187271118, -8.000173568725586, -0.11623098701238632, 2.7321815490722656, 3.379668712615967, 4.899738788604736, -4.439146995544434, 6.152914524078369, 1.822087287902832, -7.4578752517700195, 2.0081729888916016, -3.4752144813537598, -10.864971160888672, -6.277388095855713, 7.769246578216553, -3.7289605140686035, -3.18896484375, -10.35904312133789, 5.268786907196045, 0.8444444537162781, -4.899175643920898, -4.563967704772949, 5.1820502281188965, 6.239315509796143, -6.0837225914001465, 1.0756229162216187, 1.2591439485549927, -5.754558086395264, -5.870145320892334, -5.111996650695801, -4.610426902770996, -4.257083415985107, 11.099895477294922, -2.352428913116455, 10.395614624023438, -1.0741431713104248, -4.534993648529053, 2.3043086528778076, -1.477497935295105, 4.6666789054870605, 1.8340436220169067, 2.992476463317871, -3.8199448585510254, 3.1547412872314453, -7.62750768661499, -2.004690647125244, 1.1774765253067017, 3.4114742279052734, 1.333931565284729, 5.861723899841309, 6.2336530685424805, 7.8610758781433105, 6.04301643371582, -0.9874790906906128, 2.0220863819122314, -0.40216511487960815, -0.9316002130508423, 3.1219358444213867, -3.65093731880188, -8.922295570373535, -8.203682899475098, 6.16076135635376, 3.5886008739471436, 4.3874192237854, -6.554693698883057, 4.4375200271606445, 5.261043071746826, -7.9966654777526855, -3.189481258392334, 6.6312127113342285, 0.28587019443511963, 7.650907516479492, -2.240187168121338, 5.06012487411499, 1.889133334159851, -1.1492918729782104, 1.198659896850586, -3.0554447174072266, 2.348111391067505, 0.8979930877685547, -4.067381858825684, 5.383484840393066, -4.1579108238220215, 7.839686393737793, 9.458809852600098, -3.610295534133911, -6.301673889160156, -6.47840690612793, -6.895334720611572, -5.520207405090332, 8.591723442077637, 5.818979740142822, -1.9458448886871338, -4.094970226287842, 0.07437553256750107, 9.736369132995605, -1.5458934307098389, 4.412848949432373, 4.728307723999023, 5.580489158630371, 0.011774309910833836, 5.549760341644287, 4.0947747230529785, 1.86602783203125, -1.4388985633850098, -0.8332405090332031, -7.393707275390625, 4.942732334136963, 1.808592677116394, -3.776061773300171, 11.95510482788086, 0.1436755210161209, 6.203094959259033, 3.1923277378082275, -5.202425956726074, 8.05634593963623, 3.519334077835083, -4.708007335662842, -5.439223289489746, -5.292863368988037, -3.422630548477173, -0.2825152277946472, 6.318819046020508, 0.9020994305610657, 2.9439964294433594, -3.9591176509857178, -4.488505840301514, 5.525364875793457, 3.717947244644165, 5.745509147644043, 1.5073812007904053, -4.9218645095825195, -1.4574775695800781, 11.945931434631348, -11.231221199035645, 3.582045555114746, -2.4754929542541504, 4.8729658126831055, 2.3563320636749268, -6.427741527557373, -6.604555130004883, -5.720142841339111, -2.2294859886169434, -4.300470352172852, 5.668126583099365, 2.2622835636138916, 6.431501388549805, -10.917295455932617, 7.923635005950928, 11.804717063903809, -7.310696601867676, -5.290642261505127, -8.679572105407715, -8.026519775390625, -2.3562963008880615, -2.0271048545837402, -4.973369598388672, 2.334921360015869, 5.462994575500488, 3.2665843963623047, 5.220212459564209, 7.898680686950684, 4.359156608581543, -7.103389263153076, -3.211332082748413, -0.5668668746948242, -1.7318410873413086, -3.078294515609741, 2.8989529609680176, 3.871997594833374, -3.091661214828491, 1.4870942831039429, 7.197366714477539, 5.563424587249756, 9.78346061706543, 2.6838605403900146, 7.181206226348877, 3.688030242919922, -0.7954374551773071, 6.389374732971191, 6.717905521392822, 2.0843935012817383, 3.1017985343933105, 7.319563388824463, 3.796914577484131, 1.1811655759811401, 9.606239318847656, -6.547265529632568, 2.8949530124664307, -2.910604953765869, -0.824867308139801, 8.187328338623047, 7.093130111694336, -1.3420358896255493, 6.912877082824707, 1.9909855127334595, -3.4123032093048096, 0.28414109349250793, -3.7333662509918213, -3.032479763031006, -0.6292658448219299, 3.702731132507324, 4.8968610763549805, -7.863898277282715, -2.8812170028686523, -7.262691974639893, -3.3837850093841553, 2.0041298866271973, -0.3084474205970764, -7.119112491607666, 1.551253080368042, -2.364185333251953, 10.437883377075195, 2.218954563140869, -9.133713722229004, 5.613683223724365, -2.9752418994903564, -1.4395180940628052, 4.223662853240967, -4.497673511505127, -1.7536433935165405, -3.5679049491882324, 2.5686697959899902, 2.387577772140503, -1.6850359439849854, -3.7100157737731934, 0.1380416601896286, -10.740578651428223, 10.600513458251953, -0.25489285588264465, -10.290328025817871, -1.1739025115966797, -7.69918966293335, -2.213529109954834, 5.567284107208252, 3.4152932167053223, 1.4150463342666626, -1.4097927808761597, -8.170159339904785, 6.385179042816162, 9.432682991027832, -1.2664023637771606, 1.8323538303375244, -5.944356441497803, -5.996038436889648, -5.044896602630615, -4.7764973640441895, -1.9778358936309814, -5.007374286651611, -4.1516218185424805, -4.735994815826416, -6.459704875946045, -4.8631978034973145, -4.961227893829346, 3.5937957763671875, -9.31534481048584, -3.1692392826080322, 6.261077404022217, -8.6834716796875, 10.178754806518555, 9.000993728637695, 3.780529260635376, -10.503058433532715, -2.845128297805786, 5.227838516235352, -4.790673732757568, 7.677978992462158, -4.768862724304199, 6.522223472595215, 0.743242084980011, 8.163406372070312, -3.5682311058044434, 11.231308937072754, 9.92866039276123, -9.45410442352295, 9.521512031555176, -10.735349655151367, -2.9364771842956543, -2.161226511001587, 4.474864959716797, 10.778802871704102, -5.621166229248047, 5.367465496063232, 3.479285478591919, 1.0951011180877686, -6.580017566680908, -5.192799091339111, -6.050144672393799, 10.750151634216309, 2.001786708831787, -5.5417256355285645, -7.0272417068481445, -3.908499002456665, 5.087752342224121, 2.2468624114990234, -3.1739141941070557, -2.380305051803589, -0.12895993888378143, -4.006299018859863, -5.097250461578369, -7.874670505523682, 9.852648735046387, 4.674525737762451, 3.1873116493225098, -7.896536350250244, -6.007643222808838, 7.438721656799316, 1.89834725856781, 2.1902236938476562, -0.13513539731502533, 6.950481414794922, -11.030230522155762, 6.152676105499268, 5.528085231781006, 3.056321144104004, 4.428377628326416, 1.2112163305282593, -7.568084716796875, -3.889024257659912, -7.191479206085205, -7.212034225463867, 2.1885695457458496, -7.24992561340332, 3.004213333129883, -1.017334222793579, 0.39041295647621155, 2.6156773567199707, 0.33314934372901917, -9.724590301513672, -4.785140514373779, 3.2233378887176514, 0.849717915058136, 10.555034637451172, 4.238621234893799, -3.7841734886169434, -6.638947010040283, -2.5895118713378906, 3.7631468772888184, -7.892003059387207, -5.149912357330322, -3.6385438442230225, -9.332625389099121, 0.18845464289188385, -8.578899383544922, -10.299004554748535, -0.12675215303897858, 5.196911334991455, -6.012524604797363, 3.6024231910705566, 2.9870965480804443, 4.436850070953369, 9.527106285095215, 3.3795628547668457, 1.8724210262298584, -5.87202262878418, -5.200789451599121, -3.865673065185547, 4.2790985107421875, -5.320784091949463, 5.461219310760498, -5.655677795410156, -1.769604206085205, 1.005102276802063, 0.42090922594070435, 5.5604729652404785, -3.4603793621063232, -5.2927398681640625, -6.179670333862305, -3.309831142425537, 5.495576858520508, -4.767696857452393, 1.3868242502212524, 5.032149791717529, 12.273991584777832, -2.5547542572021484, 0.588157594203949, -6.595147609710693, -1.5894745588302612, 3.1151537895202637, 3.345353126525879, -5.342906951904297, 8.982343673706055, -0.07101058214902878, 10.042631149291992, 2.2817718982696533, -3.3743083477020264, -9.507214546203613, -7.068721294403076, -9.260103225708008, -0.7231566309928894, 1.6274864673614502, 0.181846022605896, 3.3599023818969727, -5.445486545562744, -0.9314707517623901, -3.2776424884796143, -3.323465585708618, -7.7984442710876465, -4.028702735900879, -5.972309112548828, -0.3085007071495056, -5.37762975692749, -6.586407661437988, -2.958916187286377, 7.9093403816223145, -1.3295621871948242, 6.564802169799805, 4.36745548248291, 5.3090410232543945, 4.382084369659424, -1.3782812356948853, -5.6587934494018555, -7.73013973236084, 0.5491457581520081, 5.305628299713135, -5.5630927085876465, -5.238574981689453, 4.279595851898193, -0.19299516081809998, 1.8992838859558105, -5.610342979431152, -4.177425384521484, -11.286823272705078, -2.80659818649292, 2.2967422008514404, 4.885370254516602, 2.5667731761932373, -5.461546897888184, 5.167109489440918, 7.916684150695801, -2.9500269889831543, 0.9298500418663025, -6.542386531829834, 9.199540138244629, -2.671570062637329, -0.9140180945396423, 1.2052345275878906, -11.423439025878906, 3.624490737915039, 2.737952947616577, -2.3424618244171143, 0.8275026679039001, -6.777763843536377, 0.7895145416259766, -9.76148796081543, 6.026221752166748, 0.6876723170280457, -7.890702724456787, 4.524113655090332, -5.133168697357178, 4.220880031585693, -7.654592990875244, -5.153595447540283, -7.1586151123046875, -5.890835762023926, 3.7014689445495605, 10.18304443359375, -1.3921819925308228, 2.4177348613739014, -0.7426615953445435, 3.6076788902282715, -0.9621556401252747, 9.0872163772583, 3.4962148666381836, -1.7754623889923096, -3.7762413024902344, 2.1972837448120117, 10.060615539550781, 0.3354821503162384, -9.990593910217285, -6.333144187927246, -3.437628984451294, 5.637078762054443, 4.305377960205078, -8.221170425415039, -4.076139450073242, 5.95436429977417, -3.5000619888305664, -6.981492042541504, -2.3502514362335205, -11.018951416015625, -2.220670700073242, 7.419511318206787, 7.109617233276367, -4.1157379150390625, 6.268204212188721, 1.9899353981018066, -4.622570991516113, -5.513637065887451, -4.405007839202881, 12.206693649291992, -3.419341564178467, 4.796286106109619, 2.2410967350006104, 0.05121460556983948, 1.8435581922531128, -8.155743598937988, 2.8940937519073486, -7.6042680740356445, -8.828030586242676, -9.653937339782715, -4.397967338562012, -2.5341174602508545, 8.180357933044434, -3.1442697048187256, 0.719532310962677, -8.262303352355957], \"z\": [0.464490681886673, -2.3279693126678467, 7.880293846130371, 11.278559684753418, 14.784664154052734, 9.276999473571777, -4.37931489944458, 14.94333553314209, 2.745640516281128, -8.785052299499512, 12.650666236877441, 14.950642585754395, 8.440672874450684, 7.099527835845947, 9.028626441955566, 16.589866638183594, 8.458677291870117, -7.35264253616333, 6.9145660400390625, 13.83497428894043, 9.216657638549805, -0.6967057585716248, 8.312289237976074, 3.236372709274292, 8.848989486694336, -3.587094783782959, 14.03424072265625, 1.0594311952590942, 15.135815620422363, 13.481588363647461, 2.0705387592315674, -0.06860199570655823, 3.204326629638672, 9.473968505859375, -5.987551689147949, -1.7128536701202393, 3.1819868087768555, 1.2330762147903442, 0.8892816305160522, 10.448870658874512, -4.596451759338379, 12.458601951599121, -10.363938331604004, 7.11362361907959, 11.302959442138672, 17.182344436645508, 11.411343574523926, 2.810791492462158, 14.697725296020508, -12.862662315368652, 12.928242683410645, 5.247783184051514, -7.495149612426758, 17.02922821044922, 7.713318347930908, -3.044752597808838, 4.66068172454834, -4.651117324829102, 9.941139221191406, 10.566202163696289, -3.437868118286133, -5.987181186676025, 18.154767990112305, 12.528892517089844, -14.031922340393066, 11.925456047058105, -13.184636116027832, -7.20505952835083, 13.930198669433594, 8.185347557067871, 17.218107223510742, 13.999072074890137, 1.6977815628051758, 10.74344539642334, -9.674866676330566, -4.118038654327393, 13.17143726348877, 15.056418418884277, -11.135852813720703, -8.382620811462402, -8.540849685668945, -4.242927551269531, 12.253400802612305, -5.384438514709473, -3.654120445251465, -1.3924614191055298, -9.11084270477295, -10.757098197937012, -5.860933303833008, -0.7777135372161865, -3.8808398246765137, 11.63764762878418, -9.014912605285645, -5.934177875518799, -3.113372564315796, 17.677919387817383, -9.834906578063965, -3.5153648853302, -3.4509475231170654, 13.313850402832031, 1.68600332736969, -11.914682388305664, -3.5003163814544678, -9.205184936523438, 19.08787727355957, -9.514019012451172, -10.019112586975098, -5.23909854888916, -9.406889915466309, 14.760802268981934, -2.6390221118927, 2.2293190956115723, 9.685919761657715, -4.442746162414551, 11.960227012634277, -4.681887149810791, -6.137022972106934, -6.122323989868164, 10.52407169342041, -5.4372992515563965, -5.395175933837891, -4.666694641113281, -6.658681869506836, -12.422881126403809, -3.969935894012451, -3.0555267333984375, -1.8675816059112549, 11.824440956115723, -3.3196213245391846, -3.7554376125335693, -4.272017478942871, -9.306441307067871, 13.671937942504883, -2.770996570587158, -10.653696060180664, -3.4071056842803955, 10.819731712341309, 13.741251945495605, -2.328800916671753, -2.1388590335845947, 11.379150390625, -1.7413603067398071, -8.513911247253418, 12.895551681518555, -6.299061298370361, -9.512590408325195, 11.676688194274902, -13.386744499206543, -1.6544300317764282, -7.780219078063965, -1.6215602159500122, -6.361561298370361, -3.3794493675231934, -9.040857315063477, -0.15125563740730286, -10.632981300354004, -13.706290245056152, -11.706101417541504, -11.04401683807373, 8.642014503479004, -4.9269819259643555, -5.247249603271484, -7.59820556640625, -10.605915069580078, 9.958134651184082, -10.828120231628418, 11.769668579101562, 14.279289245605469, 9.960416793823242, -5.5927910804748535, -10.457552909851074, -2.5921361446380615, 8.360713958740234, 9.956846237182617, -2.188131093978882, -11.683828353881836, 7.817800521850586, 9.110424041748047, -1.0021744966506958, 13.814255714416504, -4.3008599281311035, 9.608959197998047, -0.9314721822738647, 14.821011543273926, 14.257413864135742, -6.626964569091797, 11.686363220214844, -5.077669620513916, -7.297072887420654, -5.728038311004639, -12.8040771484375, 13.108575820922852, 12.2957124710083, 10.58475399017334, -8.869355201721191, -3.6653246879577637, -5.7155985832214355, -4.908802509307861, 2.9474353790283203, -3.366910219192505, -3.8638436794281006, -2.597670793533325, -2.923757553100586, 13.119762420654297, 9.36693000793457, 0.3118540048599243, -7.984770774841309, -4.154170989990234, 9.320813179016113, -0.8818877339363098, -3.140641450881958, 12.563826560974121, 16.437644958496094, -3.3756463527679443, -4.465789318084717, -4.234439849853516, -1.5218607187271118, 15.17326831817627, 17.652050018310547, -0.4908256530761719, 9.318751335144043, -5.985477924346924, 12.996635437011719, -10.070639610290527, -9.408317565917969, -7.033836841583252, -11.678935050964355, -7.50781774520874, -10.457901000976562, 9.85782241821289, -4.2754740715026855, -9.37762451171875, 13.106528282165527, 13.73624038696289, -5.646960258483887, -6.117920875549316, -1.4964590072631836, -5.483162879943848, 12.050963401794434, 7.820749759674072, -4.410390853881836, -7.073897838592529, 8.239456176757812, -7.004629611968994, 13.708490371704102, -10.12283706665039, -6.59776496887207, -9.55749797821045, -11.784868240356445, 9.356239318847656, -6.307458877563477, -1.4489692449569702, 13.672257423400879, -5.381683826446533, -9.553668975830078, 1.5818290710449219, -1.4958317279815674, -8.049345016479492, 9.33852767944336, -5.780396938323975, 8.537824630737305, -5.652634620666504, 11.6052827835083, -3.816735029220581, -6.988040924072266, -6.875720500946045, 14.7139253616333, -7.1260504722595215, -9.296605110168457, -4.376218318939209, -5.233726501464844, -4.246915340423584, -4.223921298980713, 7.679288864135742, 8.852435111999512, -9.17684555053711, 16.56911849975586, 13.21602725982666, -5.579361438751221, -7.271417617797852, -11.592833518981934, 7.849613666534424, -8.563780784606934, -2.2244327068328857, 11.73553466796875, -7.443129062652588, -8.042888641357422, -5.521653175354004, -9.292112350463867, 2.7324869632720947, -1.11626398563385, -5.321786403656006, -9.835638999938965, -8.026117324829102, -5.600537300109863, 10.082940101623535, 11.139122009277344, -9.396027565002441, -7.347119331359863, -1.1447707414627075, -0.40521419048309326, -7.4312310218811035, 15.567954063415527, 14.029630661010742, 10.549324035644531, -8.746898651123047, -5.720663070678711, -7.625799655914307, -13.202397346496582, 14.15764331817627, 13.501333236694336, -13.151504516601562, 9.778180122375488, 7.840420246124268, -7.229760646820068, 0.2595841586589813, -5.409303665161133, -4.890833854675293, -9.512592315673828, -3.656391143798828, -1.2708680629730225, -6.078086853027344, 14.035792350769043, -2.4950010776519775, -6.329352855682373, -2.259920835494995, 15.239004135131836, 14.719929695129395, 10.200118064880371, 10.470999717712402, -7.2833733558654785, 15.261363983154297, -7.579163074493408, -9.76372241973877, -11.332005500793457, 12.413352966308594, -3.702346086502075, -3.588963031768799, 11.931357383728027, 13.752344131469727, -3.5259041786193848, -10.152865409851074, 10.4397554397583, -9.240985870361328, 14.798129081726074, 11.075150489807129, -1.9963933229446411, -11.244449615478516, 11.362610816955566, 15.512890815734863, -0.5410457253456116, -4.666459083557129, -5.1268110275268555, -4.265190601348877, -8.02929973602295, -10.0756254196167, -7.1347551345825195, -4.9612507820129395, 17.81365966796875, -1.1001278162002563, -2.318059206008911, -4.891131401062012, -0.9677084684371948, -12.807653427124023, 12.883667945861816, -7.668696880340576, 16.819801330566406, -7.835121154785156, -8.37866497039795, -5.229928016662598, -11.41781234741211, -4.547780513763428, 13.360865592956543, 10.318323135375977, 13.992753028869629, -12.640835762023926, -8.463630676269531, 11.086441040039062, -3.7848682403564453, -2.112412691116333, 10.406615257263184, -1.9153103828430176, -8.152162551879883, 2.083588123321533, -3.194064140319824, -9.542277336120605, -9.757010459899902, -8.5460786819458, -2.9577839374542236, 1.4475369453430176, -8.657390594482422, -10.023124694824219, -4.859255313873291, -6.249258518218994, -4.73772668838501, -4.22148323059082, -9.351696968078613, 13.988211631774902, -0.9378398656845093, -7.501829147338867, -5.070830821990967, -7.424497604370117, -13.488700866699219, -0.17222151160240173, 14.899197578430176, -6.438286781311035, 10.399150848388672, -1.6192433834075928, 7.736706733703613, -2.3426477909088135, -7.479189872741699, -2.8353567123413086, 19.02997589111328, -8.40789794921875, -4.966050148010254, -9.858195304870605, -12.504512786865234, -3.834308385848999, 14.478157043457031, 11.418994903564453, 1.5384798049926758, -7.64610481262207, -6.252438545227051, -1.0939724445343018, 10.771806716918945, -10.062216758728027, -4.6565399169921875, 10.63494873046875, 1.110708475112915, 13.21318531036377, -4.39671516418457, -5.523824214935303, -5.235085487365723, 12.097434997558594, 17.660314559936523, -4.310774326324463, -7.422933101654053, 13.133392333984375, -9.634173393249512, 9.876782417297363, -9.325068473815918, -10.422252655029297, 10.627669334411621, 15.604290008544922, -6.6303629875183105, 7.862514972686768, 15.986936569213867, -9.636201858520508, 9.219497680664062, 10.298554420471191, -8.094378471374512, 11.406606674194336, -12.418533325195312, -8.666730880737305, 10.310656547546387, -2.2713229656219482, -1.3409219980239868, 10.177329063415527, -10.953971862792969, -11.61953067779541, -3.1777572631835938, 11.24449634552002, -9.786880493164062, -10.841377258300781, 1.3940892219543457, -4.036586284637451, -9.365900039672852, 16.518386840820312, -10.934741973876953, 10.125521659851074, -6.041984558105469, -7.81859016418457, -9.611884117126465, -5.587372779846191, -12.532641410827637, -8.997580528259277, -3.3228797912597656, 9.84892463684082, -0.9702707529067993, -5.853703498840332, -12.212162017822266, -5.252876281738281, 11.395439147949219, 15.217714309692383, -6.075718402862549, 14.854077339172363, -2.883645534515381, 1.7977707386016846, -2.652459144592285, 8.173832893371582, -8.35640811920166, 10.059896469116211, 7.980963230133057, 15.939287185668945, 8.91815185546875, 11.833431243896484, -3.2097480297088623, 8.73588752746582, -8.510326385498047, -0.22306078672409058, -2.5190911293029785, 0.8736395239830017, -2.292490243911743, -5.583276748657227, 0.9095678925514221, 8.285758972167969, -11.226123809814453, -11.286099433898926, 2.359748601913452, 9.414932250976562, 13.918611526489258, -11.278414726257324, -5.789280891418457, 13.568000793457031, -10.406707763671875, -11.204689025878906, -7.695718765258789, -11.370450019836426, -0.6233571171760559, -5.684263706207275, 2.8070197105407715, 12.434425354003906, 9.468932151794434, 10.491233825683594, 17.872848510742188, -6.857467174530029, 1.9749435186386108, -7.602426052093506, -1.788619875907898, 1.062180995941162, -3.5657784938812256, 15.75587272644043, 9.473600387573242, -11.010127067565918, 9.016722679138184, 12.772890090942383, -1.6027449369430542, 14.039773941040039, -0.05515320599079132, -4.395845890045166, -1.007696270942688, 9.655656814575195, -7.601614475250244, -0.7546769976615906, -11.06025218963623, 11.513427734375, -9.809195518493652, 11.26840877532959, 11.834901809692383, -9.002045631408691, -10.1881685256958, -3.565335512161255, 12.195478439331055, -11.094417572021484, -8.954602241516113, -4.0903191566467285, 8.471007347106934, -9.54101276397705, 15.172425270080566, 1.4968794584274292, 15.643152236938477, 18.064136505126953, -9.643665313720703, 10.87565803527832, -7.240894794464111, -9.29126262664795, -12.164610862731934, 0.43561995029449463, 12.047624588012695, 9.658527374267578, 0.45015355944633484, 9.602837562561035, 15.080215454101562, 15.773629188537598, -1.7032800912857056, 15.023553848266602, -4.534936428070068, -9.795221328735352, -2.060234308242798, -5.362281322479248, 1.6778264045715332, -7.142388820648193, 10.238713264465332, -3.930342197418213, -13.0409517288208, -8.026153564453125, 0.4321708679199219, -11.710917472839355, -8.933708190917969, 16.537322998046875, -7.219172477722168, -12.076918601989746, 1.6909688711166382, 15.033825874328613, -0.172352135181427, -8.039592742919922, 14.242753028869629, 16.423532485961914, 9.739294052124023, 15.03514575958252, 11.751080513000488, -4.776750087738037, 9.002431869506836, -5.238924026489258, 9.228389739990234, -2.212681770324707, 14.704737663269043, 16.671768188476562, -5.898180961608887, -1.024116039276123, 9.313624382019043, -1.14303457736969, 2.0550665855407715, -3.1461446285247803, -9.248754501342773, -10.667606353759766, -5.275768280029297, -5.415317535400391, -4.850988388061523, 0.7447555065155029, 0.05578172206878662, -8.129615783691406, -6.80380916595459, -0.0035823278594762087, 10.268399238586426, 16.347713470458984, -5.5267486572265625, 12.925907135009766, -2.098985433578491, -10.881156921386719, -4.805036544799805, -5.768716812133789, -11.172712326049805, 12.337413787841797, -0.4515734016895294, -0.15014196932315826, -0.8995710611343384, -0.2614656686782837, 10.145219802856445, -0.8991504907608032, 9.078461647033691, -0.758404552936554, -3.837531805038452, -2.142153739929199, 15.400607109069824, -8.321616172790527, 9.480300903320312, -4.643479824066162, 10.30959415435791, -4.978940963745117, -11.625022888183594, -12.553939819335938, -2.038879156112671, 12.49793529510498, -11.88452434539795, -2.1045219898223877, 12.943228721618652, -2.6233341693878174, -7.787319660186768, 14.752674102783203, 15.87625503540039, -7.801758289337158, 1.2692270278930664, -0.5138309001922607, 10.48326301574707, -1.3855594396591187, 12.81714153289795, -2.2999765872955322, -4.838144302368164, -12.51699447631836, -1.6010607481002808, -9.77748966217041, -7.865523338317871, -1.7565016746520996, 8.166741371154785, -10.765904426574707, -0.19398707151412964, 8.911469459533691, 11.828665733337402, -2.9467318058013916, 9.52299976348877, -11.003528594970703, -4.4693684577941895, 8.211943626403809, -9.267524719238281, -11.987709999084473, -10.424259185791016, -11.757195472717285, 11.790657997131348, 14.677732467651367, 7.6164350509643555, 12.470434188842773, 18.453203201293945, -2.841366767883301, 11.41745376586914, 8.665919303894043, -1.9193916320800781, -6.803096771240234, -11.145488739013672, 10.96985149383545, -4.734402656555176, -6.99899435043335, 7.121362209320068, 15.142603874206543, -7.683680534362793, -3.1956567764282227, 13.176703453063965, 8.751540184020996, 0.35146257281303406, 7.706868648529053, 10.089476585388184, -12.33180046081543, -6.570842266082764, -3.604698419570923, -10.035322189331055, 6.29833459854126, 9.380916595458984, 17.33839225769043, -10.05836296081543, -9.146139144897461, 7.005556106567383, -7.261727333068848, -2.242933511734009, 5.152108192443848, 1.2231444120407104, 3.2748634815216064, 9.767518997192383, 8.289772033691406, 14.010001182556152, 9.994349479675293, -3.455720901489258, 13.717503547668457, -1.2454640865325928, -2.794616222381592, -1.3592687845230103, 10.719937324523926, -3.9332997798919678, -8.723014831542969, -10.005118370056152, 10.369006156921387, -7.247045993804932, -2.889728546142578, -3.050525426864624, 8.16561222076416, -0.8787372708320618, -9.39175796508789, -5.740948677062988, 9.57933521270752, 9.873112678527832, 16.5252742767334, -2.226620674133301, 12.72531795501709, -3.4272937774658203, -8.798149108886719, -12.093913078308105, 9.483736038208008, -8.163689613342285, -5.858817100524902, 14.055578231811523, -10.916582107543945, 15.087715148925781, -7.779146194458008, -11.317888259887695, -11.518753051757812, 0.19793245196342468, -7.38571310043335, -6.499573230743408, 13.21994686126709, -4.675827980041504, 12.95730972290039, -8.111638069152832, -1.1809487342834473, 1.0109714269638062, -4.2632155418396, -2.319631338119507, -12.567201614379883, -2.0705442428588867, -5.391867637634277, -11.127702713012695, -1.9409756660461426, -5.490716457366943, -6.662095069885254, -2.39611554145813, -1.8057726621627808, -9.525588989257812, 15.910540580749512, -6.941490650177002, 8.532160758972168, -9.747964859008789, -6.083273887634277, 14.92652702331543, -6.111513137817383, 9.712227821350098, -9.241562843322754, -8.273719787597656, -0.7519212961196899, -11.423431396484375, 9.45904541015625, -6.819124221801758, -13.966506004333496, -6.755227565765381, -1.534901738166809, -1.2312672138214111, -1.453229546546936, 8.436312675476074, -11.281554222106934, -10.934187889099121, -3.833120107650757, 11.609049797058105, -11.410204887390137, 12.49930191040039, 7.285881996154785, -9.552392959594727, 1.9746692180633545, -1.9623708724975586, 9.217103004455566, -3.880537271499634, 15.787175178527832, 7.900827884674072, 11.986528396606445, 10.933770179748535, 7.629868030548096, -10.081634521484375, -1.4820163249969482, -6.03212308883667, -7.752988338470459, 11.536724090576172, -8.556196212768555, -4.710452556610107, 15.89452838897705, -4.00913143157959, -2.0768001079559326, 17.199987411499023, 7.99714469909668, 10.01233196258545, 8.815526008605957, 14.600915908813477, 12.48458194732666, 9.825228691101074, -9.639223098754883, -5.99570369720459, -8.919544219970703, 12.254213333129883, -5.665602684020996, -6.012870788574219, 8.543794631958008, -2.378354549407959, -6.604437351226807, -2.283034563064575, -4.175137042999268, 8.610269546508789, 2.0142297744750977, -9.355485916137695, -5.6307268142700195, -2.5886871814727783, -5.189078330993652, -3.131258249282837, 10.727763175964355, -8.13574504852295, 9.532572746276855, 0.5924352407455444, -7.370044708251953, 2.029815673828125, -5.280907154083252, -5.974013328552246, 13.637149810791016, -6.527131080627441, -6.490602016448975, 9.369841575622559, -1.3329753875732422, 11.122689247131348, -10.324694633483887, -9.113517761230469, -2.6899313926696777, -4.489171981811523, -11.637927055358887, -4.576048374176025, -6.573669910430908, -1.1870142221450806, 9.139859199523926, -1.6569819450378418, -7.693541526794434, -9.709023475646973, 14.831377983093262, 14.111967086791992, 10.064208030700684, -2.02699613571167, -8.733433723449707, -1.1627790927886963, 8.119989395141602, 12.856531143188477, 13.675971984863281, 10.193809509277344, -8.710526466369629, 14.12941837310791, -4.224184513092041, -4.078799724578857, -10.888051986694336, -1.8358221054077148, -3.932208776473999, -5.512960910797119, -6.137694358825684, -11.915912628173828, 16.290809631347656, -6.363261699676514, 12.903403282165527, 11.71267032623291, 0.690938413143158, 10.129169464111328, -10.271201133728027, -8.765886306762695, -11.231042861938477, -9.12502670288086, -10.139397621154785, 9.99785327911377, 13.2402982711792, -0.3612823784351349, -7.153387069702148, 10.441573143005371, 10.93498420715332, 1.8400462865829468, 13.944082260131836, -4.3147196769714355, -6.906073570251465, -4.194801330566406, -1.339660406112671, -4.811470985412598, -0.7193705439567566, -7.055295944213867, -5.059338569641113, 13.791800498962402, -9.16132640838623, -8.863117218017578, 15.857711791992188, 13.899415016174316, 12.541781425476074, -10.148550033569336, 9.295059204101562, -1.2503089904785156, 11.030794143676758, 10.40556812286377, -4.747784614562988, -10.464790344238281, 8.678542137145996, -8.933549880981445, 11.097128868103027, -8.456655502319336, -6.222829341888428, -5.677757740020752, -4.895530700683594, -0.9798210263252258, -1.6280981302261353, 15.664544105529785, 13.787691116333008, -8.1222562789917, -12.53589916229248, 11.174285888671875, 12.451371192932129, 7.713110446929932, -5.459237098693848, -9.029090881347656, -7.962457656860352, 8.562128067016602, -10.608126640319824, -2.296126365661621, -11.144889831542969, -7.695496559143066, -11.546932220458984, 10.174015045166016, -7.819553852081299, 16.731416702270508, -6.191226482391357, -3.9899213314056396, 13.08289623260498, -7.1936445236206055, -8.571151733398438, -6.464447021484375, 15.94951057434082, -1.1533455848693848, 8.182380676269531, 9.669329643249512, 1.843247890472412, -8.919432640075684, -6.359738826751709, 15.78903865814209, -7.441573143005371, -6.377816677093506, 10.486122131347656, 9.706342697143555, 14.900603294372559, 9.482857704162598, -9.527522087097168, -8.192923545837402, 9.409856796264648, 12.110790252685547, -1.6566815376281738, -6.47037410736084, -9.204363822937012, 11.236045837402344, 14.249014854431152]}],\n",
       "                        {\"coloraxis\": {\"colorbar\": {\"title\": {\"text\": \"Label\"}}, \"colorscale\": [[0.0, \"#0d0887\"], [0.1111111111111111, \"#46039f\"], [0.2222222222222222, \"#7201a8\"], [0.3333333333333333, \"#9c179e\"], [0.4444444444444444, \"#bd3786\"], [0.5555555555555556, \"#d8576b\"], [0.6666666666666666, \"#ed7953\"], [0.7777777777777778, \"#fb9f3a\"], [0.8888888888888888, \"#fdca26\"], [1.0, \"#f0f921\"]]}, \"height\": 800, \"legend\": {\"tracegroupgap\": 0}, \"scene\": {\"domain\": {\"x\": [0.0, 1.0], \"y\": [0.0, 1.0]}, \"xaxis\": {\"title\": {\"text\": \"0\"}}, \"yaxis\": {\"title\": {\"text\": \"1\"}}, \"zaxis\": {\"title\": {\"text\": \"2\"}}}, \"template\": {\"data\": {\"bar\": [{\"error_x\": {\"color\": \"#2a3f5f\"}, \"error_y\": {\"color\": \"#2a3f5f\"}, \"marker\": {\"line\": {\"color\": \"#E5ECF6\", \"width\": 0.5}}, \"type\": \"bar\"}], \"barpolar\": [{\"marker\": {\"line\": {\"color\": \"#E5ECF6\", \"width\": 0.5}}, \"type\": \"barpolar\"}], \"carpet\": [{\"aaxis\": {\"endlinecolor\": \"#2a3f5f\", \"gridcolor\": \"white\", \"linecolor\": \"white\", \"minorgridcolor\": \"white\", \"startlinecolor\": \"#2a3f5f\"}, \"baxis\": {\"endlinecolor\": \"#2a3f5f\", \"gridcolor\": \"white\", \"linecolor\": \"white\", \"minorgridcolor\": \"white\", \"startlinecolor\": \"#2a3f5f\"}, \"type\": \"carpet\"}], \"choropleth\": [{\"colorbar\": {\"outlinewidth\": 0, \"ticks\": \"\"}, \"type\": \"choropleth\"}], \"contour\": [{\"colorbar\": {\"outlinewidth\": 0, \"ticks\": \"\"}, \"colorscale\": [[0.0, \"#0d0887\"], [0.1111111111111111, \"#46039f\"], [0.2222222222222222, \"#7201a8\"], [0.3333333333333333, \"#9c179e\"], [0.4444444444444444, \"#bd3786\"], [0.5555555555555556, \"#d8576b\"], [0.6666666666666666, \"#ed7953\"], [0.7777777777777778, \"#fb9f3a\"], [0.8888888888888888, \"#fdca26\"], [1.0, \"#f0f921\"]], \"type\": \"contour\"}], \"contourcarpet\": [{\"colorbar\": {\"outlinewidth\": 0, \"ticks\": \"\"}, \"type\": \"contourcarpet\"}], \"heatmap\": [{\"colorbar\": {\"outlinewidth\": 0, \"ticks\": \"\"}, \"colorscale\": [[0.0, \"#0d0887\"], [0.1111111111111111, \"#46039f\"], [0.2222222222222222, \"#7201a8\"], [0.3333333333333333, \"#9c179e\"], [0.4444444444444444, \"#bd3786\"], [0.5555555555555556, \"#d8576b\"], [0.6666666666666666, \"#ed7953\"], [0.7777777777777778, \"#fb9f3a\"], [0.8888888888888888, \"#fdca26\"], [1.0, \"#f0f921\"]], \"type\": \"heatmap\"}], \"heatmapgl\": [{\"colorbar\": {\"outlinewidth\": 0, \"ticks\": \"\"}, \"colorscale\": [[0.0, \"#0d0887\"], [0.1111111111111111, \"#46039f\"], [0.2222222222222222, \"#7201a8\"], [0.3333333333333333, \"#9c179e\"], [0.4444444444444444, \"#bd3786\"], [0.5555555555555556, \"#d8576b\"], [0.6666666666666666, \"#ed7953\"], [0.7777777777777778, \"#fb9f3a\"], [0.8888888888888888, \"#fdca26\"], [1.0, \"#f0f921\"]], \"type\": \"heatmapgl\"}], \"histogram\": [{\"marker\": {\"colorbar\": {\"outlinewidth\": 0, \"ticks\": \"\"}}, \"type\": \"histogram\"}], \"histogram2d\": [{\"colorbar\": {\"outlinewidth\": 0, \"ticks\": \"\"}, \"colorscale\": [[0.0, \"#0d0887\"], [0.1111111111111111, \"#46039f\"], [0.2222222222222222, \"#7201a8\"], [0.3333333333333333, \"#9c179e\"], [0.4444444444444444, \"#bd3786\"], [0.5555555555555556, \"#d8576b\"], [0.6666666666666666, \"#ed7953\"], [0.7777777777777778, \"#fb9f3a\"], [0.8888888888888888, \"#fdca26\"], [1.0, \"#f0f921\"]], \"type\": \"histogram2d\"}], \"histogram2dcontour\": [{\"colorbar\": {\"outlinewidth\": 0, \"ticks\": \"\"}, \"colorscale\": [[0.0, \"#0d0887\"], [0.1111111111111111, \"#46039f\"], [0.2222222222222222, \"#7201a8\"], [0.3333333333333333, \"#9c179e\"], [0.4444444444444444, \"#bd3786\"], [0.5555555555555556, \"#d8576b\"], [0.6666666666666666, \"#ed7953\"], [0.7777777777777778, \"#fb9f3a\"], [0.8888888888888888, \"#fdca26\"], [1.0, \"#f0f921\"]], \"type\": \"histogram2dcontour\"}], \"mesh3d\": [{\"colorbar\": {\"outlinewidth\": 0, \"ticks\": \"\"}, \"type\": \"mesh3d\"}], \"parcoords\": [{\"line\": {\"colorbar\": {\"outlinewidth\": 0, \"ticks\": \"\"}}, \"type\": \"parcoords\"}], \"pie\": [{\"automargin\": true, \"type\": \"pie\"}], \"scatter\": [{\"marker\": {\"colorbar\": {\"outlinewidth\": 0, \"ticks\": \"\"}}, \"type\": \"scatter\"}], \"scatter3d\": [{\"line\": {\"colorbar\": {\"outlinewidth\": 0, \"ticks\": \"\"}}, \"marker\": {\"colorbar\": {\"outlinewidth\": 0, \"ticks\": \"\"}}, \"type\": \"scatter3d\"}], \"scattercarpet\": [{\"marker\": {\"colorbar\": {\"outlinewidth\": 0, \"ticks\": \"\"}}, \"type\": \"scattercarpet\"}], \"scattergeo\": [{\"marker\": {\"colorbar\": {\"outlinewidth\": 0, \"ticks\": \"\"}}, \"type\": \"scattergeo\"}], \"scattergl\": [{\"marker\": {\"colorbar\": {\"outlinewidth\": 0, \"ticks\": \"\"}}, \"type\": \"scattergl\"}], \"scattermapbox\": [{\"marker\": {\"colorbar\": {\"outlinewidth\": 0, \"ticks\": \"\"}}, \"type\": \"scattermapbox\"}], \"scatterpolar\": [{\"marker\": {\"colorbar\": {\"outlinewidth\": 0, \"ticks\": \"\"}}, \"type\": \"scatterpolar\"}], \"scatterpolargl\": [{\"marker\": {\"colorbar\": {\"outlinewidth\": 0, \"ticks\": \"\"}}, \"type\": \"scatterpolargl\"}], \"scatterternary\": [{\"marker\": {\"colorbar\": {\"outlinewidth\": 0, \"ticks\": \"\"}}, \"type\": \"scatterternary\"}], \"surface\": [{\"colorbar\": {\"outlinewidth\": 0, \"ticks\": \"\"}, \"colorscale\": [[0.0, \"#0d0887\"], [0.1111111111111111, \"#46039f\"], [0.2222222222222222, \"#7201a8\"], [0.3333333333333333, \"#9c179e\"], [0.4444444444444444, \"#bd3786\"], [0.5555555555555556, \"#d8576b\"], [0.6666666666666666, \"#ed7953\"], [0.7777777777777778, \"#fb9f3a\"], [0.8888888888888888, \"#fdca26\"], [1.0, \"#f0f921\"]], \"type\": \"surface\"}], \"table\": [{\"cells\": {\"fill\": {\"color\": \"#EBF0F8\"}, \"line\": {\"color\": \"white\"}}, \"header\": {\"fill\": {\"color\": \"#C8D4E3\"}, \"line\": {\"color\": \"white\"}}, \"type\": \"table\"}]}, \"layout\": {\"annotationdefaults\": {\"arrowcolor\": \"#2a3f5f\", \"arrowhead\": 0, \"arrowwidth\": 1}, \"coloraxis\": {\"colorbar\": {\"outlinewidth\": 0, \"ticks\": \"\"}}, \"colorscale\": {\"diverging\": [[0, \"#8e0152\"], [0.1, \"#c51b7d\"], [0.2, \"#de77ae\"], [0.3, \"#f1b6da\"], [0.4, \"#fde0ef\"], [0.5, \"#f7f7f7\"], [0.6, \"#e6f5d0\"], [0.7, \"#b8e186\"], [0.8, \"#7fbc41\"], [0.9, \"#4d9221\"], [1, \"#276419\"]], \"sequential\": [[0.0, \"#0d0887\"], [0.1111111111111111, \"#46039f\"], [0.2222222222222222, \"#7201a8\"], [0.3333333333333333, \"#9c179e\"], [0.4444444444444444, \"#bd3786\"], [0.5555555555555556, \"#d8576b\"], [0.6666666666666666, \"#ed7953\"], [0.7777777777777778, \"#fb9f3a\"], [0.8888888888888888, \"#fdca26\"], [1.0, \"#f0f921\"]], \"sequentialminus\": [[0.0, \"#0d0887\"], [0.1111111111111111, \"#46039f\"], [0.2222222222222222, \"#7201a8\"], [0.3333333333333333, \"#9c179e\"], [0.4444444444444444, \"#bd3786\"], [0.5555555555555556, \"#d8576b\"], [0.6666666666666666, \"#ed7953\"], [0.7777777777777778, \"#fb9f3a\"], [0.8888888888888888, \"#fdca26\"], [1.0, \"#f0f921\"]]}, \"colorway\": [\"#636efa\", \"#EF553B\", \"#00cc96\", \"#ab63fa\", \"#FFA15A\", \"#19d3f3\", \"#FF6692\", \"#B6E880\", \"#FF97FF\", \"#FECB52\"], \"font\": {\"color\": \"#2a3f5f\"}, \"geo\": {\"bgcolor\": \"white\", \"lakecolor\": \"white\", \"landcolor\": \"#E5ECF6\", \"showlakes\": true, \"showland\": true, \"subunitcolor\": \"white\"}, \"hoverlabel\": {\"align\": \"left\"}, \"hovermode\": \"closest\", \"mapbox\": {\"style\": \"light\"}, \"paper_bgcolor\": \"white\", \"plot_bgcolor\": \"#E5ECF6\", \"polar\": {\"angularaxis\": {\"gridcolor\": \"white\", \"linecolor\": \"white\", \"ticks\": \"\"}, \"bgcolor\": \"#E5ECF6\", \"radialaxis\": {\"gridcolor\": \"white\", \"linecolor\": \"white\", \"ticks\": \"\"}}, \"scene\": {\"xaxis\": {\"backgroundcolor\": \"#E5ECF6\", \"gridcolor\": \"white\", \"gridwidth\": 2, \"linecolor\": \"white\", \"showbackground\": true, \"ticks\": \"\", \"zerolinecolor\": \"white\"}, \"yaxis\": {\"backgroundcolor\": \"#E5ECF6\", \"gridcolor\": \"white\", \"gridwidth\": 2, \"linecolor\": \"white\", \"showbackground\": true, \"ticks\": \"\", \"zerolinecolor\": \"white\"}, \"zaxis\": {\"backgroundcolor\": \"#E5ECF6\", \"gridcolor\": \"white\", \"gridwidth\": 2, \"linecolor\": \"white\", \"showbackground\": true, \"ticks\": \"\", \"zerolinecolor\": \"white\"}}, \"shapedefaults\": {\"line\": {\"color\": \"#2a3f5f\"}}, \"ternary\": {\"aaxis\": {\"gridcolor\": \"white\", \"linecolor\": \"white\", \"ticks\": \"\"}, \"baxis\": {\"gridcolor\": \"white\", \"linecolor\": \"white\", \"ticks\": \"\"}, \"bgcolor\": \"#E5ECF6\", \"caxis\": {\"gridcolor\": \"white\", \"linecolor\": \"white\", \"ticks\": \"\"}}, \"title\": {\"x\": 0.05}, \"xaxis\": {\"automargin\": true, \"gridcolor\": \"white\", \"linecolor\": \"white\", \"ticks\": \"\", \"title\": {\"standoff\": 15}, \"zerolinecolor\": \"white\", \"zerolinewidth\": 2}, \"yaxis\": {\"automargin\": true, \"gridcolor\": \"white\", \"linecolor\": \"white\", \"ticks\": \"\", \"title\": {\"standoff\": 15}, \"zerolinecolor\": \"white\", \"zerolinewidth\": 2}}}, \"title\": {\"text\": \"3d TSNE Plot for Outliers\"}, \"width\": 900},\n",
       "                        {\"responsive\": true}\n",
       "                    ).then(function(){\n",
       "                            \n",
       "var gd = document.getElementById('9f26f704-3ad5-457b-98eb-bcf44827f9f2');\n",
       "var x = new MutationObserver(function (mutations, observer) {{\n",
       "        var display = window.getComputedStyle(gd).display;\n",
       "        if (!display || display === 'none') {{\n",
       "            console.log([gd, 'removed!']);\n",
       "            Plotly.purge(gd);\n",
       "            observer.disconnect();\n",
       "        }}\n",
       "}});\n",
       "\n",
       "// Listen for the removal of the full notebook cells\n",
       "var notebookContainer = gd.closest('#notebook-container');\n",
       "if (notebookContainer) {{\n",
       "    x.observe(notebookContainer, {childList: true});\n",
       "}}\n",
       "\n",
       "// Listen for the clearing of the current output cell\n",
       "var outputEl = gd.closest('.output');\n",
       "if (outputEl) {{\n",
       "    x.observe(outputEl, {childList: true});\n",
       "}}\n",
       "\n",
       "                        })\n",
       "                };\n",
       "                });\n",
       "            </script>\n",
       "        </div>"
      ]
     },
     "metadata": {},
     "output_type": "display_data"
    }
   ],
   "source": [
    "from pycaret.datasets import get_data\n",
    "anomalies = get_data('anomaly')\n",
    "# Importing module and initializing setup\n",
    "from pycaret.anomaly import *\n",
    "ano1 = setup(data = anomalies)\n",
    "# creating a model\n",
    "iforest = create_model('iforest')\n",
    "# plotting a model\n",
    "plot_model(iforest)"
   ]
  },
  {
   "cell_type": "markdown",
   "metadata": {},
   "source": [
    "### **Connect With Me in Linkedin** :- https://www.linkedin.com/in/dheerajkumar1997/"
   ]
  }
 ],
 "metadata": {
  "kernelspec": {
   "display_name": "Python 3",
   "language": "python",
   "name": "python3"
  },
  "language_info": {
   "codemirror_mode": {
    "name": "ipython",
    "version": 3
   },
   "file_extension": ".py",
   "mimetype": "text/x-python",
   "name": "python",
   "nbconvert_exporter": "python",
   "pygments_lexer": "ipython3",
   "version": "3.7.6"
  }
 },
 "nbformat": 4,
 "nbformat_minor": 4
}
